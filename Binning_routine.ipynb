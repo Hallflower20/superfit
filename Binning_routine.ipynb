{
 "cells": [
  {
   "cell_type": "code",
   "execution_count": 2,
   "metadata": {},
   "outputs": [],
   "source": [
    "import numpy as np \n",
    "from astropy import table\n",
    "from scipy import stats\n",
    "import matplotlib.pyplot as plt\n",
    "import scipy\n",
    "from scipy import interpolate\n",
    "from scipy.optimize import curve_fit\n",
    "import time\n",
    "from scipy.interpolate import interp1d\n",
    "from astropy.io import ascii\n",
    "from numpy import * "
   ]
  },
  {
   "cell_type": "code",
   "execution_count": 3,
   "metadata": {},
   "outputs": [],
   "source": [
    "def bin_spectra(spectrum, resolution):\n",
    "    \n",
    "    \n",
    "    lam = spectrum[:,0]\n",
    "    flux = spectrum[:,1]\n",
    "   \n",
    "    if lam[1]-lam[0] >= 20:\n",
    "        bin_spectra = spectrum\n",
    "        \n",
    "    else:     \n",
    "        \n",
    "        number_of_bins = np.math.floor((lam[-1]-lam[0]) / resolution )\n",
    "            \n",
    "        #Binning\n",
    "        flux_bin, bin_edge, index = scipy.stats.binned_statistic(lam, flux, statistic='mean', bins = number_of_bins)\n",
    "           \n",
    "        #Takes the mean of the edges of the bin in order to plot the binned spectrum\n",
    "        bin_wavelength = [ (bin_edge[i]+ bin_edge[i+1])/2 for i in range(len(bin_edge)-1) ]\n",
    "         \n",
    "        #Make a table with the     \n",
    "        bin_spectra = table.Table()\n",
    "        flux_bin   = np.array(flux_bin)\n",
    "        flux_bin = flux_bin/(np.median(flux_bin))\n",
    "        bin_spectra['lam_bin'] = bin_wavelength\n",
    "        bin_spectra['bin_flux'] = flux_bin\n",
    "            \n",
    "        \n",
    "           \n",
    "        bin_wavelength = np.array(bin_wavelength)\n",
    "        \n",
    "        #temp_interp  = interpolate.interp1d(bin_wavelength, flux_bin,  bounds_error=False, fill_value=np.nan)\n",
    "        \n",
    "    return bin_spectra\n"
   ]
  },
  {
   "cell_type": "code",
   "execution_count": null,
   "metadata": {},
   "outputs": [],
   "source": []
  },
  {
   "cell_type": "code",
   "execution_count": null,
   "metadata": {},
   "outputs": [],
   "source": []
  },
  {
   "cell_type": "markdown",
   "metadata": {},
   "source": [
    "### Bin spectrum given a resolution"
   ]
  },
  {
   "cell_type": "code",
   "execution_count": null,
   "metadata": {},
   "outputs": [],
   "source": [
    "resolution = 20\n",
    "\n",
    "spectrum = np.loadtxt(\"/home/sam/Dropbox/superfit/19bue\")\n",
    "\n",
    "print(len(spectrum))\n",
    "result = bin_spectra(spectrum,resolution)\n",
    "\n",
    "print(result)\n",
    "#np.savetxt(\"/home/sam/Dropbox/superfit/Superfit_tests/19bue_20A\" ,result)    \n"
   ]
  },
  {
   "cell_type": "code",
   "execution_count": null,
   "metadata": {},
   "outputs": [],
   "source": []
  }
 ],
 "metadata": {
  "kernelspec": {
   "display_name": "Python 3",
   "language": "python",
   "name": "python3"
  },
  "language_info": {
   "codemirror_mode": {
    "name": "ipython",
    "version": 3
   },
   "file_extension": ".py",
   "mimetype": "text/x-python",
   "name": "python",
   "nbconvert_exporter": "python",
   "pygments_lexer": "ipython3",
   "version": "3.7.3"
  }
 },
 "nbformat": 4,
 "nbformat_minor": 2
}
