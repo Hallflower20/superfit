{
 "cells": [
  {
   "cell_type": "code",
   "execution_count": 67,
   "metadata": {},
   "outputs": [],
   "source": [
    "import glob\n",
    "from astropy import table\n",
    "from astropy.io import ascii\n",
    "import copy\n",
    "import numpy as np\n",
    "import matplotlib.pyplot as plt\n",
    "import\tmultiprocessing as mp\n",
    "#from plotsettings_py36 import *\n",
    "from scipy import interpolate\n",
    "import scipy\n",
    "import scipy.optimize\n",
    "from scipy.optimize import curve_fit\n",
    "import time\n",
    "import pandas as pd \n",
    "from scipy import stats\n",
    "import matplotlib.pyplot as plt\n",
    "from scipy.interpolate import interp1d\n",
    "import time\n",
    "import statistics "
   ]
  },
  {
   "cell_type": "markdown",
   "metadata": {},
   "source": [
    "##### Measuring how long it takes"
   ]
  },
  {
   "cell_type": "code",
   "execution_count": 68,
   "metadata": {},
   "outputs": [],
   "source": [
    "start = time.time()"
   ]
  },
  {
   "cell_type": "markdown",
   "metadata": {},
   "source": [
    "# (Super) Functions"
   ]
  },
  {
   "cell_type": "code",
   "execution_count": 69,
   "metadata": {},
   "outputs": [],
   "source": [
    "def cartesian_product(*arrays):\n",
    "    la = len(arrays)\n",
    "    dtype = np.result_type(*arrays)\n",
    "    arr = np.empty([len(a) for a in arrays] + [la], dtype=dtype)\n",
    "    for i, a in enumerate(np.ix_(*arrays)):\n",
    "        arr[...,i] = a\n",
    "    return arr.reshape(-1, la)"
   ]
  },
  {
   "cell_type": "code",
   "execution_count": 70,
   "metadata": {},
   "outputs": [],
   "source": [
    "#lam is in angtroms \n",
    "#A_v is a user input\n",
    "\n",
    "import extinction\n",
    "\n",
    "A_v = 1.0\n",
    "\n",
    "def Alam(lamin, A_v):\n",
    "\n",
    "    lam       = np.zeros(len(lamin))\n",
    "    redreturn = np.zeros(len(lamin))\n",
    "\n",
    "    #Add extinction with R_v= 3.1 and A_v = 1     \n",
    "    extinction.ccm89(lam, A_v, 3.1)\n",
    "        \n",
    "    return redreturn\n"
   ]
  },
  {
   "cell_type": "code",
   "execution_count": 71,
   "metadata": {},
   "outputs": [],
   "source": [
    "def select_templates(DATABASE, TYPES):\n",
    "\n",
    "       \n",
    "#    Selects templates of a given type(s) from a template database\n",
    "    \n",
    "#    Input: DATEBASE   list of templates\n",
    "#           TYPES      which types should be selected\n",
    "    \n",
    "#    Output: array of templates of given type(s)\n",
    "       \n",
    "    database_trunc = list([])\n",
    "    \n",
    "    for type in TYPES:\n",
    "        database_trunc += list([x for x in DATABASE if type in x])\n",
    "    \n",
    "    return np.array(database_trunc)"
   ]
  },
  {
   "cell_type": "markdown",
   "metadata": {},
   "source": [
    "### Get Sigma"
   ]
  },
  {
   "cell_type": "code",
   "execution_count": 72,
   "metadata": {},
   "outputs": [],
   "source": [
    "def error_spectra(spec_object): \n",
    "\n",
    "    flux = spec_object[:,1]\n",
    "    lam  = spec_object[:,0]\n",
    "\n",
    "#For how many points do we make the lines\n",
    "    num=10\n",
    "\n",
    "    if len(flux)%num != 0:\n",
    "        c = len(flux)%num\n",
    "        flux = flux[:-c]\n",
    "        lams = lam[:-c]\n",
    "    \n",
    "    else:\n",
    "        lams = lam\n",
    "        c = 0\n",
    "    \n",
    "    \n",
    "    flux_new = flux.reshape((-1, num))\n",
    "    lam_new  = lams.reshape((-1, num))\n",
    "    m = []\n",
    "    b = []\n",
    "    sigma = []\n",
    "\n",
    "    for n in range(len(lam_new)):\n",
    "        r=[]\n",
    "        error=[]\n",
    "        \n",
    "        a = np.polyfit(lam_new[n], flux_new[n], 1)\n",
    "        m.append(a[0])\n",
    "        b.append(a[1])\n",
    "        y = m[n]*lam_new[n]+b[n]\n",
    "          \n",
    "        r = flux_new - y\n",
    "        \n",
    "        plt.plot(lam_new[n], flux_new[n], '.' )\n",
    "        plt.plot(lam_new[n], y)\n",
    "        plt.plot(lam_new[n], flux_new[n]-y, 'ko', markersize=1)\n",
    "       \n",
    "        plt.title('For n*10th Entry')\n",
    "        plt.ylabel('Flux')\n",
    "        plt.xlabel('Lamda')\n",
    "    \n",
    "\n",
    "    for i in r: \n",
    "        s = statistics.stdev(i)\n",
    "        sigma.append(s)\n",
    "    \n",
    "\n",
    "# Here we make the error be the same size as the original lambda and then take the transpose\n",
    "\n",
    "    error = list(np.repeat(sigma, num))\n",
    "    l = [error[-1]] * c\n",
    "    error = error + l\n",
    "\n",
    "    error = np.asarray(error)\n",
    "    \n",
    "    return np.array([lam,error]).T"
   ]
  },
  {
   "cell_type": "markdown",
   "metadata": {},
   "source": [
    "# Compute the (Super) fit"
   ]
  },
  {
   "cell_type": "code",
   "execution_count": 73,
   "metadata": {},
   "outputs": [],
   "source": [
    "def wrapper_fit(DATABASE):\n",
    "\n",
    "    \"\"\"\n",
    "    Compute the fit\n",
    "    \"\"\"\n",
    "   \n",
    "    # 1) File i/o\n",
    "    \n",
    "    spec_gal    =  np.loadtxt(DATABASE['GALAXY'])\n",
    "    spec_SN     =  np.loadtxt(DATABASE['SN'])\n",
    "    spec_object =  np.loadtxt(DATABASE['OBJECT'])\n",
    "    error       =  error_spectra(spec_object)\n",
    "\n",
    "    \n",
    "    \n",
    "    spec_gal_interp        =  interpolate.interp1d(spec_gal[:,0],    spec_gal[:,1],    bounds_error=False, fill_value=0)\n",
    "    spec_sn_interp         =  interpolate.interp1d(spec_SN[:,0],     spec_SN[:,1],     bounds_error=False, fill_value=0)\n",
    "    spec_object_interp     =  interpolate.interp1d(spec_object[:,0], spec_object[:,1], bounds_error=False, fill_value=0)\n",
    "    spec_object_err_interp =  interpolate.interp1d(error[:,0],       error[:,1],       bounds_error=False, fill_value=np.inf)\n",
    "               \n",
    "\n",
    "    \n",
    "\n",
    "    #def func(x, b, d):\n",
    "    #    return b * spec_sn_interp(x)*10**(float(DATABASE['DUST']) * Alam(x,1)) + d * spec_gal_interp(x)    \n",
    "\n",
    "    \n",
    "    \n",
    "    number = 300\n",
    "    z = np.random.randint(0,400,number)/1000.\n",
    "    \n",
    "    for i in range(len(z)):\n",
    "          \n",
    "        \n",
    "        temp_spec_object = copy.deepcopy(spec_object)\n",
    "        temp_spec_object[:,0] /= (z[i] + 1)\n",
    "            \n",
    "    \n",
    "        lambda_min   =   max([   spec_gal[:,0][0],  spec_SN[:,0][0],  temp_spec_object[:,0][0]    ])\n",
    "        lambda_max   =   min([   spec_gal[:,0][-1], spec_SN[:,0][-1], temp_spec_object[:,0][-1]   ])\n",
    "        lambda_new   =   temp_spec_object[:,0][ (temp_spec_object[:,0] >= lambda_min) & (temp_spec_object[:,0] <= lambda_max) ]\n",
    "    \n",
    "    \n",
    "        \n",
    "        sigma        =  spec_object_err_interp(lambda_new * (z[i] + 1))\n",
    "        object_spec  =  spec_object_interp    (lambda_new * (z[i] + 1))\n",
    "\n",
    "        \n",
    "        def func(x, b, d):\n",
    "            return b * spec_sn_interp(x)*10**(float(DATABASE['DUST']) * Alam(x,1)) + d * spec_gal_interp(x)    \n",
    "\n",
    "        \n",
    "        result = curve_fit(func, lambda_new, object_spec, sigma=sigma, p0=[0,0])\n",
    "        \n",
    "        popt   = result[0]\n",
    "        pcov   = result[1]\n",
    "        \n",
    "        #Regular chi2\n",
    "        chi2   =  np.sum(((object_spec - func(lambda_new, *popt))/sigma)**2)\n",
    "        \n",
    "        #Reduced chi2\n",
    "        chi2   =  chi2/(len(lambda_new) - 4)\n",
    "\n",
    "    output=table.Table(\n",
    "                        np.array([DATABASE['OBJECT'], DATABASE['GALAXY'], DATABASE['SN'],popt[0],popt[1],z[i],chi2,float(DATABASE['DUST'])]), \n",
    "                        names=('OBJECT', 'GALAXY', 'SN', 'CONST_SN','CONST_GAL','CONST_Z','CHI2','DUST'), \n",
    "                        dtype=('S100', 'S100', 'S100','f','f','f','f','f'))\n",
    "            \n",
    "         \n",
    "    output        \n",
    "            \n",
    "   \n",
    "    return output\n",
    "    "
   ]
  },
  {
   "cell_type": "markdown",
   "metadata": {},
   "source": [
    "# Read in spectral database"
   ]
  },
  {
   "cell_type": "code",
   "execution_count": 74,
   "metadata": {},
   "outputs": [],
   "source": [
    "\n",
    "templates_gal = glob.glob('rebinned/gal/*')\n",
    "templates_gal = [x for x in templates_gal if 'CVS' not in x and 'README' not in x]\n",
    "templates_gal = np.array(templates_gal)\n",
    "\n",
    "\n",
    "\n",
    "#templates_sn = glob.glob('rebinned/small/Ib/*')\n",
    "templates_sn = glob.glob('rebinned/sne/**/*')\n",
    "templates_sn = [x for x in templates_sn if 'CVS' not in x and 'README' not in x]\n",
    "templates_sn = np.array(templates_sn)\n",
    "\n",
    "\n",
    "\n",
    "#The beginning, end, and interval for the dust are decided by the user  \n",
    "\n",
    "templates_dust = np.array([-0.2, 0, 0.1])\n"
   ]
  },
  {
   "cell_type": "markdown",
   "metadata": {},
   "source": [
    "## Truncate templates SN, HG\n"
   ]
  },
  {
   "cell_type": "code",
   "execution_count": 75,
   "metadata": {},
   "outputs": [],
   "source": [
    "# The user decides how to truncate the supernova and host galaxy templates\n",
    "\n",
    "\n",
    "#templates_sn_trunc = select_templates(templates_sn, ['/II/'])\n",
    "templates_sn_trunc = select_templates(templates_sn, ['/Ia/'])\n",
    "\n",
    "\n",
    "\n",
    "#templates_gal_trunc = select_templates(templates_gal, ['/E', '/S0', '/Sa','/SB1','/SB2','/SB3','/SB4','/SB5','/SB6'])\n",
    "templates_gal_trunc = select_templates(templates_gal, ['/Sa'])\n"
   ]
  },
  {
   "cell_type": "markdown",
   "metadata": {},
   "source": [
    "# Compute the cartesian product of SN templates, galaxy templates and extinction measurements"
   ]
  },
  {
   "cell_type": "code",
   "execution_count": 76,
   "metadata": {},
   "outputs": [
    {
     "data": {
      "text/html": [
       "<i>Table length=474</i>\n",
       "<table id=\"table140111368161264\" class=\"table-striped table-bordered table-condensed\">\n",
       "<thead><tr><th>GALAXY</th><th>SN</th><th>DUST</th><th>OBJECT</th></tr></thead>\n",
       "<thead><tr><th>str33</th><th>str33</th><th>str33</th><th>str58</th></tr></thead>\n",
       "<tr><td>rebinned/gal/Sa</td><td>rebinned/sne/Ia/sn1986g.p102.dat</td><td>-0.2</td><td>/home/sam/Dropbox/superfit/rebinned/sne/Ia/sn1990n.m07.dat</td></tr>\n",
       "<tr><td>rebinned/gal/Sa</td><td>rebinned/sne/Ia/sn1986g.p102.dat</td><td>0.0</td><td>/home/sam/Dropbox/superfit/rebinned/sne/Ia/sn1990n.m07.dat</td></tr>\n",
       "<tr><td>rebinned/gal/Sa</td><td>rebinned/sne/Ia/sn1986g.p102.dat</td><td>0.1</td><td>/home/sam/Dropbox/superfit/rebinned/sne/Ia/sn1990n.m07.dat</td></tr>\n",
       "<tr><td>rebinned/gal/Sa</td><td>rebinned/sne/Ia/sn1999ac.p24.dat</td><td>-0.2</td><td>/home/sam/Dropbox/superfit/rebinned/sne/Ia/sn1990n.m07.dat</td></tr>\n",
       "<tr><td>rebinned/gal/Sa</td><td>rebinned/sne/Ia/sn1999ac.p24.dat</td><td>0.0</td><td>/home/sam/Dropbox/superfit/rebinned/sne/Ia/sn1990n.m07.dat</td></tr>\n",
       "<tr><td>rebinned/gal/Sa</td><td>rebinned/sne/Ia/sn1999ac.p24.dat</td><td>0.1</td><td>/home/sam/Dropbox/superfit/rebinned/sne/Ia/sn1990n.m07.dat</td></tr>\n",
       "<tr><td>rebinned/gal/Sa</td><td>rebinned/sne/Ia/sn1991bg.p105.dat</td><td>-0.2</td><td>/home/sam/Dropbox/superfit/rebinned/sne/Ia/sn1990n.m07.dat</td></tr>\n",
       "<tr><td>rebinned/gal/Sa</td><td>rebinned/sne/Ia/sn1991bg.p105.dat</td><td>0.0</td><td>/home/sam/Dropbox/superfit/rebinned/sne/Ia/sn1990n.m07.dat</td></tr>\n",
       "<tr><td>rebinned/gal/Sa</td><td>rebinned/sne/Ia/sn1991bg.p105.dat</td><td>0.1</td><td>/home/sam/Dropbox/superfit/rebinned/sne/Ia/sn1990n.m07.dat</td></tr>\n",
       "<tr><td>rebinned/gal/Sa</td><td>rebinned/sne/Ia/sn1994d.p05.dat</td><td>-0.2</td><td>/home/sam/Dropbox/superfit/rebinned/sne/Ia/sn1990n.m07.dat</td></tr>\n",
       "<tr><td>...</td><td>...</td><td>...</td><td>...</td></tr>\n",
       "<tr><td>rebinned/gal/Sa</td><td>rebinned/sne/Ia/sn1999ac.m09.dat</td><td>0.1</td><td>/home/sam/Dropbox/superfit/rebinned/sne/Ia/sn1990n.m07.dat</td></tr>\n",
       "<tr><td>rebinned/gal/Sa</td><td>rebinned/sne/Ia/sn1989b.m03.dat</td><td>-0.2</td><td>/home/sam/Dropbox/superfit/rebinned/sne/Ia/sn1990n.m07.dat</td></tr>\n",
       "<tr><td>rebinned/gal/Sa</td><td>rebinned/sne/Ia/sn1989b.m03.dat</td><td>0.0</td><td>/home/sam/Dropbox/superfit/rebinned/sne/Ia/sn1990n.m07.dat</td></tr>\n",
       "<tr><td>rebinned/gal/Sa</td><td>rebinned/sne/Ia/sn1989b.m03.dat</td><td>0.1</td><td>/home/sam/Dropbox/superfit/rebinned/sne/Ia/sn1990n.m07.dat</td></tr>\n",
       "<tr><td>rebinned/gal/Sa</td><td>rebinned/sne/Ia/sn1990n.p17.dat</td><td>-0.2</td><td>/home/sam/Dropbox/superfit/rebinned/sne/Ia/sn1990n.m07.dat</td></tr>\n",
       "<tr><td>rebinned/gal/Sa</td><td>rebinned/sne/Ia/sn1990n.p17.dat</td><td>0.0</td><td>/home/sam/Dropbox/superfit/rebinned/sne/Ia/sn1990n.m07.dat</td></tr>\n",
       "<tr><td>rebinned/gal/Sa</td><td>rebinned/sne/Ia/sn1990n.p17.dat</td><td>0.1</td><td>/home/sam/Dropbox/superfit/rebinned/sne/Ia/sn1990n.m07.dat</td></tr>\n",
       "<tr><td>rebinned/gal/Sa</td><td>rebinned/sne/Ia/sn1994d.p02.dat</td><td>-0.2</td><td>/home/sam/Dropbox/superfit/rebinned/sne/Ia/sn1990n.m07.dat</td></tr>\n",
       "<tr><td>rebinned/gal/Sa</td><td>rebinned/sne/Ia/sn1994d.p02.dat</td><td>0.0</td><td>/home/sam/Dropbox/superfit/rebinned/sne/Ia/sn1990n.m07.dat</td></tr>\n",
       "<tr><td>rebinned/gal/Sa</td><td>rebinned/sne/Ia/sn1994d.p02.dat</td><td>0.1</td><td>/home/sam/Dropbox/superfit/rebinned/sne/Ia/sn1990n.m07.dat</td></tr>\n",
       "</table>"
      ],
      "text/plain": [
       "<Table length=474>\n",
       "     GALAXY     ...                           OBJECT                          \n",
       "     str33      ...                           str58                           \n",
       "--------------- ... ----------------------------------------------------------\n",
       "rebinned/gal/Sa ... /home/sam/Dropbox/superfit/rebinned/sne/Ia/sn1990n.m07.dat\n",
       "rebinned/gal/Sa ... /home/sam/Dropbox/superfit/rebinned/sne/Ia/sn1990n.m07.dat\n",
       "rebinned/gal/Sa ... /home/sam/Dropbox/superfit/rebinned/sne/Ia/sn1990n.m07.dat\n",
       "rebinned/gal/Sa ... /home/sam/Dropbox/superfit/rebinned/sne/Ia/sn1990n.m07.dat\n",
       "rebinned/gal/Sa ... /home/sam/Dropbox/superfit/rebinned/sne/Ia/sn1990n.m07.dat\n",
       "rebinned/gal/Sa ... /home/sam/Dropbox/superfit/rebinned/sne/Ia/sn1990n.m07.dat\n",
       "rebinned/gal/Sa ... /home/sam/Dropbox/superfit/rebinned/sne/Ia/sn1990n.m07.dat\n",
       "rebinned/gal/Sa ... /home/sam/Dropbox/superfit/rebinned/sne/Ia/sn1990n.m07.dat\n",
       "rebinned/gal/Sa ... /home/sam/Dropbox/superfit/rebinned/sne/Ia/sn1990n.m07.dat\n",
       "rebinned/gal/Sa ... /home/sam/Dropbox/superfit/rebinned/sne/Ia/sn1990n.m07.dat\n",
       "            ... ...                                                        ...\n",
       "rebinned/gal/Sa ... /home/sam/Dropbox/superfit/rebinned/sne/Ia/sn1990n.m07.dat\n",
       "rebinned/gal/Sa ... /home/sam/Dropbox/superfit/rebinned/sne/Ia/sn1990n.m07.dat\n",
       "rebinned/gal/Sa ... /home/sam/Dropbox/superfit/rebinned/sne/Ia/sn1990n.m07.dat\n",
       "rebinned/gal/Sa ... /home/sam/Dropbox/superfit/rebinned/sne/Ia/sn1990n.m07.dat\n",
       "rebinned/gal/Sa ... /home/sam/Dropbox/superfit/rebinned/sne/Ia/sn1990n.m07.dat\n",
       "rebinned/gal/Sa ... /home/sam/Dropbox/superfit/rebinned/sne/Ia/sn1990n.m07.dat\n",
       "rebinned/gal/Sa ... /home/sam/Dropbox/superfit/rebinned/sne/Ia/sn1990n.m07.dat\n",
       "rebinned/gal/Sa ... /home/sam/Dropbox/superfit/rebinned/sne/Ia/sn1990n.m07.dat\n",
       "rebinned/gal/Sa ... /home/sam/Dropbox/superfit/rebinned/sne/Ia/sn1990n.m07.dat\n",
       "rebinned/gal/Sa ... /home/sam/Dropbox/superfit/rebinned/sne/Ia/sn1990n.m07.dat"
      ]
     },
     "execution_count": 76,
     "metadata": {},
     "output_type": "execute_result"
    }
   ],
   "source": [
    "cartesian_product_all  =  cartesian_product(*[templates_gal_trunc[:1], templates_sn_trunc, templates_dust])\n",
    "cartesian_product_all  =  table.Table(cartesian_product_all, names=('GALAXY', 'SN', 'DUST'))\n",
    "\n",
    "\n",
    "# Here the user enters the template he wants to analize \n",
    "cartesian_product_all['OBJECT']=[\"/home/sam/Dropbox/superfit/rebinned/sne/Ia/sn1990n.m07.dat\"]\n",
    "\n",
    "\n",
    "cartesian_product_all"
   ]
  },
  {
   "cell_type": "code",
   "execution_count": 77,
   "metadata": {},
   "outputs": [
    {
     "data": {
      "text/plain": [
       "range(0, 474)"
      ]
     },
     "execution_count": 77,
     "metadata": {},
     "output_type": "execute_result"
    }
   ],
   "source": [
    "index_array=range(len(cartesian_product_all))\n",
    "index_array"
   ]
  },
  {
   "cell_type": "code",
   "execution_count": 78,
   "metadata": {
    "scrolled": true
   },
   "outputs": [],
   "source": [
    "%%capture\n",
    "output=wrapper_fit(cartesian_product_all[0])\n",
    "output"
   ]
  },
  {
   "cell_type": "code",
   "execution_count": 79,
   "metadata": {},
   "outputs": [],
   "source": [
    "%%capture\n",
    "\n",
    "if mp.cpu_count() > 1:\n",
    "     number_cpu\t= mp.cpu_count()/2\t# is equal to number of threads x number of physical cpus, e.g. 2x4\n",
    "else:\n",
    "    number_cpu\t= mp.cpu_count()\n",
    "number_cpu\n",
    "pool\t= mp.Pool(processes=int(number_cpu)*2)\n"
   ]
  },
  {
   "cell_type": "code",
   "execution_count": 80,
   "metadata": {
    "scrolled": true
   },
   "outputs": [
    {
     "ename": "TypeError",
     "evalue": "Improper input: N=2 must not exceed M=0",
     "output_type": "error",
     "traceback": [
      "\u001b[0;31m---------------------------------------------------------------------------\u001b[0m",
      "\u001b[0;31mRemoteTraceback\u001b[0m                           Traceback (most recent call last)",
      "\u001b[0;31mRemoteTraceback\u001b[0m: \n\"\"\"\nTraceback (most recent call last):\n  File \"/home/sam/anaconda3/lib/python3.7/multiprocessing/pool.py\", line 121, in worker\n    result = (True, func(*args, **kwds))\n  File \"/home/sam/anaconda3/lib/python3.7/multiprocessing/pool.py\", line 44, in mapstar\n    return list(map(*args))\n  File \"<ipython-input-73-a858c7b57a75>\", line 53, in wrapper_fit\n    result = curve_fit(func, lambda_new/(1+z[i]), object_spec, sigma=sigma, p0=[0,0])\n  File \"/home/sam/anaconda3/lib/python3.7/site-packages/scipy/optimize/minpack.py\", line 744, in curve_fit\n    res = leastsq(func, p0, Dfun=jac, full_output=1, **kwargs)\n  File \"/home/sam/anaconda3/lib/python3.7/site-packages/scipy/optimize/minpack.py\", line 387, in leastsq\n    raise TypeError('Improper input: N=%s must not exceed M=%s' % (n, m))\nTypeError: Improper input: N=2 must not exceed M=0\n\"\"\"",
      "\nThe above exception was the direct cause of the following exception:\n",
      "\u001b[0;31mTypeError\u001b[0m                                 Traceback (most recent call last)",
      "\u001b[0;32m<ipython-input-80-01ea00b72cb9>\u001b[0m in \u001b[0;36m<module>\u001b[0;34m\u001b[0m\n\u001b[0;32m----> 1\u001b[0;31m \u001b[0mresult\u001b[0m \u001b[0;34m=\u001b[0m \u001b[0mpool\u001b[0m\u001b[0;34m.\u001b[0m\u001b[0mmap\u001b[0m\u001b[0;34m(\u001b[0m\u001b[0mwrapper_fit\u001b[0m\u001b[0;34m,\u001b[0m \u001b[0mcartesian_product_all\u001b[0m\u001b[0;34m)\u001b[0m\u001b[0;34m\u001b[0m\u001b[0;34m\u001b[0m\u001b[0m\n\u001b[0m",
      "\u001b[0;32m~/anaconda3/lib/python3.7/multiprocessing/pool.py\u001b[0m in \u001b[0;36mmap\u001b[0;34m(self, func, iterable, chunksize)\u001b[0m\n\u001b[1;32m    266\u001b[0m         \u001b[0;32min\u001b[0m \u001b[0ma\u001b[0m \u001b[0mlist\u001b[0m \u001b[0mthat\u001b[0m \u001b[0;32mis\u001b[0m \u001b[0mreturned\u001b[0m\u001b[0;34m.\u001b[0m\u001b[0;34m\u001b[0m\u001b[0;34m\u001b[0m\u001b[0m\n\u001b[1;32m    267\u001b[0m         '''\n\u001b[0;32m--> 268\u001b[0;31m         \u001b[0;32mreturn\u001b[0m \u001b[0mself\u001b[0m\u001b[0;34m.\u001b[0m\u001b[0m_map_async\u001b[0m\u001b[0;34m(\u001b[0m\u001b[0mfunc\u001b[0m\u001b[0;34m,\u001b[0m \u001b[0miterable\u001b[0m\u001b[0;34m,\u001b[0m \u001b[0mmapstar\u001b[0m\u001b[0;34m,\u001b[0m \u001b[0mchunksize\u001b[0m\u001b[0;34m)\u001b[0m\u001b[0;34m.\u001b[0m\u001b[0mget\u001b[0m\u001b[0;34m(\u001b[0m\u001b[0;34m)\u001b[0m\u001b[0;34m\u001b[0m\u001b[0;34m\u001b[0m\u001b[0m\n\u001b[0m\u001b[1;32m    269\u001b[0m \u001b[0;34m\u001b[0m\u001b[0m\n\u001b[1;32m    270\u001b[0m     \u001b[0;32mdef\u001b[0m \u001b[0mstarmap\u001b[0m\u001b[0;34m(\u001b[0m\u001b[0mself\u001b[0m\u001b[0;34m,\u001b[0m \u001b[0mfunc\u001b[0m\u001b[0;34m,\u001b[0m \u001b[0miterable\u001b[0m\u001b[0;34m,\u001b[0m \u001b[0mchunksize\u001b[0m\u001b[0;34m=\u001b[0m\u001b[0;32mNone\u001b[0m\u001b[0;34m)\u001b[0m\u001b[0;34m:\u001b[0m\u001b[0;34m\u001b[0m\u001b[0;34m\u001b[0m\u001b[0m\n",
      "\u001b[0;32m~/anaconda3/lib/python3.7/multiprocessing/pool.py\u001b[0m in \u001b[0;36mget\u001b[0;34m(self, timeout)\u001b[0m\n\u001b[1;32m    655\u001b[0m             \u001b[0;32mreturn\u001b[0m \u001b[0mself\u001b[0m\u001b[0;34m.\u001b[0m\u001b[0m_value\u001b[0m\u001b[0;34m\u001b[0m\u001b[0;34m\u001b[0m\u001b[0m\n\u001b[1;32m    656\u001b[0m         \u001b[0;32melse\u001b[0m\u001b[0;34m:\u001b[0m\u001b[0;34m\u001b[0m\u001b[0;34m\u001b[0m\u001b[0m\n\u001b[0;32m--> 657\u001b[0;31m             \u001b[0;32mraise\u001b[0m \u001b[0mself\u001b[0m\u001b[0;34m.\u001b[0m\u001b[0m_value\u001b[0m\u001b[0;34m\u001b[0m\u001b[0;34m\u001b[0m\u001b[0m\n\u001b[0m\u001b[1;32m    658\u001b[0m \u001b[0;34m\u001b[0m\u001b[0m\n\u001b[1;32m    659\u001b[0m     \u001b[0;32mdef\u001b[0m \u001b[0m_set\u001b[0m\u001b[0;34m(\u001b[0m\u001b[0mself\u001b[0m\u001b[0;34m,\u001b[0m \u001b[0mi\u001b[0m\u001b[0;34m,\u001b[0m \u001b[0mobj\u001b[0m\u001b[0;34m)\u001b[0m\u001b[0;34m:\u001b[0m\u001b[0;34m\u001b[0m\u001b[0;34m\u001b[0m\u001b[0m\n",
      "\u001b[0;31mTypeError\u001b[0m: Improper input: N=2 must not exceed M=0"
     ]
    }
   ],
   "source": [
    "result = pool.map(wrapper_fit, cartesian_product_all)"
   ]
  },
  {
   "cell_type": "code",
   "execution_count": null,
   "metadata": {},
   "outputs": [],
   "source": [
    "%debug"
   ]
  },
  {
   "cell_type": "code",
   "execution_count": null,
   "metadata": {},
   "outputs": [],
   "source": [
    "result=table.vstack(result)"
   ]
  },
  {
   "cell_type": "code",
   "execution_count": null,
   "metadata": {
    "scrolled": false
   },
   "outputs": [],
   "source": [
    "#%%capture\n",
    "#result=[wrapper_fit(x) for x in cartesian_product_all]\n",
    "#result=table.vstack(result)"
   ]
  },
  {
   "cell_type": "code",
   "execution_count": null,
   "metadata": {
    "scrolled": true
   },
   "outputs": [],
   "source": [
    "result\n",
    "result.sort('CHI2')\n",
    "result"
   ]
  },
  {
   "cell_type": "markdown",
   "metadata": {},
   "source": [
    "# (Super) Graph"
   ]
  },
  {
   "cell_type": "code",
   "execution_count": null,
   "metadata": {},
   "outputs": [],
   "source": [
    "def visualise_match(DATABASE):\n",
    "\n",
    " \n",
    "    spec_gal    =   np.loadtxt(DATABASE['GALAXY'][0])\n",
    "    spec_SN     =   np.loadtxt(DATABASE['SN'][0])\n",
    "    spec_object =   np.loadtxt(DATABASE['OBJECT'][0])\n",
    "    #spec_object[:,1]*=10\n",
    "\n",
    "    spec_gal[:,0] *= (1+DATABASE['CONST_Z'])\n",
    "    spec_SN [:,0] *= (1+DATABASE['CONST_Z'])\n",
    "    \n",
    "#Plot data\n",
    "\n",
    "    lambda_min = max([spec_gal[:,0][0],  spec_SN[:,0][0]])\n",
    "    lambda_max = min([spec_gal[:,0][-1], spec_SN[:,0][-1]])\n",
    "    \n",
    "    lam = spec_SN[:,0][ (spec_SN[:,0] >= lambda_min) & (spec_SN[:,0] <= lambda_max) ]\n",
    "    \n",
    "    spec_gal_interp  = interpolate.interp1d(spec_gal[:,0], DATABASE['CONST_GAL']*spec_gal[:,1], bounds_error=False, fill_value=np.nan)\n",
    "    \n",
    "    spec_sn_interp  = interpolate.interp1d(spec_SN[:,0], \n",
    "                                           DATABASE['CONST_SN']  *spec_SN[:,1]*10**(float(DATABASE['DUST']) * Alam(spec_SN[:,0],1)),\n",
    "                                           bounds_error=False, fill_value=np.nan)\n",
    "    \n",
    "    #combined = spec_gal_interp(lam*(DATABASE['CONST_Z'] + 1 )) + spec_sn_interp(lam*(DATABASE['CONST_Z'] +1 ))\n",
    "    \n",
    "    combined = spec_gal_interp(lam) + spec_sn_interp(lam)\n",
    "\n",
    "\n",
    "\n",
    "    plt.figure(figsize=(7*np.sqrt(2), 7))\n",
    "    \n",
    "    ax = plt.subplot(111)\n",
    "    ax.plot(spec_object[:,0], spec_object[:,1], 'm' , lw=5, label='Input spectrum')    \n",
    "    #ax.plot(spec_gal[:,0], DATABASE['CONST_GAL'] * spec_gal[:,1], lw=1, label='Galaxy template')#: {}'.format(bestfit_galaxy))\n",
    "    #ax.plot(spec_SN[:,0],  DATABASE['CONST_SN']  * spec_SN[:,1] ,  lw=3, label='SN template')#: {name} ({type}, {phase} days)'.format(type=bestfit_sn_type, name=bestfit_sn_name, phase=bestfit_sn_phase))\n",
    "    ax.plot(lam, combined, 'k' ,lw=2, label='Combined template')\n",
    "\n",
    "\n",
    "    \n",
    "    ax.legend()#fontsize=legend_size-4)\n",
    "    \n",
    "    ax.set_xlabel('Observed wavelength (\\\\AA)')\n",
    "    ax.set_ylabel('Flux density (arbitary units)')\n",
    "    \n",
    "    ax.set_xlim(spec_object[0,0]-20, spec_object[-1,0]-20)\n",
    "    ax.set_ylim(0, max(spec_object[:,1])*1.2)\n",
    "    \n",
    "    plt.show()\n"
   ]
  },
  {
   "cell_type": "code",
   "execution_count": null,
   "metadata": {
    "scrolled": true
   },
   "outputs": [],
   "source": [
    "print(output.info())\n",
    "visualise_match(table.Table(result[0]))"
   ]
  },
  {
   "cell_type": "markdown",
   "metadata": {},
   "source": [
    "##### This took:"
   ]
  },
  {
   "cell_type": "code",
   "execution_count": null,
   "metadata": {
    "scrolled": false
   },
   "outputs": [],
   "source": [
    "end = time.time()\n",
    "print(end - start, 'seconds')"
   ]
  },
  {
   "cell_type": "code",
   "execution_count": null,
   "metadata": {},
   "outputs": [],
   "source": [
    "table.Table(result[0])"
   ]
  },
  {
   "cell_type": "code",
   "execution_count": null,
   "metadata": {},
   "outputs": [],
   "source": []
  },
  {
   "cell_type": "code",
   "execution_count": null,
   "metadata": {},
   "outputs": [],
   "source": []
  }
 ],
 "metadata": {
  "kernelspec": {
   "display_name": "Python 3",
   "language": "python",
   "name": "python3"
  },
  "language_info": {
   "codemirror_mode": {
    "name": "ipython",
    "version": 3
   },
   "file_extension": ".py",
   "mimetype": "text/x-python",
   "name": "python",
   "nbconvert_exporter": "python",
   "pygments_lexer": "ipython3",
   "version": "3.7.3"
  }
 },
 "nbformat": 4,
 "nbformat_minor": 2
}
