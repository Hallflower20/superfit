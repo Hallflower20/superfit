{
 "cells": [
  {
   "cell_type": "code",
   "execution_count": 49,
   "metadata": {},
   "outputs": [],
   "source": [
    "import glob\n",
    "from astropy import table\n",
    "from astropy.io import ascii\n",
    "import numpy as np\n",
    "import matplotlib.pyplot as plt\n",
    "import\tmultiprocessing as mp\n",
    "#from plotsettings_py36 import *\n",
    "from scipy import interpolate\n",
    "import scipy\n",
    "import scipy.optimize\n",
    "from scipy.optimize import curve_fit\n",
    "import time\n",
    "import pandas as pd \n",
    "from scipy import stats\n",
    "import matplotlib.pyplot as plt\n",
    "from scipy.interpolate import interp1d\n",
    "import time\n",
    "import statistics "
   ]
  },
  {
   "cell_type": "markdown",
   "metadata": {},
   "source": [
    "##### Measuring how long it takes"
   ]
  },
  {
   "cell_type": "code",
   "execution_count": 50,
   "metadata": {},
   "outputs": [],
   "source": [
    "start = time.time()"
   ]
  },
  {
   "cell_type": "markdown",
   "metadata": {},
   "source": [
    "# (Super) Functions"
   ]
  },
  {
   "cell_type": "code",
   "execution_count": 51,
   "metadata": {},
   "outputs": [],
   "source": [
    "def cartesian_product(*arrays):\n",
    "    la = len(arrays)\n",
    "    dtype = np.result_type(*arrays)\n",
    "    arr = np.empty([len(a) for a in arrays] + [la], dtype=dtype)\n",
    "    for i, a in enumerate(np.ix_(*arrays)):\n",
    "        arr[...,i] = a\n",
    "    return arr.reshape(-1, la)"
   ]
  },
  {
   "cell_type": "code",
   "execution_count": 52,
   "metadata": {},
   "outputs": [],
   "source": [
    "#lam is in angtroms \n",
    "#A_v is a user input\n",
    "\n",
    "import extinction\n",
    "\n",
    "A_v = 1.0\n",
    "\n",
    "def Alam(lamin, A_v):\n",
    "\n",
    "    lam=np.zeros(len(lamin))\n",
    "    redreturn=np.zeros(len(lamin))\n",
    "\n",
    "    #Add extinction with R_v= 3.1 and A_v = 1     \n",
    "    extinction.ccm89(lam, A_v, 3.1)\n",
    "        \n",
    "    return redreturn\n"
   ]
  },
  {
   "cell_type": "code",
   "execution_count": 53,
   "metadata": {},
   "outputs": [],
   "source": [
    "def select_templates(DATABASE, TYPES):\n",
    "\n",
    "       \n",
    "#    Selects templates of a given type(s) from a template database\n",
    "    \n",
    "#    Input: DATEBASE   list of templates\n",
    "#           TYPES      which types should be selected\n",
    "    \n",
    "#    Output: array of templates of given type(s)\n",
    "       \n",
    "    database_trunc = list([])\n",
    "    \n",
    "    for type in TYPES:\n",
    "        database_trunc += list([x for x in DATABASE if type in x])\n",
    "    \n",
    "    return np.array(database_trunc)"
   ]
  },
  {
   "cell_type": "markdown",
   "metadata": {},
   "source": [
    "### Get Sigma"
   ]
  },
  {
   "cell_type": "code",
   "execution_count": 54,
   "metadata": {},
   "outputs": [],
   "source": [
    "def error_spectra(spec_object): \n",
    "\n",
    "    flux = spec_object[:,1]\n",
    "    lam  = spec_object[:,0]\n",
    "\n",
    "#For how many points do we make the lines\n",
    "    num=10\n",
    "\n",
    "    if len(flux)%num != 0:\n",
    "        c = len(flux)%num\n",
    "        flux = flux[:-c]\n",
    "        lams = lam[:-c]\n",
    "    \n",
    "    else:\n",
    "        lams = lam\n",
    "        c = 0\n",
    "    \n",
    "    \n",
    "    flux_new = flux.reshape((-1,num))\n",
    "    lam_new  = lams.reshape((-1,num))\n",
    "    m = []\n",
    "    b = []\n",
    "    sigma = []\n",
    "\n",
    "    for n in range(len(lam_new)):\n",
    "        r=[]\n",
    "        error=[]\n",
    "        \n",
    "        a = np.polyfit(lam_new[n], flux_new[n], 1)\n",
    "        m.append(a[0])\n",
    "        b.append(a[1])\n",
    "        y = m[n]*lam_new[n]+b[n]\n",
    "          \n",
    "        r = flux_new - y\n",
    "        \n",
    "        plt.plot(lam_new[n], flux_new[n], '.' )\n",
    "        plt.plot(lam_new[n], y)\n",
    "        plt.plot(lam_new[n], flux_new[n]-y, 'ko', markersize=1)\n",
    "       \n",
    "        plt.title('For n*10th Entry')\n",
    "        plt.ylabel('Flux')\n",
    "        plt.xlabel('Lamda')\n",
    "    \n",
    "\n",
    "    for i in r: \n",
    "        s = statistics.stdev(i)\n",
    "        sigma.append(s)\n",
    "    \n",
    "\n",
    "# Here we make the error be the same size as the original lambda and then take the transpose\n",
    "\n",
    "    error = list(np.repeat(sigma, num))\n",
    "    l = [error[-1]] * c\n",
    "    error = error + l\n",
    "\n",
    "    error = np.asarray(error)\n",
    "    \n",
    "    return np.array([lam,error]).T"
   ]
  },
  {
   "cell_type": "markdown",
   "metadata": {},
   "source": [
    "# Compute the (Super) fit"
   ]
  },
  {
   "cell_type": "code",
   "execution_count": 55,
   "metadata": {},
   "outputs": [],
   "source": [
    "def wrapper_fit(DATABASE):\n",
    "\n",
    "    \"\"\"\n",
    "    Compute the fit\n",
    "    \"\"\"\n",
    "   \n",
    "    # 1) File i/o\n",
    "    \n",
    "    spec_gal    = np.loadtxt(DATABASE['GALAXY'])\n",
    "    spec_SN     = np.loadtxt(DATABASE['SN'])\n",
    "    spec_object = np.loadtxt(DATABASE['OBJECT'])\n",
    "    error       = error_spectra(spec_object)\n",
    "    #spec_object[:,1]*=10\n",
    "   \n",
    "\n",
    "  \n",
    "    spec_gal_interp    = interpolate.interp1d(spec_gal[:,0],    spec_gal[:,1],    bounds_error=False, fill_value=0)\n",
    "    spec_sn_interp     = interpolate.interp1d(spec_SN[:,0],     spec_SN[:,1],     bounds_error=False, fill_value=0)\n",
    "    spec_object_interp = interpolate.interp1d(spec_object[:,0], spec_object[:,1], bounds_error=False, fill_value=0)\n",
    "    spec_object_err_interp = interpolate.interp1d(error[:,0],     error[:,1],     bounds_error=False, fill_value=np.inf)\n",
    "               \n",
    "\n",
    "    \n",
    "    lambda_min = max([spec_gal[:,0][0],  spec_SN[:,0][0],  spec_object[:,0][0]])\n",
    "    lambda_max = min([spec_gal[:,0][-1], spec_SN[:,0][-1], spec_object[:,0][-1]])\n",
    "    lambda_new= spec_object[:,0][ (spec_object[:,0] >= lambda_min) & (spec_object[:,0] <= lambda_max) ]\n",
    "    \n",
    "    sigma = spec_object_err_interp(lambda_new)\n",
    "\n",
    "\n",
    "    \n",
    "    number = 300\n",
    "    \n",
    "    z = np.random.randint(0,200,number)/1000.\n",
    "        \n",
    "  \n",
    "    \n",
    "    param = []\n",
    "\n",
    "    def func(x, b, d):\n",
    "        return b * spec_sn_interp(x)*10**(float(DATABASE['DUST']) * Alam(x,1)) + d * spec_gal_interp(x)    \n",
    "\n",
    "    \n",
    "    object_spec = spec_object_interp(lambda_new)\n",
    "    sigma = spec_object_err_interp(lambda_new)\n",
    "    \n",
    "    for i in range(len(z)):\n",
    "  \n",
    "        result = curve_fit(func, lambda_new/(z[i]+1), object_spec, sigma=sigma, p0=[1,1])\n",
    "        \n",
    "        popt   = result[0]\n",
    "        pcov   = result[1]\n",
    "        \n",
    "    \n",
    "        chi2   = np.sum(((spec_object_interp(lambda_new)-func(lambda_new, *popt))/sigma)**2)\n",
    "\n",
    "\n",
    "    output=table.Table(\n",
    "                        np.array([DATABASE['OBJECT'], DATABASE['GALAXY'], DATABASE['SN'],popt[0],popt[1],z[i],chi2,float(DATABASE['DUST'])]), \n",
    "                        names=('OBJECT', 'GALAXY', 'SN', 'CONST_SN','CONST_GAL','CONST_Z','CHI2','A_lam_CONST'), \n",
    "                        dtype=('S100', 'S100', 'S100','f','f','f','f','f'))\n",
    "            \n",
    "         \n",
    "    output        \n",
    "            \n",
    "   \n",
    "    return output\n",
    "    "
   ]
  },
  {
   "cell_type": "markdown",
   "metadata": {},
   "source": [
    "# Read in spectral database"
   ]
  },
  {
   "cell_type": "code",
   "execution_count": 56,
   "metadata": {},
   "outputs": [],
   "source": [
    "\n",
    "templates_gal = glob.glob('rebinned/gal/*')\n",
    "templates_gal = [x for x in templates_gal if 'CVS' not in x and 'README' not in x]\n",
    "templates_gal = np.array(templates_gal)\n",
    "\n",
    "#templates_sn = glob.glob('rebinned/small/Ib/*')\n",
    "templates_sn = glob.glob('rebinned/sne/**/*')\n",
    "templates_sn = [x for x in templates_sn if 'CVS' not in x and 'README' not in x]\n",
    "templates_sn = np.array(templates_sn)\n",
    "\n",
    "#These parameters are user inputs \n",
    "templates_dust = np.array([-0.2,0,0.1])\n"
   ]
  },
  {
   "cell_type": "markdown",
   "metadata": {},
   "source": [
    "## Truncate templates SN, HG\n"
   ]
  },
  {
   "cell_type": "code",
   "execution_count": 57,
   "metadata": {},
   "outputs": [],
   "source": [
    "#Truncate the SN \n",
    "templates_sn_trunc = select_templates(templates_sn, ['/Others/'])\n",
    "#templates_sn_trunc = select_templates(templates_sn, ['/Ib/', '/Ia/'])\n",
    "\n",
    "#Truncate the host galaxy\n",
    "#templates_gal_trunc = select_templates(templates_gal, ['/E', '/S0', '/Sa','/SB1','/SB2','/SB3','/SB4','/SB5','/SB6'])\n",
    "templates_gal_trunc = select_templates(templates_gal, ['/E'])\n"
   ]
  },
  {
   "cell_type": "markdown",
   "metadata": {},
   "source": [
    "# Compute the cartesian product of SN templates, galaxy templates and extinction measurements"
   ]
  },
  {
   "cell_type": "code",
   "execution_count": 58,
   "metadata": {},
   "outputs": [
    {
     "data": {
      "text/html": [
       "<i>Table length=84</i>\n",
       "<table id=\"table140311841166336\" class=\"table-striped table-bordered table-condensed\">\n",
       "<thead><tr><th>GALAXY</th><th>SN</th><th>DUST</th><th>OBJECT</th></tr></thead>\n",
       "<thead><tr><th>str37</th><th>str37</th><th>str37</th><th>str63</th></tr></thead>\n",
       "<tr><td>rebinned/gal/E</td><td>rebinned/sne/Others/sn2005ap.p6.dat</td><td>-0.2</td><td>/home/sam/Dropbox/superfit/rebinned/sne/Others/ptf09atu.m35.dat</td></tr>\n",
       "<tr><td>rebinned/gal/E</td><td>rebinned/sne/Others/sn2005ap.p6.dat</td><td>0.0</td><td>/home/sam/Dropbox/superfit/rebinned/sne/Others/ptf09atu.m35.dat</td></tr>\n",
       "<tr><td>rebinned/gal/E</td><td>rebinned/sne/Others/sn2005ap.p6.dat</td><td>0.1</td><td>/home/sam/Dropbox/superfit/rebinned/sne/Others/ptf09atu.m35.dat</td></tr>\n",
       "<tr><td>rebinned/gal/E</td><td>rebinned/sne/Others/ptf09cnd.m29.dat</td><td>-0.2</td><td>/home/sam/Dropbox/superfit/rebinned/sne/Others/ptf09atu.m35.dat</td></tr>\n",
       "<tr><td>rebinned/gal/E</td><td>rebinned/sne/Others/ptf09cnd.m29.dat</td><td>0.0</td><td>/home/sam/Dropbox/superfit/rebinned/sne/Others/ptf09atu.m35.dat</td></tr>\n",
       "<tr><td>rebinned/gal/E</td><td>rebinned/sne/Others/ptf09cnd.m29.dat</td><td>0.1</td><td>/home/sam/Dropbox/superfit/rebinned/sne/Others/ptf09atu.m35.dat</td></tr>\n",
       "<tr><td>rebinned/gal/E</td><td>rebinned/sne/Others/ptf10nmn.p205.dat</td><td>-0.2</td><td>/home/sam/Dropbox/superfit/rebinned/sne/Others/ptf09atu.m35.dat</td></tr>\n",
       "<tr><td>rebinned/gal/E</td><td>rebinned/sne/Others/ptf10nmn.p205.dat</td><td>0.0</td><td>/home/sam/Dropbox/superfit/rebinned/sne/Others/ptf09atu.m35.dat</td></tr>\n",
       "<tr><td>rebinned/gal/E</td><td>rebinned/sne/Others/ptf10nmn.p205.dat</td><td>0.1</td><td>/home/sam/Dropbox/superfit/rebinned/sne/Others/ptf09atu.m35.dat</td></tr>\n",
       "<tr><td>rebinned/gal/E</td><td>rebinned/sne/Others/sn2005ap.p36.dat</td><td>-0.2</td><td>/home/sam/Dropbox/superfit/rebinned/sne/Others/ptf09atu.m35.dat</td></tr>\n",
       "<tr><td>...</td><td>...</td><td>...</td><td>...</td></tr>\n",
       "<tr><td>rebinned/gal/E</td><td>rebinned/sne/Others/ptf09cnd.m25.dat</td><td>0.1</td><td>/home/sam/Dropbox/superfit/rebinned/sne/Others/ptf09atu.m35.dat</td></tr>\n",
       "<tr><td>rebinned/gal/E</td><td>rebinned/sne/Others/ptf09cnd.p31.dat</td><td>-0.2</td><td>/home/sam/Dropbox/superfit/rebinned/sne/Others/ptf09atu.m35.dat</td></tr>\n",
       "<tr><td>rebinned/gal/E</td><td>rebinned/sne/Others/ptf09cnd.p31.dat</td><td>0.0</td><td>/home/sam/Dropbox/superfit/rebinned/sne/Others/ptf09atu.m35.dat</td></tr>\n",
       "<tr><td>rebinned/gal/E</td><td>rebinned/sne/Others/ptf09cnd.p31.dat</td><td>0.1</td><td>/home/sam/Dropbox/superfit/rebinned/sne/Others/ptf09atu.m35.dat</td></tr>\n",
       "<tr><td>rebinned/gal/E</td><td>rebinned/sne/Others/ptf09cnd.p43.dat</td><td>-0.2</td><td>/home/sam/Dropbox/superfit/rebinned/sne/Others/ptf09atu.m35.dat</td></tr>\n",
       "<tr><td>rebinned/gal/E</td><td>rebinned/sne/Others/ptf09cnd.p43.dat</td><td>0.0</td><td>/home/sam/Dropbox/superfit/rebinned/sne/Others/ptf09atu.m35.dat</td></tr>\n",
       "<tr><td>rebinned/gal/E</td><td>rebinned/sne/Others/ptf09cnd.p43.dat</td><td>0.1</td><td>/home/sam/Dropbox/superfit/rebinned/sne/Others/ptf09atu.m35.dat</td></tr>\n",
       "<tr><td>rebinned/gal/E</td><td>rebinned/sne/Others/ptf09cnd.p13.dat</td><td>-0.2</td><td>/home/sam/Dropbox/superfit/rebinned/sne/Others/ptf09atu.m35.dat</td></tr>\n",
       "<tr><td>rebinned/gal/E</td><td>rebinned/sne/Others/ptf09cnd.p13.dat</td><td>0.0</td><td>/home/sam/Dropbox/superfit/rebinned/sne/Others/ptf09atu.m35.dat</td></tr>\n",
       "<tr><td>rebinned/gal/E</td><td>rebinned/sne/Others/ptf09cnd.p13.dat</td><td>0.1</td><td>/home/sam/Dropbox/superfit/rebinned/sne/Others/ptf09atu.m35.dat</td></tr>\n",
       "</table>"
      ],
      "text/plain": [
       "<Table length=84>\n",
       "    GALAXY     ...\n",
       "    str37      ...\n",
       "-------------- ...\n",
       "rebinned/gal/E ...\n",
       "rebinned/gal/E ...\n",
       "rebinned/gal/E ...\n",
       "rebinned/gal/E ...\n",
       "rebinned/gal/E ...\n",
       "rebinned/gal/E ...\n",
       "rebinned/gal/E ...\n",
       "rebinned/gal/E ...\n",
       "rebinned/gal/E ...\n",
       "rebinned/gal/E ...\n",
       "           ... ...\n",
       "rebinned/gal/E ...\n",
       "rebinned/gal/E ...\n",
       "rebinned/gal/E ...\n",
       "rebinned/gal/E ...\n",
       "rebinned/gal/E ...\n",
       "rebinned/gal/E ...\n",
       "rebinned/gal/E ...\n",
       "rebinned/gal/E ...\n",
       "rebinned/gal/E ...\n",
       "rebinned/gal/E ..."
      ]
     },
     "execution_count": 58,
     "metadata": {},
     "output_type": "execute_result"
    }
   ],
   "source": [
    "cartesian_product_all=cartesian_product(*[templates_gal_trunc[:1], templates_sn_trunc, templates_dust])\n",
    "cartesian_product_all=table.Table(cartesian_product_all, names=('GALAXY', 'SN', 'DUST'))\n",
    "\n",
    "#In brakets here is the number of template I'm using to match\n",
    "cartesian_product_all['OBJECT']=[\"/home/sam/Dropbox/superfit/rebinned/sne/Others/ptf09atu.m35.dat\"]\n",
    "\n",
    "\n",
    "cartesian_product_all"
   ]
  },
  {
   "cell_type": "code",
   "execution_count": 59,
   "metadata": {},
   "outputs": [
    {
     "data": {
      "text/plain": [
       "range(0, 84)"
      ]
     },
     "execution_count": 59,
     "metadata": {},
     "output_type": "execute_result"
    }
   ],
   "source": [
    "index_array=range(len(cartesian_product_all))\n",
    "index_array"
   ]
  },
  {
   "cell_type": "code",
   "execution_count": 60,
   "metadata": {
    "scrolled": true
   },
   "outputs": [],
   "source": [
    "%%capture\n",
    "output=wrapper_fit(cartesian_product_all[0])\n",
    "output"
   ]
  },
  {
   "cell_type": "code",
   "execution_count": 61,
   "metadata": {},
   "outputs": [],
   "source": [
    "%%capture\n",
    "\n",
    "if mp.cpu_count() > 1:\n",
    "     number_cpu\t= mp.cpu_count()/2\t# is equal to number of threads x number of physical cpus, e.g. 2x4\n",
    "else:\n",
    "    number_cpu\t= mp.cpu_count()\n",
    "number_cpu\n",
    "pool\t= mp.Pool(processes=int(number_cpu)*2)\n"
   ]
  },
  {
   "cell_type": "code",
   "execution_count": 62,
   "metadata": {
    "scrolled": true
   },
   "outputs": [],
   "source": [
    "result = pool.map(wrapper_fit, cartesian_product_all)"
   ]
  },
  {
   "cell_type": "code",
   "execution_count": 63,
   "metadata": {},
   "outputs": [],
   "source": [
    "result=table.vstack(result)"
   ]
  },
  {
   "cell_type": "code",
   "execution_count": null,
   "metadata": {
    "scrolled": false
   },
   "outputs": [],
   "source": [
    "#%%capture\n",
    "#result=[wrapper_fit(x) for x in cartesian_product_all]\n",
    "#result=table.vstack(result)"
   ]
  },
  {
   "cell_type": "code",
   "execution_count": null,
   "metadata": {
    "scrolled": true
   },
   "outputs": [
    {
     "data": {
      "text/html": [
       "<i>Table length=84</i>\n",
       "<table id=\"table140311825108944\" class=\"table-striped table-bordered table-condensed\">\n",
       "<thead><tr><th>OBJECT</th><th>GALAXY</th><th>SN</th><th>CONST_SN</th><th>CONST_GAL</th><th>CONST_Z</th><th>CHI2</th><th>A_lam_CONST</th></tr></thead>\n",
       "<thead><tr><th>bytes100</th><th>bytes100</th><th>bytes100</th><th>float32</th><th>float32</th><th>float32</th><th>float32</th><th>float32</th></tr></thead>\n",
       "<tr><td>/home/sam/Dropbox/superfit/rebinned/sne/Others/ptf09atu.m35.dat</td><td>rebinned/gal/E</td><td>rebinned/sne/Others/ptf09atu.m35.dat</td><td>1.0</td><td>2.3037179e-09</td><td>0.0</td><td>8.1673756e-14</td><td>0.0</td></tr>\n",
       "<tr><td>/home/sam/Dropbox/superfit/rebinned/sne/Others/ptf09atu.m35.dat</td><td>rebinned/gal/E</td><td>rebinned/sne/Others/ptf09atu.m35.dat</td><td>0.9725419</td><td>-0.114522584</td><td>0.083</td><td>800.8348</td><td>0.1</td></tr>\n",
       "<tr><td>/home/sam/Dropbox/superfit/rebinned/sne/Others/ptf09atu.m35.dat</td><td>rebinned/gal/E</td><td>rebinned/sne/Others/ptf09cnd.m29.dat</td><td>0.66147494</td><td>0.34373465</td><td>0.0</td><td>1024.1403</td><td>0.0</td></tr>\n",
       "<tr><td>/home/sam/Dropbox/superfit/rebinned/sne/Others/ptf09atu.m35.dat</td><td>rebinned/gal/E</td><td>rebinned/sne/Others/ptf09cnd.p13.dat</td><td>0.75479484</td><td>-0.15165815</td><td>0.088</td><td>1418.6873</td><td>0.0</td></tr>\n",
       "<tr><td>/home/sam/Dropbox/superfit/rebinned/sne/Others/ptf09atu.m35.dat</td><td>rebinned/gal/E</td><td>rebinned/sne/Others/ptf09cnd.m16.dat</td><td>0.45788023</td><td>0.32014093</td><td>0.09</td><td>1667.9923</td><td>-0.2</td></tr>\n",
       "<tr><td>/home/sam/Dropbox/superfit/rebinned/sne/Others/ptf09atu.m35.dat</td><td>rebinned/gal/E</td><td>rebinned/sne/Others/ptf09cnd.m29.dat</td><td>0.5722006</td><td>0.35435015</td><td>0.083</td><td>1756.6648</td><td>0.1</td></tr>\n",
       "<tr><td>/home/sam/Dropbox/superfit/rebinned/sne/Others/ptf09atu.m35.dat</td><td>rebinned/gal/E</td><td>rebinned/sne/Others/ptf09cnd.p31.dat</td><td>0.9437984</td><td>-0.045263804</td><td>0.088</td><td>1980.8081</td><td>0.0</td></tr>\n",
       "<tr><td>/home/sam/Dropbox/superfit/rebinned/sne/Others/ptf09atu.m35.dat</td><td>rebinned/gal/E</td><td>rebinned/sne/Others/sn2005ap.m3.dat</td><td>0.4809849</td><td>0.31676394</td><td>0.126</td><td>2031.1671</td><td>-0.2</td></tr>\n",
       "<tr><td>/home/sam/Dropbox/superfit/rebinned/sne/Others/ptf09atu.m35.dat</td><td>rebinned/gal/E</td><td>rebinned/sne/Others/sn2005ap.m3.dat</td><td>0.4689296</td><td>0.3434167</td><td>0.107</td><td>2077.1472</td><td>0.0</td></tr>\n",
       "<tr><td>/home/sam/Dropbox/superfit/rebinned/sne/Others/ptf09atu.m35.dat</td><td>rebinned/gal/E</td><td>rebinned/sne/Others/ptf09cnd.m25.dat</td><td>0.42110515</td><td>0.3566244</td><td>0.088</td><td>2252.4988</td><td>0.0</td></tr>\n",
       "<tr><td>...</td><td>...</td><td>...</td><td>...</td><td>...</td><td>...</td><td>...</td><td>...</td></tr>\n",
       "<tr><td>/home/sam/Dropbox/superfit/rebinned/sne/Others/ptf09atu.m35.dat</td><td>rebinned/gal/E</td><td>rebinned/sne/Others/ptf10nmn.p205.dat</td><td>0.76796126</td><td>0.02937169</td><td>0.129</td><td>20576.996</td><td>-0.2</td></tr>\n",
       "<tr><td>/home/sam/Dropbox/superfit/rebinned/sne/Others/ptf09atu.m35.dat</td><td>rebinned/gal/E</td><td>rebinned/sne/Others/sn2007bi.p527.dat</td><td>-0.026053553</td><td>1.3437093</td><td>0.195</td><td>20695.635</td><td>0.1</td></tr>\n",
       "<tr><td>/home/sam/Dropbox/superfit/rebinned/sne/Others/ptf09atu.m35.dat</td><td>rebinned/gal/E</td><td>rebinned/sne/Others/ptf10nmn.p240.dat</td><td>0.9420796</td><td>-1.0531338</td><td>0.164</td><td>21013.287</td><td>0.1</td></tr>\n",
       "<tr><td>/home/sam/Dropbox/superfit/rebinned/sne/Others/ptf09atu.m35.dat</td><td>rebinned/gal/E</td><td>rebinned/sne/Others/ptf09cnd.p260.dat</td><td>1.4236506</td><td>-1.0017663</td><td>0.107</td><td>21212.184</td><td>0.0</td></tr>\n",
       "<tr><td>/home/sam/Dropbox/superfit/rebinned/sne/Others/ptf09atu.m35.dat</td><td>rebinned/gal/E</td><td>rebinned/sne/Others/ptf09cnd.p260.dat</td><td>1.4182694</td><td>-1.0407225</td><td>0.126</td><td>22106.12</td><td>-0.2</td></tr>\n",
       "<tr><td>/home/sam/Dropbox/superfit/rebinned/sne/Others/ptf09atu.m35.dat</td><td>rebinned/gal/E</td><td>rebinned/sne/Others/ptf09atu.p169.dat</td><td>2.109559</td><td>-1.9234421</td><td>0.129</td><td>23212.764</td><td>-0.2</td></tr>\n",
       "<tr><td>/home/sam/Dropbox/superfit/rebinned/sne/Others/ptf09atu.m35.dat</td><td>rebinned/gal/E</td><td>rebinned/sne/Others/ptf09atu.p51.dat</td><td>2.1290066</td><td>-2.6096907</td><td>0.164</td><td>24314.297</td><td>0.1</td></tr>\n",
       "<tr><td>/home/sam/Dropbox/superfit/rebinned/sne/Others/ptf09atu.m35.dat</td><td>rebinned/gal/E</td><td>rebinned/sne/Others/sn2005ap.p6.dat</td><td>1.0</td><td>1.0</td><td>0.083</td><td>nan</td><td>0.1</td></tr>\n",
       "<tr><td>/home/sam/Dropbox/superfit/rebinned/sne/Others/ptf09atu.m35.dat</td><td>rebinned/gal/E</td><td>rebinned/sne/Others/sn2005ap.p6.dat</td><td>1.0</td><td>1.0</td><td>0.0</td><td>nan</td><td>0.0</td></tr>\n",
       "<tr><td>/home/sam/Dropbox/superfit/rebinned/sne/Others/ptf09atu.m35.dat</td><td>rebinned/gal/E</td><td>rebinned/sne/Others/sn2005ap.p6.dat</td><td>1.0</td><td>1.0</td><td>0.129</td><td>nan</td><td>-0.2</td></tr>\n",
       "</table>"
      ],
      "text/plain": [
       "<Table length=84>\n",
       "                             OBJECT                             ... A_lam_CONST\n",
       "                            bytes100                            ...   float32  \n",
       "--------------------------------------------------------------- ... -----------\n",
       "/home/sam/Dropbox/superfit/rebinned/sne/Others/ptf09atu.m35.dat ...         0.0\n",
       "/home/sam/Dropbox/superfit/rebinned/sne/Others/ptf09atu.m35.dat ...         0.1\n",
       "/home/sam/Dropbox/superfit/rebinned/sne/Others/ptf09atu.m35.dat ...         0.0\n",
       "/home/sam/Dropbox/superfit/rebinned/sne/Others/ptf09atu.m35.dat ...         0.0\n",
       "/home/sam/Dropbox/superfit/rebinned/sne/Others/ptf09atu.m35.dat ...        -0.2\n",
       "/home/sam/Dropbox/superfit/rebinned/sne/Others/ptf09atu.m35.dat ...         0.1\n",
       "/home/sam/Dropbox/superfit/rebinned/sne/Others/ptf09atu.m35.dat ...         0.0\n",
       "/home/sam/Dropbox/superfit/rebinned/sne/Others/ptf09atu.m35.dat ...        -0.2\n",
       "/home/sam/Dropbox/superfit/rebinned/sne/Others/ptf09atu.m35.dat ...         0.0\n",
       "/home/sam/Dropbox/superfit/rebinned/sne/Others/ptf09atu.m35.dat ...         0.0\n",
       "                                                            ... ...         ...\n",
       "/home/sam/Dropbox/superfit/rebinned/sne/Others/ptf09atu.m35.dat ...        -0.2\n",
       "/home/sam/Dropbox/superfit/rebinned/sne/Others/ptf09atu.m35.dat ...         0.1\n",
       "/home/sam/Dropbox/superfit/rebinned/sne/Others/ptf09atu.m35.dat ...         0.1\n",
       "/home/sam/Dropbox/superfit/rebinned/sne/Others/ptf09atu.m35.dat ...         0.0\n",
       "/home/sam/Dropbox/superfit/rebinned/sne/Others/ptf09atu.m35.dat ...        -0.2\n",
       "/home/sam/Dropbox/superfit/rebinned/sne/Others/ptf09atu.m35.dat ...        -0.2\n",
       "/home/sam/Dropbox/superfit/rebinned/sne/Others/ptf09atu.m35.dat ...         0.1\n",
       "/home/sam/Dropbox/superfit/rebinned/sne/Others/ptf09atu.m35.dat ...         0.1\n",
       "/home/sam/Dropbox/superfit/rebinned/sne/Others/ptf09atu.m35.dat ...         0.0\n",
       "/home/sam/Dropbox/superfit/rebinned/sne/Others/ptf09atu.m35.dat ...        -0.2"
      ]
     },
     "execution_count": 65,
     "metadata": {},
     "output_type": "execute_result"
    }
   ],
   "source": [
    "result\n",
    "result.sort('CHI2')\n",
    "result"
   ]
  },
  {
   "cell_type": "markdown",
   "metadata": {},
   "source": [
    "# (Super) Graph"
   ]
  },
  {
   "cell_type": "code",
   "execution_count": null,
   "metadata": {},
   "outputs": [],
   "source": [
    "def visualise_match(DATABASE):\n",
    "\n",
    "    # File i/o\n",
    "    \n",
    "#    print(DATABASE)\n",
    "    \n",
    "    spec_gal    = np.loadtxt(DATABASE['GALAXY'][0])\n",
    "    spec_SN     = np.loadtxt(DATABASE['SN'][0])\n",
    "    spec_object = np.loadtxt(DATABASE['OBJECT'][0])\n",
    "    #spec_object[:,1]*=10\n",
    "\n",
    "    # Plot data\n",
    "    \"\"\"\n",
    "    bestfit_galaxy = DATABASE['GALAXY'].split('/')[-1]\n",
    "    bestfit_sn_name = DATABASE['SN'].split('/')[2].split('.')[0]\n",
    "    bestfit_sn_type = DATABASE['SN'].split('/')[1]\n",
    "    bestfit_sn_phase = '+' + DATABASE['SN'].split('/')[2].split('.')[1].replace('p', '') if 'p' in DATABASE['SN'].split('/')[2].split('.')[1] else '-' + DATABASE['SN'].split('/')[2].split('.')[1].replace('m', '')\n",
    "    \"\"\"\n",
    "    \n",
    "    \n",
    "    lambda_min = max([spec_gal[:,0][0],  spec_SN[:,0][0]])\n",
    "    lambda_max = min([spec_gal[:,0][-1], spec_SN[:,0][-1]])\n",
    "    \n",
    "    lam = spec_SN[:,0][ (spec_SN[:,0] >= lambda_min) & (spec_SN[:,0] <= lambda_max) ]\n",
    "    \n",
    "    spec_gal_interp  = interpolate.interp1d(spec_gal[:,0], spec_gal[:,1], bounds_error=False, fill_value=np.nan)\n",
    "    spec_sn_interp  = interpolate.interp1d(spec_SN[:,0], spec_SN[:,1],  bounds_error=False, fill_value=np.nan)\n",
    "    \n",
    "    combined = spec_gal_interp(lam) + spec_sn_interp(lam)\n",
    "   \n",
    "\n",
    "\n",
    "    plt.figure(figsize=(7*np.sqrt(2), 7))\n",
    "    \n",
    "    ax = plt.subplot(111)\n",
    "    ax.plot(spec_object[:,0], spec_object[:,1], 'm' , lw=5, label='Input spectrum')    \n",
    "    ax.plot(spec_gal[:,0], DATABASE['CONST_GAL'] * spec_gal[:,1], lw=1, label='Galaxy template')#: {}'.format(bestfit_galaxy))\n",
    "    ax.plot(spec_SN[:,0],  DATABASE['CONST_SN']  * spec_SN[:,1] ,  lw=3, label='SN template')#: {name} ({type}, {phase} days)'.format(type=bestfit_sn_type, name=bestfit_sn_name, phase=bestfit_sn_phase))\n",
    "    #ax.plot(lam, combined, 'k' ,lw=2, label='Galaxy template')\n",
    "  \n",
    "    \n",
    "    \n",
    "    ax.legend()#fontsize=legend_size-4)\n",
    "    \n",
    "    ax.set_xlabel('Observed wavelength (\\\\AA)')\n",
    "    ax.set_ylabel('Flux density (arbitary units)')\n",
    "    \n",
    "    ax.set_xlim(spec_object[0,0]-20, spec_object[-1,0]-20)\n",
    "    ax.set_ylim(0, max(spec_object[:,1])*1.2)\n",
    "    \n",
    "    plt.show()\n"
   ]
  },
  {
   "cell_type": "code",
   "execution_count": null,
   "metadata": {
    "scrolled": true
   },
   "outputs": [
    {
     "name": "stdout",
     "output_type": "stream",
     "text": [
      "<Table length=1>\n",
      "    name     dtype   n_bad\n",
      "----------- -------- -----\n",
      "     OBJECT bytes100     0\n",
      "     GALAXY bytes100     0\n",
      "         SN bytes100     0\n",
      "   CONST_SN  float32     0\n",
      "  CONST_GAL  float32     0\n",
      "    CONST_Z  float32     0\n",
      "       CHI2  float32     1\n",
      "A_lam_CONST  float32     0\n",
      "None\n"
     ]
    },
    {
     "data": {
      "image/png": "[encoded data removed]",
      "text/plain": [
       "<Figure size 712.764x504 with 1 Axes>"
      ]
     },
     "metadata": {
      "needs_background": "light"
     },
     "output_type": "display_data"
    }
   ],
   "source": [
    "print(output.info())\n",
    "visualise_match(table.Table(result[0]))"
   ]
  },
  {
   "cell_type": "code",
   "execution_count": null,
   "metadata": {},
   "outputs": [
    {
     "data": {
      "text/plain": [
       "'/home/sam/Dropbox/superfit'"
      ]
     },
     "execution_count": 68,
     "metadata": {},
     "output_type": "execute_result"
    }
   ],
   "source": [
    "import os\n",
    "os.getcwd()"
   ]
  },
  {
   "cell_type": "code",
   "execution_count": null,
   "metadata": {
    "scrolled": true
   },
   "outputs": [],
   "source": [
    "%%capture\n",
    "[wrapper_fit(x) for x in cartesian_product_all]"
   ]
  },
  {
   "cell_type": "code",
   "execution_count": null,
   "metadata": {},
   "outputs": [],
   "source": [
    "#In order to identify the files giving me trouble\n",
    "\n",
    "for file in np.unique(cartesian_product_all['SN']):\n",
    "    try:\n",
    "        np.loadtxt(file)\n",
    "    except:\n",
    "        print(file)\n"
   ]
  },
  {
   "cell_type": "code",
   "execution_count": null,
   "metadata": {
    "scrolled": false
   },
   "outputs": [],
   "source": [
    "table.Table(result[0])"
   ]
  },
  {
   "cell_type": "markdown",
   "metadata": {},
   "source": [
    "##### This took:"
   ]
  },
  {
   "cell_type": "code",
   "execution_count": null,
   "metadata": {
    "scrolled": false
   },
   "outputs": [],
   "source": [
    "end = time.time()\n",
    "print(end - start, 'seconds')"
   ]
  },
  {
   "cell_type": "code",
   "execution_count": null,
   "metadata": {},
   "outputs": [],
   "source": []
  }
 ],
 "metadata": {
  "kernelspec": {
   "display_name": "Python 3",
   "language": "python",
   "name": "python3"
  },
  "language_info": {
   "codemirror_mode": {
    "name": "ipython",
    "version": 3
   },
   "file_extension": ".py",
   "mimetype": "text/x-python",
   "name": "python",
   "nbconvert_exporter": "python",
   "pygments_lexer": "ipython3",
   "version": "3.7.3"
  }
 },
 "nbformat": 4,
 "nbformat_minor": 2
}
