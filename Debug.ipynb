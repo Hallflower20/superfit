{
 "cells": [
  {
   "cell_type": "code",
   "execution_count": 1,
   "metadata": {},
   "outputs": [],
   "source": [
    "#!/usr/bin/env python\n",
    "# coding: utf-8\n",
    "\n",
    "# In[1]:\n",
    "\n",
    "\n",
    "import sys \n",
    "from SF_functions import *\n",
    "from Header_Binnings import *\n",
    "from params import *\n",
    "import numpy as np \n",
    "import glob\n",
    "from astropy.table import Table\n",
    "# Enter path of object of interest, can also be specified as input\n",
    "\n",
    "\n",
    "\n",
    "#original=sys.argv[1]\n",
    "\n",
    "\n",
    "# In[2]:\n",
    "\n",
    "\n",
    "objects_path = '/mnt/c/Users/20xha/Documents/Caltech/Research/superfit/spectra_nonan/'\n",
    "objects_list = glob.glob(objects_path+'*.ascii') \n",
    "\n",
    "\n",
    "# In[3]:\n",
    "\n",
    "\n",
    "sample = Table.read(\"/mnt/c/Users/20xha/Documents/Caltech/Research/superfit/ML_sample.ascii\", format = \"ascii\")\n",
    "sample.rename_column('col1', 'ZTF_Name')\n",
    "sample.rename_column('col2', \"Class\")\n",
    "sample.rename_column('col3', \"redshift\")\n",
    "sample.rename_column('col8', \"Version\")\n",
    "\n",
    "\n",
    "# In[5]:\n",
    "\n",
    "\n"
   ]
  },
  {
   "cell_type": "code",
   "execution_count": null,
   "metadata": {},
   "outputs": [],
   "source": [
    "def new_params():\n",
    "    with open(\"parameters.json\", \"r\") as read_file:\n",
    "        data = json.load(read_file)\n",
    "\n",
    "\n",
    "    # Choose saving paths for binned data and results \n",
    "\n",
    "    path = data['path']\n",
    "    sys.path.insert(1,path)\n",
    "    save_bin_path     = path + \"bin/\"\n",
    "    save_results_path = path + \"results/\"\n",
    "\n",
    "\n",
    "\n",
    "\n",
    "    # Path where original bank is located for metadata\n",
    "\n",
    "    original_bank_path = path + 'bank/original_resolution/sne/'\n",
    "\n",
    "    #--------------------------------------------------------------------------------------------------\n",
    "\n",
    "    # Select a range and number of steps for z\n",
    "\n",
    "    z_start  = data['z_start'] \n",
    "    z_end    = data['z_end']\n",
    "    z_num    = data['z_num']\n",
    "\n",
    "\n",
    "\n",
    "    redshift      =    np.linspace(z_start, z_end,z_num)\n",
    "\n",
    "\n",
    "\n",
    "    # Number of steps for A_v (do not change)\n",
    "\n",
    "    alam_num = 21\n",
    "    extconstant   =    np.linspace(-2,2,alam_num)\n",
    "\n",
    "\n",
    "\n",
    "    # What part of the library do you want to look at?  \n",
    "\n",
    "    temp_gal_tr = data['temp_gal_tr']\n",
    "    temp_sn_tr  = data['temp_sn_tr']\n",
    "\n",
    "\n",
    "    # Select a wavelength range and resolution\n",
    "    resolution = data['resolution']\n",
    "    upper      = data['upper']\n",
    "    lower      = data['lower']\n",
    "    interval   = int((upper - lower)/resolution)\n",
    "    lam        =     np.linspace(lower, upper, interval)\n",
    "    # Kind of error spectrum ('SG', 'linear' or 'included')\n",
    "    kind = data['kind']\n",
    "    # To show plot? \n",
    "    show = data['show']   \n",
    "    # How many top results to plot? \n",
    "    n = data['n']"
   ]
  },
  {
   "cell_type": "code",
   "execution_count": 8,
   "metadata": {},
   "outputs": [
    {
     "data": {
      "text/plain": [
       "(array([1978]),)"
      ]
     },
     "execution_count": 8,
     "metadata": {},
     "output_type": "execute_result"
    }
   ],
   "source": [
    "np.where(sample[\"Version\"] == \"ZTF18acurwua_20181213_P60_v1.ascii\")"
   ]
  },
  {
   "cell_type": "code",
   "execution_count": 10,
   "metadata": {},
   "outputs": [
    {
     "data": {
      "text/plain": [
       "0.22078356959482084"
      ]
     },
     "execution_count": 10,
     "metadata": {},
     "output_type": "execute_result"
    }
   ],
   "source": [
    "1978/len(sample)"
   ]
  },
  {
   "cell_type": "code",
   "execution_count": 3,
   "metadata": {},
   "outputs": [
    {
     "data": {
      "text/html": [
       "<i>Row index=820</i>\n",
       "<table id=\"table140124374810528\">\n",
       "<thead><tr><th>ZTF_Name</th><th>Class</th><th>redshift</th><th>col4</th><th>col5</th><th>col6</th><th>col7</th><th>Version</th><th>col9</th></tr></thead>\n",
       "<thead><tr><th>str12</th><th>str12</th><th>float64</th><th>float64</th><th>float64</th><th>float64</th><th>float64</th><th>str43</th><th>int64</th></tr></thead>\n",
       "<tr><td>ZTF18abkjnqy</td><td>Ic</td><td>0.028</td><td>0.023522</td><td>2458336.5</td><td>2458346.62</td><td>-10.12</td><td>ZTF18abkjnqy_20180806_P60_v1.ascii</td><td>1</td></tr>\n",
       "</table>"
      ],
      "text/plain": [
       "<Row index=820>\n",
       "  ZTF_Name   Class redshift   col4      col5      col6      col7               Version                col9\n",
       "   str12     str12 float64  float64   float64   float64   float64               str43                int64\n",
       "------------ ----- -------- -------- --------- ---------- ------- ---------------------------------- -----\n",
       "ZTF18abkjnqy    Ic    0.028 0.023522 2458336.5 2458346.62  -10.12 ZTF18abkjnqy_20180806_P60_v1.ascii     1"
      ]
     },
     "execution_count": 3,
     "metadata": {},
     "output_type": "execute_result"
    }
   ],
   "source": [
    "sample[820]"
   ]
  },
  {
   "cell_type": "code",
   "execution_count": 4,
   "metadata": {},
   "outputs": [
    {
     "data": {
      "text/html": [
       "<i>Table length=8139</i>\n",
       "<table id=\"table140125258075440\" class=\"table-striped table-bordered table-condensed\">\n",
       "<thead><tr><th>ZTF_Name</th><th>Class</th><th>redshift</th><th>col4</th><th>col5</th><th>col6</th><th>col7</th><th>Version</th><th>col9</th></tr></thead>\n",
       "<thead><tr><th>str12</th><th>str12</th><th>float64</th><th>float64</th><th>float64</th><th>float64</th><th>float64</th><th>str43</th><th>int64</th></tr></thead>\n",
       "<tr><td>ZTF18abkjnqy</td><td>Ic</td><td>0.028</td><td>0.023522</td><td>2458336.5</td><td>2458346.62</td><td>-10.12</td><td>ZTF18abkjnqy_20180806_P60_v1.ascii</td><td>1</td></tr>\n",
       "<tr><td>ZTF18abkjnqy</td><td>Ic</td><td>0.028</td><td>0.023522</td><td>2458336.5</td><td>2458346.62</td><td>-10.12</td><td>ZTF18abkjnqy_20180806_P60_v2.ascii</td><td>1</td></tr>\n",
       "<tr><td>ZTF18abkjnqy</td><td>Ic</td><td>0.028</td><td>0.023522</td><td>2458633.5</td><td>2458346.62</td><td>286.88</td><td>ZTF18abkjnqy_20190530_P60_v1.ascii</td><td>1</td></tr>\n",
       "<tr><td>ZTF18abkjnqy</td><td>Ic</td><td>0.028</td><td>0.023522</td><td>2458633.5</td><td>2458346.62</td><td>286.88</td><td>ZTF18abkjnqy_20190530_P60_v2.ascii</td><td>1</td></tr>\n",
       "<tr><td>ZTF18ablhvfr</td><td>Ia</td><td>0.088</td><td>nan</td><td>2458356.5</td><td>2458344.61</td><td>11.89</td><td>ZTF18ablhvfr_20180826_P60_v1.ascii</td><td>1</td></tr>\n",
       "<tr><td>ZTF18ablqdru</td><td>-</td><td>0.02627</td><td>nan</td><td>2458345.5</td><td>2458364.59</td><td>-19.09</td><td>ZTF18ablqdru_20180815_P60_v1.ascii</td><td>0</td></tr>\n",
       "<tr><td>ZTF18ablqdru</td><td>-</td><td>0.02627</td><td>nan</td><td>2458351.5</td><td>2458364.59</td><td>-13.09</td><td>ZTF18ablqdru_20180821_P200_v1.ascii</td><td>0</td></tr>\n",
       "<tr><td>ZTF18ablqehq</td><td>IIn</td><td>0.03</td><td>0.030812</td><td>2458351.5</td><td>2458348.61</td><td>2.89</td><td>ZTF18ablqehq_20180821_P200_v1.ascii</td><td>1</td></tr>\n",
       "<tr><td>ZTF18ablqlzp</td><td>Ia</td><td>0.036</td><td>0.0413</td><td>2458337.5</td><td>2458350.6</td><td>-13.1</td><td>ZTF18ablqlzp_20180807_P60_v1.ascii</td><td>1</td></tr>\n",
       "<tr><td>ZTF18ablqlzp</td><td>Ia</td><td>0.036</td><td>0.0413</td><td>2458342.5</td><td>2458350.6</td><td>-8.1</td><td>ZTF18ablqlzp_20180812_P200_v1.ascii</td><td>1</td></tr>\n",
       "<tr><td>...</td><td>...</td><td>...</td><td>...</td><td>...</td><td>...</td><td>...</td><td>...</td><td>...</td></tr>\n",
       "<tr><td>ZTF19abcupbu</td><td>II</td><td>0.0448</td><td>0.0448</td><td>2458675.5</td><td>2458678.69</td><td>-3.19</td><td>ZTF19abcupbu_20190711_P60_v1.ascii</td><td>2</td></tr>\n",
       "<tr><td>ZTF19aazpnlc</td><td>Ia</td><td>0.03309</td><td>0.03309</td><td>2458673.5</td><td>2458673.91</td><td>-0.41</td><td>ZTF19aazpnlc_20190709_P60_v1.ascii</td><td>2</td></tr>\n",
       "<tr><td>ZTF19abdkgmf</td><td>II</td><td>0.04677</td><td>0.04677</td><td>2458704.5</td><td>2458679.99</td><td>24.51</td><td>ZTF19abdkgmf_20190809_P200_v1.ascii</td><td>2</td></tr>\n",
       "<tr><td>ZTF19abehwhj</td><td>LBV</td><td>nan</td><td>nan</td><td>2458673.5</td><td>2458695.98</td><td>-22.48</td><td>ZTF19abehwhj_20190709_Lick_3-m_v1.ascii</td><td>2</td></tr>\n",
       "<tr><td>ZTF19abehwhj</td><td>LBV</td><td>nan</td><td>nan</td><td>2458683.5</td><td>2458695.98</td><td>-12.48</td><td>ZTF19abehwhj_20190719_P200_v1.ascii</td><td>2</td></tr>\n",
       "<tr><td>ZTF19abehwhj</td><td>LBV</td><td>nan</td><td>nan</td><td>2458733.5</td><td>2458695.98</td><td>37.52</td><td>ZTF19abehwhj_20190907_Keck2_v1.ascii</td><td>2</td></tr>\n",
       "<tr><td>ZTF19abdspop</td><td>NaN</td><td>0.03368</td><td>0.03368</td><td>2458679.5</td><td>2458678.69</td><td>0.81</td><td>ZTF19abdspop_20190715_P60_v1.ascii</td><td>2</td></tr>\n",
       "<tr><td>ZTF19abdspop</td><td>NaN</td><td>0.03368</td><td>0.03368</td><td>2458726.5</td><td>2458678.69</td><td>47.81</td><td>ZTF19abdspop_20190831_Keck1_v1.ascii</td><td>2</td></tr>\n",
       "<tr><td>ZTF19abfasex</td><td>NaN</td><td>0.04732</td><td>0.04732</td><td>2458677.5</td><td>2458673.69</td><td>3.81</td><td>ZTF19abfasex_20190713_P60_v1.ascii</td><td>2</td></tr>\n",
       "<tr><td>ZTF19abctzkc</td><td>II</td><td>0.01867</td><td>0.01867</td><td>2458726.5</td><td>2458665.95</td><td>60.55</td><td>ZTF19abctzkc_20190831_P200_v1.ascii</td><td>2</td></tr>\n",
       "</table>"
      ],
      "text/plain": [
       "<Table length=8139>\n",
       "  ZTF_Name   Class redshift ...                 Version                  col9\n",
       "   str12     str12 float64  ...                  str43                  int64\n",
       "------------ ----- -------- ... --------------------------------------- -----\n",
       "ZTF18abkjnqy    Ic    0.028 ...      ZTF18abkjnqy_20180806_P60_v1.ascii     1\n",
       "ZTF18abkjnqy    Ic    0.028 ...      ZTF18abkjnqy_20180806_P60_v2.ascii     1\n",
       "ZTF18abkjnqy    Ic    0.028 ...      ZTF18abkjnqy_20190530_P60_v1.ascii     1\n",
       "ZTF18abkjnqy    Ic    0.028 ...      ZTF18abkjnqy_20190530_P60_v2.ascii     1\n",
       "ZTF18ablhvfr    Ia    0.088 ...      ZTF18ablhvfr_20180826_P60_v1.ascii     1\n",
       "ZTF18ablqdru     -  0.02627 ...      ZTF18ablqdru_20180815_P60_v1.ascii     0\n",
       "ZTF18ablqdru     -  0.02627 ...     ZTF18ablqdru_20180821_P200_v1.ascii     0\n",
       "ZTF18ablqehq   IIn     0.03 ...     ZTF18ablqehq_20180821_P200_v1.ascii     1\n",
       "ZTF18ablqlzp    Ia    0.036 ...      ZTF18ablqlzp_20180807_P60_v1.ascii     1\n",
       "ZTF18ablqlzp    Ia    0.036 ...     ZTF18ablqlzp_20180812_P200_v1.ascii     1\n",
       "         ...   ...      ... ...                                     ...   ...\n",
       "ZTF19abcupbu    II   0.0448 ...      ZTF19abcupbu_20190711_P60_v1.ascii     2\n",
       "ZTF19aazpnlc    Ia  0.03309 ...      ZTF19aazpnlc_20190709_P60_v1.ascii     2\n",
       "ZTF19abdkgmf    II  0.04677 ...     ZTF19abdkgmf_20190809_P200_v1.ascii     2\n",
       "ZTF19abehwhj   LBV      nan ... ZTF19abehwhj_20190709_Lick_3-m_v1.ascii     2\n",
       "ZTF19abehwhj   LBV      nan ...     ZTF19abehwhj_20190719_P200_v1.ascii     2\n",
       "ZTF19abehwhj   LBV      nan ...    ZTF19abehwhj_20190907_Keck2_v1.ascii     2\n",
       "ZTF19abdspop   NaN  0.03368 ...      ZTF19abdspop_20190715_P60_v1.ascii     2\n",
       "ZTF19abdspop   NaN  0.03368 ...    ZTF19abdspop_20190831_Keck1_v1.ascii     2\n",
       "ZTF19abfasex   NaN  0.04732 ...      ZTF19abfasex_20190713_P60_v1.ascii     2\n",
       "ZTF19abctzkc    II  0.01867 ...     ZTF19abctzkc_20190831_P200_v1.ascii     2"
      ]
     },
     "execution_count": 4,
     "metadata": {},
     "output_type": "execute_result"
    }
   ],
   "source": [
    "sample[820:]"
   ]
  },
  {
   "cell_type": "code",
   "execution_count": 23,
   "metadata": {},
   "outputs": [
    {
     "name": "stdout",
     "output_type": "stream",
     "text": [
      "0 / 8959\n",
      "Running optimization for spectrum file: ZTF18aahqkbt_20180929_HST_v1_20A with resolution = 20 Ang\n",
      "Optimization started\n",
      "Failed. Retrying with resolution = 30 Ang\n",
      "Optimization started\n"
     ]
    },
    {
     "ename": "ValueError",
     "evalue": "If mode is 'interp', window_length must be less than or equal to the size of x.",
     "output_type": "error",
     "traceback": [
      "\u001b[0;31m---------------------------------------------------------------------------\u001b[0m",
      "\u001b[0;31mValueError\u001b[0m                                Traceback (most recent call last)",
      "\u001b[0;32m<ipython-input-23-4b5494b03a13>\u001b[0m in \u001b[0;36m<module>\u001b[0;34m\u001b[0m\n\u001b[1;32m    102\u001b[0m         \u001b[0;31m#Core superfit function on the binned file, default to plot and save n fits\u001b[0m\u001b[0;34m\u001b[0m\u001b[0;34m\u001b[0m\u001b[0;34m\u001b[0m\u001b[0m\n\u001b[0;32m--> 103\u001b[0;31m         all_parameter_space(redshift,extconstant,templates_sn_trunc,templates_gal_trunc, \n\u001b[0m\u001b[1;32m    104\u001b[0m         lam, resolution, n=n, plot=plotting, kind=kind, original=save_bin, save=save_results_path, show=show)\n",
      "\u001b[0;32m/mnt/c/Users/20xha/Documents/Caltech/Research/superfit/superfit/SF_functions.py\u001b[0m in \u001b[0;36mall_parameter_space\u001b[0;34m(redshift, extconstant, templates_sn_trunc, templates_gal_trunc, lam, resolution, n, plot, **kwargs)\u001b[0m\n\u001b[1;32m    709\u001b[0m     \u001b[0;32mfor\u001b[0m \u001b[0melement\u001b[0m \u001b[0;32min\u001b[0m \u001b[0mitertools\u001b[0m\u001b[0;34m.\u001b[0m\u001b[0mproduct\u001b[0m\u001b[0;34m(\u001b[0m\u001b[0mredshift\u001b[0m\u001b[0;34m,\u001b[0m\u001b[0mextconstant\u001b[0m\u001b[0;34m)\u001b[0m\u001b[0;34m:\u001b[0m\u001b[0;34m\u001b[0m\u001b[0;34m\u001b[0m\u001b[0m\n\u001b[0;32m--> 710\u001b[0;31m \u001b[0;34m\u001b[0m\u001b[0m\n\u001b[0m\u001b[1;32m    711\u001b[0m         \u001b[0ma\u001b[0m\u001b[0;34m,\u001b[0m \u001b[0m_\u001b[0m \u001b[0;34m=\u001b[0m \u001b[0mcore_total\u001b[0m\u001b[0;34m(\u001b[0m\u001b[0melement\u001b[0m\u001b[0;34m[\u001b[0m\u001b[0;36m0\u001b[0m\u001b[0;34m]\u001b[0m\u001b[0;34m,\u001b[0m\u001b[0melement\u001b[0m\u001b[0;34m[\u001b[0m\u001b[0;36m1\u001b[0m\u001b[0;34m]\u001b[0m\u001b[0;34m,\u001b[0m \u001b[0msn_spec_files\u001b[0m\u001b[0;34m,\u001b[0m \u001b[0mtemplates_gal_trunc\u001b[0m\u001b[0;34m,\u001b[0m \u001b[0mlam\u001b[0m\u001b[0;34m,\u001b[0m \u001b[0mresolution\u001b[0m\u001b[0;34m,\u001b[0m \u001b[0;34m**\u001b[0m\u001b[0mkwargs\u001b[0m\u001b[0;34m)\u001b[0m\u001b[0;34m\u001b[0m\u001b[0;34m\u001b[0m\u001b[0m\n",
      "\u001b[0;32m/mnt/c/Users/20xha/Documents/Caltech/Research/superfit/superfit/SF_functions.py\u001b[0m in \u001b[0;36mcore_total\u001b[0;34m(z, extcon, templates_sn_trunc, templates_gal_trunc, lam, resolution, **kwargs)\u001b[0m\n\u001b[1;32m    317\u001b[0m \u001b[0;34m\u001b[0m\u001b[0m\n\u001b[0;32m--> 318\u001b[0;31m     \u001b[0msigma\u001b[0m \u001b[0;34m=\u001b[0m \u001b[0merror_obj\u001b[0m\u001b[0;34m(\u001b[0m\u001b[0mkind\u001b[0m\u001b[0;34m,\u001b[0m \u001b[0mlam\u001b[0m\u001b[0;34m,\u001b[0m \u001b[0moriginal\u001b[0m\u001b[0;34m)\u001b[0m\u001b[0;34m\u001b[0m\u001b[0;34m\u001b[0m\u001b[0m\n\u001b[0m\u001b[1;32m    319\u001b[0m \u001b[0;34m\u001b[0m\u001b[0m\n",
      "\u001b[0;32m/mnt/c/Users/20xha/Documents/Caltech/Research/superfit/superfit/SF_functions.py\u001b[0m in \u001b[0;36merror_obj\u001b[0;34m(kind, lam, obj_path)\u001b[0m\n\u001b[1;32m    145\u001b[0m \u001b[0;34m\u001b[0m\u001b[0m\n\u001b[0;32m--> 146\u001b[0;31m         \u001b[0merror\u001b[0m             \u001b[0;34m=\u001b[0m  \u001b[0msavitzky_golay\u001b[0m\u001b[0;34m(\u001b[0m\u001b[0mobject_spec\u001b[0m\u001b[0;34m)\u001b[0m\u001b[0;34m\u001b[0m\u001b[0;34m\u001b[0m\u001b[0m\n\u001b[0m\u001b[1;32m    147\u001b[0m \u001b[0;34m\u001b[0m\u001b[0m\n",
      "\u001b[0;32m/mnt/c/Users/20xha/Documents/Caltech/Research/superfit/superfit/error_routines.py\u001b[0m in \u001b[0;36msavitzky_golay\u001b[0;34m(spec)\u001b[0m\n\u001b[1;32m    101\u001b[0m \u001b[0;34m\u001b[0m\u001b[0m\n\u001b[0;32m--> 102\u001b[0;31m     \u001b[0msmooth\u001b[0m \u001b[0;34m=\u001b[0m \u001b[0mmf\u001b[0m\u001b[0;34m.\u001b[0m\u001b[0msavgol_filter\u001b[0m\u001b[0;34m(\u001b[0m\u001b[0my\u001b[0m\u001b[0;34m,\u001b[0m \u001b[0;36m31\u001b[0m\u001b[0;34m,\u001b[0m \u001b[0;36m3\u001b[0m \u001b[0;34m)\u001b[0m\u001b[0;34m\u001b[0m\u001b[0;34m\u001b[0m\u001b[0m\n\u001b[0m\u001b[1;32m    103\u001b[0m     \u001b[0mresid\u001b[0m \u001b[0;34m=\u001b[0m \u001b[0my\u001b[0m \u001b[0;34m-\u001b[0m \u001b[0msmooth\u001b[0m\u001b[0;34m\u001b[0m\u001b[0;34m\u001b[0m\u001b[0m\n",
      "\u001b[0;32m~/anaconda3/lib/python3.8/site-packages/scipy/signal/_savitzky_golay.py\u001b[0m in \u001b[0;36msavgol_filter\u001b[0;34m(x, window_length, polyorder, deriv, delta, axis, mode, cval)\u001b[0m\n\u001b[1;32m    338\u001b[0m         \u001b[0;32mif\u001b[0m \u001b[0mwindow_length\u001b[0m \u001b[0;34m>\u001b[0m \u001b[0mx\u001b[0m\u001b[0;34m.\u001b[0m\u001b[0msize\u001b[0m\u001b[0;34m:\u001b[0m\u001b[0;34m\u001b[0m\u001b[0;34m\u001b[0m\u001b[0m\n\u001b[0;32m--> 339\u001b[0;31m             raise ValueError(\"If mode is 'interp', window_length must be less \"\n\u001b[0m\u001b[1;32m    340\u001b[0m                              \"than or equal to the size of x.\")\n",
      "\u001b[0;31mValueError\u001b[0m: If mode is 'interp', window_length must be less than or equal to the size of x.",
      "\nDuring handling of the above exception, another exception occurred:\n",
      "\u001b[0;31mValueError\u001b[0m                                Traceback (most recent call last)",
      "\u001b[0;32m<ipython-input-23-4b5494b03a13>\u001b[0m in \u001b[0;36m<module>\u001b[0;34m\u001b[0m\n\u001b[1;32m    115\u001b[0m         \u001b[0mkill_header_and_bin\u001b[0m\u001b[0;34m(\u001b[0m\u001b[0moriginal\u001b[0m\u001b[0;34m,\u001b[0m\u001b[0mresolution\u001b[0m\u001b[0;34m,\u001b[0m \u001b[0msave_bin\u001b[0m \u001b[0;34m=\u001b[0m \u001b[0msave_bin\u001b[0m\u001b[0;34m)\u001b[0m\u001b[0;34m\u001b[0m\u001b[0;34m\u001b[0m\u001b[0m\n\u001b[1;32m    116\u001b[0m         \u001b[0;31m#Core superfit function on the binned file, default to plot and save n fits\u001b[0m\u001b[0;34m\u001b[0m\u001b[0;34m\u001b[0m\u001b[0;34m\u001b[0m\u001b[0m\n\u001b[0;32m--> 117\u001b[0;31m         all_parameter_space(redshift,extconstant,templates_sn_trunc,templates_gal_trunc, \n\u001b[0m\u001b[1;32m    118\u001b[0m         lam, resolution, n=n, plot=plotting, kind=kind, original=save_bin, save=save_results_path, show=show)\n",
      "\u001b[0;32m/mnt/c/Users/20xha/Documents/Caltech/Research/superfit/superfit/SF_functions.py\u001b[0m in \u001b[0;36mall_parameter_space\u001b[0;34m(redshift, extconstant, templates_sn_trunc, templates_gal_trunc, lam, resolution, n, plot, **kwargs)\u001b[0m\n\u001b[1;32m    708\u001b[0m \u001b[0;34m\u001b[0m\u001b[0m\n\u001b[1;32m    709\u001b[0m     \u001b[0;32mfor\u001b[0m \u001b[0melement\u001b[0m \u001b[0;32min\u001b[0m \u001b[0mitertools\u001b[0m\u001b[0;34m.\u001b[0m\u001b[0mproduct\u001b[0m\u001b[0;34m(\u001b[0m\u001b[0mredshift\u001b[0m\u001b[0;34m,\u001b[0m\u001b[0mextconstant\u001b[0m\u001b[0;34m)\u001b[0m\u001b[0;34m:\u001b[0m\u001b[0;34m\u001b[0m\u001b[0;34m\u001b[0m\u001b[0m\n\u001b[0;32m--> 710\u001b[0;31m \u001b[0;34m\u001b[0m\u001b[0m\n\u001b[0m\u001b[1;32m    711\u001b[0m         \u001b[0ma\u001b[0m\u001b[0;34m,\u001b[0m \u001b[0m_\u001b[0m \u001b[0;34m=\u001b[0m \u001b[0mcore_total\u001b[0m\u001b[0;34m(\u001b[0m\u001b[0melement\u001b[0m\u001b[0;34m[\u001b[0m\u001b[0;36m0\u001b[0m\u001b[0;34m]\u001b[0m\u001b[0;34m,\u001b[0m\u001b[0melement\u001b[0m\u001b[0;34m[\u001b[0m\u001b[0;36m1\u001b[0m\u001b[0;34m]\u001b[0m\u001b[0;34m,\u001b[0m \u001b[0msn_spec_files\u001b[0m\u001b[0;34m,\u001b[0m \u001b[0mtemplates_gal_trunc\u001b[0m\u001b[0;34m,\u001b[0m \u001b[0mlam\u001b[0m\u001b[0;34m,\u001b[0m \u001b[0mresolution\u001b[0m\u001b[0;34m,\u001b[0m \u001b[0;34m**\u001b[0m\u001b[0mkwargs\u001b[0m\u001b[0;34m)\u001b[0m\u001b[0;34m\u001b[0m\u001b[0;34m\u001b[0m\u001b[0m\n\u001b[1;32m    712\u001b[0m \u001b[0;34m\u001b[0m\u001b[0m\n",
      "\u001b[0;32m/mnt/c/Users/20xha/Documents/Caltech/Research/superfit/superfit/SF_functions.py\u001b[0m in \u001b[0;36mcore_total\u001b[0;34m(z, extcon, templates_sn_trunc, templates_gal_trunc, lam, resolution, **kwargs)\u001b[0m\n\u001b[1;32m    316\u001b[0m     \u001b[0mname\u001b[0m    \u001b[0;34m=\u001b[0m \u001b[0mobj_name_int\u001b[0m\u001b[0;34m(\u001b[0m\u001b[0moriginal\u001b[0m\u001b[0;34m,\u001b[0m \u001b[0mlam\u001b[0m\u001b[0;34m,\u001b[0m \u001b[0mresolution\u001b[0m\u001b[0;34m)\u001b[0m\u001b[0;34m[\u001b[0m\u001b[0;36m0\u001b[0m\u001b[0;34m]\u001b[0m\u001b[0;34m\u001b[0m\u001b[0;34m\u001b[0m\u001b[0m\n\u001b[1;32m    317\u001b[0m \u001b[0;34m\u001b[0m\u001b[0m\n\u001b[0;32m--> 318\u001b[0;31m     \u001b[0msigma\u001b[0m \u001b[0;34m=\u001b[0m \u001b[0merror_obj\u001b[0m\u001b[0;34m(\u001b[0m\u001b[0mkind\u001b[0m\u001b[0;34m,\u001b[0m \u001b[0mlam\u001b[0m\u001b[0;34m,\u001b[0m \u001b[0moriginal\u001b[0m\u001b[0;34m)\u001b[0m\u001b[0;34m\u001b[0m\u001b[0;34m\u001b[0m\u001b[0m\n\u001b[0m\u001b[1;32m    319\u001b[0m \u001b[0;34m\u001b[0m\u001b[0m\n\u001b[1;32m    320\u001b[0m     \u001b[0msn\u001b[0m\u001b[0;34m,\u001b[0m \u001b[0mgal\u001b[0m \u001b[0;34m=\u001b[0m \u001b[0msn_hg_arrays\u001b[0m\u001b[0;34m(\u001b[0m\u001b[0mz\u001b[0m\u001b[0;34m,\u001b[0m \u001b[0mextcon\u001b[0m\u001b[0;34m,\u001b[0m \u001b[0mlam\u001b[0m\u001b[0;34m,\u001b[0m \u001b[0mtemplates_sn_trunc\u001b[0m\u001b[0;34m,\u001b[0m \u001b[0mtemplates_gal_trunc\u001b[0m\u001b[0;34m)\u001b[0m\u001b[0;34m\u001b[0m\u001b[0;34m\u001b[0m\u001b[0m\n",
      "\u001b[0;32m/mnt/c/Users/20xha/Documents/Caltech/Research/superfit/superfit/SF_functions.py\u001b[0m in \u001b[0;36merror_obj\u001b[0;34m(kind, lam, obj_path)\u001b[0m\n\u001b[1;32m    144\u001b[0m     \u001b[0;32mif\u001b[0m \u001b[0mkind\u001b[0m \u001b[0;34m==\u001b[0m \u001b[0;34m'SG'\u001b[0m\u001b[0;34m:\u001b[0m\u001b[0;34m\u001b[0m\u001b[0;34m\u001b[0m\u001b[0m\n\u001b[1;32m    145\u001b[0m \u001b[0;34m\u001b[0m\u001b[0m\n\u001b[0;32m--> 146\u001b[0;31m         \u001b[0merror\u001b[0m             \u001b[0;34m=\u001b[0m  \u001b[0msavitzky_golay\u001b[0m\u001b[0;34m(\u001b[0m\u001b[0mobject_spec\u001b[0m\u001b[0;34m)\u001b[0m\u001b[0;34m\u001b[0m\u001b[0;34m\u001b[0m\u001b[0m\n\u001b[0m\u001b[1;32m    147\u001b[0m \u001b[0;34m\u001b[0m\u001b[0m\n\u001b[1;32m    148\u001b[0m         \u001b[0mobject_err_interp\u001b[0m \u001b[0;34m=\u001b[0m  \u001b[0minterpolate\u001b[0m\u001b[0;34m.\u001b[0m\u001b[0minterp1d\u001b[0m\u001b[0;34m(\u001b[0m\u001b[0merror\u001b[0m\u001b[0;34m[\u001b[0m\u001b[0;34m:\u001b[0m\u001b[0;34m,\u001b[0m\u001b[0;36m0\u001b[0m\u001b[0;34m]\u001b[0m\u001b[0;34m,\u001b[0m  \u001b[0merror\u001b[0m\u001b[0;34m[\u001b[0m\u001b[0;34m:\u001b[0m\u001b[0;34m,\u001b[0m\u001b[0;36m1\u001b[0m\u001b[0;34m]\u001b[0m\u001b[0;34m,\u001b[0m  \u001b[0mbounds_error\u001b[0m\u001b[0;34m=\u001b[0m\u001b[0;32mFalse\u001b[0m\u001b[0;34m,\u001b[0m \u001b[0mfill_value\u001b[0m\u001b[0;34m=\u001b[0m\u001b[0;34m'nan'\u001b[0m\u001b[0;34m)\u001b[0m\u001b[0;34m\u001b[0m\u001b[0;34m\u001b[0m\u001b[0m\n",
      "\u001b[0;32m/mnt/c/Users/20xha/Documents/Caltech/Research/superfit/superfit/error_routines.py\u001b[0m in \u001b[0;36msavitzky_golay\u001b[0;34m(spec)\u001b[0m\n\u001b[1;32m    100\u001b[0m \u001b[0;34m\u001b[0m\u001b[0m\n\u001b[1;32m    101\u001b[0m \u001b[0;34m\u001b[0m\u001b[0m\n\u001b[0;32m--> 102\u001b[0;31m     \u001b[0msmooth\u001b[0m \u001b[0;34m=\u001b[0m \u001b[0mmf\u001b[0m\u001b[0;34m.\u001b[0m\u001b[0msavgol_filter\u001b[0m\u001b[0;34m(\u001b[0m\u001b[0my\u001b[0m\u001b[0;34m,\u001b[0m \u001b[0;36m31\u001b[0m\u001b[0;34m,\u001b[0m \u001b[0;36m3\u001b[0m \u001b[0;34m)\u001b[0m\u001b[0;34m\u001b[0m\u001b[0;34m\u001b[0m\u001b[0m\n\u001b[0m\u001b[1;32m    103\u001b[0m     \u001b[0mresid\u001b[0m \u001b[0;34m=\u001b[0m \u001b[0my\u001b[0m \u001b[0;34m-\u001b[0m \u001b[0msmooth\u001b[0m\u001b[0;34m\u001b[0m\u001b[0;34m\u001b[0m\u001b[0m\n\u001b[1;32m    104\u001b[0m \u001b[0;34m\u001b[0m\u001b[0m\n",
      "\u001b[0;32m~/anaconda3/lib/python3.8/site-packages/scipy/signal/_savitzky_golay.py\u001b[0m in \u001b[0;36msavgol_filter\u001b[0;34m(x, window_length, polyorder, deriv, delta, axis, mode, cval)\u001b[0m\n\u001b[1;32m    337\u001b[0m     \u001b[0;32mif\u001b[0m \u001b[0mmode\u001b[0m \u001b[0;34m==\u001b[0m \u001b[0;34m\"interp\"\u001b[0m\u001b[0;34m:\u001b[0m\u001b[0;34m\u001b[0m\u001b[0;34m\u001b[0m\u001b[0m\n\u001b[1;32m    338\u001b[0m         \u001b[0;32mif\u001b[0m \u001b[0mwindow_length\u001b[0m \u001b[0;34m>\u001b[0m \u001b[0mx\u001b[0m\u001b[0;34m.\u001b[0m\u001b[0msize\u001b[0m\u001b[0;34m:\u001b[0m\u001b[0;34m\u001b[0m\u001b[0;34m\u001b[0m\u001b[0m\n\u001b[0;32m--> 339\u001b[0;31m             raise ValueError(\"If mode is 'interp', window_length must be less \"\n\u001b[0m\u001b[1;32m    340\u001b[0m                              \"than or equal to the size of x.\")\n\u001b[1;32m    341\u001b[0m \u001b[0;34m\u001b[0m\u001b[0m\n",
      "\u001b[0;31mValueError\u001b[0m: If mode is 'interp', window_length must be less than or equal to the size of x."
     ]
    }
   ],
   "source": [
    "counter = 0\n",
    "row = sample[83]\n",
    "with open(\"parameters.json\", \"r\") as read_file:\n",
    "    data = json.load(read_file)\n",
    "\n",
    "\n",
    "# Choose saving paths for binned data and results \n",
    "\n",
    "path = data['path']\n",
    "sys.path.insert(1,path)\n",
    "save_bin_path     = path + \"bin/\"\n",
    "save_results_path = path + \"results/\"\n",
    "\n",
    "\n",
    "\n",
    "\n",
    "# Path where original bank is located for metadata\n",
    "\n",
    "original_bank_path = path + 'bank/original_resolution/sne/'\n",
    "\n",
    "#--------------------------------------------------------------------------------------------------\n",
    "\n",
    "# Select a range and number of steps for z\n",
    "\n",
    "z_start  = data['z_start'] \n",
    "z_end    = data['z_end']\n",
    "z_num    = data['z_num']\n",
    "\n",
    "\n",
    "\n",
    "redshift      =    np.linspace(z_start, z_end,z_num)\n",
    "\n",
    "\n",
    "\n",
    "# Number of steps for A_v (do not change)\n",
    "\n",
    "alam_num = 21\n",
    "extconstant   =    np.linspace(-2,2,alam_num)\n",
    "\n",
    "\n",
    "\n",
    "# What part of the library do you want to look at?  \n",
    "\n",
    "temp_gal_tr = data['temp_gal_tr']\n",
    "temp_sn_tr  = data['temp_sn_tr']\n",
    "\n",
    "\n",
    "# Select a wavelength range and resolution\n",
    "resolution = 20\n",
    "upper      = data['upper']\n",
    "lower      = data['lower']\n",
    "interval   = int((upper - lower)/resolution)\n",
    "lam        =     np.linspace(lower, upper, interval)\n",
    "# Kind of error spectrum ('SG', 'linear' or 'included')\n",
    "kind = data['kind']\n",
    "# To show plot? \n",
    "show = data['show']   \n",
    "# How many top results to plot? \n",
    "n = data['n']\n",
    "\n",
    "if (counter % 250 == 0):\n",
    "    print(\"{} / {}\".format(counter, len(sample)))\n",
    "counter += 1\n",
    "\n",
    "filename = row[\"Version\"]\n",
    "original = objects_path + filename\n",
    "if(original in objects_list):\n",
    "    n = 3\n",
    "    upper      = data['upper']\n",
    "    lower      = data['lower']\n",
    "\n",
    "    maxmin_lambda = Table.read(original, format = \"ascii\")[\"col1\"]\n",
    "    min_lambda = min(maxmin_lambda)\n",
    "    max_lambda = max(maxmin_lambda)\n",
    "\n",
    "    if(upper < max_lambda):\n",
    "        upper = max_lambda + 100\n",
    "    if(lower > min_lambda):\n",
    "        lower = min_lambda - 100\n",
    "\n",
    "    interval   = int((upper - lower)/resolution)\n",
    "    lam        =     np.linspace(lower, upper, interval)\n",
    "\n",
    "    redshift_0 = redshifts_all.iloc[np.where(redshifts_all[\"ZTFID\"] == row[\"ZTF_Name\"])[0]][\"redshift\"].values[0]\n",
    "    redshift_1 = row[\"redshift\"]\n",
    "    if(redshift_0 != '-'):\n",
    "        redshift_0 = float(redshift_0)\n",
    "        redshift = np.linspace(redshift_0 - 0.05 * redshift_0, redshift_0 + 0.05 * redshift_0, 3)\n",
    "    elif(not(np.isnan(redshift_1))):\n",
    "        redshift = np.linspace(redshift_1 - 0.05 * redshift_1, redshift_1 + 0.05 * redshift_1, 3)\n",
    "    else:\n",
    "        redshift = np.linspace(0, 0.2, 21)\n",
    "\n",
    "    try:\n",
    "        resolution=20\n",
    "        binned_name= obj_name_int(original, lam, resolution)[3]\n",
    "        print('Running optimization for spectrum file: {0} with resolution = {1} Ang'.format(binned_name,resolution))\n",
    "        #Obtaining the binned file name (obj to be analyzed)\n",
    "        save_bin = save_bin_path + binned_name\n",
    "        #Calling the original file, getting rid of the header and binning it (default set to 20A)\n",
    "        kill_header_and_bin(original,resolution, save_bin = save_bin)\n",
    "        #Core superfit function on the binned file, default to plot and save n fits\n",
    "        all_parameter_space(redshift,extconstant,templates_sn_trunc,templates_gal_trunc, \n",
    "        lam, resolution, n=n, plot=plotting, kind=kind, original=save_bin, save=save_results_path, show=show)\n",
    "    except:\n",
    "        resolution=30\n",
    "        print('Failed. Retrying with resolution = {0} Ang'.format(resolution))\n",
    "\n",
    "        #Obtaining the binned file name (obj to be analyzed)\n",
    "        try:\n",
    "            save_bin = save_bin_path + binned_name\n",
    "        except: \n",
    "            import ipdb; ipdb.set_trace()\n",
    "        #Calling the original file, getting rid of the header and binning it (default set to 20A)\n",
    "        kill_header_and_bin(original,resolution, save_bin = save_bin)\n",
    "        #Core superfit function on the binned file, default to plot and save n fits\n",
    "        all_parameter_space(redshift,extconstant,templates_sn_trunc,templates_gal_trunc, \n",
    "        lam, resolution, n=n, plot=plotting, kind=kind, original=save_bin, save=save_results_path, show=show)"
   ]
  },
  {
   "cell_type": "code",
   "execution_count": 3,
   "metadata": {},
   "outputs": [
    {
     "data": {
      "text/html": [
       "<i>Row index=1</i>\n",
       "<table id=\"table140244718812800\">\n",
       "<thead><tr><th>ZTF_Name</th><th>Class</th><th>redshift</th><th>col4</th><th>col5</th><th>col6</th><th>col7</th><th>Version</th><th>col9</th></tr></thead>\n",
       "<thead><tr><th>str12</th><th>str12</th><th>float64</th><th>float64</th><th>float64</th><th>float64</th><th>float64</th><th>str43</th><th>int64</th></tr></thead>\n",
       "<tr><td>ZTF18aabtxvd</td><td>TDE</td><td>0.071</td><td>nan</td><td>2458184.5</td><td>2458223.62</td><td>-39.12</td><td>ZTF18aabtxvd_20180307_P60_v1.ascii</td><td>0</td></tr>\n",
       "</table>"
      ],
      "text/plain": [
       "<Row index=1>\n",
       "  ZTF_Name   Class redshift   col4     col5      col6      col7               Version                col9\n",
       "   str12     str12 float64  float64  float64   float64   float64               str43                int64\n",
       "------------ ----- -------- ------- --------- ---------- ------- ---------------------------------- -----\n",
       "ZTF18aabtxvd   TDE    0.071     nan 2458184.5 2458223.62  -39.12 ZTF18aabtxvd_20180307_P60_v1.ascii     0"
      ]
     },
     "execution_count": 3,
     "metadata": {},
     "output_type": "execute_result"
    }
   ],
   "source": [
    "sample[1]"
   ]
  },
  {
   "cell_type": "code",
   "execution_count": 26,
   "metadata": {},
   "outputs": [
    {
     "name": "stdout",
     "output_type": "stream",
     "text": [
      "An error has occured when trying to optimize for spectrum file ZTF18aahqkbt_20180929_HST_v1_20A. Inspect input spectrum and parameters. Stopping at 0\n"
     ]
    }
   ],
   "source": [
    "print('An error has occured when trying to optimize for spectrum file {}. Inspect input spectrum and parameters. Stopping at {}'.format(binned_name, counter - 1))"
   ]
  },
  {
   "cell_type": "code",
   "execution_count": null,
   "metadata": {},
   "outputs": [],
   "source": []
  }
 ],
 "metadata": {
  "kernelspec": {
   "display_name": "Python 3",
   "language": "python",
   "name": "python3"
  },
  "language_info": {
   "codemirror_mode": {
    "name": "ipython",
    "version": 3
   },
   "file_extension": ".py",
   "mimetype": "text/x-python",
   "name": "python",
   "nbconvert_exporter": "python",
   "pygments_lexer": "ipython3",
   "version": "3.8.5"
  }
 },
 "nbformat": 4,
 "nbformat_minor": 4
}
