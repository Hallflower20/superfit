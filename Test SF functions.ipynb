{
 "cells": [
  {
   "cell_type": "code",
   "execution_count": 5,
   "metadata": {
    "scrolled": false
   },
   "outputs": [
    {
     "name": "stderr",
     "output_type": "stream",
     "text": [
      "/anaconda3/lib/python3.7/site-packages/scipy/signal/_arraytools.py:45: FutureWarning: Using a non-tuple sequence for multidimensional indexing is deprecated; use `arr[tuple(seq)]` instead of `arr[seq]`. In the future this will be interpreted as an array index, `arr[np.array(seq)]`, which will result either in an error or a different result.\n",
      "  b = a[a_slice]\n"
     ]
    }
   ],
   "source": [
    "from SF_functions import * \n",
    "from Header_Binnings import * \n",
    "import time \n"
   ]
  },
  {
   "cell_type": "code",
   "execution_count": 2,
   "metadata": {},
   "outputs": [],
   "source": [
    "original    = \"/Users/user/Dropbox/superfit/Superfit_tests/Test_PTF/13bvn/13bvn_20130619_FTN_v1.txt\"\n",
    "no_head      = \"/Users/user/Dropbox/superfit/Superfit_tests/Test_PTF/12gzk/14flu_20141119_Keck1_v1_nohead.txt\"\n",
    "resolution   = 20\n",
    "save_binned  = \"/Users/user/Dropbox/superfit/Superfit_tests/Test_PTF/13bvn/13bvn_20130619_FTN_v1_binned.txt\"\n"
   ]
  },
  {
   "cell_type": "code",
   "execution_count": 9,
   "metadata": {},
   "outputs": [],
   "source": [
    "%%capture\n",
    "kill_header(original,no_head)"
   ]
  },
  {
   "cell_type": "code",
   "execution_count": 3,
   "metadata": {},
   "outputs": [
    {
     "name": "stderr",
     "output_type": "stream",
     "text": [
      "/anaconda3/lib/python3.7/site-packages/scipy/stats/_binned_statistic.py:607: FutureWarning: Using a non-tuple sequence for multidimensional indexing is deprecated; use `arr[tuple(seq)]` instead of `arr[seq]`. In the future this will be interpreted as an array index, `arr[np.array(seq)]`, which will result either in an error or a different result.\n",
      "  result = result[core]\n"
     ]
    },
    {
     "data": {
      "text/html": [
       "<i>Table length=350</i>\n",
       "<table id=\"table4390409384\" class=\"table-striped table-bordered table-condensed\">\n",
       "<thead><tr><th>lam_bin</th><th>bin_flux</th></tr></thead>\n",
       "<thead><tr><th>float64</th><th>float64</th></tr></thead>\n",
       "<tr><td>3210.0000001084286</td><td>0.6661623607066679</td></tr>\n",
       "<tr><td>3230.000000325286</td><td>0.27827437210729583</td></tr>\n",
       "<tr><td>3250.000000542143</td><td>-1.3778451726766339</td></tr>\n",
       "<tr><td>3270.000000759</td><td>-0.9110886247414662</td></tr>\n",
       "<tr><td>3290.0000009758573</td><td>0.22835698158435674</td></tr>\n",
       "<tr><td>3310.000001192714</td><td>1.7327001192188536</td></tr>\n",
       "<tr><td>3330.0000014095713</td><td>-0.14479987933641966</td></tr>\n",
       "<tr><td>3350.0000016264285</td><td>-0.7457910774830085</td></tr>\n",
       "<tr><td>3370.0000018432856</td><td>0.8156719337552322</td></tr>\n",
       "<tr><td>3390.000002060143</td><td>0.44635353851150383</td></tr>\n",
       "<tr><td>...</td><td>...</td></tr>\n",
       "<tr><td>10010.000073839858</td><td>0.09493126278944379</td></tr>\n",
       "<tr><td>10030.000074056714</td><td>0.36556672875139207</td></tr>\n",
       "<tr><td>10050.000074273572</td><td>-0.0884795753196747</td></tr>\n",
       "<tr><td>10070.000074490428</td><td>0.21181185496561264</td></tr>\n",
       "<tr><td>10090.000074707286</td><td>0.34458236127300085</td></tr>\n",
       "<tr><td>10110.000074924143</td><td>0.16967587843722173</td></tr>\n",
       "<tr><td>10130.000075140999</td><td>0.0433546324586187</td></tr>\n",
       "<tr><td>10150.000075357857</td><td>-0.1781528416908851</td></tr>\n",
       "<tr><td>10170.000075574713</td><td>0.707534712450251</td></tr>\n",
       "<tr><td>10190.000075791571</td><td>0.20478505066078917</td></tr>\n",
       "</table>"
      ],
      "text/plain": [
       "<Table length=350>\n",
       "     lam_bin             bin_flux      \n",
       "     float64             float64       \n",
       "------------------ --------------------\n",
       "3210.0000001084286   0.6661623607066679\n",
       " 3230.000000325286  0.27827437210729583\n",
       " 3250.000000542143  -1.3778451726766339\n",
       "    3270.000000759  -0.9110886247414662\n",
       "3290.0000009758573  0.22835698158435674\n",
       " 3310.000001192714   1.7327001192188536\n",
       "3330.0000014095713 -0.14479987933641966\n",
       "3350.0000016264285  -0.7457910774830085\n",
       "3370.0000018432856   0.8156719337552322\n",
       " 3390.000002060143  0.44635353851150383\n",
       "               ...                  ...\n",
       "10010.000073839858  0.09493126278944379\n",
       "10030.000074056714  0.36556672875139207\n",
       "10050.000074273572  -0.0884795753196747\n",
       "10070.000074490428  0.21181185496561264\n",
       "10090.000074707286  0.34458236127300085\n",
       "10110.000074924143  0.16967587843722173\n",
       "10130.000075140999   0.0433546324586187\n",
       "10150.000075357857  -0.1781528416908851\n",
       "10170.000075574713    0.707534712450251\n",
       "10190.000075791571  0.20478505066078917"
      ]
     },
     "execution_count": 3,
     "metadata": {},
     "output_type": "execute_result"
    }
   ],
   "source": [
    "bin_spectrum(original, resolution, save_binned)"
   ]
  },
  {
   "cell_type": "code",
   "execution_count": null,
   "metadata": {},
   "outputs": [],
   "source": []
  },
  {
   "cell_type": "code",
   "execution_count": 6,
   "metadata": {},
   "outputs": [],
   "source": [
    "number = 21\n",
    "\n",
    "redshift      =    np.linspace(0,0.1,number)\n",
    "\n",
    "extconstant  =    np.linspace(-2,2,number)\n",
    "          "
   ]
  },
  {
   "cell_type": "code",
   "execution_count": null,
   "metadata": {},
   "outputs": [],
   "source": []
  },
  {
   "cell_type": "code",
   "execution_count": 7,
   "metadata": {},
   "outputs": [],
   "source": [
    "begin = time.time()"
   ]
  },
  {
   "cell_type": "code",
   "execution_count": null,
   "metadata": {
    "scrolled": false
   },
   "outputs": [],
   "source": [
    "enter_z(redshift)"
   ]
  },
  {
   "cell_type": "code",
   "execution_count": null,
   "metadata": {},
   "outputs": [],
   "source": [
    "end = time.time()"
   ]
  },
  {
   "cell_type": "code",
   "execution_count": null,
   "metadata": {},
   "outputs": [],
   "source": [
    "print('This took', end - begin, 'seconds')"
   ]
  },
  {
   "cell_type": "code",
   "execution_count": null,
   "metadata": {},
   "outputs": [],
   "source": []
  },
  {
   "cell_type": "code",
   "execution_count": null,
   "metadata": {},
   "outputs": [],
   "source": [
    "#all_parameter_space(redshift,extconstant)"
   ]
  },
  {
   "cell_type": "code",
   "execution_count": null,
   "metadata": {},
   "outputs": [],
   "source": []
  },
  {
   "cell_type": "code",
   "execution_count": null,
   "metadata": {},
   "outputs": [],
   "source": []
  }
 ],
 "metadata": {
  "kernelspec": {
   "display_name": "Python 3",
   "language": "python",
   "name": "python3"
  }
 },
 "nbformat": 4,
 "nbformat_minor": 2
}
