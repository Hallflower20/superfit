{
 "cells": [
  {
   "cell_type": "code",
   "execution_count": 72,
   "metadata": {},
   "outputs": [
    {
     "name": "stdout",
     "output_type": "stream",
     "text": [
      "147.0\n"
     ]
    },
    {
     "name": "stderr",
     "output_type": "stream",
     "text": [
      "/anaconda3/lib/python3.7/site-packages/ipykernel_launcher.py:52: DeprecationWarning: object of type <class 'numpy.float64'> cannot be safely interpreted as an integer.\n"
     ]
    }
   ],
   "source": [
    "import numpy as np\n",
    "import pandas as pd \n",
    "\n",
    "\n",
    "#Routine for binning \n",
    "\n",
    "#bins = numpy.linspace(0, 1, 10)\n",
    "#digitized = numpy.digitize(data, bins)\n",
    "#bin_means = [data[digitized == i].mean() for i in range(1, len(bins))]\n",
    "\n",
    "\n",
    "#Reading files\n",
    "\n",
    "\n",
    "SN = np.loadtxt(\"sne/Ia/sn1981b.max.dat\")\n",
    "\n",
    "\n",
    "lams = SN[:,0]\n",
    "fluxs = SN[:,1]\n",
    "\n",
    "GT = np.loadtxt(\"gal/pegase/spec_E.dat\")\n",
    "lamgt = GT[:,0]\n",
    "fluxgt = GT[:,1]\n",
    "\n",
    "\n",
    "\n",
    "#Combining spectra\n",
    "\n",
    "#lam = lams + lamgt\n",
    "#flux= fluxs + fluxgt\n",
    "\n",
    "#lam=str(lam)\n",
    "#flux=str(flux)\n",
    "\n",
    "#new_spectrum=[lam,flux]\n",
    "\n",
    "\n",
    "#new_spectrum=str(new_spectrum)\n",
    "#f= open(\"try.dat\",\"w+\")\n",
    "#f.write(\"new_spectrum\")\n",
    "\n",
    "\n",
    "#How many spaces do I need \n",
    "num_spaces = np.floor((len(lams)-0)/20)\n",
    "\n",
    "#Make bins \n",
    "#binsL = np.linspace(0, len(lams), num_spaces)\n",
    "#digitizedL = np.digitize(lams, bins)\n",
    "#bin_means_LS = [lams[digitized == i].mean() for i in range(1, len(bins))]\n",
    "\n",
    "\n",
    "bins = np.linspace(lams[0], lams[-1], num_spaces)\n",
    "#digitized = np.digitize(fluxs, bins)\n",
    "#bin_means = [lams[digitized == i].mean() for i in range(1, len(bins))]\n",
    "\n",
    "binned = pd.cut(lams, bins)\n",
    "\n",
    "\n",
    "\n",
    "print(num_spaces)\n",
    "\n",
    "\n",
    "#Zipping it up \n",
    "#zip(lam, flux)\n",
    "\n",
    "#Make into file\n",
    "#import csv\n",
    "#with open('text.dat', 'w') as f:\n",
    "#    writer = csv.writer(f, delimiter='\\t')\n",
    "    \n",
    "#    writer.writerows(zip(lam,flux))"
   ]
  },
  {
   "cell_type": "code",
   "execution_count": 99,
   "metadata": {},
   "outputs": [
    {
     "name": "stdout",
     "output_type": "stream",
     "text": [
      "0.0272829532623291\n"
     ]
    }
   ],
   "source": [
    "import numpy as np \n",
    "import time\n",
    "\n",
    "\n",
    "start = time.time()\n",
    "\n",
    "SN = np.loadtxt(\"sne/Ia/sn1981b.max.dat\")\n",
    "lams = SN[:,0]\n",
    "fluxs = SN[:,1]\n",
    "#In angstroms\n",
    "resolution = 20\n",
    "\n",
    "\n",
    "def bin_spectra(spectrum, resolution):\n",
    "    \n",
    "    number_of_bins = math.floor((lams[-1]-lams[0]) / resolution ) \n",
    "    stat, bin_edge, inde = scipy.stats.binned_statistic(lams, fluxs, statistic='mean', bins = number_of_bins)\n",
    "\n",
    "#takes the mean of the edges of the bin in order to plot the binned spectrum\n",
    "    bin_wavelength = [ (bin_edge[i]+ bin_edge[i+1])/2 for i in range(len(bin_edge)-1) ]\n",
    "\n",
    "    \n",
    "    #bin_spectra = Table()\n",
    "\n",
    "    #bin_spectra['bin_wl'] = bin_wavelength\n",
    "\n",
    "    #bin_spectra['bin_unred_flux'] = stat\n",
    "\n",
    "    print('the spectra is binned for a resolution of', resolution)\n",
    "    return bin_spectra\n",
    "\n",
    "\n",
    "end = time.time()\n",
    "print(end - start)\n"
   ]
  },
  {
   "cell_type": "code",
   "execution_count": 100,
   "metadata": {},
   "outputs": [
    {
     "name": "stdout",
     "output_type": "stream",
     "text": [
      "6.604194641113281e-05\n"
     ]
    }
   ],
   "source": [
    "import time\n",
    "start = time.time()\n",
    "\"the code you want to test stays here\"\n",
    "end = time.time()\n",
    "print(end - start)"
   ]
  },
  {
   "cell_type": "code",
   "execution_count": null,
   "metadata": {},
   "outputs": [],
   "source": []
  }
 ],
 "metadata": {
  "kernelspec": {
   "display_name": "Python 3",
   "language": "python",
   "name": "python3"
  },
  "language_info": {
   "codemirror_mode": {
    "name": "ipython",
    "version": 3
   },
   "file_extension": ".py",
   "mimetype": "text/x-python",
   "name": "python",
   "nbconvert_exporter": "python",
   "pygments_lexer": "ipython3",
   "version": "3.7.1"
  }
 },
 "nbformat": 4,
 "nbformat_minor": 2
}
