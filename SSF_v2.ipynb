{
 "cells": [
  {
   "cell_type": "code",
   "execution_count": 1,
   "metadata": {},
   "outputs": [],
   "source": [
    "import glob\n",
    "from astropy import table\n",
    "from astropy.io import ascii\n",
    "import numpy as np\n",
    "import matplotlib.pyplot as plt\n",
    "import\tmultiprocessing as mp\n",
    "#from plotsettings_py36 import *\n",
    "from scipy import interpolate\n",
    "import scipy\n",
    "import scipy.optimize\n",
    "from scipy.optimize import curve_fit\n",
    "import time\n",
    "import pandas as pd \n",
    "from scipy import stats\n",
    "import matplotlib.pyplot as plt\n",
    "from scipy.interpolate import interp1d\n"
   ]
  },
  {
   "cell_type": "markdown",
   "metadata": {},
   "source": [
    "# (Super) Functions"
   ]
  },
  {
   "cell_type": "code",
   "execution_count": 2,
   "metadata": {},
   "outputs": [],
   "source": [
    "def cartesian_product(*arrays):\n",
    "    la = len(arrays)\n",
    "    dtype = np.result_type(*arrays)\n",
    "    arr = np.empty([len(a) for a in arrays] + [la], dtype=dtype)\n",
    "    for i, a in enumerate(np.ix_(*arrays)):\n",
    "        arr[...,i] = a\n",
    "    return arr.reshape(-1, la)"
   ]
  },
  {
   "cell_type": "code",
   "execution_count": 3,
   "metadata": {},
   "outputs": [],
   "source": [
    "#lam is in angtroms \n",
    "#A_v is a user input\n",
    "\n",
    "import extinction\n",
    "\n",
    "A_v = 1.0\n",
    "\n",
    "def Alam(lamin, A_v):\n",
    "\n",
    "    lam=np.zeros(len(lamin))\n",
    "    redreturn=np.zeros(len(lamin))\n",
    "\n",
    "    #Add extinction with R_v= 3.1 and A_v = 1     \n",
    "    extinction.ccm89(lam, A_v, 3.1)\n",
    "        \n",
    "    return redreturn\n"
   ]
  },
  {
   "cell_type": "code",
   "execution_count": 4,
   "metadata": {},
   "outputs": [],
   "source": [
    "def select_templates(DATABASE, TYPES):\n",
    "\n",
    "    \n",
    "#    Selects templates of a given type(s) from a template database\n",
    "    \n",
    "#    Input: DATEBASE   list of templates\n",
    "#           TYPES      which types should be selected\n",
    "    \n",
    "#    Output: array of templates of given type(s)\n",
    "    \n",
    "    database_trunc = list([])\n",
    "    \n",
    "    for type in TYPES:\n",
    "        database_trunc += list([x for x in DATABASE if type in x])\n",
    "    \n",
    "    return np.array(database_trunc)"
   ]
  },
  {
   "cell_type": "code",
   "execution_count": null,
   "metadata": {},
   "outputs": [],
   "source": []
  },
  {
   "cell_type": "markdown",
   "metadata": {},
   "source": [
    "# Compute the (super) fit"
   ]
  },
  {
   "cell_type": "code",
   "execution_count": 5,
   "metadata": {},
   "outputs": [],
   "source": [
    "def wrapper_fit(DATABASE):\n",
    "\n",
    "    \"\"\"\n",
    "    Compute the fit\n",
    "    \"\"\"\n",
    "   \n",
    "    # 1) File i/o\n",
    "    \n",
    "    spec_gal    = np.loadtxt(DATABASE['GALAXY'])\n",
    "    spec_SN     = np.loadtxt(DATABASE['SN'])\n",
    "    spec_object = np.loadtxt(DATABASE['OBJECT'])\n",
    "    spec_object[:,1]*=10\n",
    "   \n",
    "    # 2) Generate an error spectrum of the object spectrum\n",
    "    \n",
    "    \"\"\"\n",
    "    spec_object_even = spec_object[:,1][::2]\n",
    "    spec_object_odd  = spec_object[:,1][1::2]\n",
    "\n",
    "    if len(spec_object_even) > len(spec_object_odd):\n",
    "        spec_object_odd += spec_object_even[-1]\n",
    "    else:\n",
    "        spec_object_even += spec_object_odd[-1]\n",
    "\n",
    "    error_spectrum = []\n",
    "   \n",
    "    for i in range(len(spec_object_even)):\n",
    "        error_spectrum.append(abs(spec_object_even[i]-spec_object_odd[i])/2.)\n",
    "        error_spectrum.append(abs(spec_object_even[i]-spec_object_odd[i])/2.)\n",
    "    \n",
    "    if len(error_spectrum) == len(spec_SN):\n",
    "        error_spectrum=np.array(error_spectrum).reshape((2800, 1))\n",
    "        spec_object=np.append(spec_object, error_spectrum, axis=1)\n",
    "    elif len(error_spectrum) > len(spec_SN):\n",
    "        error_spectrum = np.array(error_spectrum)\n",
    "        error_spectrum = error_spectrum.reshape((len(error_spectrum), 1))\n",
    "        error_spectrum = error_spectrum[[np.arange(0,len(spec_object), 1)]]\n",
    "        spec_object=np.append(spec_object, error_spectrum, axis=1)\n",
    "    else:\n",
    "        error_spectrum += error_spectrum[-1]\n",
    "        error_spectrum=np.array(error_spectrum).reshape((2800, 1))\n",
    "        spec_object=np.append(spec_object, error_spectrum, axis=1)    \n",
    "    \"\"\"\n",
    "    # 3) Interpolate spectra\n",
    "    \n",
    "    spec_gal_interp    = interpolate.interp1d(spec_gal[:,0],    spec_gal[:,1],    bounds_error=False, fill_value=np.nan)\n",
    "    spec_sn_interp     = interpolate.interp1d(spec_SN[:,0],     spec_SN[:,1],     bounds_error=False, fill_value=np.nan)\n",
    "    spec_object_interp = interpolate.interp1d(spec_object[:,0], spec_object[:,1], bounds_error=False, fill_value=np.nan)\n",
    "#   spec_object_err_interp = interpolate.interp1d(spec_object[:,0],     spec_object[:,2],     bounds_error=False, fill_value=np.nan)\n",
    "    \n",
    "    # Determine the common wavelength range\n",
    "    \n",
    "    lambda_min = max([spec_gal[:,0][0],  spec_SN[:,0][0],  spec_object[:,0][0]])\n",
    "    lambda_max = min([spec_gal[:,0][-1], spec_SN[:,0][-1], spec_object[:,0][-1]])\n",
    "    \n",
    "    # Truncate wavelength interval\n",
    "    \n",
    "    lambda_new= spec_object[:,0][ (spec_object[:,0] >= lambda_min) & (spec_object[:,0] <= lambda_max) ]\n",
    "    \n",
    "    # 4) Fit function\n",
    "\n",
    "    def func(x, b, d):\n",
    "        return b * spec_sn_interp(x) + d * spec_gal_interp(x)\n",
    "\n",
    "    # fitting\n",
    "     \n",
    "    result = curve_fit(func, lambda_new, spec_object_interp(lambda_new))\n",
    "    print(result)\n",
    "    popt   = result[0]\n",
    "    pcov   = result[1]\n",
    "    \n",
    "    # Compute chi^2\n",
    "    sigma  =1\n",
    "\n",
    "    chi2   = np.sum(((spec_object_interp(lambda_new)-func(lambda_new, *popt))/sigma)**2)\n",
    "    print(DATABASE['GALAXY'], DATABASE['SN'])\n",
    "\n",
    "  \n",
    "    output=table.Table(\n",
    "            np.array([DATABASE['OBJECT'], DATABASE['GALAXY'], DATABASE['SN'], chi2, popt[0], popt[1], 0, 0, np.sqrt(pcov[0,0]), 0]), \n",
    "            names=('OBJECT', 'GALAXY', 'SN', 'CHI2', 'CONST_SN', 'CONST_GAL', 'CONST_EXT', 'CONST_GAL_ERR', 'CONST_SN_ERR', 'CONST_EXT_ERR'), \n",
    "            dtype=('S100', 'S100', 'S100', 'f', 'f', 'f', 'f', 'f', 'f', 'f'))\n",
    "    \n",
    "    \n",
    "    return output\n",
    "    "
   ]
  },
  {
   "cell_type": "markdown",
   "metadata": {},
   "source": [
    "# Read in spectral database"
   ]
  },
  {
   "cell_type": "code",
   "execution_count": 67,
   "metadata": {},
   "outputs": [
    {
     "name": "stdout",
     "output_type": "stream",
     "text": [
      "['rebinned/sne/Ia/sn1989b.p14.dat' 'rebinned/sne/Ia/sn1989b.m07.dat'\n",
      " 'rebinned/sne/Ia/sn1989b.p17.dat' 'rebinned/sne/Ia/sn1989b.p03.dat'\n",
      " 'rebinned/sne/Ia/sn1989b.m05.dat' 'rebinned/sne/Ia/sn1989b.p16.dat'\n",
      " 'rebinned/sne/Ia/sn1989b.p12.dat' 'rebinned/sne/Ia/sn1989b.m01.dat'\n",
      " 'rebinned/sne/Ia/sn1989b.p13.dat' 'rebinned/sne/Ia/sn1989b.p05.dat'\n",
      " 'rebinned/sne/Ia/sn1989b.p11.dat' 'rebinned/sne/Ia/sn1989b.m03.dat'\n",
      " 'rebinned/sne/Ia/sn1989b.m02.dat' 'rebinned/sne/Ia/sn1989b.p09.dat'\n",
      " 'rebinned/sne/Ia/sn1989b.p08.dat' 'rebinned/sne/Ia/sn1989b.p18.dat'\n",
      " 'rebinned/sne/Ia/sn1989b.p19.dat']\n"
     ]
    }
   ],
   "source": [
    "#templates_gal = glob.glob('rebinned/gal/**/*')\n",
    "templates_gal = glob.glob('rebinned/gal/Sb')\n",
    "templates_gal = [x for x in templates_gal if 'CVS' not in x and 'README' not in x]\n",
    "templates_gal = np.array(templates_gal)\n",
    "\n",
    "templates_sn = glob.glob('rebinned/sne/Ia/sn1989b*')\n",
    "templates_sn = [x for x in templates_sn if 'CVS' not in x and 'README' not in x]\n",
    "templates_sn = np.array(templates_sn)\n",
    "\n",
    "print(templates_sn)\n",
    "\n",
    "#These parameters are user inputs \n",
    "templates_dust = np.array([-0.2, 0.1])"
   ]
  },
  {
   "cell_type": "markdown",
   "metadata": {},
   "source": [
    "## Truncate templates SN, HG\n"
   ]
  },
  {
   "cell_type": "code",
   "execution_count": 68,
   "metadata": {},
   "outputs": [],
   "source": [
    "#Here the SN \n",
    "templates_sn_trunc = select_templates(templates_sn, ['/Ia/'])\n",
    "\n",
    "#Here the host galaxy\n",
    "#templates_hg_trunc = select_templates(templates_hg, ['/S0/'])"
   ]
  },
  {
   "cell_type": "markdown",
   "metadata": {},
   "source": [
    "# Compute the cartesian product of SN templates, galaxy templates and extinction measurements"
   ]
  },
  {
   "cell_type": "code",
   "execution_count": 69,
   "metadata": {},
   "outputs": [
    {
     "data": {
      "text/html": [
       "<i>Table length=17</i>\n",
       "<table id=\"table112292864912\" class=\"table-striped table-bordered table-condensed\">\n",
       "<thead><tr><th>GALAXY</th><th>SN</th><th>DUST</th><th>OBJECT</th></tr></thead>\n",
       "<thead><tr><th>str32</th><th>str32</th><th>str32</th><th>str25</th></tr></thead>\n",
       "<tr><td>rebinned/gal/Sb</td><td>rebinned/sne/Ia/sn1989b.p14.dat</td><td>-0.2</td><td>sne/Ia/sn1989b.p16.Sb.dat</td></tr>\n",
       "<tr><td>rebinned/gal/Sb</td><td>rebinned/sne/Ia/sn1989b.m07.dat</td><td>-0.2</td><td>sne/Ia/sn1989b.p16.Sb.dat</td></tr>\n",
       "<tr><td>rebinned/gal/Sb</td><td>rebinned/sne/Ia/sn1989b.p17.dat</td><td>-0.2</td><td>sne/Ia/sn1989b.p16.Sb.dat</td></tr>\n",
       "<tr><td>rebinned/gal/Sb</td><td>rebinned/sne/Ia/sn1989b.p03.dat</td><td>-0.2</td><td>sne/Ia/sn1989b.p16.Sb.dat</td></tr>\n",
       "<tr><td>rebinned/gal/Sb</td><td>rebinned/sne/Ia/sn1989b.m05.dat</td><td>-0.2</td><td>sne/Ia/sn1989b.p16.Sb.dat</td></tr>\n",
       "<tr><td>rebinned/gal/Sb</td><td>rebinned/sne/Ia/sn1989b.p16.dat</td><td>-0.2</td><td>sne/Ia/sn1989b.p16.Sb.dat</td></tr>\n",
       "<tr><td>rebinned/gal/Sb</td><td>rebinned/sne/Ia/sn1989b.p12.dat</td><td>-0.2</td><td>sne/Ia/sn1989b.p16.Sb.dat</td></tr>\n",
       "<tr><td>rebinned/gal/Sb</td><td>rebinned/sne/Ia/sn1989b.m01.dat</td><td>-0.2</td><td>sne/Ia/sn1989b.p16.Sb.dat</td></tr>\n",
       "<tr><td>rebinned/gal/Sb</td><td>rebinned/sne/Ia/sn1989b.p13.dat</td><td>-0.2</td><td>sne/Ia/sn1989b.p16.Sb.dat</td></tr>\n",
       "<tr><td>rebinned/gal/Sb</td><td>rebinned/sne/Ia/sn1989b.p05.dat</td><td>-0.2</td><td>sne/Ia/sn1989b.p16.Sb.dat</td></tr>\n",
       "<tr><td>rebinned/gal/Sb</td><td>rebinned/sne/Ia/sn1989b.p11.dat</td><td>-0.2</td><td>sne/Ia/sn1989b.p16.Sb.dat</td></tr>\n",
       "<tr><td>rebinned/gal/Sb</td><td>rebinned/sne/Ia/sn1989b.m03.dat</td><td>-0.2</td><td>sne/Ia/sn1989b.p16.Sb.dat</td></tr>\n",
       "<tr><td>rebinned/gal/Sb</td><td>rebinned/sne/Ia/sn1989b.m02.dat</td><td>-0.2</td><td>sne/Ia/sn1989b.p16.Sb.dat</td></tr>\n",
       "<tr><td>rebinned/gal/Sb</td><td>rebinned/sne/Ia/sn1989b.p09.dat</td><td>-0.2</td><td>sne/Ia/sn1989b.p16.Sb.dat</td></tr>\n",
       "<tr><td>rebinned/gal/Sb</td><td>rebinned/sne/Ia/sn1989b.p08.dat</td><td>-0.2</td><td>sne/Ia/sn1989b.p16.Sb.dat</td></tr>\n",
       "<tr><td>rebinned/gal/Sb</td><td>rebinned/sne/Ia/sn1989b.p18.dat</td><td>-0.2</td><td>sne/Ia/sn1989b.p16.Sb.dat</td></tr>\n",
       "<tr><td>rebinned/gal/Sb</td><td>rebinned/sne/Ia/sn1989b.p19.dat</td><td>-0.2</td><td>sne/Ia/sn1989b.p16.Sb.dat</td></tr>\n",
       "</table>"
      ],
      "text/plain": [
       "<Table length=17>\n",
       "     GALAXY                    SN                DUST           OBJECT         \n",
       "     str32                   str32              str32           str25          \n",
       "--------------- ------------------------------- ----- -------------------------\n",
       "rebinned/gal/Sb rebinned/sne/Ia/sn1989b.p14.dat  -0.2 sne/Ia/sn1989b.p16.Sb.dat\n",
       "rebinned/gal/Sb rebinned/sne/Ia/sn1989b.m07.dat  -0.2 sne/Ia/sn1989b.p16.Sb.dat\n",
       "rebinned/gal/Sb rebinned/sne/Ia/sn1989b.p17.dat  -0.2 sne/Ia/sn1989b.p16.Sb.dat\n",
       "rebinned/gal/Sb rebinned/sne/Ia/sn1989b.p03.dat  -0.2 sne/Ia/sn1989b.p16.Sb.dat\n",
       "rebinned/gal/Sb rebinned/sne/Ia/sn1989b.m05.dat  -0.2 sne/Ia/sn1989b.p16.Sb.dat\n",
       "rebinned/gal/Sb rebinned/sne/Ia/sn1989b.p16.dat  -0.2 sne/Ia/sn1989b.p16.Sb.dat\n",
       "rebinned/gal/Sb rebinned/sne/Ia/sn1989b.p12.dat  -0.2 sne/Ia/sn1989b.p16.Sb.dat\n",
       "rebinned/gal/Sb rebinned/sne/Ia/sn1989b.m01.dat  -0.2 sne/Ia/sn1989b.p16.Sb.dat\n",
       "rebinned/gal/Sb rebinned/sne/Ia/sn1989b.p13.dat  -0.2 sne/Ia/sn1989b.p16.Sb.dat\n",
       "rebinned/gal/Sb rebinned/sne/Ia/sn1989b.p05.dat  -0.2 sne/Ia/sn1989b.p16.Sb.dat\n",
       "rebinned/gal/Sb rebinned/sne/Ia/sn1989b.p11.dat  -0.2 sne/Ia/sn1989b.p16.Sb.dat\n",
       "rebinned/gal/Sb rebinned/sne/Ia/sn1989b.m03.dat  -0.2 sne/Ia/sn1989b.p16.Sb.dat\n",
       "rebinned/gal/Sb rebinned/sne/Ia/sn1989b.m02.dat  -0.2 sne/Ia/sn1989b.p16.Sb.dat\n",
       "rebinned/gal/Sb rebinned/sne/Ia/sn1989b.p09.dat  -0.2 sne/Ia/sn1989b.p16.Sb.dat\n",
       "rebinned/gal/Sb rebinned/sne/Ia/sn1989b.p08.dat  -0.2 sne/Ia/sn1989b.p16.Sb.dat\n",
       "rebinned/gal/Sb rebinned/sne/Ia/sn1989b.p18.dat  -0.2 sne/Ia/sn1989b.p16.Sb.dat\n",
       "rebinned/gal/Sb rebinned/sne/Ia/sn1989b.p19.dat  -0.2 sne/Ia/sn1989b.p16.Sb.dat"
      ]
     },
     "execution_count": 69,
     "metadata": {},
     "output_type": "execute_result"
    }
   ],
   "source": [
    "cartesian_product_all=cartesian_product(*[templates_gal[:1], templates_sn_trunc, templates_dust[:1]])\n",
    "cartesian_product_all=table.Table(cartesian_product_all, names=('GALAXY', 'SN', 'DUST'))\n",
    "\n",
    "#In brakets here is the number of template I'm using to match\n",
    "cartesian_product_all['OBJECT']=[\"sne/Ia/sn1989b.p16.Sb.dat\"]\n",
    "#cartesian_product_all['GALAXY']=[\"gal/Sb\"]\n",
    "#cartesian_product_all['SN']=[\"rebinned/sne/Ia/sn1989b.p16.dat\"]\n",
    "\n",
    "#cartesian_product_all['SN'][14]\n",
    "\n",
    "#cartesian_product_all.pprint(max_lines=-1)\n",
    "\n",
    "cartesian_product_all"
   ]
  },
  {
   "cell_type": "code",
   "execution_count": null,
   "metadata": {},
   "outputs": [],
   "source": []
  },
  {
   "cell_type": "code",
   "execution_count": 70,
   "metadata": {},
   "outputs": [
    {
     "data": {
      "text/plain": [
       "range(0, 17)"
      ]
     },
     "execution_count": 70,
     "metadata": {},
     "output_type": "execute_result"
    }
   ],
   "source": [
    "index_array=range(len(cartesian_product_all))\n",
    "index_array"
   ]
  },
  {
   "cell_type": "code",
   "execution_count": 71,
   "metadata": {},
   "outputs": [
    {
     "name": "stdout",
     "output_type": "stream",
     "text": [
      "(array([ 6.69579144, 14.86899589]), array([[ 0.15786651, -0.16782029],\n",
      "       [-0.16782029,  0.21005785]]))\n",
      "rebinned/gal/Sb rebinned/sne/Ia/sn1989b.p14.dat\n"
     ]
    },
    {
     "data": {
      "text/html": [
       "<i>Table length=1</i>\n",
       "<table id=\"table112294778248\" class=\"table-striped table-bordered table-condensed\">\n",
       "<thead><tr><th>OBJECT</th><th>GALAXY</th><th>SN</th><th>CHI2</th><th>CONST_SN</th><th>CONST_GAL</th><th>CONST_EXT</th><th>CONST_GAL_ERR</th><th>CONST_SN_ERR</th><th>CONST_EXT_ERR</th></tr></thead>\n",
       "<thead><tr><th>bytes100</th><th>bytes100</th><th>bytes100</th><th>float32</th><th>float32</th><th>float32</th><th>float32</th><th>float32</th><th>float32</th><th>float32</th></tr></thead>\n",
       "<tr><td>sne/Ia/sn1989b.p16.Sb.dat</td><td>rebinned/gal/Sb</td><td>rebinned/sne/Ia/sn1989b.p14.dat</td><td>805.21</td><td>6.6957912</td><td>14.868996</td><td>0.0</td><td>0.0</td><td>0.39732417</td><td>0.0</td></tr>\n",
       "</table>"
      ],
      "text/plain": [
       "<Table length=1>\n",
       "          OBJECT               GALAXY     ... CONST_SN_ERR CONST_EXT_ERR\n",
       "         bytes100             bytes100    ...   float32       float32   \n",
       "------------------------- --------------- ... ------------ -------------\n",
       "sne/Ia/sn1989b.p16.Sb.dat rebinned/gal/Sb ...   0.39732417           0.0"
      ]
     },
     "execution_count": 71,
     "metadata": {},
     "output_type": "execute_result"
    }
   ],
   "source": [
    "output=wrapper_fit(cartesian_product_all[0])\n",
    "output"
   ]
  },
  {
   "cell_type": "code",
   "execution_count": 72,
   "metadata": {},
   "outputs": [
    {
     "name": "stdout",
     "output_type": "stream",
     "text": [
      "(array([ 6.69579144, 14.86899589]), array([[ 0.15786651, -0.16782029],\n",
      "       [-0.16782029,  0.21005785]]))(array([10., 10.]), array([[ 1.48290448e-31, -1.77764681e-31],\n",
      "       [-1.77764681e-31,  2.34403513e-31]]))(array([ 3.87527013, 17.82593952]), array([[ 0.17099743, -0.18363456],\n",
      "       [-0.18363456,  0.25208192]]))\n",
      "\n",
      "(array([ 0.60998276, 21.16220616]), array([[ 0.07031627, -0.09514815],\n",
      "       [-0.09514815,  0.20888666]]))\n",
      "rebinned/gal/Sb rebinned/sne/Ia/sn1989b.p14.dat\n",
      "rebinned/gal/Sb rebinned/sne/Ia/sn1989b.p17.dat\n",
      "\n",
      "rebinned/gal/Sb rebinned/sne/Ia/sn1989b.p12.dat\n",
      "rebinned/gal/Sb rebinned/sne/Ia/sn1989b.m05.dat\n",
      "(array([ 1.70785981, 20.18758567]), array([[ 0.19426206, -0.21076815],\n",
      "       [-0.21076815,  0.30380784]]))(array([ 0.63234002, 21.16257217]), array([[ 0.07558586, -0.09861872],\n",
      "       [-0.09861872,  0.20880825]]))\n",
      "\n",
      "(array([ 0.38963717, 20.79604422]), array([[ 0.01529743, -0.04678138],\n",
      "       [-0.04678138,  0.22118188]]))rebinned/gal/Sb rebinned/sne/Ia/sn1989b.p03.dat\n",
      "rebinned/gal/Sb rebinned/sne/Ia/sn1989b.m07.dat\n",
      "\n",
      "(array([ 0.09031865, 21.86688698]), array([[ 0.00436626, -0.0058357 ],\n",
      "       [-0.0058357 ,  0.08949686]]))rebinned/gal/Sb rebinned/sne/Ia/sn1989b.m01.dat\n",
      "\n",
      "rebinned/gal/Sb rebinned/sne/Ia/sn1989b.p16.dat\n",
      "(array([ 6.14938246, 15.42056135]), array([[ 0.2070459 , -0.22110818],\n",
      "       [-0.22110818,  0.2764125 ]]))(array([ 5.79254834, 15.76646674]), array([[ 0.19143512, -0.20559927],\n",
      "       [-0.20559927,  0.26194802]]))\n",
      "\n",
      "rebinned/gal/Sb rebinned/sne/Ia/sn1989b.p13.dat\n",
      "rebinned/gal/Sb rebinned/sne/Ia/sn1989b.p11.dat\n",
      "(array([ 2.13497687, 19.90090128]), array([[ 1.50705295, -1.90994213],\n",
      "       [-1.90994213,  2.65026511]]))\n",
      "rebinned/gal/Sb rebinned/sne/Ia/sn1989b.m02.dat\n",
      "(array([ 1.45274553, 20.73931298]), array([[ 0.98621224, -1.26765128],\n",
      "       [-1.26765128,  1.86245635]]))\n",
      "rebinned/gal/Sb rebinned/sne/Ia/sn1989b.m03.dat\n",
      "(array([ 4.19482811, 17.39971834]), array([[ 0.19639915, -0.21480174],\n",
      "       [-0.21480174,  0.2894361 ]]))\n",
      "rebinned/gal/Sb rebinned/sne/Ia/sn1989b.p09.dat\n",
      "(array([ 3.0600548 , 18.01460875]), array([[ 0.13961774, -0.18127136],\n",
      "       [-0.18127136,  0.29495306]]))\n",
      "rebinned/gal/Sb rebinned/sne/Ia/sn1989b.p08.dat\n",
      "(array([ 2.53093236, 19.29135033]), array([[ 0.20331875, -0.21665701],\n",
      "       [-0.21665701,  0.30118775]]))\n",
      "rebinned/gal/Sb rebinned/sne/Ia/sn1989b.p05.dat\n",
      "(array([9.8725267, 9.9345865]), array([[ 0.03504971, -0.04279094],\n",
      "       [-0.04279094,  0.05710448]]))\n",
      "rebinned/gal/Sb rebinned/sne/Ia/sn1989b.p18.dat\n",
      "(array([9.77292966, 9.98696382]), array([[ 0.0305194 , -0.0374762 ],\n",
      "       [-0.0374762 ,  0.05036811]]))\n",
      "rebinned/gal/Sb rebinned/sne/Ia/sn1989b.p19.dat\n"
     ]
    }
   ],
   "source": [
    "if mp.cpu_count() > 1:\n",
    "     number_cpu\t= mp.cpu_count()/2\t# is equal to number of threads x number of physical cpus, e.g. 2x4\n",
    "else:\n",
    "    number_cpu\t= mp.cpu_count()\n",
    "number_cpu\n",
    "pool\t= mp.Pool(processes=int(number_cpu)*2)\n"
   ]
  },
  {
   "cell_type": "code",
   "execution_count": 73,
   "metadata": {
    "scrolled": true
   },
   "outputs": [],
   "source": [
    "result = pool.map(wrapper_fit, cartesian_product_all)"
   ]
  },
  {
   "cell_type": "code",
   "execution_count": 74,
   "metadata": {},
   "outputs": [],
   "source": [
    "result=table.vstack(result)"
   ]
  },
  {
   "cell_type": "code",
   "execution_count": 75,
   "metadata": {},
   "outputs": [
    {
     "name": "stdout",
     "output_type": "stream",
     "text": [
      "(array([ 6.69579144, 14.86899589]), array([[ 0.15786651, -0.16782029],\n",
      "       [-0.16782029,  0.21005785]]))\n",
      "rebinned/gal/Sb rebinned/sne/Ia/sn1989b.p14.dat\n",
      "(array([ 0.63234002, 21.16257217]), array([[ 0.07558586, -0.09861872],\n",
      "       [-0.09861872,  0.20880825]]))\n",
      "rebinned/gal/Sb rebinned/sne/Ia/sn1989b.m07.dat\n",
      "(array([10., 10.]), array([[ 1.48290448e-31, -1.77764681e-31],\n",
      "       [-1.77764681e-31,  2.34403513e-31]]))\n",
      "rebinned/gal/Sb rebinned/sne/Ia/sn1989b.p17.dat\n",
      "(array([ 1.70785981, 20.18758567]), array([[ 0.19426206, -0.21076815],\n",
      "       [-0.21076815,  0.30380784]]))\n",
      "rebinned/gal/Sb rebinned/sne/Ia/sn1989b.p03.dat\n",
      "(array([ 0.60998276, 21.16220616]), array([[ 0.07031627, -0.09514815],\n",
      "       [-0.09514815,  0.20888666]]))\n",
      "rebinned/gal/Sb rebinned/sne/Ia/sn1989b.m05.dat\n",
      "(array([ 0.09031865, 21.86688698]), array([[ 0.00436626, -0.0058357 ],\n",
      "       [-0.0058357 ,  0.08949686]]))\n",
      "rebinned/gal/Sb rebinned/sne/Ia/sn1989b.p16.dat\n",
      "(array([ 3.87527013, 17.82593952]), array([[ 0.17099743, -0.18363456],\n",
      "       [-0.18363456,  0.25208192]]))\n",
      "rebinned/gal/Sb rebinned/sne/Ia/sn1989b.p12.dat\n",
      "(array([ 0.38963717, 20.79604422]), array([[ 0.01529743, -0.04678138],\n",
      "       [-0.04678138,  0.22118188]]))\n",
      "rebinned/gal/Sb rebinned/sne/Ia/sn1989b.m01.dat\n",
      "(array([ 6.14938246, 15.42056135]), array([[ 0.2070459 , -0.22110818],\n",
      "       [-0.22110818,  0.2764125 ]]))\n",
      "rebinned/gal/Sb rebinned/sne/Ia/sn1989b.p13.dat\n",
      "(array([ 2.53093236, 19.29135033]), array([[ 0.20331875, -0.21665701],\n",
      "       [-0.21665701,  0.30118775]]))\n",
      "rebinned/gal/Sb rebinned/sne/Ia/sn1989b.p05.dat\n",
      "(array([ 5.79254834, 15.76646674]), array([[ 0.19143512, -0.20559927],\n",
      "       [-0.20559927,  0.26194802]]))\n",
      "rebinned/gal/Sb rebinned/sne/Ia/sn1989b.p11.dat\n",
      "(array([ 1.45274553, 20.73931298]), array([[ 0.98621224, -1.26765128],\n",
      "       [-1.26765128,  1.86245635]]))\n",
      "rebinned/gal/Sb rebinned/sne/Ia/sn1989b.m03.dat\n",
      "(array([ 2.13497687, 19.90090128]), array([[ 1.50705295, -1.90994213],\n",
      "       [-1.90994213,  2.65026511]]))\n",
      "rebinned/gal/Sb rebinned/sne/Ia/sn1989b.m02.dat\n",
      "(array([ 4.19482811, 17.39971834]), array([[ 0.19639915, -0.21480174],\n",
      "       [-0.21480174,  0.2894361 ]]))\n",
      "rebinned/gal/Sb rebinned/sne/Ia/sn1989b.p09.dat\n",
      "(array([ 3.0600548 , 18.01460875]), array([[ 0.13961774, -0.18127136],\n",
      "       [-0.18127136,  0.29495306]]))\n",
      "rebinned/gal/Sb rebinned/sne/Ia/sn1989b.p08.dat\n",
      "(array([9.8725267, 9.9345865]), array([[ 0.03504971, -0.04279094],\n",
      "       [-0.04279094,  0.05710448]]))\n",
      "rebinned/gal/Sb rebinned/sne/Ia/sn1989b.p18.dat\n",
      "(array([9.77292966, 9.98696382]), array([[ 0.0305194 , -0.0374762 ],\n",
      "       [-0.0374762 ,  0.05036811]]))\n",
      "rebinned/gal/Sb rebinned/sne/Ia/sn1989b.p19.dat\n"
     ]
    }
   ],
   "source": [
    "result=[wrapper_fit(x) for x in cartesian_product_all]\n",
    "result=table.vstack(result)"
   ]
  },
  {
   "cell_type": "code",
   "execution_count": 76,
   "metadata": {},
   "outputs": [
    {
     "data": {
      "text/html": [
       "<i>Table length=17</i>\n",
       "<table id=\"table112294985064\" class=\"table-striped table-bordered table-condensed\">\n",
       "<thead><tr><th>OBJECT</th><th>GALAXY</th><th>SN</th><th>CHI2</th><th>CONST_SN</th><th>CONST_GAL</th><th>CONST_EXT</th><th>CONST_GAL_ERR</th><th>CONST_SN_ERR</th><th>CONST_EXT_ERR</th></tr></thead>\n",
       "<thead><tr><th>bytes100</th><th>bytes100</th><th>bytes100</th><th>float32</th><th>float32</th><th>float32</th><th>float32</th><th>float32</th><th>float32</th><th>float32</th></tr></thead>\n",
       "<tr><td>sne/Ia/sn1989b.p16.Sb.dat</td><td>rebinned/gal/Sb</td><td>rebinned/sne/Ia/sn1989b.p17.dat</td><td>5.529915e-28</td><td>10.0</td><td>10.0</td><td>0.0</td><td>0.0</td><td>3.85085e-16</td><td>0.0</td></tr>\n",
       "<tr><td>sne/Ia/sn1989b.p16.Sb.dat</td><td>rebinned/gal/Sb</td><td>rebinned/sne/Ia/sn1989b.p19.dat</td><td>112.88399</td><td>9.772929</td><td>9.986964</td><td>0.0</td><td>0.0</td><td>0.17469804</td><td>0.0</td></tr>\n",
       "<tr><td>sne/Ia/sn1989b.p16.Sb.dat</td><td>rebinned/gal/Sb</td><td>rebinned/sne/Ia/sn1989b.p18.dat</td><td>126.204506</td><td>9.872527</td><td>9.934587</td><td>0.0</td><td>0.0</td><td>0.18721567</td><td>0.0</td></tr>\n",
       "<tr><td>sne/Ia/sn1989b.p16.Sb.dat</td><td>rebinned/gal/Sb</td><td>rebinned/sne/Ia/sn1989b.m02.dat</td><td>467.96564</td><td>2.1349769</td><td>19.900902</td><td>0.0</td><td>0.0</td><td>1.2276208</td><td>0.0</td></tr>\n",
       "<tr><td>sne/Ia/sn1989b.p16.Sb.dat</td><td>rebinned/gal/Sb</td><td>rebinned/sne/Ia/sn1989b.m03.dat</td><td>474.73602</td><td>1.4527456</td><td>20.739313</td><td>0.0</td><td>0.0</td><td>0.99308217</td><td>0.0</td></tr>\n",
       "<tr><td>sne/Ia/sn1989b.p16.Sb.dat</td><td>rebinned/gal/Sb</td><td>rebinned/sne/Ia/sn1989b.p14.dat</td><td>805.21</td><td>6.6957912</td><td>14.868996</td><td>0.0</td><td>0.0</td><td>0.39732417</td><td>0.0</td></tr>\n",
       "<tr><td>sne/Ia/sn1989b.p16.Sb.dat</td><td>rebinned/gal/Sb</td><td>rebinned/sne/Ia/sn1989b.p13.dat</td><td>1045.6227</td><td>6.1493826</td><td>15.420562</td><td>0.0</td><td>0.0</td><td>0.45502296</td><td>0.0</td></tr>\n",
       "<tr><td>sne/Ia/sn1989b.p16.Sb.dat</td><td>rebinned/gal/Sb</td><td>rebinned/sne/Ia/sn1989b.p11.dat</td><td>1067.6746</td><td>5.792548</td><td>15.766467</td><td>0.0</td><td>0.0</td><td>0.437533</td><td>0.0</td></tr>\n",
       "<tr><td>sne/Ia/sn1989b.p16.Sb.dat</td><td>rebinned/gal/Sb</td><td>rebinned/sne/Ia/sn1989b.p09.dat</td><td>1414.7068</td><td>4.194828</td><td>17.39972</td><td>0.0</td><td>0.0</td><td>0.44316944</td><td>0.0</td></tr>\n",
       "<tr><td>sne/Ia/sn1989b.p16.Sb.dat</td><td>rebinned/gal/Sb</td><td>rebinned/sne/Ia/sn1989b.p12.dat</td><td>1424.2802</td><td>3.8752701</td><td>17.82594</td><td>0.0</td><td>0.0</td><td>0.41351837</td><td>0.0</td></tr>\n",
       "<tr><td>sne/Ia/sn1989b.p16.Sb.dat</td><td>rebinned/gal/Sb</td><td>rebinned/sne/Ia/sn1989b.p08.dat</td><td>1546.9099</td><td>3.0600548</td><td>18.014608</td><td>0.0</td><td>0.0</td><td>0.37365457</td><td>0.0</td></tr>\n",
       "<tr><td>sne/Ia/sn1989b.p16.Sb.dat</td><td>rebinned/gal/Sb</td><td>rebinned/sne/Ia/sn1989b.p05.dat</td><td>1812.9269</td><td>2.5309324</td><td>19.29135</td><td>0.0</td><td>0.0</td><td>0.4509088</td><td>0.0</td></tr>\n",
       "<tr><td>sne/Ia/sn1989b.p16.Sb.dat</td><td>rebinned/gal/Sb</td><td>rebinned/sne/Ia/sn1989b.p03.dat</td><td>1923.5099</td><td>1.7078598</td><td>20.187586</td><td>0.0</td><td>0.0</td><td>0.4407517</td><td>0.0</td></tr>\n",
       "<tr><td>sne/Ia/sn1989b.p16.Sb.dat</td><td>rebinned/gal/Sb</td><td>rebinned/sne/Ia/sn1989b.m01.dat</td><td>2027.5242</td><td>0.38963717</td><td>20.796043</td><td>0.0</td><td>0.0</td><td>0.123682775</td><td>0.0</td></tr>\n",
       "<tr><td>sne/Ia/sn1989b.p16.Sb.dat</td><td>rebinned/gal/Sb</td><td>rebinned/sne/Ia/sn1989b.m05.dat</td><td>2079.9148</td><td>0.6099828</td><td>21.162207</td><td>0.0</td><td>0.0</td><td>0.26517215</td><td>0.0</td></tr>\n",
       "<tr><td>sne/Ia/sn1989b.p16.Sb.dat</td><td>rebinned/gal/Sb</td><td>rebinned/sne/Ia/sn1989b.m07.dat</td><td>2079.9316</td><td>0.63234</td><td>21.162573</td><td>0.0</td><td>0.0</td><td>0.27492884</td><td>0.0</td></tr>\n",
       "<tr><td>sne/Ia/sn1989b.p16.Sb.dat</td><td>rebinned/gal/Sb</td><td>rebinned/sne/Ia/sn1989b.p16.dat</td><td>2120.3997</td><td>0.09031865</td><td>21.866886</td><td>0.0</td><td>0.0</td><td>0.06607772</td><td>0.0</td></tr>\n",
       "</table>"
      ],
      "text/plain": [
       "<Table length=17>\n",
       "          OBJECT               GALAXY     ... CONST_SN_ERR CONST_EXT_ERR\n",
       "         bytes100             bytes100    ...   float32       float32   \n",
       "------------------------- --------------- ... ------------ -------------\n",
       "sne/Ia/sn1989b.p16.Sb.dat rebinned/gal/Sb ...  3.85085e-16           0.0\n",
       "sne/Ia/sn1989b.p16.Sb.dat rebinned/gal/Sb ...   0.17469804           0.0\n",
       "sne/Ia/sn1989b.p16.Sb.dat rebinned/gal/Sb ...   0.18721567           0.0\n",
       "sne/Ia/sn1989b.p16.Sb.dat rebinned/gal/Sb ...    1.2276208           0.0\n",
       "sne/Ia/sn1989b.p16.Sb.dat rebinned/gal/Sb ...   0.99308217           0.0\n",
       "sne/Ia/sn1989b.p16.Sb.dat rebinned/gal/Sb ...   0.39732417           0.0\n",
       "sne/Ia/sn1989b.p16.Sb.dat rebinned/gal/Sb ...   0.45502296           0.0\n",
       "sne/Ia/sn1989b.p16.Sb.dat rebinned/gal/Sb ...     0.437533           0.0\n",
       "sne/Ia/sn1989b.p16.Sb.dat rebinned/gal/Sb ...   0.44316944           0.0\n",
       "sne/Ia/sn1989b.p16.Sb.dat rebinned/gal/Sb ...   0.41351837           0.0\n",
       "sne/Ia/sn1989b.p16.Sb.dat rebinned/gal/Sb ...   0.37365457           0.0\n",
       "sne/Ia/sn1989b.p16.Sb.dat rebinned/gal/Sb ...    0.4509088           0.0\n",
       "sne/Ia/sn1989b.p16.Sb.dat rebinned/gal/Sb ...    0.4407517           0.0\n",
       "sne/Ia/sn1989b.p16.Sb.dat rebinned/gal/Sb ...  0.123682775           0.0\n",
       "sne/Ia/sn1989b.p16.Sb.dat rebinned/gal/Sb ...   0.26517215           0.0\n",
       "sne/Ia/sn1989b.p16.Sb.dat rebinned/gal/Sb ...   0.27492884           0.0\n",
       "sne/Ia/sn1989b.p16.Sb.dat rebinned/gal/Sb ...   0.06607772           0.0"
      ]
     },
     "execution_count": 76,
     "metadata": {},
     "output_type": "execute_result"
    }
   ],
   "source": [
    "result.sort('CHI2')\n",
    "result"
   ]
  },
  {
   "cell_type": "markdown",
   "metadata": {},
   "source": [
    "# (Super) Graph"
   ]
  },
  {
   "cell_type": "code",
   "execution_count": 93,
   "metadata": {},
   "outputs": [],
   "source": [
    "def visualise_match(DATABASE):\n",
    "\n",
    "    # File i/o\n",
    "    \n",
    "    spec_gal    = np.loadtxt(DATABASE['GALAXY'][0])\n",
    "    spec_SN     = np.loadtxt(DATABASE['SN'][0])\n",
    "    spec_object = np.loadtxt(DATABASE['OBJECT'][0])\n",
    "    spec_object[:,1]*=10\n",
    "\n",
    "    # Plot data\n",
    "    \"\"\"\n",
    "    bestfit_galaxy = DATABASE['GALAXY'].split('/')[-1]\n",
    "    bestfit_sn_name = DATABASE['SN'].split('/')[2].split('.')[0]\n",
    "    bestfit_sn_type = DATABASE['SN'].split('/')[1]\n",
    "    bestfit_sn_phase = '+' + DATABASE['SN'].split('/')[2].split('.')[1].replace('p', '') if 'p' in DATABASE['SN'].split('/')[2].split('.')[1] else '-' + DATABASE['SN'].split('/')[2].split('.')[1].replace('m', '')\n",
    "    \"\"\"\n",
    "    \n",
    "    plt.figure(figsize=(7*np.sqrt(2), 7))\n",
    "    \n",
    "    ax = plt.subplot(111)\n",
    "    ax.plot(spec_object[:,0], spec_object[:,1], lw=4, label='Input spectrum')\n",
    "    ax.plot(spec_gal[:,0], DATABASE['CONST_GAL'] * spec_gal[:,1], lw=1)#, label='Galaxy template: {}'.format(bestfit_galaxy))\n",
    "    ax.plot(spec_SN[:,0],  DATABASE['CONST_SN']  * spec_SN[:,1],  lw=1)#, label='SN template: {name} ({type}, {phase} days)'.format(type=bestfit_sn_type, name=bestfit_sn_name, phase=bestfit_sn_phase))\n",
    "    \n",
    "#    ax.legend()#fontsize=legend_size-4)\n",
    "    \n",
    "    ax.set_xlabel('Observed wavelength (\\\\AA)')\n",
    "    ax.set_ylabel('Flux density (arbitary units)')\n",
    "    \n",
    "    ax.set_xlim(spec_object[0,0]-20, spec_object[-1,0]-20)\n",
    "    ax.set_ylim(0, max(spec_object[:,1])*1.2)\n",
    "    \n",
    "    plt.show()"
   ]
  },
  {
   "cell_type": "code",
   "execution_count": 94,
   "metadata": {},
   "outputs": [
    {
     "data": {
      "text/plain": [
       "'sne/Ia/sn1989b.p16.Sb.dat'"
      ]
     },
     "execution_count": 94,
     "metadata": {},
     "output_type": "execute_result"
    }
   ],
   "source": [
    "result[0]['OBJECT']"
   ]
  },
  {
   "cell_type": "code",
   "execution_count": 95,
   "metadata": {},
   "outputs": [
    {
     "name": "stdout",
     "output_type": "stream",
     "text": [
      "<Table length=1>\n",
      "     name      dtype  \n",
      "------------- --------\n",
      "       OBJECT bytes100\n",
      "       GALAXY bytes100\n",
      "           SN bytes100\n",
      "         CHI2  float32\n",
      "     CONST_SN  float32\n",
      "    CONST_GAL  float32\n",
      "    CONST_EXT  float32\n",
      "CONST_GAL_ERR  float32\n",
      " CONST_SN_ERR  float32\n",
      "CONST_EXT_ERR  float32\n",
      "None\n"
     ]
    },
    {
     "data": {
      "image/png": "[encoded data removed]",
      "text/plain": [
       "<Figure size 712.764x504 with 1 Axes>"
      ]
     },
     "metadata": {
      "needs_background": "light"
     },
     "output_type": "display_data"
    }
   ],
   "source": [
    "print(output.info())\n",
    "visualise_match(table.Table(output))"
   ]
  },
  {
   "cell_type": "code",
   "execution_count": 90,
   "metadata": {},
   "outputs": [
    {
     "data": {
      "text/plain": [
       "'/Users/user/Desktop/ssf/superfit'"
      ]
     },
     "execution_count": 90,
     "metadata": {},
     "output_type": "execute_result"
    }
   ],
   "source": [
    "import os\n",
    "os.getcwd()"
   ]
  },
  {
   "cell_type": "code",
   "execution_count": 91,
   "metadata": {},
   "outputs": [
    {
     "name": "stdout",
     "output_type": "stream",
     "text": [
      "(array([ 6.69579144, 14.86899589]), array([[ 0.15786651, -0.16782029],\n",
      "       [-0.16782029,  0.21005785]]))\n",
      "rebinned/gal/Sb rebinned/sne/Ia/sn1989b.p14.dat\n",
      "(array([ 0.63234002, 21.16257217]), array([[ 0.07558586, -0.09861872],\n",
      "       [-0.09861872,  0.20880825]]))\n",
      "rebinned/gal/Sb rebinned/sne/Ia/sn1989b.m07.dat\n",
      "(array([10., 10.]), array([[ 1.48290448e-31, -1.77764681e-31],\n",
      "       [-1.77764681e-31,  2.34403513e-31]]))\n",
      "rebinned/gal/Sb rebinned/sne/Ia/sn1989b.p17.dat\n",
      "(array([ 1.70785981, 20.18758567]), array([[ 0.19426206, -0.21076815],\n",
      "       [-0.21076815,  0.30380784]]))\n",
      "rebinned/gal/Sb rebinned/sne/Ia/sn1989b.p03.dat\n",
      "(array([ 0.60998276, 21.16220616]), array([[ 0.07031627, -0.09514815],\n",
      "       [-0.09514815,  0.20888666]]))\n",
      "rebinned/gal/Sb rebinned/sne/Ia/sn1989b.m05.dat\n",
      "(array([ 0.09031865, 21.86688698]), array([[ 0.00436626, -0.0058357 ],\n",
      "       [-0.0058357 ,  0.08949686]]))\n",
      "rebinned/gal/Sb rebinned/sne/Ia/sn1989b.p16.dat\n",
      "(array([ 3.87527013, 17.82593952]), array([[ 0.17099743, -0.18363456],\n",
      "       [-0.18363456,  0.25208192]]))\n",
      "rebinned/gal/Sb rebinned/sne/Ia/sn1989b.p12.dat\n",
      "(array([ 0.38963717, 20.79604422]), array([[ 0.01529743, -0.04678138],\n",
      "       [-0.04678138,  0.22118188]]))\n",
      "rebinned/gal/Sb rebinned/sne/Ia/sn1989b.m01.dat\n",
      "(array([ 6.14938246, 15.42056135]), array([[ 0.2070459 , -0.22110818],\n",
      "       [-0.22110818,  0.2764125 ]]))\n",
      "rebinned/gal/Sb rebinned/sne/Ia/sn1989b.p13.dat\n",
      "(array([ 2.53093236, 19.29135033]), array([[ 0.20331875, -0.21665701],\n",
      "       [-0.21665701,  0.30118775]]))\n",
      "rebinned/gal/Sb rebinned/sne/Ia/sn1989b.p05.dat\n",
      "(array([ 5.79254834, 15.76646674]), array([[ 0.19143512, -0.20559927],\n",
      "       [-0.20559927,  0.26194802]]))\n",
      "rebinned/gal/Sb rebinned/sne/Ia/sn1989b.p11.dat\n",
      "(array([ 1.45274553, 20.73931298]), array([[ 0.98621224, -1.26765128],\n",
      "       [-1.26765128,  1.86245635]]))\n",
      "rebinned/gal/Sb rebinned/sne/Ia/sn1989b.m03.dat\n",
      "(array([ 2.13497687, 19.90090128]), array([[ 1.50705295, -1.90994213],\n",
      "       [-1.90994213,  2.65026511]]))\n",
      "rebinned/gal/Sb rebinned/sne/Ia/sn1989b.m02.dat\n",
      "(array([ 4.19482811, 17.39971834]), array([[ 0.19639915, -0.21480174],\n",
      "       [-0.21480174,  0.2894361 ]]))\n",
      "rebinned/gal/Sb rebinned/sne/Ia/sn1989b.p09.dat\n",
      "(array([ 3.0600548 , 18.01460875]), array([[ 0.13961774, -0.18127136],\n",
      "       [-0.18127136,  0.29495306]]))\n",
      "rebinned/gal/Sb rebinned/sne/Ia/sn1989b.p08.dat\n",
      "(array([9.8725267, 9.9345865]), array([[ 0.03504971, -0.04279094],\n",
      "       [-0.04279094,  0.05710448]]))\n",
      "rebinned/gal/Sb rebinned/sne/Ia/sn1989b.p18.dat\n",
      "(array([9.77292966, 9.98696382]), array([[ 0.0305194 , -0.0374762 ],\n",
      "       [-0.0374762 ,  0.05036811]]))\n",
      "rebinned/gal/Sb rebinned/sne/Ia/sn1989b.p19.dat\n"
     ]
    },
    {
     "data": {
      "text/plain": [
       "[<Table length=1>\n",
       "           OBJECT               GALAXY     ... CONST_SN_ERR CONST_EXT_ERR\n",
       "          bytes100             bytes100    ...   float32       float32   \n",
       " ------------------------- --------------- ... ------------ -------------\n",
       " sne/Ia/sn1989b.p16.Sb.dat rebinned/gal/Sb ...   0.39732417           0.0,\n",
       " <Table length=1>\n",
       "           OBJECT               GALAXY     ... CONST_SN_ERR CONST_EXT_ERR\n",
       "          bytes100             bytes100    ...   float32       float32   \n",
       " ------------------------- --------------- ... ------------ -------------\n",
       " sne/Ia/sn1989b.p16.Sb.dat rebinned/gal/Sb ...   0.27492884           0.0,\n",
       " <Table length=1>\n",
       "           OBJECT               GALAXY     ... CONST_SN_ERR CONST_EXT_ERR\n",
       "          bytes100             bytes100    ...   float32       float32   \n",
       " ------------------------- --------------- ... ------------ -------------\n",
       " sne/Ia/sn1989b.p16.Sb.dat rebinned/gal/Sb ...  3.85085e-16           0.0,\n",
       " <Table length=1>\n",
       "           OBJECT               GALAXY     ... CONST_SN_ERR CONST_EXT_ERR\n",
       "          bytes100             bytes100    ...   float32       float32   \n",
       " ------------------------- --------------- ... ------------ -------------\n",
       " sne/Ia/sn1989b.p16.Sb.dat rebinned/gal/Sb ...    0.4407517           0.0,\n",
       " <Table length=1>\n",
       "           OBJECT               GALAXY     ... CONST_SN_ERR CONST_EXT_ERR\n",
       "          bytes100             bytes100    ...   float32       float32   \n",
       " ------------------------- --------------- ... ------------ -------------\n",
       " sne/Ia/sn1989b.p16.Sb.dat rebinned/gal/Sb ...   0.26517215           0.0,\n",
       " <Table length=1>\n",
       "           OBJECT               GALAXY     ... CONST_SN_ERR CONST_EXT_ERR\n",
       "          bytes100             bytes100    ...   float32       float32   \n",
       " ------------------------- --------------- ... ------------ -------------\n",
       " sne/Ia/sn1989b.p16.Sb.dat rebinned/gal/Sb ...   0.06607772           0.0,\n",
       " <Table length=1>\n",
       "           OBJECT               GALAXY     ... CONST_SN_ERR CONST_EXT_ERR\n",
       "          bytes100             bytes100    ...   float32       float32   \n",
       " ------------------------- --------------- ... ------------ -------------\n",
       " sne/Ia/sn1989b.p16.Sb.dat rebinned/gal/Sb ...   0.41351837           0.0,\n",
       " <Table length=1>\n",
       "           OBJECT               GALAXY     ... CONST_SN_ERR CONST_EXT_ERR\n",
       "          bytes100             bytes100    ...   float32       float32   \n",
       " ------------------------- --------------- ... ------------ -------------\n",
       " sne/Ia/sn1989b.p16.Sb.dat rebinned/gal/Sb ...  0.123682775           0.0,\n",
       " <Table length=1>\n",
       "           OBJECT               GALAXY     ... CONST_SN_ERR CONST_EXT_ERR\n",
       "          bytes100             bytes100    ...   float32       float32   \n",
       " ------------------------- --------------- ... ------------ -------------\n",
       " sne/Ia/sn1989b.p16.Sb.dat rebinned/gal/Sb ...   0.45502296           0.0,\n",
       " <Table length=1>\n",
       "           OBJECT               GALAXY     ... CONST_SN_ERR CONST_EXT_ERR\n",
       "          bytes100             bytes100    ...   float32       float32   \n",
       " ------------------------- --------------- ... ------------ -------------\n",
       " sne/Ia/sn1989b.p16.Sb.dat rebinned/gal/Sb ...    0.4509088           0.0,\n",
       " <Table length=1>\n",
       "           OBJECT               GALAXY     ... CONST_SN_ERR CONST_EXT_ERR\n",
       "          bytes100             bytes100    ...   float32       float32   \n",
       " ------------------------- --------------- ... ------------ -------------\n",
       " sne/Ia/sn1989b.p16.Sb.dat rebinned/gal/Sb ...     0.437533           0.0,\n",
       " <Table length=1>\n",
       "           OBJECT               GALAXY     ... CONST_SN_ERR CONST_EXT_ERR\n",
       "          bytes100             bytes100    ...   float32       float32   \n",
       " ------------------------- --------------- ... ------------ -------------\n",
       " sne/Ia/sn1989b.p16.Sb.dat rebinned/gal/Sb ...   0.99308217           0.0,\n",
       " <Table length=1>\n",
       "           OBJECT               GALAXY     ... CONST_SN_ERR CONST_EXT_ERR\n",
       "          bytes100             bytes100    ...   float32       float32   \n",
       " ------------------------- --------------- ... ------------ -------------\n",
       " sne/Ia/sn1989b.p16.Sb.dat rebinned/gal/Sb ...    1.2276208           0.0,\n",
       " <Table length=1>\n",
       "           OBJECT               GALAXY     ... CONST_SN_ERR CONST_EXT_ERR\n",
       "          bytes100             bytes100    ...   float32       float32   \n",
       " ------------------------- --------------- ... ------------ -------------\n",
       " sne/Ia/sn1989b.p16.Sb.dat rebinned/gal/Sb ...   0.44316944           0.0,\n",
       " <Table length=1>\n",
       "           OBJECT               GALAXY     ... CONST_SN_ERR CONST_EXT_ERR\n",
       "          bytes100             bytes100    ...   float32       float32   \n",
       " ------------------------- --------------- ... ------------ -------------\n",
       " sne/Ia/sn1989b.p16.Sb.dat rebinned/gal/Sb ...   0.37365457           0.0,\n",
       " <Table length=1>\n",
       "           OBJECT               GALAXY     ... CONST_SN_ERR CONST_EXT_ERR\n",
       "          bytes100             bytes100    ...   float32       float32   \n",
       " ------------------------- --------------- ... ------------ -------------\n",
       " sne/Ia/sn1989b.p16.Sb.dat rebinned/gal/Sb ...   0.18721567           0.0,\n",
       " <Table length=1>\n",
       "           OBJECT               GALAXY     ... CONST_SN_ERR CONST_EXT_ERR\n",
       "          bytes100             bytes100    ...   float32       float32   \n",
       " ------------------------- --------------- ... ------------ -------------\n",
       " sne/Ia/sn1989b.p16.Sb.dat rebinned/gal/Sb ...   0.17469804           0.0]"
      ]
     },
     "execution_count": 91,
     "metadata": {},
     "output_type": "execute_result"
    }
   ],
   "source": [
    "[wrapper_fit(x) for x in cartesian_product_all]"
   ]
  },
  {
   "cell_type": "code",
   "execution_count": 92,
   "metadata": {},
   "outputs": [],
   "source": [
    "#In order to identify the files giving me trouble\n",
    "\n",
    "for file in np.unique(cartesian_product_all['SN']):\n",
    "    try:\n",
    "        np.loadtxt(file)\n",
    "    except:\n",
    "        print(file)\n"
   ]
  },
  {
   "cell_type": "code",
   "execution_count": 86,
   "metadata": {},
   "outputs": [
    {
     "data": {
      "text/plain": [
       "array([[1.100000e+03, 0.000000e+00],\n",
       "       [1.104000e+03, 0.000000e+00],\n",
       "       [1.108000e+03, 0.000000e+00],\n",
       "       ...,\n",
       "       [1.199200e+04, 2.602151e-14],\n",
       "       [1.199600e+04, 2.602175e-14],\n",
       "       [1.200000e+04, 2.602199e-14]])"
      ]
     },
     "execution_count": 86,
     "metadata": {},
     "output_type": "execute_result"
    }
   ],
   "source": [
    "np.loadtxt('gal/Sb')"
   ]
  },
  {
   "cell_type": "code",
   "execution_count": null,
   "metadata": {},
   "outputs": [],
   "source": []
  },
  {
   "cell_type": "code",
   "execution_count": null,
   "metadata": {},
   "outputs": [],
   "source": []
  }
 ],
 "metadata": {
  "kernelspec": {
   "display_name": "Python 3",
   "language": "python",
   "name": "python3"
  },
  "language_info": {
   "codemirror_mode": {
    "name": "ipython",
    "version": 3
   },
   "file_extension": ".py",
   "mimetype": "text/x-python",
   "name": "python",
   "nbconvert_exporter": "python",
   "pygments_lexer": "ipython3",
   "version": "3.7.1"
  }
 },
 "nbformat": 4,
 "nbformat_minor": 2
}
