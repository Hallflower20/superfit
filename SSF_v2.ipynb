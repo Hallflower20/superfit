{
 "cells": [
  {
   "cell_type": "code",
   "execution_count": 260,
   "metadata": {},
   "outputs": [],
   "source": [
    "import glob\n",
    "from astropy import table\n",
    "from astropy.io import ascii\n",
    "import numpy as np\n",
    "import matplotlib.pyplot as plt\n",
    "import\tmultiprocessing as mp\n",
    "#from plotsettings_py36 import *\n",
    "from scipy import interpolate\n",
    "import scipy\n",
    "import scipy.optimize\n",
    "from scipy.optimize import curve_fit\n",
    "import time\n",
    "import pandas as pd \n",
    "from scipy import stats\n",
    "import matplotlib.pyplot as plt\n",
    "from scipy.interpolate import interp1d\n"
   ]
  },
  {
   "cell_type": "markdown",
   "metadata": {},
   "source": [
    "# (Super) Functions"
   ]
  },
  {
   "cell_type": "code",
   "execution_count": 261,
   "metadata": {},
   "outputs": [],
   "source": [
    "def cartesian_product(*arrays):\n",
    "    la = len(arrays)\n",
    "    dtype = np.result_type(*arrays)\n",
    "    arr = np.empty([len(a) for a in arrays] + [la], dtype=dtype)\n",
    "    for i, a in enumerate(np.ix_(*arrays)):\n",
    "        arr[...,i] = a\n",
    "    return arr.reshape(-1, la)"
   ]
  },
  {
   "cell_type": "code",
   "execution_count": 262,
   "metadata": {},
   "outputs": [],
   "source": [
    "#lam is in angtroms \n",
    "#A_v is a user input\n",
    "\n",
    "import extinction\n",
    "\n",
    "A_v = 1.0\n",
    "\n",
    "def Alam(lamin, A_v):\n",
    "\n",
    "    lam=np.zeros(len(lamin))\n",
    "    redreturn=np.zeros(len(lamin))\n",
    "\n",
    "    #Add extinction with R_v= 3.1 and A_v = 1     \n",
    "    extinction.ccm89(lam, A_v, 3.1)\n",
    "        \n",
    "    return redreturn\n"
   ]
  },
  {
   "cell_type": "code",
   "execution_count": 263,
   "metadata": {},
   "outputs": [],
   "source": [
    "def select_templates(DATABASE, TYPES):\n",
    "\n",
    "       \n",
    "#    Selects templates of a given type(s) from a template database\n",
    "    \n",
    "#    Input: DATEBASE   list of templates\n",
    "#           TYPES      which types should be selected\n",
    "    \n",
    "#    Output: array of templates of given type(s)\n",
    "       \n",
    "    database_trunc = list([])\n",
    "    \n",
    "    for type in TYPES:\n",
    "        database_trunc += list([x for x in DATABASE if type in x])\n",
    "    \n",
    "    return np.array(database_trunc)"
   ]
  },
  {
   "cell_type": "markdown",
   "metadata": {},
   "source": [
    "## Get Sigma"
   ]
  },
  {
   "cell_type": "code",
   "execution_count": 264,
   "metadata": {},
   "outputs": [],
   "source": [
    "import numpy as np\n",
    "import matplotlib.pyplot as plt\n",
    "import scipy\n",
    "import scipy.optimize\n",
    "from scipy.optimize import curve_fit\n",
    "import statistics \n",
    "\n",
    "def error_spectra(spec_object): \n",
    "\n",
    "    flux = spec_object[:,1]\n",
    "    lam  = spec_object[:,0]\n",
    "\n",
    "#For how many points do we make the lines\n",
    "    num=10\n",
    "\n",
    "    if len(flux)%num != 0:\n",
    "        c = len(flux)%num\n",
    "        flux = flux[:-c]\n",
    "        lams = lam[:-c]\n",
    "    \n",
    "    \n",
    "    flux_new = flux.reshape((-1,num))\n",
    "    lam_new  = lams.reshape((-1,num))\n",
    "    m = []\n",
    "    b = []\n",
    "    sigma = []\n",
    "\n",
    "    for n in range(len(lam_new)):\n",
    "        r=[]\n",
    "        error=[]\n",
    "        \n",
    "        a = np.polyfit(lam_new[n], flux_new[n], 1)\n",
    "        m.append(a[0])\n",
    "        b.append(a[1])\n",
    "        y = m[n]*lam_new[n]+b[n]\n",
    "          \n",
    "        r = flux_new - y\n",
    "        \n",
    "        plt.plot(lam_new[n], flux_new[n], '.' )\n",
    "        plt.plot(lam_new[n], y)\n",
    "        plt.plot(lam_new[n], flux_new[n]-y, 'ko', markersize=1)\n",
    "       \n",
    "        plt.title('For n*10th Entry')\n",
    "        plt.ylabel('Flux')\n",
    "        plt.xlabel('Lamda')\n",
    "    \n",
    "\n",
    "    for i in r: \n",
    "        s = statistics.stdev(i)\n",
    "        sigma.append(s)\n",
    "    \n",
    "\n",
    "# Here we make the error be the same size as the original lambda and then take the transpose\n",
    "\n",
    "    error = list(np.repeat(sigma, num))\n",
    "    l = [error[-1]] * c\n",
    "    error = error + l\n",
    "\n",
    "    error = np.asarray(error)\n",
    "    \n",
    "    return np.array([lam,error]).T"
   ]
  },
  {
   "cell_type": "markdown",
   "metadata": {},
   "source": [
    "# Compute the (Super) fit"
   ]
  },
  {
   "cell_type": "code",
   "execution_count": 265,
   "metadata": {},
   "outputs": [],
   "source": [
    "from scipy.interpolate import interp1d\n",
    "\n",
    "\n",
    "def wrapper_fit(DATABASE):\n",
    "\n",
    "    \"\"\"\n",
    "    Compute the fit\n",
    "    \"\"\"\n",
    "   \n",
    "    # 1) File i/o\n",
    "    \n",
    "    spec_gal    = np.loadtxt(DATABASE['GALAXY'])\n",
    "    spec_SN     = np.loadtxt(DATABASE['SN'])\n",
    "    spec_object = np.loadtxt(DATABASE['OBJECT'])\n",
    "    error       = error_spectra(spec_object)\n",
    "    #spec_object[:,1]*=10\n",
    "   \n",
    "    # 3) Interpolate spectra\n",
    "    \n",
    "    spec_gal_interp    = interpolate.interp1d(spec_gal[:,0],    spec_gal[:,1],    bounds_error=False, fill_value=np.nan)\n",
    "    spec_sn_interp     = interpolate.interp1d(spec_SN[:,0],     spec_SN[:,1],     bounds_error=False, fill_value=np.nan)\n",
    "    spec_object_interp = interpolate.interp1d(spec_object[:,0], spec_object[:,1], bounds_error=False, fill_value=np.nan)\n",
    "    spec_object_err_interp = interpolate.interp1d(error[:,0],     error[:,1],     bounds_error=False, fill_value=np.nan)\n",
    "    \n",
    "    # Determine the common wavelength range\n",
    "    \n",
    "    lambda_min = max([spec_gal[:,0][0],  spec_SN[:,0][0],  spec_object[:,0][0]])\n",
    "    lambda_max = min([spec_gal[:,0][-1], spec_SN[:,0][-1], spec_object[:,0][-1]])\n",
    "    \n",
    "    # Truncate wavelength interval\n",
    "    \n",
    "    lambda_new= spec_object[:,0][ (spec_object[:,0] >= lambda_min) & (spec_object[:,0] <= lambda_max) ]\n",
    "    \n",
    "    # 4) Fit function\n",
    "\n",
    "    def func(x, b, d, z, c):\n",
    "        return b * spec_sn_interp(x/(z+1))*10**(c*Alam(x,1)) + d * spec_gal_interp(x/(z+1))\n",
    "\n",
    "    # fitting\n",
    "     \n",
    "    result = curve_fit(func, lambda_new, spec_object_interp(lambda_new), sigma=spec_object_err_interp(lambda_new),\n",
    "                      p0=[1,1,0,1])\n",
    "    print(result)\n",
    "    popt   = result[0]\n",
    "    pcov   = result[1]\n",
    "    \n",
    "    # Compute chi^2\n",
    "    #sigma = 1\n",
    "    sigma = spec_object_err_interp(lambda_new)\n",
    "    chi2   = np.sum(((spec_object_interp(lambda_new)-func(lambda_new, *popt))/sigma)**2)\n",
    "    #print(DATABASE['GALAXY'], DATABASE['SN'])\n",
    "\n",
    "    print(sigma)\n",
    "    output=table.Table(\n",
    "            np.array([DATABASE['OBJECT'], DATABASE['GALAXY'], DATABASE['SN'], chi2, popt[0], popt[1], popt[2], popt[3], np.sqrt(pcov[0,0]), 0]), \n",
    "            names=('OBJECT', 'GALAXY', 'SN', 'CHI2', 'CONST_SN', 'CONST_GAL', 'CONST_Z', 'CONST_C' , 'CONST_SN_ERR', 'CONST_EXT_ERR'), \n",
    "            dtype=('S100', 'S100', 'S100', 'f', 'f', 'f', 'f', 'f', 'f', 'f'))\n",
    "    \n",
    "    \n",
    "    return output\n",
    "    "
   ]
  },
  {
   "cell_type": "markdown",
   "metadata": {},
   "source": [
    "# Read in spectral database"
   ]
  },
  {
   "cell_type": "code",
   "execution_count": 266,
   "metadata": {},
   "outputs": [],
   "source": [
    "\n",
    "templates_gal = glob.glob('rebinned/gal/*')\n",
    "templates_gal = [x for x in templates_gal if 'CVS' not in x and 'README' not in x]\n",
    "templates_gal = np.array(templates_gal)\n",
    "\n",
    "templates_sn = glob.glob('rebinned/sne/**/*')\n",
    "templates_sn = [x for x in templates_sn if 'CVS' not in x and 'README' not in x]\n",
    "templates_sn = np.array(templates_sn)\n",
    "\n",
    "#These parameters are user inputs \n",
    "templates_dust = np.array([-0.2, 0.1])"
   ]
  },
  {
   "cell_type": "markdown",
   "metadata": {},
   "source": [
    "## Truncate templates SN, HG\n"
   ]
  },
  {
   "cell_type": "code",
   "execution_count": 267,
   "metadata": {},
   "outputs": [],
   "source": [
    "#Truncate the SN \n",
    "templates_sn_trunc = select_templates(templates_sn, ['/Ia/' , '/Ib/','II'])\n",
    "#templates_sn_trunc = select_templates(templates_sn, ['/Ic/'])\n",
    "\n",
    "#Truncate the host galaxy\n",
    "templates_gal_trunc = select_templates(templates_gal, ['/SB1'])\n"
   ]
  },
  {
   "cell_type": "markdown",
   "metadata": {},
   "source": [
    "# Compute the cartesian product of SN templates, galaxy templates and extinction measurements"
   ]
  },
  {
   "cell_type": "code",
   "execution_count": 268,
   "metadata": {},
   "outputs": [
    {
     "data": {
      "text/html": [
       "<i>Table length=329</i>\n",
       "<table id=\"table112361167168\" class=\"table-striped table-bordered table-condensed\">\n",
       "<thead><tr><th>GALAXY</th><th>SN</th><th>DUST</th><th>OBJECT</th></tr></thead>\n",
       "<thead><tr><th>str34</th><th>str34</th><th>str34</th><th>str36</th></tr></thead>\n",
       "<tr><td>rebinned/gal/SB1</td><td>rebinned/sne/Ia/sn1989b.p14.dat</td><td>-0.2</td><td>rebinned/combined/sn1979C.p72.II.SB1</td></tr>\n",
       "<tr><td>rebinned/gal/SB1</td><td>rebinned/sne/Ia/sn1981b.max.dat</td><td>-0.2</td><td>rebinned/combined/sn1979C.p72.II.SB1</td></tr>\n",
       "<tr><td>rebinned/gal/SB1</td><td>rebinned/sne/Ia/sn1992a.p28.dat</td><td>-0.2</td><td>rebinned/combined/sn1979C.p72.II.SB1</td></tr>\n",
       "<tr><td>rebinned/gal/SB1</td><td>rebinned/sne/Ia/sn1998bu.p27.dat</td><td>-0.2</td><td>rebinned/combined/sn1979C.p72.II.SB1</td></tr>\n",
       "<tr><td>rebinned/gal/SB1</td><td>rebinned/sne/Ia/sn1990n.m07.dat</td><td>-0.2</td><td>rebinned/combined/sn1979C.p72.II.SB1</td></tr>\n",
       "<tr><td>rebinned/gal/SB1</td><td>rebinned/sne/Ia/sn1999aa.p06.dat</td><td>-0.2</td><td>rebinned/combined/sn1979C.p72.II.SB1</td></tr>\n",
       "<tr><td>rebinned/gal/SB1</td><td>rebinned/sne/Ia/sn1986g.m03.dat</td><td>-0.2</td><td>rebinned/combined/sn1979C.p72.II.SB1</td></tr>\n",
       "<tr><td>rebinned/gal/SB1</td><td>rebinned/sne/Ia/sn1989b.m07.dat</td><td>-0.2</td><td>rebinned/combined/sn1979C.p72.II.SB1</td></tr>\n",
       "<tr><td>rebinned/gal/SB1</td><td>rebinned/sne/Ia/sn1999aa.m01.dat</td><td>-0.2</td><td>rebinned/combined/sn1979C.p72.II.SB1</td></tr>\n",
       "<tr><td>rebinned/gal/SB1</td><td>rebinned/sne/Ia/sn1990n.p14.dat</td><td>-0.2</td><td>rebinned/combined/sn1979C.p72.II.SB1</td></tr>\n",
       "<tr><td>...</td><td>...</td><td>...</td><td>...</td></tr>\n",
       "<tr><td>rebinned/gal/SB1</td><td>rebinned/sne/II/theory99em.p30.dat</td><td>-0.2</td><td>rebinned/combined/sn1979C.p72.II.SB1</td></tr>\n",
       "<tr><td>rebinned/gal/SB1</td><td>rebinned/sne/II/sn2005cs.p33.dat</td><td>-0.2</td><td>rebinned/combined/sn1979C.p72.II.SB1</td></tr>\n",
       "<tr><td>rebinned/gal/SB1</td><td>rebinned/sne/II/sn2005cl.p44.dat</td><td>-0.2</td><td>rebinned/combined/sn1979C.p72.II.SB1</td></tr>\n",
       "<tr><td>rebinned/gal/SB1</td><td>rebinned/sne/II/sn2004et.p248.dat</td><td>-0.2</td><td>rebinned/combined/sn1979C.p72.II.SB1</td></tr>\n",
       "<tr><td>rebinned/gal/SB1</td><td>rebinned/sne/II/sn1987B.p07.dat</td><td>-0.2</td><td>rebinned/combined/sn1979C.p72.II.SB1</td></tr>\n",
       "<tr><td>rebinned/gal/SB1</td><td>rebinned/sne/II/theory99em.p25.dat</td><td>-0.2</td><td>rebinned/combined/sn1979C.p72.II.SB1</td></tr>\n",
       "<tr><td>rebinned/gal/SB1</td><td>rebinned/sne/II/sn1999em.p137.dat</td><td>-0.2</td><td>rebinned/combined/sn1979C.p72.II.SB1</td></tr>\n",
       "<tr><td>rebinned/gal/SB1</td><td>rebinned/sne/II/sn2004et.p76.dat</td><td>-0.2</td><td>rebinned/combined/sn1979C.p72.II.SB1</td></tr>\n",
       "<tr><td>rebinned/gal/SB1</td><td>rebinned/sne/II/sn2005cs.p31.dat</td><td>-0.2</td><td>rebinned/combined/sn1979C.p72.II.SB1</td></tr>\n",
       "<tr><td>rebinned/gal/SB1</td><td>rebinned/sne/II/sn1987K.p07.dat</td><td>-0.2</td><td>rebinned/combined/sn1979C.p72.II.SB1</td></tr>\n",
       "</table>"
      ],
      "text/plain": [
       "<Table length=329>\n",
       "     GALAXY      ...                OBJECT               \n",
       "     str34       ...                str36                \n",
       "---------------- ... ------------------------------------\n",
       "rebinned/gal/SB1 ... rebinned/combined/sn1979C.p72.II.SB1\n",
       "rebinned/gal/SB1 ... rebinned/combined/sn1979C.p72.II.SB1\n",
       "rebinned/gal/SB1 ... rebinned/combined/sn1979C.p72.II.SB1\n",
       "rebinned/gal/SB1 ... rebinned/combined/sn1979C.p72.II.SB1\n",
       "rebinned/gal/SB1 ... rebinned/combined/sn1979C.p72.II.SB1\n",
       "rebinned/gal/SB1 ... rebinned/combined/sn1979C.p72.II.SB1\n",
       "rebinned/gal/SB1 ... rebinned/combined/sn1979C.p72.II.SB1\n",
       "rebinned/gal/SB1 ... rebinned/combined/sn1979C.p72.II.SB1\n",
       "rebinned/gal/SB1 ... rebinned/combined/sn1979C.p72.II.SB1\n",
       "rebinned/gal/SB1 ... rebinned/combined/sn1979C.p72.II.SB1\n",
       "             ... ...                                  ...\n",
       "rebinned/gal/SB1 ... rebinned/combined/sn1979C.p72.II.SB1\n",
       "rebinned/gal/SB1 ... rebinned/combined/sn1979C.p72.II.SB1\n",
       "rebinned/gal/SB1 ... rebinned/combined/sn1979C.p72.II.SB1\n",
       "rebinned/gal/SB1 ... rebinned/combined/sn1979C.p72.II.SB1\n",
       "rebinned/gal/SB1 ... rebinned/combined/sn1979C.p72.II.SB1\n",
       "rebinned/gal/SB1 ... rebinned/combined/sn1979C.p72.II.SB1\n",
       "rebinned/gal/SB1 ... rebinned/combined/sn1979C.p72.II.SB1\n",
       "rebinned/gal/SB1 ... rebinned/combined/sn1979C.p72.II.SB1\n",
       "rebinned/gal/SB1 ... rebinned/combined/sn1979C.p72.II.SB1\n",
       "rebinned/gal/SB1 ... rebinned/combined/sn1979C.p72.II.SB1"
      ]
     },
     "execution_count": 268,
     "metadata": {},
     "output_type": "execute_result"
    }
   ],
   "source": [
    "cartesian_product_all=cartesian_product(*[templates_gal_trunc[:1], templates_sn_trunc, templates_dust[:1]])\n",
    "cartesian_product_all=table.Table(cartesian_product_all, names=('GALAXY', 'SN', 'DUST'))\n",
    "\n",
    "#In brakets here is the number of template I'm using to match\n",
    "cartesian_product_all['OBJECT']=[\"rebinned/combined/sn1979C.p72.II.SB1\"]\n",
    "\n",
    "\n",
    "cartesian_product_all"
   ]
  },
  {
   "cell_type": "code",
   "execution_count": 269,
   "metadata": {},
   "outputs": [
    {
     "data": {
      "text/plain": [
       "range(0, 329)"
      ]
     },
     "execution_count": 269,
     "metadata": {},
     "output_type": "execute_result"
    }
   ],
   "source": [
    "index_array=range(len(cartesian_product_all))\n",
    "index_array"
   ]
  },
  {
   "cell_type": "code",
   "execution_count": 270,
   "metadata": {
    "scrolled": true
   },
   "outputs": [],
   "source": [
    "%%capture\n",
    "output=wrapper_fit(cartesian_product_all[0])\n",
    "output"
   ]
  },
  {
   "cell_type": "code",
   "execution_count": 271,
   "metadata": {},
   "outputs": [],
   "source": [
    "%%capture\n",
    "\n",
    "if mp.cpu_count() > 1:\n",
    "     number_cpu\t= mp.cpu_count()/2\t# is equal to number of threads x number of physical cpus, e.g. 2x4\n",
    "else:\n",
    "    number_cpu\t= mp.cpu_count()\n",
    "number_cpu\n",
    "pool\t= mp.Pool(processes=int(number_cpu)*2)\n"
   ]
  },
  {
   "cell_type": "code",
   "execution_count": 272,
   "metadata": {
    "scrolled": true
   },
   "outputs": [],
   "source": [
    "result = pool.map(wrapper_fit, cartesian_product_all)"
   ]
  },
  {
   "cell_type": "code",
   "execution_count": null,
   "metadata": {},
   "outputs": [],
   "source": [
    "result=table.vstack(result)"
   ]
  },
  {
   "cell_type": "code",
   "execution_count": null,
   "metadata": {
    "scrolled": false
   },
   "outputs": [],
   "source": [
    "%%capture\n",
    "result=[wrapper_fit(x) for x in cartesian_product_all]\n",
    "result=table.vstack(result)"
   ]
  },
  {
   "cell_type": "code",
   "execution_count": null,
   "metadata": {},
   "outputs": [
    {
     "data": {
      "text/html": [
       "<i>Table length=329</i>\n",
       "<table id=\"table112242665904\" class=\"table-striped table-bordered table-condensed\">\n",
       "<thead><tr><th>OBJECT</th><th>GALAXY</th><th>SN</th><th>CHI2</th><th>CONST_SN</th><th>CONST_GAL</th><th>CONST_Z</th><th>CONST_C</th><th>CONST_SN_ERR</th><th>CONST_EXT_ERR</th></tr></thead>\n",
       "<thead><tr><th>bytes100</th><th>bytes100</th><th>bytes100</th><th>float32</th><th>float32</th><th>float32</th><th>float32</th><th>float32</th><th>float32</th><th>float32</th></tr></thead>\n",
       "<tr><td>rebinned/combined/sn1979C.p72.II.SB1</td><td>rebinned/gal/SB1</td><td>rebinned/sne/II/sn1979C.p72.dat</td><td>0.0</td><td>1.0</td><td>1.0</td><td>0.0</td><td>1.0</td><td>inf</td><td>0.0</td></tr>\n",
       "<tr><td>rebinned/combined/sn1979C.p72.II.SB1</td><td>rebinned/gal/SB1</td><td>rebinned/sne/Ia/sn1989b.m03.dat</td><td>25.745718</td><td>-0.2675479</td><td>1.644681</td><td>-0.0017612302</td><td>1.0</td><td>inf</td><td>0.0</td></tr>\n",
       "<tr><td>rebinned/combined/sn1979C.p72.II.SB1</td><td>rebinned/gal/SB1</td><td>rebinned/sne/Ia/sn1989b.m02.dat</td><td>28.323742</td><td>0.0032662537</td><td>1.4799305</td><td>-0.0021343438</td><td>1.0</td><td>inf</td><td>0.0</td></tr>\n",
       "<tr><td>rebinned/combined/sn1979C.p72.II.SB1</td><td>rebinned/gal/SB1</td><td>rebinned/sne/II/sn1980K.p41.dat</td><td>48.783596</td><td>0.93649036</td><td>0.9649995</td><td>-0.002178027</td><td>1.0</td><td>inf</td><td>0.0</td></tr>\n",
       "<tr><td>rebinned/combined/sn1979C.p72.II.SB1</td><td>rebinned/gal/SB1</td><td>rebinned/sne/Ia/sn1992a.p46.dat</td><td>50.505375</td><td>0.1678032</td><td>1.2948143</td><td>0.0009181967</td><td>1.0</td><td>inf</td><td>0.0</td></tr>\n",
       "<tr><td>rebinned/combined/sn1979C.p72.II.SB1</td><td>rebinned/gal/SB1</td><td>rebinned/sne/Ib/sn1984L.p30.dat</td><td>52.879326</td><td>0.36635327</td><td>1.3334831</td><td>-0.0013868092</td><td>1.0</td><td>inf</td><td>0.0</td></tr>\n",
       "<tr><td>rebinned/combined/sn1979C.p72.II.SB1</td><td>rebinned/gal/SB1</td><td>rebinned/sne/Ia/sn1981b.p58.dat</td><td>53.781578</td><td>0.2720051</td><td>1.3508911</td><td>0.000512413</td><td>1.0</td><td>inf</td><td>0.0</td></tr>\n",
       "<tr><td>rebinned/combined/sn1979C.p72.II.SB1</td><td>rebinned/gal/SB1</td><td>rebinned/sne/Ia/sn1986g.p22.dat</td><td>60.17013</td><td>0.25224906</td><td>1.4202626</td><td>3.3083234e-05</td><td>1.0</td><td>inf</td><td>0.0</td></tr>\n",
       "<tr><td>rebinned/combined/sn1979C.p72.II.SB1</td><td>rebinned/gal/SB1</td><td>rebinned/sne/Ia/sn2001ay.p16.dat</td><td>65.689255</td><td>0.55945265</td><td>1.1652249</td><td>0.005334863</td><td>1.0</td><td>inf</td><td>0.0</td></tr>\n",
       "<tr><td>rebinned/combined/sn1979C.p72.II.SB1</td><td>rebinned/gal/SB1</td><td>rebinned/sne/Ib/sn2008d.m12.dat</td><td>67.04072</td><td>0.79862946</td><td>1.0965135</td><td>-0.0015842759</td><td>1.0</td><td>inf</td><td>0.0</td></tr>\n",
       "<tr><td>...</td><td>...</td><td>...</td><td>...</td><td>...</td><td>...</td><td>...</td><td>...</td><td>...</td><td>...</td></tr>\n",
       "<tr><td>rebinned/combined/sn1979C.p72.II.SB1</td><td>rebinned/gal/SB1</td><td>rebinned/sne/Ia/sn1999aa.m11.dat</td><td>nan</td><td>1.0</td><td>1.0</td><td>0.0</td><td>1.0</td><td>inf</td><td>0.0</td></tr>\n",
       "<tr><td>rebinned/combined/sn1979C.p72.II.SB1</td><td>rebinned/gal/SB1</td><td>rebinned/sne/Ia/sn1999aa.m03.dat</td><td>nan</td><td>1.0</td><td>1.0</td><td>0.0</td><td>1.0</td><td>inf</td><td>0.0</td></tr>\n",
       "<tr><td>rebinned/combined/sn1979C.p72.II.SB1</td><td>rebinned/gal/SB1</td><td>rebinned/sne/Ia/sn1999ac.m15.dat</td><td>nan</td><td>1.0</td><td>1.0</td><td>0.0</td><td>1.0</td><td>inf</td><td>0.0</td></tr>\n",
       "<tr><td>rebinned/combined/sn1979C.p72.II.SB1</td><td>rebinned/gal/SB1</td><td>rebinned/sne/Ia/sn2010zz.p100.dat</td><td>nan</td><td>1.0</td><td>1.0</td><td>0.0</td><td>1.0</td><td>inf</td><td>0.0</td></tr>\n",
       "<tr><td>rebinned/combined/sn1979C.p72.II.SB1</td><td>rebinned/gal/SB1</td><td>rebinned/sne/Ia/sn1994d.p25.dat</td><td>nan</td><td>1.0</td><td>1.0</td><td>0.0</td><td>1.0</td><td>inf</td><td>0.0</td></tr>\n",
       "<tr><td>rebinned/combined/sn1979C.p72.II.SB1</td><td>rebinned/gal/SB1</td><td>rebinned/sne/Ia/sn1999ac.p02.dat</td><td>nan</td><td>1.0</td><td>1.0</td><td>0.0</td><td>1.0</td><td>inf</td><td>0.0</td></tr>\n",
       "<tr><td>rebinned/combined/sn1979C.p72.II.SB1</td><td>rebinned/gal/SB1</td><td>rebinned/sne/Ia/sn1999aa.m07.dat</td><td>nan</td><td>1.0</td><td>1.0</td><td>0.0</td><td>1.0</td><td>inf</td><td>0.0</td></tr>\n",
       "<tr><td>rebinned/combined/sn1979C.p72.II.SB1</td><td>rebinned/gal/SB1</td><td>rebinned/sne/Ia/sn1999ac.p16.dat</td><td>nan</td><td>1.0</td><td>1.0</td><td>0.0</td><td>1.0</td><td>inf</td><td>0.0</td></tr>\n",
       "<tr><td>rebinned/combined/sn1979C.p72.II.SB1</td><td>rebinned/gal/SB1</td><td>rebinned/sne/Ia/sn1999ac.p11.dat</td><td>nan</td><td>1.0</td><td>1.0</td><td>0.0</td><td>1.0</td><td>inf</td><td>0.0</td></tr>\n",
       "<tr><td>rebinned/combined/sn1979C.p72.II.SB1</td><td>rebinned/gal/SB1</td><td>rebinned/sne/Ia/sn1991bg.max.dat</td><td>nan</td><td>1.0</td><td>1.0</td><td>0.0</td><td>1.0</td><td>inf</td><td>0.0</td></tr>\n",
       "</table>"
      ],
      "text/plain": [
       "<Table length=329>\n",
       "               OBJECT                     GALAXY      ... CONST_EXT_ERR\n",
       "              bytes100                   bytes100     ...    float32   \n",
       "------------------------------------ ---------------- ... -------------\n",
       "rebinned/combined/sn1979C.p72.II.SB1 rebinned/gal/SB1 ...           0.0\n",
       "rebinned/combined/sn1979C.p72.II.SB1 rebinned/gal/SB1 ...           0.0\n",
       "rebinned/combined/sn1979C.p72.II.SB1 rebinned/gal/SB1 ...           0.0\n",
       "rebinned/combined/sn1979C.p72.II.SB1 rebinned/gal/SB1 ...           0.0\n",
       "rebinned/combined/sn1979C.p72.II.SB1 rebinned/gal/SB1 ...           0.0\n",
       "rebinned/combined/sn1979C.p72.II.SB1 rebinned/gal/SB1 ...           0.0\n",
       "rebinned/combined/sn1979C.p72.II.SB1 rebinned/gal/SB1 ...           0.0\n",
       "rebinned/combined/sn1979C.p72.II.SB1 rebinned/gal/SB1 ...           0.0\n",
       "rebinned/combined/sn1979C.p72.II.SB1 rebinned/gal/SB1 ...           0.0\n",
       "rebinned/combined/sn1979C.p72.II.SB1 rebinned/gal/SB1 ...           0.0\n",
       "                                 ...              ... ...           ...\n",
       "rebinned/combined/sn1979C.p72.II.SB1 rebinned/gal/SB1 ...           0.0\n",
       "rebinned/combined/sn1979C.p72.II.SB1 rebinned/gal/SB1 ...           0.0\n",
       "rebinned/combined/sn1979C.p72.II.SB1 rebinned/gal/SB1 ...           0.0\n",
       "rebinned/combined/sn1979C.p72.II.SB1 rebinned/gal/SB1 ...           0.0\n",
       "rebinned/combined/sn1979C.p72.II.SB1 rebinned/gal/SB1 ...           0.0\n",
       "rebinned/combined/sn1979C.p72.II.SB1 rebinned/gal/SB1 ...           0.0\n",
       "rebinned/combined/sn1979C.p72.II.SB1 rebinned/gal/SB1 ...           0.0\n",
       "rebinned/combined/sn1979C.p72.II.SB1 rebinned/gal/SB1 ...           0.0\n",
       "rebinned/combined/sn1979C.p72.II.SB1 rebinned/gal/SB1 ...           0.0\n",
       "rebinned/combined/sn1979C.p72.II.SB1 rebinned/gal/SB1 ...           0.0"
      ]
     },
     "execution_count": 275,
     "metadata": {},
     "output_type": "execute_result"
    }
   ],
   "source": [
    "result.sort('CHI2')\n",
    "result"
   ]
  },
  {
   "cell_type": "markdown",
   "metadata": {},
   "source": [
    "# (Super) Graph"
   ]
  },
  {
   "cell_type": "code",
   "execution_count": null,
   "metadata": {},
   "outputs": [],
   "source": [
    "def visualise_match(DATABASE):\n",
    "\n",
    "    # File i/o\n",
    "    \n",
    "#    print(DATABASE)\n",
    "    \n",
    "    spec_gal    = np.loadtxt(DATABASE['GALAXY'][0])\n",
    "    spec_SN     = np.loadtxt(DATABASE['SN'][0])\n",
    "    spec_object = np.loadtxt(DATABASE['OBJECT'][0])\n",
    "    #spec_object[:,1]*=10\n",
    "\n",
    "    # Plot data\n",
    "    \"\"\"\n",
    "    bestfit_galaxy = DATABASE['GALAXY'].split('/')[-1]\n",
    "    bestfit_sn_name = DATABASE['SN'].split('/')[2].split('.')[0]\n",
    "    bestfit_sn_type = DATABASE['SN'].split('/')[1]\n",
    "    bestfit_sn_phase = '+' + DATABASE['SN'].split('/')[2].split('.')[1].replace('p', '') if 'p' in DATABASE['SN'].split('/')[2].split('.')[1] else '-' + DATABASE['SN'].split('/')[2].split('.')[1].replace('m', '')\n",
    "    \"\"\"\n",
    "    \n",
    "    \n",
    "    lambda_min = max([spec_gal[:,0][0],  spec_SN[:,0][0]])\n",
    "    lambda_max = min([spec_gal[:,0][-1], spec_SN[:,0][-1]])\n",
    "    \n",
    "    lam = spec_SN[:,0][ (spec_SN[:,0] >= lambda_min) & (spec_SN[:,0] <= lambda_max) ]\n",
    "    \n",
    "    spec_gal_interp  = interpolate.interp1d(spec_gal[:,0], spec_gal[:,1], bounds_error=False, fill_value=np.nan)\n",
    "    spec_sn_interp  = interpolate.interp1d(spec_SN[:,0], spec_SN[:,1],  bounds_error=False, fill_value=np.nan)\n",
    "    \n",
    "    combined = spec_gal_interp(lam) + spec_sn_interp(lam)\n",
    "   \n",
    "    plt.figure(figsize=(7*np.sqrt(2), 7))\n",
    "    \n",
    "    ax = plt.subplot(111)\n",
    "    ax.plot(spec_object[:,0], spec_object[:,1], 'm' , lw=5, label='Input spectrum')\n",
    "#    ax.plot(spec_gal[:,0], DATABASE['CONST_GAL'] * spec_gal[:,1], lw=1, label='Galaxy template')#: {}'.format(bestfit_galaxy))\n",
    "#    ax.plot(spec_SN[:,0],  DATABASE['CONST_SN']  * spec_SN[:,1],  lw=1, label='SN template')#: {name} ({type}, {phase} days)'.format(type=bestfit_sn_type, name=bestfit_sn_name, phase=bestfit_sn_phase))\n",
    "    ax.plot(lam, combined, 'k' ,lw=2, label='Galaxy template')\n",
    "  \n",
    "    \n",
    "    \n",
    "    ax.legend()#fontsize=legend_size-4)\n",
    "    \n",
    "    ax.set_xlabel('Observed wavelength (\\\\AA)')\n",
    "    ax.set_ylabel('Flux density (arbitary units)')\n",
    "    \n",
    "    ax.set_xlim(spec_object[0,0]-20, spec_object[-1,0]-20)\n",
    "    ax.set_ylim(0, max(spec_object[:,1])*1.2)\n",
    "    \n",
    "    plt.show()\n"
   ]
  },
  {
   "cell_type": "code",
   "execution_count": null,
   "metadata": {},
   "outputs": [
    {
     "data": {
      "text/plain": [
       "'rebinned/combined/sn1979C.p72.II.SB1'"
      ]
     },
     "execution_count": 277,
     "metadata": {},
     "output_type": "execute_result"
    }
   ],
   "source": [
    "result[0]['OBJECT']"
   ]
  },
  {
   "cell_type": "code",
   "execution_count": null,
   "metadata": {
    "scrolled": true
   },
   "outputs": [
    {
     "name": "stdout",
     "output_type": "stream",
     "text": [
      "<Table length=1>\n",
      "     name      dtype   n_bad\n",
      "------------- -------- -----\n",
      "       OBJECT bytes100     0\n",
      "       GALAXY bytes100     0\n",
      "           SN bytes100     0\n",
      "         CHI2  float32     0\n",
      "     CONST_SN  float32     0\n",
      "    CONST_GAL  float32     0\n",
      "      CONST_Z  float32     0\n",
      "      CONST_C  float32     0\n",
      " CONST_SN_ERR  float32     1\n",
      "CONST_EXT_ERR  float32     0\n",
      "None\n"
     ]
    },
    {
     "data": {
      "image/png": "[encoded data removed]",
      "text/plain": [
       "<Figure size 712.764x504 with 1 Axes>"
      ]
     },
     "metadata": {
      "needs_background": "light"
     },
     "output_type": "display_data"
    }
   ],
   "source": [
    "print(output.info())\n",
    "visualise_match(table.Table(result[0]))"
   ]
  },
  {
   "cell_type": "code",
   "execution_count": null,
   "metadata": {},
   "outputs": [
    {
     "data": {
      "text/plain": [
       "'/Users/user/Desktop/ssf/superfit'"
      ]
     },
     "execution_count": 279,
     "metadata": {},
     "output_type": "execute_result"
    }
   ],
   "source": [
    "import os\n",
    "os.getcwd()"
   ]
  },
  {
   "cell_type": "code",
   "execution_count": null,
   "metadata": {
    "scrolled": true
   },
   "outputs": [],
   "source": [
    "%%capture\n",
    "[wrapper_fit(x) for x in cartesian_product_all]"
   ]
  },
  {
   "cell_type": "code",
   "execution_count": null,
   "metadata": {},
   "outputs": [],
   "source": [
    "#In order to identify the files giving me trouble\n",
    "\n",
    "for file in np.unique(cartesian_product_all['SN']):\n",
    "    try:\n",
    "        np.loadtxt(file)\n",
    "    except:\n",
    "        print(file)\n"
   ]
  }
 ],
 "metadata": {
  "kernelspec": {
   "display_name": "Python 3",
   "language": "python",
   "name": "python3"
  },
  "language_info": {
   "codemirror_mode": {
    "name": "ipython",
    "version": 3
   },
   "file_extension": ".py",
   "mimetype": "text/x-python",
   "name": "python",
   "nbconvert_exporter": "python",
   "pygments_lexer": "ipython3",
   "version": "3.7.1"
  }
 },
 "nbformat": 4,
 "nbformat_minor": 2
}
