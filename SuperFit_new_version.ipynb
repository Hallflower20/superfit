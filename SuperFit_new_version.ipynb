{
 "cells": [
  {
   "cell_type": "code",
   "execution_count": 1,
   "metadata": {},
   "outputs": [],
   "source": [
    "import glob\n",
    "import numpy as np\n",
    "import matplotlib.pyplot as plt\n",
    "from scipy import interpolate\n",
    "import scipy\n",
    "import scipy.optimize\n",
    "import matplotlib.pyplot as plt\n",
    "from scipy.interpolate import interp1d\n",
    "import time\n",
    "import statistics \n",
    "from extinction import ccm89, apply\n",
    "from astropy import table\n",
    "from astropy.io import ascii\n",
    "from scipy.optimize import least_squares"
   ]
  },
  {
   "cell_type": "markdown",
   "metadata": {},
   "source": [
    "# Object error"
   ]
  },
  {
   "cell_type": "code",
   "execution_count": 2,
   "metadata": {},
   "outputs": [],
   "source": [
    "def error_spectra(spec_object): \n",
    "\n",
    "    flux = spec_object[:,1]\n",
    "    lam  = spec_object[:,0]\n",
    "\n",
    "#For how many points do we make the lines\n",
    "    num = 10\n",
    "\n",
    "    if len(flux)%num != 0:\n",
    "        c = len(flux)%num\n",
    "        flux = flux[:-c]\n",
    "        lams = lam[:-c]\n",
    "    \n",
    "    else:\n",
    "        lams = lam\n",
    "        c = 0\n",
    "    \n",
    "    \n",
    "    flux_new = flux.reshape((-1, num))\n",
    "    lam_new  = lams.reshape((-1, num))\n",
    "    m = []\n",
    "    b = []\n",
    "    sigma = []\n",
    "\n",
    "    for n in range(len(lam_new)):\n",
    "        r=[]\n",
    "        error=[]\n",
    "        \n",
    "        a = np.polyfit(lam_new[n], flux_new[n], 1)\n",
    "        m.append(a[0])\n",
    "        b.append(a[1])\n",
    "        y = m[n]*lam_new[n]+b[n]\n",
    "          \n",
    "        r = flux_new - y\n",
    "        \n",
    "        plt.plot(lam_new[n], flux_new[n], '.' )\n",
    "        plt.plot(lam_new[n], y)\n",
    "        plt.plot(lam_new[n], flux_new[n]-y, 'ko', markersize=1)\n",
    "       \n",
    "        plt.title('For n*10th Entry')\n",
    "        plt.ylabel('Flux')\n",
    "        plt.xlabel('Lamda')\n",
    "    \n",
    "\n",
    "    for i in r: \n",
    "        s = statistics.stdev(i)\n",
    "        sigma.append(s)\n",
    "    \n",
    "\n",
    "# Here we make the error be the same size as the original lambda and then take the transpose\n",
    "\n",
    "    error = list(np.repeat(sigma, num))\n",
    "    l = [error[-1]] * c\n",
    "    error = error + l\n",
    "\n",
    "    error = np.asarray(error)\n",
    "    \n",
    "    return np.array([lam,error]).T"
   ]
  },
  {
   "cell_type": "markdown",
   "metadata": {},
   "source": [
    "# Extinction Law"
   ]
  },
  {
   "cell_type": "code",
   "execution_count": 3,
   "metadata": {},
   "outputs": [],
   "source": [
    "A_v = 1.0\n",
    "\n",
    "def Alam(lamin, A_v):\n",
    "\n",
    "    #Add extinction with R_v = 3.1 and A_v = 1 \n",
    "    \n",
    "    flux = np.ones(len(lamin))\n",
    "    redreturn = apply(ccm89(lamin, 1.0, 3.1), flux)\n",
    "    \n",
    "    return redreturn"
   ]
  },
  {
   "cell_type": "markdown",
   "metadata": {},
   "source": [
    "## Get templates"
   ]
  },
  {
   "cell_type": "code",
   "execution_count": 4,
   "metadata": {},
   "outputs": [],
   "source": [
    "templates_gal = glob.glob('binnings/20A/gal/*')\n",
    "templates_gal = [x for x in templates_gal if 'CVS' not in x and 'README' not in x]\n",
    "templates_gal = np.array(templates_gal)\n",
    "\n",
    "\n",
    "templates_sn = glob.glob('binnings/20A/sne/**/*')\n",
    "templates_sn = [x for x in templates_sn if 'CVS' not in x and 'README' not in x]\n",
    "templates_sn = np.array(templates_sn)\n"
   ]
  },
  {
   "cell_type": "markdown",
   "metadata": {},
   "source": [
    "## Truncate"
   ]
  },
  {
   "cell_type": "code",
   "execution_count": 5,
   "metadata": {},
   "outputs": [],
   "source": [
    "def select_templates(DATABASE, TYPES):\n",
    "\n",
    "       \n",
    "#    Selects templates of a given type(s) from a template database\n",
    "    \n",
    "#    Input: DATEBASE   list of templates\n",
    "#           TYPES      which types should be selected\n",
    "    \n",
    "#    Output: array of templates of given type(s)\n",
    "       \n",
    "    database_trunc = list([])\n",
    "    \n",
    "    for type in TYPES:\n",
    "        database_trunc += list([x for x in DATABASE if type in x])\n",
    "    \n",
    "    return np.array(database_trunc)"
   ]
  },
  {
   "cell_type": "code",
   "execution_count": 6,
   "metadata": {},
   "outputs": [],
   "source": [
    "\n",
    "templates_sn_trunc = select_templates(templates_sn, ['/Ic/'])\n",
    "\n",
    "\n",
    "templates_gal_trunc = select_templates(templates_gal,['/E','/S0','/Sa','/Sb','/SB1','/SB2','/SB3','/SB4','/SB5','/SB6','/Sc'])\n"
   ]
  },
  {
   "cell_type": "markdown",
   "metadata": {},
   "source": [
    "## Lambda and Resolution"
   ]
  },
  {
   "cell_type": "code",
   "execution_count": 7,
   "metadata": {},
   "outputs": [
    {
     "name": "stderr",
     "output_type": "stream",
     "text": [
      "/home/sam/anaconda3/lib/python3.7/site-packages/ipykernel_launcher.py:9: DeprecationWarning: object of type <class 'float'> cannot be safely interpreted as an integer.\n",
      "  if __name__ == '__main__':\n"
     ]
    }
   ],
   "source": [
    "\n",
    "resolution = 20 #Angstrom\n",
    "upper      = 10500\n",
    "lower      = 4000\n",
    "interval   = (upper - lower)/resolution\n",
    "\n",
    "#Making an arbitrary lambda, with upper, lower bounds and interval size\n",
    "\n",
    "lam        =     np.linspace(lower, upper, interval)\n",
    "\n"
   ]
  },
  {
   "cell_type": "markdown",
   "metadata": {},
   "source": [
    "## Object we are interested in"
   ]
  },
  {
   "cell_type": "code",
   "execution_count": 8,
   "metadata": {},
   "outputs": [],
   "source": [
    "# Object I'm interested in \n",
    "\n",
    "object_name = 'sn1997ei.u11.Ic.z0.02.dat'\n",
    "\n",
    "object_spec =  np.loadtxt(\"/home/sam/Dropbox/superfit/rebinned/combined/sn1997ei.u11.Ic.z0.02.dat\")\n",
    "\n",
    "objecto = interpolate.interp1d(object_spec[:,0], object_spec[:,1],   bounds_error=False, fill_value='nan')\n",
    "\n",
    "objecto = objecto(lam)\n",
    "\n"
   ]
  },
  {
   "cell_type": "code",
   "execution_count": 9,
   "metadata": {},
   "outputs": [
    {
     "data": {
      "image/png": "[encoded data removed]",
      "text/plain": [
       "<Figure size 432x288 with 1 Axes>"
      ]
     },
     "metadata": {
      "needs_background": "light"
     },
     "output_type": "display_data"
    }
   ],
   "source": [
    "# Error \n",
    "\n",
    "error             =  error_spectra(object_spec)\n",
    "\n",
    "object_err_interp =  interpolate.interp1d(error[:,0],  error[:,1],  bounds_error=False, fill_value='nan')\n",
    "               \n",
    "sigma             =  object_err_interp(lam)\n"
   ]
  },
  {
   "cell_type": "code",
   "execution_count": null,
   "metadata": {},
   "outputs": [],
   "source": []
  },
  {
   "cell_type": "code",
   "execution_count": null,
   "metadata": {},
   "outputs": [],
   "source": []
  },
  {
   "cell_type": "code",
   "execution_count": null,
   "metadata": {},
   "outputs": [],
   "source": []
  },
  {
   "cell_type": "code",
   "execution_count": null,
   "metadata": {},
   "outputs": [],
   "source": []
  },
  {
   "cell_type": "markdown",
   "metadata": {},
   "source": [
    "# Core function of Superfit"
   ]
  },
  {
   "cell_type": "code",
   "execution_count": 10,
   "metadata": {},
   "outputs": [],
   "source": [
    "def core(z,extcon):\n",
    "\n",
    "\n",
    "    spec_gal = []\n",
    "    spec_sn  = []\n",
    "    \n",
    "    \n",
    "    #Obtain an array of interpolated gal\n",
    "    \n",
    "    for i in range(0, len(templates_gal_trunc)): \n",
    "        \n",
    "        one_gal           =  np.loadtxt(templates_gal_trunc[i])\n",
    "        \n",
    "        gal_interp        =  interpolate.interp1d(one_gal[:,0]*(z+1),    one_gal[:,1],    bounds_error=False, fill_value='nan')\n",
    "        \n",
    "        spec_gal.append(gal_interp)\n",
    "        \n",
    "        \n",
    "        \n",
    "        \n",
    "    #Obtain an array of interpolated sn  \n",
    "        \n",
    "    for i in range(0, len(templates_sn_trunc)): \n",
    "        \n",
    "        one_sn           =  np.loadtxt(templates_sn_trunc[i])\n",
    "        \n",
    "        sn_interp        =  interpolate.interp1d(one_sn[:,0]*(z+1),    one_sn[:,1]*10**(extcon * Alam(one_sn[:,0],1 )),    bounds_error=False, fill_value='nan')\n",
    "        \n",
    "        spec_sn.append(sn_interp)\n",
    "      \n",
    "\n",
    "\n",
    "    # Obtain sn and gal and add a new axis\n",
    "    \n",
    "    gal = []\n",
    "    sn  = []\n",
    "    \n",
    "    \n",
    "    #For each spectrum in the galaxy library\n",
    "    for i in spec_gal: \n",
    "        \n",
    "        gal.append(i(lam))\n",
    "    \n",
    "    \n",
    "    #For each spectrum in the supernova library \n",
    "    for i in spec_sn:    \n",
    "    \n",
    "        sn.append(i(lam))\n",
    "    \n",
    "    \n",
    "        \n",
    "    \n",
    "    gal = np.array(gal)\n",
    "    sn  = np.array(sn)\n",
    "    \n",
    "    \n",
    "    \n",
    "    # Redefine sn and gal by adding a new axis\n",
    "    \n",
    "    gal = gal[:, np.newaxis,:]\n",
    "    sn  = sn[np.newaxis,:,:]\n",
    "\n",
    "\n",
    "    \n",
    "    # Apply linear algebra witchcraft\n",
    "    \n",
    "    c = 1 / ( np.nansum(sn**2,2) * np.nansum(gal**2,2) - np.nansum(gal*sn,2)**2 )\n",
    " \n",
    "    \n",
    "#Obtain coefficients of proportionality for Supernova and Host Galaxies templates\n",
    "    \n",
    "    b = c * (np.nansum(gal**2,2)*np.nansum(sn*objecto,2) - np.nansum(gal*sn,2)*np.nansum(gal*objecto,2))\n",
    "    \n",
    "    d = c * (np.nansum(sn**2,2)*np.nansum(gal*objecto,2) - np.nansum(gal*sn,2)*np.nansum(sn*objecto,2))\n",
    "    \n",
    "\n",
    "# Rewrite b and d with better names and with a new axis introduced, for the common lambda \n",
    "    \n",
    "    supernova = b[:, :, np.newaxis]\n",
    "    \n",
    "    galaxy = d[:, :, np.newaxis]\n",
    "\n",
    "    \n",
    "# Figure out number of degrees of freedom \n",
    "    \n",
    "    a = (  (objecto - (supernova * sn) + galaxy * gal)/(sigma) )**2\n",
    "    \n",
    "    a = np.isnan(a)\n",
    "    \n",
    "    times = np.nansum(a,2)\n",
    "    \n",
    "    #How many times?\n",
    "    times = len(lam) - times \n",
    "    \n",
    "    \n",
    "# NOW obtain chi2\n",
    "\n",
    "    chi2  =  np.nansum(  ((objecto - (supernova * sn + galaxy * gal))/(sigma) )**2  ,2) \n",
    "\n",
    "# Reduced chi2\n",
    "\n",
    "    reduchi2 = chi2/(times-2)\n",
    "    \n",
    "# Flatten the matrix out and obtain from those indices the corresponding values of b and d \n",
    "    \n",
    "    reduchi2_1d = reduchi2.ravel()\n",
    "    \n",
    "    index = np.argsort(reduchi2_1d)\n",
    "    \n",
    "    idx = np.unravel_index(index[0], reduchi2.shape)\n",
    "    \n",
    "    \n",
    "# Find the values of the proportionality constants \n",
    "\n",
    "    bb = b[idx[0]][idx[1]]\n",
    "    dd = d[idx[0]][idx[1]]\n",
    "    \n",
    "    \n",
    "    \n",
    "    supernova_file  = templates_sn_trunc[idx[1]]\n",
    "    host_galaxy_file = templates_gal_trunc[idx[0]]\n",
    "    \n",
    "    \n",
    "    \n",
    "    nova   = np.loadtxt('/home/sam/Dropbox/superfit/' + supernova_file)\n",
    "    host   = np.loadtxt('/home/sam/Dropbox/superfit/' + host_galaxy_file)\n",
    "    \n",
    "    \n",
    "    \n",
    "    #Interpolate supernova and host galaxy \n",
    "    \n",
    "    nova_int = interpolate.interp1d(nova[:,0], nova[:,1],   bounds_error=False, fill_value='nan')\n",
    "\n",
    "    host_int = interpolate.interp1d(host[:,0], host[:,1],   bounds_error=False, fill_value='nan')\n",
    "\n",
    "\n",
    "    # Combination of the data  \n",
    "\n",
    "    host_nova = bb*nova_int(lam) + dd*host_int(lam)\n",
    "    \n",
    "    \"\"\"\n",
    "    output = table.Table(np.array([object_name, host_galaxy_file, supernova_file, bb , dd, z, chi2[idx], extcon ]), \n",
    "                     \n",
    "                     names  =  ('OBJECT', 'GALAXY', 'SN', 'CONST_SN','CONST_GAL','Z','CHI2','CONST_Alam'), \n",
    "                     \n",
    "                     dtype  =  ('S100', 'S100', 'S100','f','f','f','f','f'))\n",
    "        \n",
    "    \n",
    "     \"\"\"\n",
    "    plt.figure(figsize=(7*np.sqrt(2), 7))\n",
    "   \n",
    "    plt.plot(lam/(z+1), objecto,'r')\n",
    "    plt.plot(lam, host_nova,'g')\n",
    "\n",
    "\n",
    "    plt.ylabel('Flux arbitrary')\n",
    "    plt.xlabel('Lamda')\n",
    "    plt.title('Templates')\n",
    "    plt.show()   \n",
    "            \n",
    "    \n",
    "        \n",
    "    # Here instead of printing out a table a print out the specific value for chi2\n",
    "    \n",
    "    output = chi2[idx]\n",
    "        \n",
    "    \n",
    "    return output\n"
   ]
  },
  {
   "cell_type": "code",
   "execution_count": 29,
   "metadata": {},
   "outputs": [
    {
     "data": {
      "image/png": "[encoded data removed]",
      "text/plain": [
       "<Figure size 712.764x504 with 1 Axes>"
      ]
     },
     "metadata": {
      "needs_background": "light"
     },
     "output_type": "display_data"
    },
    {
     "data": {
      "text/plain": [
       "0.0"
      ]
     },
     "execution_count": 29,
     "metadata": {},
     "output_type": "execute_result"
    }
   ],
   "source": [
    "core(0.02,0)"
   ]
  },
  {
   "cell_type": "code",
   "execution_count": 12,
   "metadata": {},
   "outputs": [],
   "source": [
    "def core_total(z,extcon):\n",
    "\n",
    "\n",
    "    spec_gal = []\n",
    "    spec_sn  = []\n",
    "    \n",
    "    \n",
    "    #Obtain an array of interpolated gal\n",
    "    \n",
    "    for i in range(0, len(templates_gal_trunc)): \n",
    "        \n",
    "        one_gal           =  np.loadtxt(templates_gal_trunc[i])\n",
    "        \n",
    "        gal_interp        =  interpolate.interp1d(one_gal[:,0]*(z+1),    one_gal[:,1],    bounds_error=False, fill_value='nan')\n",
    "        \n",
    "        spec_gal.append(gal_interp)\n",
    "        \n",
    "        \n",
    "        \n",
    "        \n",
    "    #Obtain an array of interpolated sn  \n",
    "        \n",
    "    for i in range(0, len(templates_sn_trunc)): \n",
    "        \n",
    "        one_sn           =  np.loadtxt(templates_sn_trunc[i])\n",
    "        \n",
    "        sn_interp        =  interpolate.interp1d(one_sn[:,0]*(z+1),    one_sn[:,1]*10**(extcon * Alam(one_sn[:,0],1 )),    bounds_error=False, fill_value='nan')\n",
    "        \n",
    "        spec_sn.append(sn_interp)\n",
    "      \n",
    "\n",
    "\n",
    "    # Obtain sn and gal and add a new axis\n",
    "    \n",
    "    gal = []\n",
    "    sn  = []\n",
    "    \n",
    "    \n",
    "    #For each spectrum in the galaxy library\n",
    "    for i in spec_gal: \n",
    "        \n",
    "        gal.append(i(lam))\n",
    "    \n",
    "    \n",
    "    #For each spectrum in the supernova library \n",
    "    for i in spec_sn:    \n",
    "    \n",
    "        sn.append(i(lam))\n",
    "    \n",
    "    \n",
    "        \n",
    "    \n",
    "    gal = np.array(gal)\n",
    "    sn  = np.array(sn)\n",
    "    \n",
    "    \n",
    "    \n",
    "    # Redefine sn and gal by adding a new axis\n",
    "    \n",
    "    gal = gal[:, np.newaxis,:]\n",
    "    sn  = sn[np.newaxis,:,:]\n",
    "\n",
    "\n",
    "    \n",
    "    # Apply linear algebra witchcraft\n",
    "    \n",
    "    c = 1 / ( np.nansum(sn**2,2) * np.nansum(gal**2,2) - np.nansum(gal*sn,2)**2 )\n",
    " \n",
    "    \n",
    "#Obtain coefficients of proportionality for Supernova and Host Galaxies templates\n",
    "    \n",
    "    b = c * (np.nansum(gal**2,2)*np.nansum(sn*objecto,2) - np.nansum(gal*sn,2)*np.nansum(gal*objecto,2))\n",
    "    \n",
    "    d = c * (np.nansum(sn**2,2)*np.nansum(gal*objecto,2) - np.nansum(gal*sn,2)*np.nansum(sn*objecto,2))\n",
    "    \n",
    "\n",
    "# Rewrite b and d with better names and with a new axis introduced, for the common lambda \n",
    "    \n",
    "    supernova = b[:, :, np.newaxis]\n",
    "    \n",
    "    galaxy = d[:, :, np.newaxis]\n",
    "\n",
    "    \n",
    "# Figure out number of degrees of freedom \n",
    "    \n",
    "    a = (  (objecto - (supernova * sn) + galaxy * gal)/(sigma) )**2\n",
    "    \n",
    "    a = np.isnan(a)\n",
    "    \n",
    "    times = np.nansum(a,2)\n",
    "    \n",
    "    #How many times?\n",
    "    times = len(lam) - times \n",
    "    \n",
    "    \n",
    "# NOW obtain chi2\n",
    "\n",
    "    chi2  =  np.nansum(  ((objecto - (supernova * sn + galaxy * gal))/(sigma) )**2  ,2) \n",
    "\n",
    "# Reduced chi2\n",
    "\n",
    "    reduchi2 = chi2/(times-2)\n",
    "    \n",
    "# Flatten the matrix out and obtain from those indices the corresponding values of b and d \n",
    "    \n",
    "    reduchi2_1d = reduchi2.ravel()\n",
    "    \n",
    "    index = np.argsort(reduchi2_1d)\n",
    "    \n",
    "    idx = np.unravel_index(index[0], reduchi2.shape)\n",
    "    \n",
    "    \n",
    "# Find the values of the proportionality constants \n",
    "\n",
    "    bb = b[idx[0]][idx[1]]\n",
    "    dd = d[idx[0]][idx[1]]\n",
    "    \n",
    "    \n",
    "    supernova_file  = templates_sn_trunc[idx[1]]\n",
    "    host_galaxy_file = templates_gal_trunc[idx[0]]\n",
    "    \n",
    "    \n",
    "    \n",
    "    nova   = np.loadtxt('/home/sam/Dropbox/superfit/' + supernova_file)\n",
    "    host   = np.loadtxt('/home/sam/Dropbox/superfit/' + host_galaxy_file)\n",
    "    \n",
    "    \n",
    "    \n",
    "    #Interpolate supernova and host galaxy \n",
    "    \n",
    "    nova_int = interpolate.interp1d(nova[:,0], nova[:,1],   bounds_error=False, fill_value='nan')\n",
    "\n",
    "    host_int = interpolate.interp1d(host[:,0], host[:,1],   bounds_error=False, fill_value='nan')\n",
    "\n",
    "\n",
    "    # Combination of the data  \n",
    "\n",
    "    host_nova = bb*nova_int(lam) + dd*host_int(lam)\n",
    "    \n",
    "    \n",
    "    output = table.Table(np.array([object_name, host_galaxy_file, supernova_file, bb , dd, z, chi2[idx], extcon ]), \n",
    "                     \n",
    "                     names  =  ('OBJECT', 'GALAXY', 'SN', 'CONST_SN','CONST_GAL','Z','CHI2','CONST_Alam'), \n",
    "                     \n",
    "                     dtype  =  ('S100', 'S100', 'S100','f','f','f','f','f'))\n",
    "        \n",
    "    \n",
    "    \"\"\"\n",
    "    plt.figure(figsize=(7*np.sqrt(2), 7))\n",
    "   \n",
    "    plt.plot(lam/(z+1), objecto,'r')\n",
    "    plt.plot(lam, host_nova,'g')\n",
    "\n",
    "\n",
    "    plt.ylabel('Flux arbitrary')\n",
    "    plt.xlabel('Lamda')\n",
    "    plt.title('Templates')\n",
    "    plt.show()   \n",
    "            \n",
    "    \"\"\"\n",
    "        \n",
    "    # Here instead of printing out a table a print out the specific value for chi2\n",
    "    \n",
    "        \n",
    "    \n",
    "    return output"
   ]
  },
  {
   "cell_type": "code",
   "execution_count": null,
   "metadata": {},
   "outputs": [],
   "source": []
  },
  {
   "cell_type": "code",
   "execution_count": null,
   "metadata": {},
   "outputs": [],
   "source": []
  },
  {
   "cell_type": "code",
   "execution_count": null,
   "metadata": {},
   "outputs": [],
   "source": []
  },
  {
   "cell_type": "code",
   "execution_count": null,
   "metadata": {},
   "outputs": [],
   "source": []
  },
  {
   "cell_type": "code",
   "execution_count": null,
   "metadata": {},
   "outputs": [],
   "source": []
  },
  {
   "cell_type": "markdown",
   "metadata": {},
   "source": [
    "# Loop Method"
   ]
  },
  {
   "cell_type": "code",
   "execution_count": 13,
   "metadata": {},
   "outputs": [],
   "source": [
    "number = 31\n",
    "\n",
    "\n",
    "redshift      =    np.linspace(0,0.10,number)\n",
    "\n",
    "extconstant   =    np.linspace(-2,2,11)"
   ]
  },
  {
   "cell_type": "code",
   "execution_count": null,
   "metadata": {},
   "outputs": [],
   "source": []
  },
  {
   "cell_type": "code",
   "execution_count": 14,
   "metadata": {},
   "outputs": [],
   "source": [
    "start = time.time()"
   ]
  },
  {
   "cell_type": "code",
   "execution_count": null,
   "metadata": {},
   "outputs": [],
   "source": []
  },
  {
   "cell_type": "code",
   "execution_count": 15,
   "metadata": {},
   "outputs": [],
   "source": [
    "# Using a loop we can obtain all possible values for chi2 without the need for a minimizer \n",
    "#(as an alternative technique)\n",
    "\n",
    "\n",
    "results = []\n",
    "\n",
    "for j in redshift:\n",
    "    for i in extconstant:\n",
    "        \n",
    "        \n",
    "        a = core_total(j,i)\n",
    "        \n",
    "        results.append(a)\n",
    "\n",
    "        result = table.vstack(results)\n",
    "        \n",
    "        result.sort('CHI2')\n"
   ]
  },
  {
   "cell_type": "code",
   "execution_count": null,
   "metadata": {},
   "outputs": [],
   "source": []
  },
  {
   "cell_type": "markdown",
   "metadata": {},
   "source": [
    "# Output to loop method"
   ]
  },
  {
   "cell_type": "code",
   "execution_count": 16,
   "metadata": {},
   "outputs": [
    {
     "data": {
      "text/html": [
       "<i>Table length=341</i>\n",
       "<table id=\"table140062203571560-970184\" class=\"table-striped table-bordered table-condensed\">\n",
       "<thead><tr><th>idx</th><th>OBJECT</th><th>GALAXY</th><th>SN</th><th>CONST_SN</th><th>CONST_GAL</th><th>Z</th><th>CHI2</th><th>CONST_Alam</th></tr></thead>\n",
       "<tr><td>0</td><td>sn1997ei.u11.Ic.z0.02.dat</td><td>binnings/20A/gal/S0</td><td>binnings/20A/sne/Ic/sn1997ei.u11.dat</td><td>1.0</td><td>0.0</td><td>0.02</td><td>0.0</td><td>0.0</td></tr>\n",
       "<tr><td>1</td><td>sn1997ei.u11.Ic.z0.02.dat</td><td>binnings/20A/gal/Sa</td><td>binnings/20A/sne/Ic/sn1997ei.u11.dat</td><td>0.9361163</td><td>0.072489366</td><td>0.016666668</td><td>151.1051</td><td>0.0</td></tr>\n",
       "<tr><td>2</td><td>sn1997ei.u11.Ic.z0.02.dat</td><td>binnings/20A/gal/E</td><td>binnings/20A/sne/Ic/sn1997ei.u11.dat</td><td>0.98899573</td><td>0.007015195</td><td>0.023333333</td><td>163.60353</td><td>0.0</td></tr>\n",
       "<tr><td>3</td><td>sn1997ei.u11.Ic.z0.02.dat</td><td>binnings/20A/gal/SB1</td><td>binnings/20A/sne/Ic/sn1997ei.u11.dat</td><td>0.5277212</td><td>0.19385439</td><td>0.02</td><td>229.59616</td><td>0.4</td></tr>\n",
       "<tr><td>4</td><td>sn1997ei.u11.Ic.z0.02.dat</td><td>binnings/20A/gal/E</td><td>binnings/20A/sne/Ic/sn1997ei.u11.dat</td><td>1.3065935</td><td>0.18289882</td><td>0.02</td><td>266.849</td><td>-0.4</td></tr>\n",
       "<tr><td>5</td><td>sn1997ei.u11.Ic.z0.02.dat</td><td>binnings/20A/gal/Sa</td><td>binnings/20A/sne/Ic/sn1997ei.u11.dat</td><td>0.8575331</td><td>0.15895519</td><td>0.013333334</td><td>300.40485</td><td>0.0</td></tr>\n",
       "<tr><td>6</td><td>sn1997ei.u11.Ic.z0.02.dat</td><td>binnings/20A/gal/E</td><td>binnings/20A/sne/Ic/sn1997ei.u11.dat</td><td>1.2524441</td><td>0.22576517</td><td>0.016666668</td><td>343.19168</td><td>-0.4</td></tr>\n",
       "<tr><td>7</td><td>sn1997ei.u11.Ic.z0.02.dat</td><td>binnings/20A/gal/SB1</td><td>binnings/20A/sne/Ic/sn1997ei.u11.dat</td><td>0.5212696</td><td>0.2045217</td><td>0.016666668</td><td>344.07465</td><td>0.4</td></tr>\n",
       "<tr><td>8</td><td>sn1997ei.u11.Ic.z0.02.dat</td><td>binnings/20A/gal/E</td><td>binnings/20A/sne/Ic/sn1997ei.u11.dat</td><td>0.96220213</td><td>0.028290415</td><td>0.026666667</td><td>357.63208</td><td>0.0</td></tr>\n",
       "<tr><td>9</td><td>sn1997ei.u11.Ic.z0.02.dat</td><td>binnings/20A/gal/S0</td><td>binnings/20A/sne/Ic/sn1991k.u14.dat</td><td>0.06154779</td><td>0.90194255</td><td>0.013333334</td><td>380.16928</td><td>2.0</td></tr>\n",
       "<tr><td>10</td><td>sn1997ei.u11.Ic.z0.02.dat</td><td>binnings/20A/gal/E</td><td>binnings/20A/sne/Ic/sn1997ei.u11.dat</td><td>1.2934173</td><td>0.18749619</td><td>0.023333333</td><td>386.53424</td><td>-0.4</td></tr>\n",
       "<tr><td>11</td><td>sn1997ei.u11.Ic.z0.02.dat</td><td>binnings/20A/gal/S0</td><td>binnings/20A/sne/Ic/sn1991k.u14.dat</td><td>0.06276201</td><td>0.89772576</td><td>0.016666668</td><td>398.64474</td><td>2.0</td></tr>\n",
       "<tr><td>12</td><td>sn1997ei.u11.Ic.z0.02.dat</td><td>binnings/20A/gal/S0</td><td>binnings/20A/sne/Ic/sn1991k.u14.dat</td><td>0.059613172</td><td>0.9076973</td><td>0.01</td><td>412.4153</td><td>2.0</td></tr>\n",
       "<tr><td>13</td><td>sn1997ei.u11.Ic.z0.02.dat</td><td>binnings/20A/gal/Sa</td><td>binnings/20A/sne/Ic/sn1991l.u00.dat</td><td>0.051612772</td><td>0.90011907</td><td>0.0</td><td>418.88925</td><td>2.0</td></tr>\n",
       "<tr><td>14</td><td>sn1997ei.u11.Ic.z0.02.dat</td><td>binnings/20A/gal/E</td><td>binnings/20A/sne/Ic/sn1994I.p11.dat</td><td>0.08098177</td><td>0.8586432</td><td>0.02</td><td>423.82336</td><td>1.6</td></tr>\n",
       "<tr><td>15</td><td>sn1997ei.u11.Ic.z0.02.dat</td><td>binnings/20A/gal/Sa</td><td>binnings/20A/sne/Ic/sn1991l.u00.dat</td><td>0.0771901</td><td>0.8964692</td><td>0.0</td><td>427.9402</td><td>1.6</td></tr>\n",
       "<tr><td>16</td><td>sn1997ei.u11.Ic.z0.02.dat</td><td>binnings/20A/gal/S0</td><td>binnings/20A/sne/Ic/sn1991k.u14.dat</td><td>0.08598671</td><td>0.9049906</td><td>0.013333334</td><td>430.07343</td><td>1.6</td></tr>\n",
       "<tr><td>17</td><td>sn1997ei.u11.Ic.z0.02.dat</td><td>binnings/20A/gal/Sb</td><td>binnings/20A/sne/Ic/sn1991l.u00.dat</td><td>0.12372106</td><td>0.9025365</td><td>0.0033333334</td><td>433.87897</td><td>1.2</td></tr>\n",
       "<tr><td>18</td><td>sn1997ei.u11.Ic.z0.02.dat</td><td>binnings/20A/gal/Sb</td><td>binnings/20A/sne/Ic/sn1991l.u00.dat</td><td>0.083592236</td><td>0.90566033</td><td>0.0033333334</td><td>435.1124</td><td>1.6</td></tr>\n",
       "<tr><td>19</td><td>sn1997ei.u11.Ic.z0.02.dat</td><td>binnings/20A/gal/E</td><td>binnings/20A/sne/Ic/sn1994I.p11.dat</td><td>0.11126399</td><td>0.86738986</td><td>0.02</td><td>436.11612</td><td>1.2</td></tr>\n",
       "<tr><td>20</td><td>sn1997ei.u11.Ic.z0.02.dat</td><td>binnings/20A/gal/E</td><td>binnings/20A/sne/Ic/sn1994I.p11.dat</td><td>0.08199266</td><td>0.854636</td><td>0.023333333</td><td>444.03833</td><td>1.6</td></tr>\n",
       "<tr><td>21</td><td>sn1997ei.u11.Ic.z0.02.dat</td><td>binnings/20A/gal/Sa</td><td>binnings/20A/sne/Ic/sn1991l.u00.dat</td><td>0.05255399</td><td>0.89700234</td><td>0.0033333334</td><td>447.02237</td><td>2.0</td></tr>\n",
       "<tr><td>22</td><td>sn1997ei.u11.Ic.z0.02.dat</td><td>binnings/20A/gal/Sb</td><td>binnings/20A/sne/Ic/sn1991l.u00.dat</td><td>0.1213278</td><td>0.9061128</td><td>0.0</td><td>448.94867</td><td>1.2</td></tr>\n",
       "<tr><td>23</td><td>sn1997ei.u11.Ic.z0.02.dat</td><td>binnings/20A/gal/Sb</td><td>binnings/20A/sne/Ic/sn1991l.u00.dat</td><td>0.1810808</td><td>0.9006082</td><td>0.0033333334</td><td>450.32242</td><td>0.8</td></tr>\n",
       "<tr><td>24</td><td>sn1997ei.u11.Ic.z0.02.dat</td><td>binnings/20A/gal/E</td><td>binnings/20A/sne/Ic/sn1997ei.u11.dat</td><td>1.1810763</td><td>0.279437</td><td>0.013333334</td><td>450.85532</td><td>-0.4</td></tr>\n",
       "<tr><td>25</td><td>sn1997ei.u11.Ic.z0.02.dat</td><td>binnings/20A/gal/SB1</td><td>binnings/20A/sne/Ic/sn1997ei.u11.dat</td><td>0.5146186</td><td>0.21122783</td><td>0.023333333</td><td>452.5421</td><td>0.4</td></tr>\n",
       "<tr><td>26</td><td>sn1997ei.u11.Ic.z0.02.dat</td><td>binnings/20A/gal/E</td><td>binnings/20A/sne/Ic/sn1994I.p11.dat</td><td>0.079390556</td><td>0.86411023</td><td>0.016666668</td><td>453.28366</td><td>1.6</td></tr>\n",
       "<tr><td>27</td><td>sn1997ei.u11.Ic.z0.02.dat</td><td>binnings/20A/gal/E</td><td>binnings/20A/sne/Ic/sn1994I.p11.dat</td><td>0.058119588</td><td>0.85175276</td><td>0.02</td><td>454.33258</td><td>2.0</td></tr>\n",
       "<tr><td>28</td><td>sn1997ei.u11.Ic.z0.02.dat</td><td>binnings/20A/gal/E</td><td>binnings/20A/sne/Ic/sn1994I.p11.dat</td><td>0.11259574</td><td>0.86359495</td><td>0.023333333</td><td>455.00836</td><td>1.2</td></tr>\n",
       "<tr><td>29</td><td>sn1997ei.u11.Ic.z0.02.dat</td><td>binnings/20A/gal/S0</td><td>binnings/20A/sne/Ic/sn1991k.u14.dat</td><td>0.08334739</td><td>0.9105561</td><td>0.01</td><td>465.01947</td><td>1.6</td></tr>\n",
       "<tr><td>30</td><td>sn1997ei.u11.Ic.z0.02.dat</td><td>binnings/20A/gal/E</td><td>binnings/20A/sne/Ic/sn1991l.u00.dat</td><td>0.31323287</td><td>0.88895863</td><td>0.0033333334</td><td>467.18442</td><td>0.4</td></tr>\n",
       "<tr><td>31</td><td>sn1997ei.u11.Ic.z0.02.dat</td><td>binnings/20A/gal/E</td><td>binnings/20A/sne/Ic/sn1994I.p11.dat</td><td>0.10914161</td><td>0.87257373</td><td>0.016666668</td><td>473.19095</td><td>1.2</td></tr>\n",
       "<tr><td>32</td><td>sn1997ei.u11.Ic.z0.02.dat</td><td>binnings/20A/gal/Sc</td><td>binnings/20A/sne/Ic/sn1997ei.u11.dat</td><td>0.4549499</td><td>0.25490683</td><td>0.013333334</td><td>476.8532</td><td>0.4</td></tr>\n",
       "<tr><td>33</td><td>sn1997ei.u11.Ic.z0.02.dat</td><td>binnings/20A/gal/S0</td><td>binnings/20A/sne/Ic/sn1991k.u14.dat</td><td>0.056893587</td><td>0.91519445</td><td>0.006666667</td><td>477.61627</td><td>2.0</td></tr>\n",
       "<tr><td>34</td><td>sn1997ei.u11.Ic.z0.02.dat</td><td>binnings/20A/gal/E</td><td>binnings/20A/sne/Ic/sn1994I.p11.dat</td><td>0.05886446</td><td>0.84760195</td><td>0.023333333</td><td>478.2659</td><td>2.0</td></tr>\n",
       "<tr><td>35</td><td>sn1997ei.u11.Ic.z0.02.dat</td><td>binnings/20A/gal/Sb</td><td>binnings/20A/sne/Ic/sn1991l.u00.dat</td><td>0.17729317</td><td>0.90454185</td><td>0.0</td><td>486.05368</td><td>0.8</td></tr>\n",
       "<tr><td>36</td><td>sn1997ei.u11.Ic.z0.02.dat</td><td>binnings/20A/gal/E</td><td>binnings/20A/sne/Ic/sn1991l.u00.dat</td><td>0.3173895</td><td>0.88455343</td><td>0.006666667</td><td>488.283</td><td>0.4</td></tr>\n",
       "<tr><td>37</td><td>sn1997ei.u11.Ic.z0.02.dat</td><td>binnings/20A/gal/E</td><td>binnings/20A/sne/Ic/sn1994I.p11.dat</td><td>0.15261371</td><td>0.87398493</td><td>0.023333333</td><td>501.75934</td><td>0.8</td></tr>\n",
       "<tr><td>38</td><td>sn1997ei.u11.Ic.z0.02.dat</td><td>binnings/20A/gal/Sb</td><td>binnings/20A/sne/Ic/sn1991l.u00.dat</td><td>0.18362838</td><td>0.8964965</td><td>0.006666667</td><td>501.84775</td><td>0.8</td></tr>\n",
       "<tr><td>39</td><td>sn1997ei.u11.Ic.z0.02.dat</td><td>binnings/20A/gal/E</td><td>binnings/20A/sne/Ic/sn1994I.p11.dat</td><td>0.08256322</td><td>0.8511841</td><td>0.026666667</td><td>513.82135</td><td>1.6</td></tr>\n",
       "<tr><td>40</td><td>sn1997ei.u11.Ic.z0.02.dat</td><td>binnings/20A/gal/Sb</td><td>binnings/20A/sne/Ic/sn1991l.u00.dat</td><td>0.12511341</td><td>0.8988812</td><td>0.006666667</td><td>519.44977</td><td>1.2</td></tr>\n",
       "<tr><td>41</td><td>sn1997ei.u11.Ic.z0.02.dat</td><td>binnings/20A/gal/E</td><td>binnings/20A/sne/Ic/sn1991l.u00.dat</td><td>0.30763546</td><td>0.89280754</td><td>0.0</td><td>524.02</td><td>0.4</td></tr>\n",
       "<tr><td>42</td><td>sn1997ei.u11.Ic.z0.02.dat</td><td>binnings/20A/gal/E</td><td>binnings/20A/sne/Ic/sn1997ei.u11.dat</td><td>1.2605071</td><td>0.20369963</td><td>0.026666667</td><td>528.96857</td><td>-0.4</td></tr>\n",
       "<tr><td>43</td><td>sn1997ei.u11.Ic.z0.02.dat</td><td>binnings/20A/gal/E</td><td>binnings/20A/sne/Ic/sn1994I.p11.dat</td><td>0.11330116</td><td>0.86043304</td><td>0.026666667</td><td>528.99133</td><td>1.2</td></tr>\n",
       "<tr><td>44</td><td>sn1997ei.u11.Ic.z0.02.dat</td><td>binnings/20A/gal/S0</td><td>binnings/20A/sne/Ic/sn1991k.u14.dat</td><td>0.115354486</td><td>0.9143656</td><td>0.01</td><td>531.4606</td><td>1.2</td></tr>\n",
       "<tr><td>45</td><td>sn1997ei.u11.Ic.z0.02.dat</td><td>binnings/20A/gal/E</td><td>binnings/20A/sne/Ic/sn1994I.p11.dat</td><td>0.05930573</td><td>0.84390646</td><td>0.026666667</td><td>545.1433</td><td>2.0</td></tr>\n",
       "<tr><td>46</td><td>sn1997ei.u11.Ic.z0.02.dat</td><td>binnings/20A/gal/E</td><td>binnings/20A/sne/Ic/sn1994I.p11.dat</td><td>0.106417604</td><td>0.87864786</td><td>0.013333334</td><td>551.5256</td><td>1.2</td></tr>\n",
       "<tr><td>47</td><td>sn1997ei.u11.Ic.z0.02.dat</td><td>binnings/20A/gal/Sa</td><td>binnings/20A/sne/Ic/sn1997ei.u11.dat</td><td>0.769564</td><td>0.2519001</td><td>0.01</td><td>552.6052</td><td>0.0</td></tr>\n",
       "<tr><td>48</td><td>sn1997ei.u11.Ic.z0.02.dat</td><td>binnings/20A/gal/SB6</td><td>binnings/20A/sne/Ic/sn1990b.p22.dat</td><td>5.5445375</td><td>0.5553014</td><td>0.016666668</td><td>572.6114</td><td>-2.0</td></tr>\n",
       "<tr><td>49</td><td>sn1997ei.u11.Ic.z0.02.dat</td><td>binnings/20A/gal/Sc</td><td>binnings/20A/sne/Ic/sn1990b.p22.dat</td><td>3.2499015</td><td>0.4841164</td><td>0.016666668</td><td>576.05334</td><td>-1.6</td></tr>\n",
       "<tr><td>50</td><td>sn1997ei.u11.Ic.z0.02.dat</td><td>binnings/20A/gal/E</td><td>binnings/20A/sne/Ic/sn1994I.p11.dat</td><td>0.15344658</td><td>0.8711365</td><td>0.026666667</td><td>580.4488</td><td>0.8</td></tr>\n",
       "<tr><td>51</td><td>sn1997ei.u11.Ic.z0.02.dat</td><td>binnings/20A/gal/E</td><td>binnings/20A/sne/Ic/sn1990b.p65.dat</td><td>3.0036867</td><td>0.3510205</td><td>0.016666668</td><td>580.60175</td><td>-1.2</td></tr>\n",
       "<tr><td>52</td><td>sn1997ei.u11.Ic.z0.02.dat</td><td>binnings/20A/gal/E</td><td>binnings/20A/sne/Ic/sn1990b.p65.dat</td><td>3.0052652</td><td>0.34802255</td><td>0.02</td><td>587.04047</td><td>-1.2</td></tr>\n",
       "<tr><td>53</td><td>sn1997ei.u11.Ic.z0.02.dat</td><td>binnings/20A/gal/Sc</td><td>binnings/20A/sne/Ic/sn1990b.p22.dat</td><td>3.0773647</td><td>0.5035792</td><td>0.013333334</td><td>588.4969</td><td>-1.6</td></tr>\n",
       "<tr><td>54</td><td>sn1997ei.u11.Ic.z0.02.dat</td><td>binnings/20A/gal/E</td><td>binnings/20A/sne/Ic/sn1994I.p11.dat</td><td>0.08232816</td><td>0.85048497</td><td>0.03</td><td>589.0803</td><td>1.6</td></tr>\n",
       "<tr><td>55</td><td>sn1997ei.u11.Ic.z0.02.dat</td><td>binnings/20A/gal/Sc</td><td>binnings/20A/sne/Ic/sn1990b.p22.dat</td><td>5.128744</td><td>0.47809058</td><td>0.013333334</td><td>604.7116</td><td>-2.0</td></tr>\n",
       "<tr><td>56</td><td>sn1997ei.u11.Ic.z0.02.dat</td><td>binnings/20A/gal/E</td><td>binnings/20A/sne/Ic/sn1990b.p65.dat</td><td>2.8884208</td><td>0.38327894</td><td>0.013333334</td><td>605.67847</td><td>-1.2</td></tr>\n",
       "<tr><td>57</td><td>sn1997ei.u11.Ic.z0.02.dat</td><td>binnings/20A/gal/E</td><td>binnings/20A/sne/Ic/sn1994I.p11.dat</td><td>0.11295627</td><td>0.8597532</td><td>0.03</td><td>606.8086</td><td>1.2</td></tr>\n",
       "<tr><td>58</td><td>sn1997ei.u11.Ic.z0.02.dat</td><td>binnings/20A/gal/E</td><td>binnings/20A/sne/Ic/sn1994I.p11.dat</td><td>0.05914063</td><td>0.8432238</td><td>0.03</td><td>618.81793</td><td>2.0</td></tr>\n",
       "<tr><td>59</td><td>sn1997ei.u11.Ic.z0.02.dat</td><td>binnings/20A/gal/Sc</td><td>binnings/20A/sne/Ic/sn1990b.p22.dat</td><td>5.6008606</td><td>0.4420724</td><td>0.02</td><td>636.7015</td><td>-2.0</td></tr>\n",
       "<tr><td>60</td><td>sn1997ei.u11.Ic.z0.02.dat</td><td>binnings/20A/gal/Sc</td><td>binnings/20A/sne/Ic/sn1990b.p22.dat</td><td>3.3304024</td><td>0.47342438</td><td>0.02</td><td>646.1932</td><td>-1.6</td></tr>\n",
       "<tr><td>61</td><td>sn1997ei.u11.Ic.z0.02.dat</td><td>binnings/20A/gal/E</td><td>binnings/20A/sne/Ic/sn1997ei.u11.dat</td><td>1.603412</td><td>0.37093842</td><td>0.02</td><td>648.4582</td><td>-0.8</td></tr>\n",
       "<tr><td>62</td><td>sn1997ei.u11.Ic.z0.02.dat</td><td>binnings/20A/gal/E</td><td>binnings/20A/sne/Ic/sn1997ei.u11.dat</td><td>1.0982374</td><td>0.33827832</td><td>0.01</td><td>660.56146</td><td>-0.4</td></tr>\n",
       "<tr><td>63</td><td>sn1997ei.u11.Ic.z0.02.dat</td><td>binnings/20A/gal/E</td><td>binnings/20A/sne/Ic/sn2002ap.m07.dat</td><td>0.10207106</td><td>0.8465062</td><td>0.006666667</td><td>666.13513</td><td>1.6</td></tr>\n",
       "<tr><td>64</td><td>sn1997ei.u11.Ic.z0.02.dat</td><td>binnings/20A/gal/S0</td><td>binnings/20A/sne/Ic/sn1997c.u00.dat</td><td>1.1712521</td><td>0.5203675</td><td>0.023333333</td><td>669.5967</td><td>-0.8</td></tr>\n",
       "<tr><td>65</td><td>sn1997ei.u11.Ic.z0.02.dat</td><td>binnings/20A/gal/Sb</td><td>binnings/20A/sne/Ic/sn1990b.p65.dat</td><td>1.8170471</td><td>0.38430732</td><td>0.013333334</td><td>669.63116</td><td>-0.8</td></tr>\n",
       "<tr><td>66</td><td>sn1997ei.u11.Ic.z0.02.dat</td><td>binnings/20A/gal/S0</td><td>binnings/20A/sne/Ic/sn1997ei.u11.dat</td><td>0.8945132</td><td>0.09434798</td><td>0.03</td><td>673.77905</td><td>0.0</td></tr>\n",
       "<tr><td>67</td><td>sn1997ei.u11.Ic.z0.02.dat</td><td>binnings/20A/gal/E</td><td>binnings/20A/sne/Ic/sn1997ei.u11.dat</td><td>1.5537618</td><td>0.3974721</td><td>0.016666668</td><td>688.7298</td><td>-0.8</td></tr>\n",
       "<tr><td>68</td><td>sn1997ei.u11.Ic.z0.02.dat</td><td>binnings/20A/gal/E</td><td>binnings/20A/sne/Ic/sn1994I.p11.dat</td><td>0.08167226</td><td>0.85097003</td><td>0.033333335</td><td>689.27136</td><td>1.6</td></tr>\n",
       "<tr><td>69</td><td>sn1997ei.u11.Ic.z0.02.dat</td><td>binnings/20A/gal/E</td><td>binnings/20A/sne/Ic/sn1994I.p11.dat</td><td>0.11203515</td><td>0.86020935</td><td>0.033333335</td><td>710.91583</td><td>1.2</td></tr>\n",
       "<tr><td>70</td><td>sn1997ei.u11.Ic.z0.02.dat</td><td>binnings/20A/gal/E</td><td>binnings/20A/sne/Ic/sn1995f.u00.dat</td><td>2.0155673</td><td>0.45781624</td><td>0.01</td><td>712.4516</td><td>-1.2</td></tr>\n",
       "<tr><td>71</td><td>sn1997ei.u11.Ic.z0.02.dat</td><td>binnings/20A/gal/E</td><td>binnings/20A/sne/Ic/sn1994I.p11.dat</td><td>0.058674257</td><td>0.8437583</td><td>0.033333335</td><td>715.33514</td><td>2.0</td></tr>\n",
       "<tr><td>72</td><td>sn1997ei.u11.Ic.z0.02.dat</td><td>binnings/20A/gal/E</td><td>binnings/20A/sne/Ic/sn1994I.m05.dat</td><td>0.20891407</td><td>0.8168346</td><td>0.03</td><td>718.59283</td><td>0.8</td></tr>\n",
       "<tr><td>73</td><td>sn1997ei.u11.Ic.z0.02.dat</td><td>binnings/20A/gal/Sb</td><td>binnings/20A/sne/Ic/sn1997dq.u61.dat</td><td>1.2559222</td><td>0.6234459</td><td>0.023333333</td><td>719.21106</td><td>-1.2</td></tr>\n",
       "<tr><td>74</td><td>sn1997ei.u11.Ic.z0.02.dat</td><td>binnings/20A/gal/SB1</td><td>binnings/20A/sne/Ic/sn1997ei.u11.dat</td><td>0.4896831</td><td>0.24532077</td><td>0.026666667</td><td>723.2471</td><td>0.4</td></tr>\n",
       "<tr><td>75</td><td>sn1997ei.u11.Ic.z0.02.dat</td><td>binnings/20A/gal/S0</td><td>binnings/20A/sne/Ic/sn1997dq.u61.dat</td><td>1.7482153</td><td>0.6615396</td><td>0.023333333</td><td>727.63947</td><td>-1.6</td></tr>\n",
       "<tr><td>76</td><td>sn1997ei.u11.Ic.z0.02.dat</td><td>binnings/20A/gal/E</td><td>binnings/20A/sne/Ic/sn1994I.m05.dat</td><td>0.29562214</td><td>0.8222261</td><td>0.033333335</td><td>736.44775</td><td>0.4</td></tr>\n",
       "<tr><td>77</td><td>sn1997ei.u11.Ic.z0.02.dat</td><td>binnings/20A/gal/E</td><td>binnings/20A/sne/Ic/sn1997ei.u11.dat</td><td>1.2028959</td><td>0.23765689</td><td>0.03</td><td>742.42883</td><td>-0.4</td></tr>\n",
       "<tr><td>78</td><td>sn1997ei.u11.Ic.z0.02.dat</td><td>binnings/20A/gal/E</td><td>binnings/20A/sne/Ic/sn1995f.u00.dat</td><td>2.5892367</td><td>0.5610878</td><td>0.01</td><td>743.0532</td><td>-1.6</td></tr>\n",
       "<tr><td>79</td><td>sn1997ei.u11.Ic.z0.02.dat</td><td>binnings/20A/gal/Sa</td><td>binnings/20A/sne/Ic/sn1990b.p65.dat</td><td>1.6724415</td><td>0.43146095</td><td>0.01</td><td>747.97473</td><td>-0.8</td></tr>\n",
       "<tr><td>80</td><td>sn1997ei.u11.Ic.z0.02.dat</td><td>binnings/20A/gal/SB1</td><td>binnings/20A/sne/Ic/sn1997ei.u11.dat</td><td>0.2765416</td><td>0.3447259</td><td>0.02</td><td>768.4532</td><td>0.8</td></tr>\n",
       "<tr><td>81</td><td>sn1997ei.u11.Ic.z0.02.dat</td><td>binnings/20A/gal/E</td><td>binnings/20A/sne/Ic/sn1994I.m05.dat</td><td>0.2100365</td><td>0.8140049</td><td>0.033333335</td><td>770.9736</td><td>0.8</td></tr>\n",
       "<tr><td>82</td><td>sn1997ei.u11.Ic.z0.02.dat</td><td>binnings/20A/gal/S0</td><td>binnings/20A/sne/Ic/sn1997dq.u61.dat</td><td>2.322051</td><td>0.70858365</td><td>0.023333333</td><td>787.54004</td><td>-2.0</td></tr>\n",
       "<tr><td>83</td><td>sn1997ei.u11.Ic.z0.02.dat</td><td>binnings/20A/gal/E</td><td>binnings/20A/sne/Ic/sn1995f.u00.dat</td><td>1.8930286</td><td>0.497713</td><td>0.006666667</td><td>788.57526</td><td>-1.2</td></tr>\n",
       "<tr><td>84</td><td>sn1997ei.u11.Ic.z0.02.dat</td><td>binnings/20A/gal/Sc</td><td>binnings/20A/sne/Ic/sn1995f.u29.dat</td><td>0.37098598</td><td>0.31445456</td><td>0.01</td><td>788.838</td><td>0.4</td></tr>\n",
       "<tr><td>85</td><td>sn1997ei.u11.Ic.z0.02.dat</td><td>binnings/20A/gal/E</td><td>binnings/20A/sne/Ic/sn1994I.p11.dat</td><td>0.080866806</td><td>0.85212827</td><td>0.036666665</td><td>798.7345</td><td>1.6</td></tr>\n",
       "<tr><td>86</td><td>sn1997ei.u11.Ic.z0.02.dat</td><td>binnings/20A/gal/S0</td><td>binnings/20A/sne/Ic/sn1997dq.u61.dat</td><td>1.6653348</td><td>0.6777598</td><td>0.026666667</td><td>799.24835</td><td>-1.6</td></tr>\n",
       "<tr><td>87</td><td>sn1997ei.u11.Ic.z0.02.dat</td><td>binnings/20A/gal/Sb</td><td>binnings/20A/sne/Ic/sn1997dq.u61.dat</td><td>1.179013</td><td>0.64766777</td><td>0.026666667</td><td>801.9498</td><td>-1.2</td></tr>\n",
       "<tr><td>88</td><td>sn1997ei.u11.Ic.z0.02.dat</td><td>binnings/20A/gal/E</td><td>binnings/20A/sne/Ic/sn1994I.m05.dat</td><td>0.29765362</td><td>0.8186989</td><td>0.036666665</td><td>809.7312</td><td>0.4</td></tr>\n",
       "<tr><td>89</td><td>sn1997ei.u11.Ic.z0.02.dat</td><td>binnings/20A/gal/Sa</td><td>binnings/20A/sne/Ic/sn1997ei.u11.dat</td><td>0.6694016</td><td>0.35790113</td><td>0.006666667</td><td>819.8682</td><td>0.0</td></tr>\n",
       "<tr><td>90</td><td>sn1997ei.u11.Ic.z0.02.dat</td><td>binnings/20A/gal/E</td><td>binnings/20A/sne/Ic/sn1994I.p11.dat</td><td>0.05808294</td><td>0.84503835</td><td>0.036666665</td><td>820.47253</td><td>2.0</td></tr>\n",
       "<tr><td>91</td><td>sn1997ei.u11.Ic.z0.02.dat</td><td>binnings/20A/gal/Sc</td><td>binnings/20A/sne/Ic/sn1995f.u29.dat</td><td>0.19866672</td><td>0.39959207</td><td>0.016666668</td><td>822.8738</td><td>0.8</td></tr>\n",
       "<tr><td>92</td><td>sn1997ei.u11.Ic.z0.02.dat</td><td>binnings/20A/gal/E</td><td>binnings/20A/sne/Ic/sn1995f.u00.dat</td><td>2.4531353</td><td>0.5901937</td><td>0.006666667</td><td>832.1287</td><td>-1.6</td></tr>\n",
       "<tr><td>93</td><td>sn1997ei.u11.Ic.z0.02.dat</td><td>binnings/20A/gal/S0</td><td>binnings/20A/sne/Ic/sn1997c.u00.dat</td><td>1.1513569</td><td>0.5257253</td><td>0.026666667</td><td>833.3094</td><td>-0.8</td></tr>\n",
       "<tr><td>94</td><td>sn1997ei.u11.Ic.z0.02.dat</td><td>binnings/20A/gal/S0</td><td>binnings/20A/sne/Ic/sn1997dq.u61.dat</td><td>2.2295675</td><td>0.72014153</td><td>0.026666667</td><td>847.514</td><td>-2.0</td></tr>\n",
       "<tr><td>95</td><td>sn1997ei.u11.Ic.z0.02.dat</td><td>binnings/20A/gal/Sc</td><td>binnings/20A/sne/Ic/sn1997ei.u11.dat</td><td>0.21884185</td><td>0.40121818</td><td>0.013333334</td><td>861.8</td><td>0.8</td></tr>\n",
       "<tr><td>96</td><td>sn1997ei.u11.Ic.z0.02.dat</td><td>binnings/20A/gal/E</td><td>binnings/20A/sne/Ic/sn1995f.u00.dat</td><td>3.3231144</td><td>0.642841</td><td>0.01</td><td>861.87335</td><td>-2.0</td></tr>\n",
       "<tr><td>97</td><td>sn1997ei.u11.Ic.z0.02.dat</td><td>binnings/20A/gal/Sb</td><td>binnings/20A/sne/Ic/sn1995f.u00.dat</td><td>1.3598317</td><td>0.41819453</td><td>0.006666667</td><td>866.48645</td><td>-0.8</td></tr>\n",
       "<tr><td>98</td><td>sn1997ei.u11.Ic.z0.02.dat</td><td>binnings/20A/gal/E</td><td>binnings/20A/sne/Ic/sn1994I.m05.dat</td><td>0.29787496</td><td>0.81740916</td><td>0.04</td><td>883.6282</td><td>0.4</td></tr>\n",
       "<tr><td>99</td><td>sn1997ei.u11.Ic.z0.02.dat</td><td>binnings/20A/gal/S0</td><td>binnings/20A/sne/Ic/sn1994I.p11.dat</td><td>0.07055412</td><td>0.85909075</td><td>0.04</td><td>902.29047</td><td>1.6</td></tr>\n",
       "<tr><td>100</td><td>sn1997ei.u11.Ic.z0.02.dat</td><td>binnings/20A/gal/S0</td><td>binnings/20A/sne/Ic/sn1995f.u29.dat</td><td>0.926757</td><td>0.36741397</td><td>0.006666667</td><td>909.5092</td><td>-0.4</td></tr>\n",
       "<tr><td>101</td><td>sn1997ei.u11.Ic.z0.02.dat</td><td>binnings/20A/gal/E</td><td>binnings/20A/sne/Ic/sn2002ap.p29.dat</td><td>2.7423725</td><td>0.6652179</td><td>0.033333335</td><td>916.1649</td><td>-1.6</td></tr>\n",
       "<tr><td>102</td><td>sn1997ei.u11.Ic.z0.02.dat</td><td>binnings/20A/gal/E</td><td>binnings/20A/sne/Ic/sn1990b.p65.dat</td><td>2.7962744</td><td>0.3866737</td><td>0.03</td><td>923.68646</td><td>-1.2</td></tr>\n",
       "<tr><td>103</td><td>sn1997ei.u11.Ic.z0.02.dat</td><td>binnings/20A/gal/E</td><td>binnings/20A/sne/Ic/sn1995f.u00.dat</td><td>1.7624774</td><td>0.5394323</td><td>0.0033333334</td><td>928.6869</td><td>-1.2</td></tr>\n",
       "<tr><td>104</td><td>sn1997ei.u11.Ic.z0.02.dat</td><td>binnings/20A/gal/E</td><td>binnings/20A/sne/Ic/sn1994I.p11.dat</td><td>0.057429228</td><td>0.8467416</td><td>0.04</td><td>932.7</td><td>2.0</td></tr>\n",
       "<tr><td>105</td><td>sn1997ei.u11.Ic.z0.02.dat</td><td>binnings/20A/gal/S0</td><td>binnings/20A/sne/Ic/sn1997c.u00.dat</td><td>1.1098517</td><td>0.5403725</td><td>0.03</td><td>933.8515</td><td>-0.8</td></tr>\n",
       "<tr><td>106</td><td>sn1997ei.u11.Ic.z0.02.dat</td><td>binnings/20A/gal/S0</td><td>binnings/20A/sne/Ic/sn1997dq.u61.dat</td><td>1.5607435</td><td>0.6991509</td><td>0.03</td><td>955.6243</td><td>-1.6</td></tr>\n",
       "<tr><td>107</td><td>sn1997ei.u11.Ic.z0.02.dat</td><td>binnings/20A/gal/Sa</td><td>binnings/20A/sne/Ic/sn1995f.u00.dat</td><td>1.1912237</td><td>0.4878317</td><td>0.0033333334</td><td>956.99207</td><td>-0.8</td></tr>\n",
       "<tr><td>108</td><td>sn1997ei.u11.Ic.z0.02.dat</td><td>binnings/20A/gal/E</td><td>binnings/20A/sne/Ic/sn1995f.u00.dat</td><td>3.1699877</td><td>0.66459835</td><td>0.006666667</td><td>957.1737</td><td>-2.0</td></tr>\n",
       "<tr><td>109</td><td>sn1997ei.u11.Ic.z0.02.dat</td><td>binnings/20A/gal/E</td><td>binnings/20A/sne/Ic/sn1994I.m05.dat</td><td>0.29704744</td><td>0.81721705</td><td>0.043333333</td><td>969.338</td><td>0.4</td></tr>\n",
       "<tr><td>110</td><td>sn1997ei.u11.Ic.z0.02.dat</td><td>binnings/20A/gal/S0</td><td>binnings/20A/sne/Ic/sn1997dq.u61.dat</td><td>2.1123378</td><td>0.7356451</td><td>0.03</td><td>971.97626</td><td>-2.0</td></tr>\n",
       "<tr><td>111</td><td>sn1997ei.u11.Ic.z0.02.dat</td><td>binnings/20A/gal/E</td><td>binnings/20A/sne/Ic/sn1995f.u00.dat</td><td>2.307947</td><td>0.6206255</td><td>0.0033333334</td><td>976.56305</td><td>-1.6</td></tr>\n",
       "<tr><td>112</td><td>sn1997ei.u11.Ic.z0.02.dat</td><td>binnings/20A/gal/S0</td><td>binnings/20A/sne/Ic/sn1994I.p02.dat</td><td>0.42416817</td><td>0.795681</td><td>0.036666665</td><td>977.13165</td><td>-0.4</td></tr>\n",
       "<tr><td>113</td><td>sn1997ei.u11.Ic.z0.02.dat</td><td>binnings/20A/gal/S0</td><td>binnings/20A/sne/Ic/sn1994I.p02.dat</td><td>0.31130123</td><td>0.77580345</td><td>0.036666665</td><td>1002.16016</td><td>0.0</td></tr>\n",
       "<tr><td>114</td><td>sn1997ei.u11.Ic.z0.02.dat</td><td>binnings/20A/gal/S0</td><td>binnings/20A/sne/Ic/sn1997ei.u11.dat</td><td>1.0986041</td><td>0.29777852</td><td>0.033333335</td><td>1010.73413</td><td>-0.4</td></tr>\n",
       "<tr><td>115</td><td>sn1997ei.u11.Ic.z0.02.dat</td><td>binnings/20A/gal/Sc</td><td>binnings/20A/sne/Ic/sn1997ei.u11.dat</td><td>0.37431437</td><td>0.35121152</td><td>0.03</td><td>1018.13226</td><td>0.4</td></tr>\n",
       "<tr><td>116</td><td>sn1997ei.u11.Ic.z0.02.dat</td><td>binnings/20A/gal/Sa</td><td>binnings/20A/sne/Ic/sn1995f.u29.dat</td><td>0.56825167</td><td>0.38146874</td><td>0.0033333334</td><td>1021.06683</td><td>0.0</td></tr>\n",
       "<tr><td>117</td><td>sn1997ei.u11.Ic.z0.02.dat</td><td>binnings/20A/gal/E</td><td>binnings/20A/sne/Ic/sn2002ap.p29.dat</td><td>2.663639</td><td>0.6757831</td><td>0.036666665</td><td>1027.4014</td><td>-1.6</td></tr>\n",
       "<tr><td>118</td><td>sn1997ei.u11.Ic.z0.02.dat</td><td>binnings/20A/gal/Sa</td><td>binnings/20A/sne/Ic/sn1995f.u29.dat</td><td>0.7734948</td><td>0.46990183</td><td>0.0033333334</td><td>1029.0955</td><td>-0.4</td></tr>\n",
       "<tr><td>119</td><td>sn1997ei.u11.Ic.z0.02.dat</td><td>binnings/20A/gal/E</td><td>binnings/20A/sne/Ic/sn2002ap.p29.dat</td><td>3.6549323</td><td>0.707715</td><td>0.036666665</td><td>1030.0931</td><td>-2.0</td></tr>\n",
       "<tr><td>120</td><td>sn1997ei.u11.Ic.z0.02.dat</td><td>binnings/20A/gal/SB4</td><td>binnings/20A/sne/Ic/sn1998bw.p29.dat</td><td>0.12428333</td><td>0.79003763</td><td>0.1</td><td>1036.3022</td><td>0.8</td></tr>\n",
       "<tr><td>121</td><td>sn1997ei.u11.Ic.z0.02.dat</td><td>binnings/20A/gal/SB4</td><td>binnings/20A/sne/Ic/sn1998bw.p29.dat</td><td>0.18347862</td><td>0.7933183</td><td>0.1</td><td>1041.0634</td><td>0.4</td></tr>\n",
       "<tr><td>122</td><td>sn1997ei.u11.Ic.z0.02.dat</td><td>binnings/20A/gal/Sc</td><td>binnings/20A/sne/Ic/sn1998bw.p29.dat</td><td>0.15327102</td><td>0.71488607</td><td>0.1</td><td>1047.5923</td><td>0.0</td></tr>\n",
       "<tr><td>123</td><td>sn1997ei.u11.Ic.z0.02.dat</td><td>binnings/20A/gal/Sc</td><td>binnings/20A/sne/Ic/sn1998bw.p29.dat</td><td>0.20521896</td><td>0.72473055</td><td>0.1</td><td>1049.7518</td><td>-0.4</td></tr>\n",
       "<tr><td>124</td><td>sn1997ei.u11.Ic.z0.02.dat</td><td>binnings/20A/gal/S0</td><td>binnings/20A/sne/Ic/sn1994I.p02.dat</td><td>0.41785875</td><td>0.79840004</td><td>0.04</td><td>1054.3319</td><td>-0.4</td></tr>\n",
       "<tr><td>125</td><td>sn1997ei.u11.Ic.z0.02.dat</td><td>binnings/20A/gal/Sc</td><td>binnings/20A/sne/Ic/sn1998bw.p29.dat</td><td>0.2645073</td><td>0.7361772</td><td>0.1</td><td>1058.2211</td><td>-0.8</td></tr>\n",
       "<tr><td>126</td><td>sn1997ei.u11.Ic.z0.02.dat</td><td>binnings/20A/gal/SB4</td><td>binnings/20A/sne/Ic/sn1998bw.p29.dat</td><td>0.07982242</td><td>0.7967583</td><td>0.1</td><td>1063.3097</td><td>1.2</td></tr>\n",
       "<tr><td>127</td><td>sn1997ei.u11.Ic.z0.02.dat</td><td>binnings/20A/gal/Sc</td><td>binnings/20A/sne/Ic/sn1998bw.p29.dat</td><td>0.15121903</td><td>0.71709245</td><td>0.096666664</td><td>1065.632</td><td>0.0</td></tr>\n",
       "<tr><td>128</td><td>sn1997ei.u11.Ic.z0.02.dat</td><td>binnings/20A/gal/S0</td><td>binnings/20A/sne/Ic/sn1994I.p02.dat</td><td>0.56522447</td><td>0.8169438</td><td>0.04</td><td>1066.8958</td><td>-0.8</td></tr>\n",
       "<tr><td>129</td><td>sn1997ei.u11.Ic.z0.02.dat</td><td>binnings/20A/gal/S0</td><td>binnings/20A/sne/Ic/sn1997ei.u11.dat</td><td>0.8117786</td><td>0.17765607</td><td>0.033333335</td><td>1067.2135</td><td>0.0</td></tr>\n",
       "<tr><td>130</td><td>sn1997ei.u11.Ic.z0.02.dat</td><td>binnings/20A/gal/E</td><td>binnings/20A/sne/Ic/sn1998bw.p29.dat</td><td>2.3291109</td><td>0.80448985</td><td>0.1</td><td>1067.3749</td><td>-2.0</td></tr>\n",
       "<tr><td>131</td><td>sn1997ei.u11.Ic.z0.02.dat</td><td>binnings/20A/gal/Sc</td><td>binnings/20A/sne/Ic/sn1998bw.p29.dat</td><td>0.20203827</td><td>0.7269721</td><td>0.096666664</td><td>1067.6074</td><td>-0.4</td></tr>\n",
       "<tr><td>132</td><td>sn1997ei.u11.Ic.z0.02.dat</td><td>binnings/20A/gal/Sc</td><td>binnings/20A/sne/Ic/sn1998bw.p29.dat</td><td>0.3313544</td><td>0.74772537</td><td>0.1</td><td>1069.7279</td><td>-1.2</td></tr>\n",
       "<tr><td>133</td><td>sn1997ei.u11.Ic.z0.02.dat</td><td>binnings/20A/gal/Sc</td><td>binnings/20A/sne/Ic/sn1998bw.p29.dat</td><td>0.10786562</td><td>0.7105931</td><td>0.096666664</td><td>1072.1941</td><td>0.4</td></tr>\n",
       "<tr><td>134</td><td>sn1997ei.u11.Ic.z0.02.dat</td><td>binnings/20A/gal/Sc</td><td>binnings/20A/sne/Ic/sn1998bw.p29.dat</td><td>0.25994495</td><td>0.738348</td><td>0.096666664</td><td>1075.3547</td><td>-0.8</td></tr>\n",
       "<tr><td>135</td><td>sn1997ei.u11.Ic.z0.02.dat</td><td>binnings/20A/gal/Sc</td><td>binnings/20A/sne/Ic/sn1998bw.p29.dat</td><td>0.40635103</td><td>0.7584955</td><td>0.1</td><td>1081.9164</td><td>-1.6</td></tr>\n",
       "<tr><td>136</td><td>sn1997ei.u11.Ic.z0.02.dat</td><td>binnings/20A/gal/SB4</td><td>binnings/20A/sne/Ic/sn1998bw.p29.dat</td><td>0.12394351</td><td>0.7920243</td><td>0.096666664</td><td>1083.1676</td><td>0.8</td></tr>\n",
       "<tr><td>137</td><td>sn1997ei.u11.Ic.z0.02.dat</td><td>binnings/20A/gal/Sa</td><td>binnings/20A/sne/Ic/sn1995f.u00.dat</td><td>1.0412164</td><td>0.55823386</td><td>0.0</td><td>1083.8384</td><td>-0.8</td></tr>\n",
       "<tr><td>138</td><td>sn1997ei.u11.Ic.z0.02.dat</td><td>binnings/20A/gal/Sc</td><td>binnings/20A/sne/Ic/sn1998bw.p29.dat</td><td>0.32506946</td><td>0.7497789</td><td>0.096666664</td><td>1085.8892</td><td>-1.2</td></tr>\n",
       "<tr><td>139</td><td>sn1997ei.u11.Ic.z0.02.dat</td><td>binnings/20A/gal/S0</td><td>binnings/20A/sne/Ic/sn1995f.u29.dat</td><td>1.1800017</td><td>0.47664562</td><td>0.033333335</td><td>1088.4734</td><td>-0.8</td></tr>\n",
       "<tr><td>140</td><td>sn1997ei.u11.Ic.z0.02.dat</td><td>binnings/20A/gal/S0</td><td>binnings/20A/sne/Ic/sn1994I.p02.dat</td><td>0.30612114</td><td>0.7792402</td><td>0.04</td><td>1089.1047</td><td>0.0</td></tr>\n",
       "<tr><td>141</td><td>sn1997ei.u11.Ic.z0.02.dat</td><td>binnings/20A/gal/E</td><td>binnings/20A/sne/Ic/sn1998bw.p29.dat</td><td>2.3025393</td><td>0.8097683</td><td>0.096666664</td><td>1091.3525</td><td>-2.0</td></tr>\n",
       "<tr><td>142</td><td>sn1997ei.u11.Ic.z0.02.dat</td><td>binnings/20A/gal/Sc</td><td>binnings/20A/sne/Ic/sn1998bw.p29.dat</td><td>0.3978471</td><td>0.76042247</td><td>0.096666664</td><td>1097.0238</td><td>-1.6</td></tr>\n",
       "<tr><td>143</td><td>sn1997ei.u11.Ic.z0.02.dat</td><td>binnings/20A/gal/Sc</td><td>binnings/20A/sne/Ic/sn1995f.u29.dat</td><td>0.17631726</td><td>0.45100868</td><td>0.01</td><td>1099.9486</td><td>0.8</td></tr>\n",
       "<tr><td>144</td><td>sn1997ei.u11.Ic.z0.02.dat</td><td>binnings/20A/gal/E</td><td>binnings/20A/sne/Ic/sn1995f.u00.dat</td><td>3.0067775</td><td>0.6873006</td><td>0.0033333334</td><td>1100.7789</td><td>-2.0</td></tr>\n",
       "<tr><td>145</td><td>sn1997ei.u11.Ic.z0.02.dat</td><td>binnings/20A/gal/SB4</td><td>binnings/20A/sne/Ic/sn1998bw.p29.dat</td><td>0.07975142</td><td>0.7982797</td><td>0.096666664</td><td>1105.4642</td><td>1.2</td></tr>\n",
       "<tr><td>146</td><td>sn1997ei.u11.Ic.z0.02.dat</td><td>binnings/20A/gal/E</td><td>binnings/20A/sne/Ic/sn1995f.u00.dat</td><td>1.6285195</td><td>0.5815577</td><td>0.0</td><td>1109.1869</td><td>-1.2</td></tr>\n",
       "<tr><td>147</td><td>sn1997ei.u11.Ic.z0.02.dat</td><td>binnings/20A/gal/S0</td><td>binnings/20A/sne/Ic/sn1994I.p02.dat</td><td>0.7585699</td><td>0.8345757</td><td>0.04</td><td>1111.3752</td><td>-1.2</td></tr>\n",
       "<tr><td>148</td><td>sn1997ei.u11.Ic.z0.02.dat</td><td>binnings/20A/gal/S0</td><td>binnings/20A/sne/Ic/sn1998bw.p29.dat</td><td>1.0977637</td><td>0.79364383</td><td>0.043333333</td><td>1125.302</td><td>-1.2</td></tr>\n",
       "<tr><td>149</td><td>sn1997ei.u11.Ic.z0.02.dat</td><td>binnings/20A/gal/S0</td><td>binnings/20A/sne/Ic/sn1994I.p02.dat</td><td>0.40981826</td><td>0.8023306</td><td>0.043333333</td><td>1128.934</td><td>-0.4</td></tr>\n",
       "<tr><td>150</td><td>sn1997ei.u11.Ic.z0.02.dat</td><td>binnings/20A/gal/S0</td><td>binnings/20A/sne/Ic/sn1994I.p02.dat</td><td>0.555435</td><td>0.82015425</td><td>0.043333333</td><td>1133.3562</td><td>-0.8</td></tr>\n",
       "<tr><td>151</td><td>sn1997ei.u11.Ic.z0.02.dat</td><td>binnings/20A/gal/S0</td><td>binnings/20A/sne/Ic/sn1998bw.p29.dat</td><td>1.0904074</td><td>0.7943165</td><td>0.046666667</td><td>1140.5007</td><td>-1.2</td></tr>\n",
       "<tr><td>152</td><td>sn1997ei.u11.Ic.z0.02.dat</td><td>binnings/20A/gal/S0</td><td>binnings/20A/sne/Ic/sn1997c.u00.dat</td><td>1.3265647</td><td>0.6471296</td><td>0.033333335</td><td>1141.6729</td><td>-1.2</td></tr>\n",
       "<tr><td>153</td><td>sn1997ei.u11.Ic.z0.02.dat</td><td>binnings/20A/gal/S0</td><td>binnings/20A/sne/Ic/sn1998bw.p29.dat</td><td>1.4806563</td><td>0.8154279</td><td>0.046666667</td><td>1146.0453</td><td>-1.6</td></tr>\n",
       "<tr><td>154</td><td>sn1997ei.u11.Ic.z0.02.dat</td><td>binnings/20A/gal/S0</td><td>binnings/20A/sne/Ic/sn1998bw.p29.dat</td><td>1.4667798</td><td>0.817256</td><td>0.05</td><td>1151.2498</td><td>-1.6</td></tr>\n",
       "<tr><td>155</td><td>sn1997ei.u11.Ic.z0.02.dat</td><td>binnings/20A/gal/S0</td><td>binnings/20A/sne/Ic/sn1997dq.u61.dat</td><td>1.9810739</td><td>0.75391793</td><td>0.033333335</td><td>1153.7743</td><td>-2.0</td></tr>\n",
       "<tr><td>156</td><td>sn1997ei.u11.Ic.z0.02.dat</td><td>binnings/20A/gal/E</td><td>binnings/20A/sne/Ic/sn1995f.u00.dat</td><td>2.1586034</td><td>0.65138733</td><td>0.0</td><td>1157.5281</td><td>-1.6</td></tr>\n",
       "<tr><td>157</td><td>sn1997ei.u11.Ic.z0.02.dat</td><td>binnings/20A/gal/S0</td><td>binnings/20A/sne/Ic/sn1998bw.p29.dat</td><td>1.0762229</td><td>0.7971418</td><td>0.05</td><td>1157.7412</td><td>-1.2</td></tr>\n",
       "<tr><td>158</td><td>sn1997ei.u11.Ic.z0.02.dat</td><td>binnings/20A/gal/S0</td><td>binnings/20A/sne/Ic/sn1998bw.p29.dat</td><td>1.4478216</td><td>0.8200782</td><td>0.053333335</td><td>1157.9055</td><td>-1.6</td></tr>\n",
       "<tr><td>159</td><td>sn1997ei.u11.Ic.z0.02.dat</td><td>binnings/20A/gal/Sa</td><td>binnings/20A/sne/Ic/sn1995f.u29.dat</td><td>0.6293179</td><td>0.57479423</td><td>0.0</td><td>1162.9977</td><td>-0.4</td></tr>\n",
       "<tr><td>160</td><td>sn1997ei.u11.Ic.z0.02.dat</td><td>binnings/20A/gal/S0</td><td>binnings/20A/sne/Ic/sn1998bw.p29.dat</td><td>1.9664654</td><td>0.8378934</td><td>0.053333335</td><td>1170.8751</td><td>-2.0</td></tr>\n",
       "<tr><td>161</td><td>sn1997ei.u11.Ic.z0.02.dat</td><td>binnings/20A/gal/S0</td><td>binnings/20A/sne/Ic/sn1998bw.p29.dat</td><td>1.4349114</td><td>0.8208711</td><td>0.05666667</td><td>1171.1938</td><td>-1.6</td></tr>\n",
       "<tr><td>162</td><td>sn1997ei.u11.Ic.z0.02.dat</td><td>binnings/20A/gal/Sc</td><td>binnings/20A/sne/Ic/sn1997ef.p89.dat</td><td>-0.0036570407</td><td>0.83502614</td><td>0.1</td><td>1171.8461</td><td>1.6</td></tr>\n",
       "<tr><td>163</td><td>sn1997ei.u11.Ic.z0.02.dat</td><td>binnings/20A/gal/S0</td><td>binnings/20A/sne/Ic/sn1994I.p02.dat</td><td>0.299534</td><td>0.78406733</td><td>0.043333333</td><td>1172.6226</td><td>0.0</td></tr>\n",
       "<tr><td>164</td><td>sn1997ei.u11.Ic.z0.02.dat</td><td>binnings/20A/gal/Sc</td><td>binnings/20A/sne/Ic/sn1997ef.p89.dat</td><td>-0.002240224</td><td>0.83496493</td><td>0.1</td><td>1173.0577</td><td>2.0</td></tr>\n",
       "<tr><td>165</td><td>sn1997ei.u11.Ic.z0.02.dat</td><td>binnings/20A/gal/S0</td><td>binnings/20A/sne/Ic/sn1998bw.p29.dat</td><td>1.9848013</td><td>0.8360515</td><td>0.05</td><td>1175.8223</td><td>-2.0</td></tr>\n",
       "<tr><td>166</td><td>sn1997ei.u11.Ic.z0.02.dat</td><td>binnings/20A/gal/S0</td><td>binnings/20A/sne/Ic/sn1998bw.p29.dat</td><td>1.0577892</td><td>0.8012401</td><td>0.053333335</td><td>1176.5094</td><td>-1.2</td></tr>\n",
       "<tr><td>167</td><td>sn1997ei.u11.Ic.z0.02.dat</td><td>binnings/20A/gal/Sc</td><td>binnings/20A/sne/Ic/sn1997ef.p89.dat</td><td>-0.0032856164</td><td>0.833557</td><td>0.096666664</td><td>1182.2788</td><td>1.6</td></tr>\n",
       "<tr><td>168</td><td>sn1997ei.u11.Ic.z0.02.dat</td><td>binnings/20A/gal/Sc</td><td>binnings/20A/sne/Ic/sn1997ef.p89.dat</td><td>-0.0020248827</td><td>0.83361393</td><td>0.096666664</td><td>1182.9999</td><td>2.0</td></tr>\n",
       "<tr><td>169</td><td>sn1997ei.u11.Ic.z0.02.dat</td><td>binnings/20A/gal/Sc</td><td>binnings/20A/sne/Ic/sn1997ef.p89.dat</td><td>-0.0028005359</td><td>0.8317389</td><td>0.093333334</td><td>1188.9012</td><td>1.6</td></tr>\n",
       "<tr><td>170</td><td>sn1997ei.u11.Ic.z0.02.dat</td><td>binnings/20A/gal/Sc</td><td>binnings/20A/sne/Ic/sn1997ef.p89.dat</td><td>-0.0017616941</td><td>0.83209115</td><td>0.093333334</td><td>1188.9722</td><td>2.0</td></tr>\n",
       "<tr><td>171</td><td>sn1997ei.u11.Ic.z0.02.dat</td><td>binnings/20A/gal/Sc</td><td>binnings/20A/sne/Ic/sn1997ef.p89.dat</td><td>-0.004293501</td><td>0.8310283</td><td>0.093333334</td><td>1189.9607</td><td>1.2</td></tr>\n",
       "<tr><td>172</td><td>sn1997ei.u11.Ic.z0.02.dat</td><td>binnings/20A/gal/Sa</td><td>binnings/20A/sne/Ic/sn1995f.u29.dat</td><td>0.41603</td><td>0.5551337</td><td>0.0</td><td>1191.6392</td><td>0.0</td></tr>\n",
       "<tr><td>173</td><td>sn1997ei.u11.Ic.z0.02.dat</td><td>binnings/20A/gal/Sc</td><td>binnings/20A/sne/Ic/sn1997ef.p89.dat</td><td>-0.0062112943</td><td>0.82974774</td><td>0.093333334</td><td>1192.3928</td><td>0.8</td></tr>\n",
       "<tr><td>174</td><td>sn1997ei.u11.Ic.z0.02.dat</td><td>binnings/20A/gal/S0</td><td>binnings/20A/sne/Ic/sn1994I.p02.dat</td><td>0.54412293</td><td>0.82429683</td><td>0.046666667</td><td>1195.6897</td><td>-0.8</td></tr>\n",
       "<tr><td>175</td><td>sn1997ei.u11.Ic.z0.02.dat</td><td>binnings/20A/gal/Sc</td><td>binnings/20A/sne/Ic/sn1997ef.p89.dat</td><td>-0.008139055</td><td>0.8276441</td><td>0.093333334</td><td>1196.4071</td><td>0.4</td></tr>\n",
       "<tr><td>176</td><td>sn1997ei.u11.Ic.z0.02.dat</td><td>binnings/20A/gal/Sc</td><td>binnings/20A/sne/Ic/sn1997ef.p40.dat</td><td>0.18277608</td><td>0.7943849</td><td>0.093333334</td><td>1198.4309</td><td>-1.6</td></tr>\n",
       "<tr><td>177</td><td>sn1997ei.u11.Ic.z0.02.dat</td><td>binnings/20A/gal/S0</td><td>binnings/20A/sne/Ic/sn1994I.p02.dat</td><td>0.40043756</td><td>0.8074142</td><td>0.046666667</td><td>1200.8748</td><td>-0.4</td></tr>\n",
       "<tr><td>178</td><td>sn1997ei.u11.Ic.z0.02.dat</td><td>binnings/20A/gal/Sc</td><td>binnings/20A/sne/Ic/sn1997ef.p89.dat</td><td>0.0014055803</td><td>0.81144917</td><td>0.06</td><td>1200.9967</td><td>2.0</td></tr>\n",
       "<tr><td>179</td><td>sn1997ei.u11.Ic.z0.02.dat</td><td>binnings/20A/gal/Sc</td><td>binnings/20A/sne/Ic/sn1997ef.p89.dat</td><td>-0.008819251</td><td>0.82451755</td><td>0.093333334</td><td>1202.0394</td><td>0.0</td></tr>\n",
       "<tr><td>180</td><td>sn1997ei.u11.Ic.z0.02.dat</td><td>binnings/20A/gal/S0</td><td>binnings/20A/sne/Ic/sn1998bw.p29.dat</td><td>0.78227264</td><td>0.77620375</td><td>0.05</td><td>1202.5283</td><td>-0.8</td></tr>\n",
       "<tr><td>181</td><td>sn1997ei.u11.Ic.z0.02.dat</td><td>binnings/20A/gal/Sc</td><td>binnings/20A/sne/Ic/sn1997ef.p89.dat</td><td>-0.0015084619</td><td>0.8303629</td><td>0.09</td><td>1202.5673</td><td>2.0</td></tr>\n",
       "<tr><td>182</td><td>sn1997ei.u11.Ic.z0.02.dat</td><td>binnings/20A/gal/Sc</td><td>binnings/20A/sne/Ic/sn1997ef.p40.dat</td><td>0.101280876</td><td>0.798097</td><td>0.093333334</td><td>1202.9075</td><td>-1.2</td></tr>\n",
       "<tr><td>183</td><td>sn1997ei.u11.Ic.z0.02.dat</td><td>binnings/20A/gal/Sc</td><td>binnings/20A/sne/Ic/sn1997ef.p89.dat</td><td>-0.002322481</td><td>0.8296694</td><td>0.09</td><td>1203.287</td><td>1.6</td></tr>\n",
       "<tr><td>184</td><td>sn1997ei.u11.Ic.z0.02.dat</td><td>binnings/20A/gal/Sc</td><td>binnings/20A/sne/Ic/sn1997ef.p40.dat</td><td>8.7477776e-05</td><td>0.82116604</td><td>0.06666667</td><td>1204.8257</td><td>2.0</td></tr>\n",
       "<tr><td>185</td><td>sn1997ei.u11.Ic.z0.02.dat</td><td>binnings/20A/gal/Sc</td><td>binnings/20A/sne/Ic/sn1997ef.p89.dat</td><td>-0.003380484</td><td>0.82850486</td><td>0.09</td><td>1205.1365</td><td>1.2</td></tr>\n",
       "<tr><td>186</td><td>sn1997ei.u11.Ic.z0.02.dat</td><td>binnings/20A/gal/Sc</td><td>binnings/20A/sne/Ic/sn1997ef.p40.dat</td><td>0.0010755366</td><td>0.81434095</td><td>0.06333333</td><td>1206.1909</td><td>2.0</td></tr>\n",
       "<tr><td>187</td><td>sn1997ei.u11.Ic.z0.02.dat</td><td>binnings/20A/gal/Sc</td><td>binnings/20A/sne/Ic/sn1997ef.p40.dat</td><td>-0.0007426412</td><td>0.8270024</td><td>0.07</td><td>1206.251</td><td>2.0</td></tr>\n",
       "<tr><td>188</td><td>sn1997ei.u11.Ic.z0.02.dat</td><td>binnings/20A/gal/Sc</td><td>binnings/20A/sne/Ic/sn1997ef.p40.dat</td><td>0.33400047</td><td>0.7896964</td><td>0.09</td><td>1206.6783</td><td>-2.0</td></tr>\n",
       "<tr><td>189</td><td>sn1997ei.u11.Ic.z0.02.dat</td><td>binnings/20A/gal/Sc</td><td>binnings/20A/sne/Ic/sn1997ef.p89.dat</td><td>0.0031273083</td><td>0.807178</td><td>0.06</td><td>1208.0245</td><td>1.6</td></tr>\n",
       "<tr><td>190</td><td>sn1997ei.u11.Ic.z0.02.dat</td><td>binnings/20A/gal/Sc</td><td>binnings/20A/sne/Ic/sn1997ef.p40.dat</td><td>0.040316634</td><td>0.80569535</td><td>0.093333334</td><td>1208.0917</td><td>-0.8</td></tr>\n",
       "<tr><td>191</td><td>sn1997ei.u11.Ic.z0.02.dat</td><td>binnings/20A/gal/Sc</td><td>binnings/20A/sne/Ic/sn1997ef.p40.dat</td><td>0.22194977</td><td>0.78974766</td><td>0.09</td><td>1208.3182</td><td>-1.6</td></tr>\n",
       "<tr><td>192</td><td>sn1997ei.u11.Ic.z0.02.dat</td><td>binnings/20A/gal/Sc</td><td>binnings/20A/sne/Ic/sn1997ef.p89.dat</td><td>-0.0044542104</td><td>0.8266291</td><td>0.09</td><td>1208.3489</td><td>0.8</td></tr>\n",
       "<tr><td>193</td><td>sn1997ei.u11.Ic.z0.02.dat</td><td>binnings/20A/gal/Sc</td><td>binnings/20A/sne/Ic/sn1997ef.p89.dat</td><td>-0.005710473</td><td>0.82043004</td><td>0.093333334</td><td>1208.8947</td><td>-0.4</td></tr>\n",
       "<tr><td>194</td><td>sn1997ei.u11.Ic.z0.02.dat</td><td>binnings/20A/gal/Sc</td><td>binnings/20A/sne/Ic/sn1997ef.p89.dat</td><td>-0.0012827138</td><td>0.82906365</td><td>0.086666666</td><td>1209.1857</td><td>2.0</td></tr>\n",
       "<tr><td>195</td><td>sn1997ei.u11.Ic.z0.02.dat</td><td>binnings/20A/gal/Sc</td><td>binnings/20A/sne/Ic/sn1997ef.p40.dat</td><td>-0.00047307054</td><td>0.8235438</td><td>0.07</td><td>1209.3568</td><td>1.6</td></tr>\n",
       "<tr><td>196</td><td>sn1997ei.u11.Ic.z0.02.dat</td><td>binnings/20A/gal/Sc</td><td>binnings/20A/sne/Ic/sn1997ef.p89.dat</td><td>-0.0019001496</td><td>0.8280847</td><td>0.086666666</td><td>1210.4685</td><td>1.6</td></tr>\n",
       "<tr><td>197</td><td>sn1997ei.u11.Ic.z0.02.dat</td><td>binnings/20A/gal/Sc</td><td>binnings/20A/sne/Ic/sn1997ef.p40.dat</td><td>0.38834032</td><td>0.7856516</td><td>0.086666666</td><td>1211.3524</td><td>-2.0</td></tr>\n",
       "<tr><td>198</td><td>sn1997ei.u11.Ic.z0.02.dat</td><td>binnings/20A/gal/Sc</td><td>binnings/20A/sne/Ic/sn1997ef.p40.dat</td><td>0.26006585</td><td>0.78545445</td><td>0.086666666</td><td>1212.259</td><td>-1.6</td></tr>\n",
       "<tr><td>199</td><td>sn1997ei.u11.Ic.z0.02.dat</td><td>binnings/20A/gal/Sc</td><td>binnings/20A/sne/Ic/sn1997ef.p89.dat</td><td>0.0023959328</td><td>0.81020373</td><td>0.06333333</td><td>1212.3529</td><td>1.6</td></tr>\n",
       "<tr><td>200</td><td>sn1997ei.u11.Ic.z0.02.dat</td><td>binnings/20A/gal/Sc</td><td>binnings/20A/sne/Ic/sn1997ef.p40.dat</td><td>0.12505062</td><td>0.7938585</td><td>0.09</td><td>1212.4169</td><td>-1.2</td></tr>\n",
       "<tr><td>201</td><td>sn1997ei.u11.Ic.z0.02.dat</td><td>binnings/20A/gal/Sc</td><td>binnings/20A/sne/Ic/sn1997ef.p89.dat</td><td>-0.0025874153</td><td>0.8265618</td><td>0.086666666</td><td>1212.7834</td><td>1.2</td></tr>\n",
       "<tr><td>202</td><td>sn1997ei.u11.Ic.z0.02.dat</td><td>binnings/20A/gal/Sc</td><td>binnings/20A/sne/Ic/sn1997ef.p89.dat</td><td>-0.004760361</td><td>0.82377255</td><td>0.09</td><td>1213.1226</td><td>0.4</td></tr>\n",
       "<tr><td>203</td><td>sn1997ei.u11.Ic.z0.02.dat</td><td>binnings/20A/gal/Sc</td><td>binnings/20A/sne/Ic/sn1997ef.p89.dat</td><td>0.0016848398</td><td>0.8131507</td><td>0.06666667</td><td>1213.2815</td><td>1.6</td></tr>\n",
       "<tr><td>204</td><td>sn1997ei.u11.Ic.z0.02.dat</td><td>binnings/20A/gal/Sc</td><td>binnings/20A/sne/Ic/sn1997ef.p40.dat</td><td>0.000990763</td><td>0.8185156</td><td>0.07</td><td>1213.4672</td><td>1.2</td></tr>\n",
       "<tr><td>205</td><td>sn1997ei.u11.Ic.z0.02.dat</td><td>binnings/20A/gal/Sc</td><td>binnings/20A/sne/Ic/sn1997ef.p40.dat</td><td>-0.0014078848</td><td>0.83138084</td><td>0.07333333</td><td>1214.0988</td><td>2.0</td></tr>\n",
       "<tr><td>206</td><td>sn1997ei.u11.Ic.z0.02.dat</td><td>binnings/20A/gal/Sc</td><td>binnings/20A/sne/Ic/sn1997ef.p40.dat</td><td>-0.001725432</td><td>0.82868326</td><td>0.07333333</td><td>1215.718</td><td>1.6</td></tr>\n",
       "<tr><td>207</td><td>sn1997ei.u11.Ic.z0.02.dat</td><td>binnings/20A/gal/Sc</td><td>binnings/20A/sne/Ic/sn1997ef.p40.dat</td><td>0.14997429</td><td>0.78960943</td><td>0.086666666</td><td>1215.7308</td><td>-1.2</td></tr>\n",
       "<tr><td>208</td><td>sn1997ei.u11.Ic.z0.02.dat</td><td>binnings/20A/gal/Sc</td><td>binnings/20A/sne/Ic/sn1997ef.p89.dat</td><td>-0.0029689237</td><td>0.8242517</td><td>0.086666666</td><td>1216.304</td><td>0.8</td></tr>\n",
       "<tr><td>209</td><td>sn1997ei.u11.Ic.z0.02.dat</td><td>binnings/20A/gal/Sc</td><td>binnings/20A/sne/Ic/sn1997ef.p89.dat</td><td>0.004098961</td><td>0.8087885</td><td>0.06666667</td><td>1217.1779</td><td>1.2</td></tr>\n",
       "<tr><td>210</td><td>sn1997ei.u11.Ic.z0.02.dat</td><td>binnings/20A/gal/Sc</td><td>binnings/20A/sne/Ic/sn1997ef.p40.dat</td><td>0.053183638</td><td>0.80224544</td><td>0.09</td><td>1217.4581</td><td>-0.8</td></tr>\n",
       "<tr><td>211</td><td>sn1997ei.u11.Ic.z0.02.dat</td><td>binnings/20A/gal/Sc</td><td>binnings/20A/sne/Ic/sn1997ef.p89.dat</td><td>0.006776866</td><td>0.80173314</td><td>0.06</td><td>1217.4769</td><td>1.2</td></tr>\n",
       "<tr><td>212</td><td>sn1997ei.u11.Ic.z0.02.dat</td><td>binnings/20A/gal/Sc</td><td>binnings/20A/sne/Ic/sn1997ef.p40.dat</td><td>0.005643421</td><td>0.8113221</td><td>0.07</td><td>1218.273</td><td>0.8</td></tr>\n",
       "<tr><td>213</td><td>sn1997ei.u11.Ic.z0.02.dat</td><td>binnings/20A/gal/Sc</td><td>binnings/20A/sne/Ic/sn1997ef.p40.dat</td><td>-0.0013666851</td><td>0.82458955</td><td>0.07333333</td><td>1218.3832</td><td>1.2</td></tr>\n",
       "<tr><td>214</td><td>sn1997ei.u11.Ic.z0.02.dat</td><td>binnings/20A/gal/Sc</td><td>binnings/20A/sne/Ic/sn1997ef.p40.dat</td><td>0.39943287</td><td>0.7854378</td><td>0.083333336</td><td>1219.1731</td><td>-2.0</td></tr>\n",
       "<tr><td>215</td><td>sn1997ei.u11.Ic.z0.02.dat</td><td>binnings/20A/gal/Sc</td><td>binnings/20A/sne/Ic/sn1997ef.p89.dat</td><td>-0.0010370674</td><td>0.8276221</td><td>0.083333336</td><td>1219.1736</td><td>2.0</td></tr>\n",
       "<tr><td>216</td><td>sn1997ei.u11.Ic.z0.02.dat</td><td>binnings/20A/gal/Sc</td><td>binnings/20A/sne/Ic/sn1997ef.p40.dat</td><td>0.2715691</td><td>0.7846984</td><td>0.083333336</td><td>1219.387</td><td>-1.6</td></tr>\n",
       "<tr><td>217</td><td>sn1997ei.u11.Ic.z0.02.dat</td><td>binnings/20A/gal/Sc</td><td>binnings/20A/sne/Ic/sn1997ef.p89.dat</td><td>-0.0024208908</td><td>0.8197603</td><td>0.09</td><td>1219.477</td><td>0.0</td></tr>\n",
       "<tr><td>218</td><td>sn1997ei.u11.Ic.z0.02.dat</td><td>binnings/20A/gal/Sc</td><td>binnings/20A/sne/Ic/sn1997ef.p89.dat</td><td>0.0054268013</td><td>0.8052868</td><td>0.06333333</td><td>1220.495</td><td>1.2</td></tr>\n",
       "<tr><td>219</td><td>sn1997ei.u11.Ic.z0.02.dat</td><td>binnings/20A/gal/Sc</td><td>binnings/20A/sne/Ic/sn1997ef.p40.dat</td><td>0.06798825</td><td>0.7984401</td><td>0.086666666</td><td>1220.5009</td><td>-0.8</td></tr>\n",
       "<tr><td>220</td><td>sn1997ei.u11.Ic.z0.02.dat</td><td>binnings/20A/gal/Sc</td><td>binnings/20A/sne/Ic/sn1997ef.p40.dat</td><td>0.010673958</td><td>0.8130053</td><td>0.09</td><td>1220.7976</td><td>-0.4</td></tr>\n",
       "<tr><td>221</td><td>sn1997ei.u11.Ic.z0.02.dat</td><td>binnings/20A/gal/Sc</td><td>binnings/20A/sne/Ic/sn1997ef.p89.dat</td><td>-0.0014340075</td><td>0.8263032</td><td>0.083333336</td><td>1220.8268</td><td>1.6</td></tr>\n",
       "<tr><td>222</td><td>sn1997ei.u11.Ic.z0.02.dat</td><td>binnings/20A/gal/Sc</td><td>binnings/20A/sne/Ic/sn1997ef.p89.dat</td><td>-0.002017038</td><td>0.8209045</td><td>0.086666666</td><td>1221.1517</td><td>0.4</td></tr>\n",
       "<tr><td>223</td><td>sn1997ei.u11.Ic.z0.02.dat</td><td>binnings/20A/gal/Sc</td><td>binnings/20A/sne/Ic/sn1997ef.p40.dat</td><td>-0.0032887936</td><td>0.8294076</td><td>0.07666667</td><td>1221.5806</td><td>1.2</td></tr>\n",
       "<tr><td>224</td><td>sn1997ei.u11.Ic.z0.02.dat</td><td>binnings/20A/gal/Sc</td><td>binnings/20A/sne/Ic/sn1997ef.p40.dat</td><td>0.0012326974</td><td>0.818505</td><td>0.07333333</td><td>1221.8533</td><td>0.8</td></tr>\n",
       "<tr><td>225</td><td>sn1997ei.u11.Ic.z0.02.dat</td><td>binnings/20A/gal/Sc</td><td>binnings/20A/sne/Ic/sn1997ef.p89.dat</td><td>-0.00037735418</td><td>0.82319814</td><td>0.07666667</td><td>1221.8586</td><td>2.0</td></tr>\n",
       "<tr><td>226</td><td>sn1997ei.u11.Ic.z0.02.dat</td><td>binnings/20A/gal/Sc</td><td>binnings/20A/sne/Ic/sn1997ef.p89.dat</td><td>0.009394889</td><td>0.80318224</td><td>0.06666667</td><td>1221.9551</td><td>0.8</td></tr>\n",
       "<tr><td>227</td><td>sn1997ei.u11.Ic.z0.02.dat</td><td>binnings/20A/gal/Sc</td><td>binnings/20A/sne/Ic/sn1997ef.p40.dat</td><td>0.16075486</td><td>0.78820825</td><td>0.083333336</td><td>1221.9917</td><td>-1.2</td></tr>\n",
       "<tr><td>228</td><td>sn1997ei.u11.Ic.z0.02.dat</td><td>binnings/20A/gal/Sc</td><td>binnings/20A/sne/Ic/sn1997ef.p40.dat</td><td>0.017831363</td><td>0.8014628</td><td>0.07</td><td>1223.0273</td><td>0.4</td></tr>\n",
       "<tr><td>229</td><td>sn1997ei.u11.Ic.z0.02.dat</td><td>binnings/20A/gal/Sc</td><td>binnings/20A/sne/Ic/sn1997ef.p89.dat</td><td>-0.0016958761</td><td>0.8243375</td><td>0.083333336</td><td>1223.4624</td><td>1.2</td></tr>\n",
       "<tr><td>230</td><td>sn1997ei.u11.Ic.z0.02.dat</td><td>binnings/20A/gal/Sc</td><td>binnings/20A/sne/Ic/sn1997ef.p40.dat</td><td>-0.0023194952</td><td>0.82414716</td><td>0.07666667</td><td>1223.8926</td><td>0.8</td></tr>\n",
       "<tr><td>231</td><td>sn1997ei.u11.Ic.z0.02.dat</td><td>binnings/20A/gal/Sc</td><td>binnings/20A/sne/Ic/sn1997ef.p40.dat</td><td>0.018639598</td><td>0.80994827</td><td>0.086666666</td><td>1223.9188</td><td>-0.4</td></tr>\n",
       "<tr><td>232</td><td>sn1997ei.u11.Ic.z0.02.dat</td><td>binnings/20A/gal/Sc</td><td>binnings/20A/sne/Ic/sn1997ef.p89.dat</td><td>-0.0007959922</td><td>0.82623255</td><td>0.08</td><td>1224.1472</td><td>2.0</td></tr>\n",
       "<tr><td>233</td><td>sn1997ei.u11.Ic.z0.02.dat</td><td>binnings/20A/gal/Sc</td><td>binnings/20A/sne/Ic/sn1997ef.p40.dat</td><td>0.37067363</td><td>0.7731954</td><td>0.07666667</td><td>1224.1678</td><td>-1.6</td></tr>\n",
       "<tr><td>234</td><td>sn1997ei.u11.Ic.z0.02.dat</td><td>binnings/20A/gal/Sc</td><td>binnings/20A/sne/Ic/sn1997ef.p89.dat</td><td>-0.00020478986</td><td>0.82108533</td><td>0.07666667</td><td>1224.2659</td><td>1.6</td></tr>\n",
       "<tr><td>235</td><td>sn1997ei.u11.Ic.z0.02.dat</td><td>binnings/20A/gal/Sc</td><td>binnings/20A/sne/Ic/sn1997ef.p40.dat</td><td>0.3152903</td><td>0.77974737</td><td>0.08</td><td>1224.4059</td><td>-1.6</td></tr>\n",
       "<tr><td>236</td><td>sn1997ei.u11.Ic.z0.02.dat</td><td>binnings/20A/gal/Sc</td><td>binnings/20A/sne/Ic/sn1997ef.p40.dat</td><td>0.23690349</td><td>0.7746335</td><td>0.07666667</td><td>1224.4066</td><td>-1.2</td></tr>\n",
       "<tr><td>237</td><td>sn1997ei.u11.Ic.z0.02.dat</td><td>binnings/20A/gal/Sc</td><td>binnings/20A/sne/Ic/sn1997ef.p40.dat</td><td>-0.003721141</td><td>0.8210159</td><td>0.086666666</td><td>1224.5184</td><td>0.0</td></tr>\n",
       "<tr><td>238</td><td>sn1997ei.u11.Ic.z0.02.dat</td><td>binnings/20A/gal/S0</td><td>binnings/20A/sne/Ic/sn1995f.u29.dat</td><td>1.1051042</td><td>0.5116231</td><td>0.036666665</td><td>1224.9264</td><td>-0.8</td></tr>\n",
       "<tr><td>239</td><td>sn1997ei.u11.Ic.z0.02.dat</td><td>binnings/20A/gal/Sc</td><td>binnings/20A/sne/Ic/sn1997ef.p40.dat</td><td>0.4556993</td><td>0.78128505</td><td>0.08</td><td>1225.0795</td><td>-2.0</td></tr>\n",
       "<tr><td>240</td><td>sn1997ei.u11.Ic.z0.02.dat</td><td>binnings/20A/gal/Sc</td><td>binnings/20A/sne/Ic/sn1997ef.p40.dat</td><td>0.009723019</td><td>0.80986243</td><td>0.07333333</td><td>1225.464</td><td>0.4</td></tr>\n",
       "<tr><td>241</td><td>sn1997ei.u11.Ic.z0.02.dat</td><td>binnings/20A/gal/Sc</td><td>binnings/20A/sne/Ic/sn1997ef.p40.dat</td><td>0.52053094</td><td>0.7762822</td><td>0.07666667</td><td>1225.7041</td><td>-2.0</td></tr>\n",
       "<tr><td>242</td><td>sn1997ei.u11.Ic.z0.02.dat</td><td>binnings/20A/gal/Sc</td><td>binnings/20A/sne/Ic/sn1997ef.p40.dat</td><td>0.1927219</td><td>0.78265446</td><td>0.08</td><td>1225.9464</td><td>-1.2</td></tr>\n",
       "<tr><td>243</td><td>sn1997ei.u11.Ic.z0.02.dat</td><td>binnings/20A/gal/Sc</td><td>binnings/20A/sne/Ic/sn1997ef.p89.dat</td><td>-0.0009785276</td><td>0.8245873</td><td>0.08</td><td>1226.0127</td><td>1.6</td></tr>\n",
       "<tr><td>244</td><td>sn1997ei.u11.Ic.z0.02.dat</td><td>binnings/20A/gal/Sc</td><td>binnings/20A/sne/Ic/sn1997ef.p40.dat</td><td>0.07686537</td><td>0.79646474</td><td>0.083333336</td><td>1226.0742</td><td>-0.8</td></tr>\n",
       "<tr><td>245</td><td>sn1997ei.u11.Ic.z0.02.dat</td><td>binnings/20A/gal/Sc</td><td>binnings/20A/sne/Ic/sn1997ef.p40.dat</td><td>0.26892814</td><td>0.76930887</td><td>0.07333333</td><td>1226.2832</td><td>-1.2</td></tr>\n",
       "<tr><td>246</td><td>sn1997ei.u11.Ic.z0.02.dat</td><td>binnings/20A/gal/Sc</td><td>binnings/20A/sne/Ic/sn1997ef.p40.dat</td><td>0.13032414</td><td>0.7818069</td><td>0.07666667</td><td>1226.4432</td><td>-0.8</td></tr>\n",
       "<tr><td>247</td><td>sn1997ei.u11.Ic.z0.02.dat</td><td>binnings/20A/gal/Sc</td><td>binnings/20A/sne/Ic/sn1997ef.p40.dat</td><td>0.045625325</td><td>0.7890884</td><td>0.07</td><td>1226.551</td><td>0.0</td></tr>\n",
       "<tr><td>248</td><td>sn1997ei.u11.Ic.z0.02.dat</td><td>binnings/20A/gal/Sc</td><td>binnings/20A/sne/Ic/sn1997ef.p40.dat</td><td>0.0033108967</td><td>0.8163443</td><td>0.07666667</td><td>1226.579</td><td>0.4</td></tr>\n",
       "<tr><td>249</td><td>sn1997ei.u11.Ic.z0.02.dat</td><td>binnings/20A/gal/Sc</td><td>binnings/20A/sne/Ic/sn1997ef.p40.dat</td><td>0.40748426</td><td>0.7693884</td><td>0.07333333</td><td>1226.7341</td><td>-1.6</td></tr>\n",
       "<tr><td>250</td><td>sn1997ei.u11.Ic.z0.02.dat</td><td>binnings/20A/gal/Sc</td><td>binnings/20A/sne/Ic/sn1997ef.p89.dat</td><td>-0.0012589747</td><td>0.8214623</td><td>0.083333336</td><td>1227.2377</td><td>0.8</td></tr>\n",
       "<tr><td>251</td><td>sn1997ei.u11.Ic.z0.02.dat</td><td>binnings/20A/gal/Sc</td><td>binnings/20A/sne/Ic/sn1997ef.p40.dat</td><td>0.15549345</td><td>0.7751907</td><td>0.07333333</td><td>1227.3508</td><td>-0.8</td></tr>\n",
       "<tr><td>252</td><td>sn1997ei.u11.Ic.z0.02.dat</td><td>binnings/20A/gal/Sc</td><td>binnings/20A/sne/Ic/sn1997ef.p40.dat</td><td>0.31795958</td><td>0.76056993</td><td>0.07</td><td>1227.6588</td><td>-1.2</td></tr>\n",
       "<tr><td>253</td><td>sn1997ei.u11.Ic.z0.02.dat</td><td>binnings/20A/gal/Sc</td><td>binnings/20A/sne/Ic/sn1997ef.p40.dat</td><td>0.19157198</td><td>0.76525784</td><td>0.07</td><td>1227.7028</td><td>-0.8</td></tr>\n",
       "<tr><td>254</td><td>sn1997ei.u11.Ic.z0.02.dat</td><td>binnings/20A/gal/Sc</td><td>binnings/20A/sne/Ic/sn1997ef.p89.dat</td><td>0.020399543</td><td>0.79630977</td><td>0.06666667</td><td>1227.7643</td><td>0.4</td></tr>\n",
       "<tr><td>255</td><td>sn1997ei.u11.Ic.z0.02.dat</td><td>binnings/20A/gal/Sc</td><td>binnings/20A/sne/Ic/sn1997ef.p40.dat</td><td>0.100430444</td><td>0.77587605</td><td>0.07</td><td>1227.9238</td><td>-0.4</td></tr>\n",
       "<tr><td>256</td><td>sn1997ei.u11.Ic.z0.02.dat</td><td>binnings/20A/gal/Sc</td><td>binnings/20A/sne/Ic/sn1997ef.p40.dat</td><td>0.03126283</td><td>0.7986087</td><td>0.07333333</td><td>1228.0604</td><td>0.0</td></tr>\n",
       "<tr><td>257</td><td>sn1997ei.u11.Ic.z0.02.dat</td><td>binnings/20A/gal/Sc</td><td>binnings/20A/sne/Ic/sn1997ef.p40.dat</td><td>0.5598409</td><td>0.77383584</td><td>0.07333333</td><td>1228.3605</td><td>-2.0</td></tr>\n",
       "<tr><td>258</td><td>sn1997ei.u11.Ic.z0.02.dat</td><td>binnings/20A/gal/Sc</td><td>binnings/20A/sne/Ic/sn1997ef.p40.dat</td><td>0.058991488</td><td>0.7932969</td><td>0.07666667</td><td>1228.456</td><td>-0.4</td></tr>\n",
       "<tr><td>259</td><td>sn1997ei.u11.Ic.z0.02.dat</td><td>binnings/20A/gal/Sc</td><td>binnings/20A/sne/Ic/sn1997ef.p40.dat</td><td>0.02021836</td><td>0.80573595</td><td>0.07666667</td><td>1228.513</td><td>0.0</td></tr>\n",
       "<tr><td>260</td><td>sn1997ei.u11.Ic.z0.02.dat</td><td>binnings/20A/gal/Sc</td><td>binnings/20A/sne/Ic/sn1997ef.p40.dat</td><td>0.07658345</td><td>0.7860427</td><td>0.07333333</td><td>1228.5774</td><td>-0.4</td></tr>\n",
       "<tr><td>261</td><td>sn1997ei.u11.Ic.z0.02.dat</td><td>binnings/20A/gal/Sc</td><td>binnings/20A/sne/Ic/sn1997ef.p40.dat</td><td>0.46790382</td><td>0.7624156</td><td>0.07</td><td>1228.6276</td><td>-1.6</td></tr>\n",
       "<tr><td>262</td><td>sn1997ei.u11.Ic.z0.02.dat</td><td>binnings/20A/gal/Sc</td><td>binnings/20A/sne/Ic/sn1997ef.p89.dat</td><td>-0.0008323876</td><td>0.8222101</td><td>0.08</td><td>1228.8054</td><td>1.2</td></tr>\n",
       "<tr><td>263</td><td>sn1997ei.u11.Ic.z0.02.dat</td><td>binnings/20A/gal/Sc</td><td>binnings/20A/sne/Ic/sn1997ef.p40.dat</td><td>0.09827897</td><td>0.79075944</td><td>0.08</td><td>1229.1852</td><td>-0.8</td></tr>\n",
       "<tr><td>264</td><td>sn1997ei.u11.Ic.z0.02.dat</td><td>binnings/20A/gal/Sc</td><td>binnings/20A/sne/Ic/sn1997ef.p40.dat</td><td>0.024985287</td><td>0.8076732</td><td>0.083333336</td><td>1229.2225</td><td>-0.4</td></tr>\n",
       "<tr><td>265</td><td>sn1997ei.u11.Ic.z0.02.dat</td><td>binnings/20A/gal/Sc</td><td>binnings/20A/sne/Ic/sn1997ef.p40.dat</td><td>0.00029652286</td><td>0.8187647</td><td>0.083333336</td><td>1229.8458</td><td>0.0</td></tr>\n",
       "<tr><td>266</td><td>sn1997ei.u11.Ic.z0.02.dat</td><td>binnings/20A/gal/Sc</td><td>binnings/20A/sne/Ic/sn1997ef.p40.dat</td><td>0.62912214</td><td>0.76867497</td><td>0.07</td><td>1229.9719</td><td>-2.0</td></tr>\n",
       "<tr><td>267</td><td>sn1997ei.u11.Ic.z0.02.dat</td><td>binnings/20A/gal/Sc</td><td>binnings/20A/sne/Ic/sn1997ef.p89.dat</td><td>0.014280632</td><td>0.79496396</td><td>0.06</td><td>1230.3724</td><td>0.8</td></tr>\n",
       "<tr><td>268</td><td>sn1997ei.u11.Ic.z0.02.dat</td><td>binnings/20A/gal/Sc</td><td>binnings/20A/sne/Ic/sn1997ef.p40.dat</td><td>-0.0037728304</td><td>0.82376975</td><td>0.08</td><td>1230.8396</td><td>0.4</td></tr>\n",
       "<tr><td>269</td><td>sn1997ei.u11.Ic.z0.02.dat</td><td>binnings/20A/gal/Sc</td><td>binnings/20A/sne/Ic/sn1997ef.p89.dat</td><td>0.011834162</td><td>0.79907674</td><td>0.06333333</td><td>1231.3903</td><td>0.8</td></tr>\n",
       "<tr><td>270</td><td>sn1997ei.u11.Ic.z0.02.dat</td><td>binnings/20A/gal/Sc</td><td>binnings/20A/sne/Ic/sn1997ef.p40.dat</td><td>0.038037535</td><td>0.80234313</td><td>0.08</td><td>1231.9062</td><td>-0.4</td></tr>\n",
       "<tr><td>271</td><td>sn1997ei.u11.Ic.z0.02.dat</td><td>binnings/20A/gal/Sc</td><td>binnings/20A/sne/Ic/sn1997ef.p89.dat</td><td>0.0012407589</td><td>0.81742567</td><td>0.083333336</td><td>1232.2607</td><td>0.4</td></tr>\n",
       "<tr><td>272</td><td>sn1997ei.u11.Ic.z0.02.dat</td><td>binnings/20A/gal/Sc</td><td>binnings/20A/sne/Ic/sn1997ef.p40.dat</td><td>0.007669807</td><td>0.81415194</td><td>0.08</td><td>1232.3469</td><td>0.0</td></tr>\n",
       "<tr><td>273</td><td>sn1997ei.u11.Ic.z0.02.dat</td><td>binnings/20A/gal/Sc</td><td>binnings/20A/sne/Ic/sn1997ef.p89.dat</td><td>0.00037413693</td><td>0.81882966</td><td>0.08</td><td>1232.6617</td><td>0.8</td></tr>\n",
       "<tr><td>274</td><td>sn1997ei.u11.Ic.z0.02.dat</td><td>binnings/20A/gal/S0</td><td>binnings/20A/sne/Ic/sn1998bw.p29.dat</td><td>0.7650761</td><td>0.781953</td><td>0.053333335</td><td>1233.0853</td><td>-0.8</td></tr>\n",
       "<tr><td>275</td><td>sn1997ei.u11.Ic.z0.02.dat</td><td>binnings/20A/gal/Sc</td><td>binnings/20A/sne/Ic/sn1997ef.p89.dat</td><td>0.041679487</td><td>0.7886252</td><td>0.06666667</td><td>1234.6001</td><td>0.0</td></tr>\n",
       "<tr><td>276</td><td>sn1997ei.u11.Ic.z0.02.dat</td><td>binnings/20A/gal/Sc</td><td>binnings/20A/sne/Ic/sn1997ef.p40.dat</td><td>0.2347446</td><td>0.7530863</td><td>0.06666667</td><td>1239.8257</td><td>-0.8</td></tr>\n",
       "<tr><td>277</td><td>sn1997ei.u11.Ic.z0.02.dat</td><td>binnings/20A/gal/Sc</td><td>binnings/20A/sne/Ic/sn1997ef.p40.dat</td><td>0.3753239</td><td>0.7500775</td><td>0.06666667</td><td>1241.1909</td><td>-1.2</td></tr>\n",
       "<tr><td>278</td><td>sn1997ei.u11.Ic.z0.02.dat</td><td>binnings/20A/gal/Sc</td><td>binnings/20A/sne/Ic/sn1997ef.p40.dat</td><td>0.70505035</td><td>0.76279265</td><td>0.06666667</td><td>1241.3242</td><td>-2.0</td></tr>\n",
       "<tr><td>279</td><td>sn1997ei.u11.Ic.z0.02.dat</td><td>binnings/20A/gal/Sc</td><td>binnings/20A/sne/Ic/sn1997ef.p40.dat</td><td>0.5366114</td><td>0.75423664</td><td>0.06666667</td><td>1241.8457</td><td>-1.6</td></tr>\n",
       "<tr><td>280</td><td>sn1997ei.u11.Ic.z0.02.dat</td><td>binnings/20A/gal/Sc</td><td>binnings/20A/sne/Ic/sn1997ef.p89.dat</td><td>0.07894733</td><td>0.781363</td><td>0.06666667</td><td>1241.9248</td><td>-0.4</td></tr>\n",
       "<tr><td>281</td><td>sn1997ei.u11.Ic.z0.02.dat</td><td>binnings/20A/gal/Sc</td><td>binnings/20A/sne/Ic/sn1997ef.p40.dat</td><td>0.003408282</td><td>0.7978172</td><td>0.05666667</td><td>1243.155</td><td>2.0</td></tr>\n",
       "<tr><td>282</td><td>sn1997ei.u11.Ic.z0.02.dat</td><td>binnings/20A/gal/Sc</td><td>binnings/20A/sne/Ic/sn1997ef.p89.dat</td><td>0.024750771</td><td>0.7916242</td><td>0.06333333</td><td>1245.7212</td><td>0.4</td></tr>\n",
       "<tr><td>283</td><td>sn1997ei.u11.Ic.z0.02.dat</td><td>binnings/20A/gal/Sc</td><td>binnings/20A/sne/Ic/sn1997ef.p89.dat</td><td>0.029044582</td><td>0.7869988</td><td>0.06</td><td>1247.608</td><td>0.4</td></tr>\n",
       "<tr><td>284</td><td>sn1997ei.u11.Ic.z0.02.dat</td><td>binnings/20A/gal/S0</td><td>binnings/20A/sne/Ic/sn1994I.p02.dat</td><td>0.29174805</td><td>0.7903529</td><td>0.046666667</td><td>1254.6567</td><td>0.0</td></tr>\n",
       "<tr><td>285</td><td>sn1997ei.u11.Ic.z0.02.dat</td><td>binnings/20A/gal/Sc</td><td>binnings/20A/sne/Ic/sn1997ef.p40.dat</td><td>0.0073847403</td><td>0.78948236</td><td>0.05666667</td><td>1254.7432</td><td>1.6</td></tr>\n",
       "<tr><td>286</td><td>sn1997ei.u11.Ic.z0.02.dat</td><td>binnings/20A/gal/Sc</td><td>binnings/20A/sne/Ic/sn1997ef.p89.dat</td><td>0.04908156</td><td>0.78351766</td><td>0.06333333</td><td>1263.2819</td><td>0.0</td></tr>\n",
       "<tr><td>287</td><td>sn1997ei.u11.Ic.z0.02.dat</td><td>binnings/20A/gal/Sa</td><td>binnings/20A/sne/Ic/sn1997dq.u00.dat</td><td>2.7654252</td><td>0.7260795</td><td>0.0</td><td>1266.1401</td><td>-2.0</td></tr>\n",
       "<tr><td>288</td><td>sn1997ei.u11.Ic.z0.02.dat</td><td>binnings/20A/gal/S0</td><td>binnings/20A/sne/Ic/sn1994I.p02.dat</td><td>0.39055112</td><td>0.8129404</td><td>0.05</td><td>1267.6444</td><td>-0.4</td></tr>\n",
       "<tr><td>289</td><td>sn1997ei.u11.Ic.z0.02.dat</td><td>binnings/20A/gal/S0</td><td>binnings/20A/sne/Ic/sn1997c.u00.dat</td><td>1.2467815</td><td>0.6701408</td><td>0.036666665</td><td>1268.6349</td><td>-1.2</td></tr>\n",
       "<tr><td>290</td><td>sn1997ei.u11.Ic.z0.02.dat</td><td>binnings/20A/gal/Sc</td><td>binnings/20A/sne/Ic/sn1997ef.p89.dat</td><td>0.05623073</td><td>0.7785732</td><td>0.06</td><td>1268.7643</td><td>0.0</td></tr>\n",
       "<tr><td>291</td><td>sn1997ei.u11.Ic.z0.02.dat</td><td>binnings/20A/gal/Sc</td><td>binnings/20A/sne/Ic/sn1997ef.p40.dat</td><td>0.015838075</td><td>0.7785173</td><td>0.05666667</td><td>1268.7762</td><td>1.2</td></tr>\n",
       "<tr><td>292</td><td>sn1997ei.u11.Ic.z0.02.dat</td><td>binnings/20A/gal/Sc</td><td>binnings/20A/sne/Ic/sn1997ef.p40.dat</td><td>0.7758844</td><td>0.75757086</td><td>0.06333333</td><td>1269.3457</td><td>-2.0</td></tr>\n",
       "<tr><td>293</td><td>sn1997ei.u11.Ic.z0.02.dat</td><td>binnings/20A/gal/Sc</td><td>binnings/20A/sne/Ic/sn1997ef.p89.dat</td><td>0.43409082</td><td>0.7814483</td><td>0.06</td><td>1272.8167</td><td>-2.0</td></tr>\n",
       "<tr><td>294</td><td>sn1997ei.u11.Ic.z0.02.dat</td><td>binnings/20A/gal/Sc</td><td>binnings/20A/sne/Ic/sn1997ef.p40.dat</td><td>0.16218024</td><td>0.74909025</td><td>0.06333333</td><td>1277.3159</td><td>-0.4</td></tr>\n",
       "<tr><td>295</td><td>sn1997ei.u11.Ic.z0.02.dat</td><td>binnings/20A/gal/Sc</td><td>binnings/20A/sne/Ic/sn1997ef.p40.dat</td><td>0.6060801</td><td>0.74619883</td><td>0.06333333</td><td>1280.4479</td><td>-1.6</td></tr>\n",
       "<tr><td>296</td><td>sn1997ei.u11.Ic.z0.02.dat</td><td>binnings/20A/gal/E</td><td>binnings/20A/sne/Ic/sn2002ap.p15.dat</td><td>2.309963</td><td>0.74140674</td><td>0.093333334</td><td>1282.9331</td><td>-2.0</td></tr>\n",
       "<tr><td>297</td><td>sn1997ei.u11.Ic.z0.02.dat</td><td>binnings/20A/gal/Sc</td><td>binnings/20A/sne/Ic/sn1997ef.p40.dat</td><td>0.033450983</td><td>0.76439005</td><td>0.05666667</td><td>1286.109</td><td>0.8</td></tr>\n",
       "<tr><td>298</td><td>sn1997ei.u11.Ic.z0.02.dat</td><td>binnings/20A/gal/Sc</td><td>binnings/20A/sne/Ic/sn1997ef.p40.dat</td><td>0.28231516</td><td>0.7398701</td><td>0.06333333</td><td>1286.218</td><td>-0.8</td></tr>\n",
       "<tr><td>299</td><td>sn1997ei.u11.Ic.z0.02.dat</td><td>binnings/20A/gal/Sc</td><td>binnings/20A/sne/Ic/sn1997ef.p40.dat</td><td>0.436431</td><td>0.7391101</td><td>0.06333333</td><td>1287.2172</td><td>-1.2</td></tr>\n",
       "<tr><td>300</td><td>sn1997ei.u11.Ic.z0.02.dat</td><td>binnings/20A/gal/Sc</td><td>binnings/20A/sne/Ic/sn1997ef.p89.dat</td><td>0.101681024</td><td>0.77129644</td><td>0.06</td><td>1290.1445</td><td>-0.4</td></tr>\n",
       "<tr><td>301</td><td>sn1997ei.u11.Ic.z0.02.dat</td><td>binnings/20A/gal/Sc</td><td>binnings/20A/sne/Ic/sn1997ef.p89.dat</td><td>0.34532636</td><td>0.7734734</td><td>0.06</td><td>1292.2786</td><td>-1.6</td></tr>\n",
       "<tr><td>302</td><td>sn1997ei.u11.Ic.z0.02.dat</td><td>binnings/20A/gal/Sc</td><td>binnings/20A/sne/Ic/sn1997ef.p89.dat</td><td>0.16848877</td><td>0.76732993</td><td>0.06</td><td>1304.3759</td><td>-0.8</td></tr>\n",
       "<tr><td>303</td><td>sn1997ei.u11.Ic.z0.02.dat</td><td>binnings/20A/gal/Sc</td><td>binnings/20A/sne/Ic/sn1997ef.p89.dat</td><td>0.25303802</td><td>0.7681638</td><td>0.06</td><td>1304.9464</td><td>-1.2</td></tr>\n",
       "<tr><td>304</td><td>sn1997ei.u11.Ic.z0.02.dat</td><td>binnings/20A/gal/Sc</td><td>binnings/20A/sne/Ic/sn1997ef.p40.dat</td><td>0.06879451</td><td>0.7471527</td><td>0.05666667</td><td>1307.4908</td><td>0.4</td></tr>\n",
       "<tr><td>305</td><td>sn1997ei.u11.Ic.z0.02.dat</td><td>binnings/20A/gal/Sc</td><td>binnings/20A/sne/Ic/sn2002ap.p15.dat</td><td>0.15355511</td><td>0.5103564</td><td>0.036666665</td><td>1313.678</td><td>0.8</td></tr>\n",
       "<tr><td>306</td><td>sn1997ei.u11.Ic.z0.02.dat</td><td>binnings/20A/gal/Sc</td><td>binnings/20A/sne/Ic/sn1997ef.p40.dat</td><td>1.0002135</td><td>0.74048585</td><td>0.05666667</td><td>1314.0925</td><td>-2.0</td></tr>\n",
       "<tr><td>307</td><td>sn1997ei.u11.Ic.z0.02.dat</td><td>binnings/20A/gal/S0</td><td>binnings/20A/sne/Ic/sn1994I.p02.dat</td><td>0.3812828</td><td>0.81793094</td><td>0.053333335</td><td>1326.5488</td><td>-0.4</td></tr>\n",
       "<tr><td>308</td><td>sn1997ei.u11.Ic.z0.02.dat</td><td>binnings/20A/gal/S0</td><td>binnings/20A/sne/Ic/sn1994I.p02.dat</td><td>0.2835023</td><td>0.79719526</td><td>0.05</td><td>1331.5912</td><td>0.0</td></tr>\n",
       "<tr><td>309</td><td>sn1997ei.u11.Ic.z0.02.dat</td><td>binnings/20A/gal/Sc</td><td>binnings/20A/sne/Ic/sn1997ef.p40.dat</td><td>0.13510497</td><td>0.728427</td><td>0.05666667</td><td>1332.2278</td><td>0.0</td></tr>\n",
       "<tr><td>310</td><td>sn1997ei.u11.Ic.z0.02.dat</td><td>binnings/20A/gal/Sb</td><td>binnings/20A/sne/Ic/sn1994I.p02.dat</td><td>0.20113921</td><td>0.78556234</td><td>0.046666667</td><td>1355.324</td><td>0.4</td></tr>\n",
       "<tr><td>311</td><td>sn1997ei.u11.Ic.z0.02.dat</td><td>binnings/20A/gal/Sc</td><td>binnings/20A/sne/Ic/sn1997ef.p40.dat</td><td>0.2466428</td><td>0.71238494</td><td>0.05666667</td><td>1355.529</td><td>-0.4</td></tr>\n",
       "<tr><td>312</td><td>sn1997ei.u11.Ic.z0.02.dat</td><td>binnings/20A/gal/Sc</td><td>binnings/20A/sne/Ic/sn1997ef.p40.dat</td><td>0.6029798</td><td>0.7089667</td><td>0.05666667</td><td>1361.661</td><td>-1.2</td></tr>\n",
       "<tr><td>313</td><td>sn1997ei.u11.Ic.z0.02.dat</td><td>binnings/20A/gal/S0</td><td>binnings/20A/sne/Ic/sn2002ap.p15.dat</td><td>2.2971401</td><td>0.7374606</td><td>0.043333333</td><td>1367.409</td><td>-2.0</td></tr>\n",
       "<tr><td>314</td><td>sn1997ei.u11.Ic.z0.02.dat</td><td>binnings/20A/gal/Sc</td><td>binnings/20A/sne/Ic/sn1997ef.p40.dat</td><td>0.4076628</td><td>0.7047996</td><td>0.05666667</td><td>1367.7915</td><td>-0.8</td></tr>\n",
       "<tr><td>315</td><td>sn1997ei.u11.Ic.z0.02.dat</td><td>binnings/20A/gal/Sc</td><td>binnings/20A/sne/Ic/sn2002ap.p08.dat</td><td>0.10269284</td><td>0.49107942</td><td>0.036666665</td><td>1373.1245</td><td>1.2</td></tr>\n",
       "<tr><td>316</td><td>sn1997ei.u11.Ic.z0.02.dat</td><td>binnings/20A/gal/Sc</td><td>binnings/20A/sne/Ic/sn1997ef.p89.dat</td><td>0.0028001473</td><td>0.80097497</td><td>0.053333335</td><td>1377.6127</td><td>2.0</td></tr>\n",
       "<tr><td>317</td><td>sn1997ei.u11.Ic.z0.02.dat</td><td>binnings/20A/gal/Sc</td><td>binnings/20A/sne/Ic/sn1997ef.p89.dat</td><td>0.0057382635</td><td>0.7950159</td><td>0.053333335</td><td>1384.1135</td><td>1.6</td></tr>\n",
       "<tr><td>318</td><td>sn1997ei.u11.Ic.z0.02.dat</td><td>binnings/20A/gal/Sb</td><td>binnings/20A/sne/Ic/sn2002ap.p15.dat</td><td>1.6594952</td><td>0.71207213</td><td>0.043333333</td><td>1388.4479</td><td>-1.6</td></tr>\n",
       "<tr><td>319</td><td>sn1997ei.u11.Ic.z0.02.dat</td><td>binnings/20A/gal/S0</td><td>binnings/20A/sne/Ic/sn2002ap.p08.dat</td><td>1.5342103</td><td>0.7200351</td><td>0.04</td><td>1393.4324</td><td>-1.6</td></tr>\n",
       "<tr><td>320</td><td>sn1997ei.u11.Ic.z0.02.dat</td><td>binnings/20A/gal/S0</td><td>binnings/20A/sne/Ic/sn2002ap.p08.dat</td><td>2.0175786</td><td>0.7583664</td><td>0.04</td><td>1393.5315</td><td>-2.0</td></tr>\n",
       "<tr><td>321</td><td>sn1997ei.u11.Ic.z0.02.dat</td><td>binnings/20A/gal/Sc</td><td>binnings/20A/sne/Ic/sn1997ef.p89.dat</td><td>0.011635725</td><td>0.7875883</td><td>0.053333335</td><td>1394.2512</td><td>1.2</td></tr>\n",
       "<tr><td>322</td><td>sn1997ei.u11.Ic.z0.02.dat</td><td>binnings/20A/gal/S0</td><td>binnings/20A/sne/Ic/sn2002ap.p15.dat</td><td>2.249174</td><td>0.74308455</td><td>0.046666667</td><td>1403.1227</td><td>-2.0</td></tr>\n",
       "<tr><td>323</td><td>sn1997ei.u11.Ic.z0.02.dat</td><td>binnings/20A/gal/Sc</td><td>binnings/20A/sne/Ic/sn2002ap.p08.dat</td><td>0.17600587</td><td>0.4539059</td><td>0.04</td><td>1408.5206</td><td>0.8</td></tr>\n",
       "<tr><td>324</td><td>sn1997ei.u11.Ic.z0.02.dat</td><td>binnings/20A/gal/Sc</td><td>binnings/20A/sne/Ic/sn1997ef.p40.dat</td><td>0.0064326036</td><td>0.77733004</td><td>0.05</td><td>1409.0127</td><td>2.0</td></tr>\n",
       "<tr><td>325</td><td>sn1997ei.u11.Ic.z0.02.dat</td><td>binnings/20A/gal/Sc</td><td>binnings/20A/sne/Ic/sn1997ef.p89.dat</td><td>0.023206143</td><td>0.7786012</td><td>0.053333335</td><td>1410.0715</td><td>0.8</td></tr>\n",
       "<tr><td>326</td><td>sn1997ei.u11.Ic.z0.02.dat</td><td>binnings/20A/gal/Sc</td><td>binnings/20A/sne/Ic/sn1997ef.p40.dat</td><td>0.013132673</td><td>0.7653563</td><td>0.05</td><td>1416.0785</td><td>1.6</td></tr>\n",
       "<tr><td>327</td><td>sn1997ei.u11.Ic.z0.02.dat</td><td>binnings/20A/gal/Sc</td><td>binnings/20A/sne/Ic/sn1997ef.p40.dat</td><td>0.02673515</td><td>0.7499665</td><td>0.05</td><td>1426.0114</td><td>1.2</td></tr>\n",
       "<tr><td>328</td><td>sn1997ei.u11.Ic.z0.02.dat</td><td>binnings/20A/gal/Sc</td><td>binnings/20A/sne/Ic/sn1997ef.p89.dat</td><td>0.045045026</td><td>0.7683898</td><td>0.053333335</td><td>1433.512</td><td>0.4</td></tr>\n",
       "<tr><td>329</td><td>sn1997ei.u11.Ic.z0.02.dat</td><td>binnings/20A/gal/Sc</td><td>binnings/20A/sne/Ic/sn1997ef.p40.dat</td><td>0.05391077</td><td>0.7306858</td><td>0.05</td><td>1441.2444</td><td>0.8</td></tr>\n",
       "<tr><td>330</td><td>sn1997ei.u11.Ic.z0.02.dat</td><td>binnings/20A/gal/Sc</td><td>binnings/20A/sne/Ic/sn2002ap.p08.dat</td><td>0.09420405</td><td>0.517292</td><td>0.04</td><td>1460.5498</td><td>1.2</td></tr>\n",
       "<tr><td>331</td><td>sn1997ei.u11.Ic.z0.02.dat</td><td>binnings/20A/gal/Sc</td><td>binnings/20A/sne/Ic/sn1997ef.p89.dat</td><td>0.08374673</td><td>0.75812966</td><td>0.053333335</td><td>1464.344</td><td>0.0</td></tr>\n",
       "<tr><td>332</td><td>sn1997ei.u11.Ic.z0.02.dat</td><td>binnings/20A/gal/Sc</td><td>binnings/20A/sne/Ic/sn1997ef.p40.dat</td><td>0.10634067</td><td>0.70799476</td><td>0.05</td><td>1464.7312</td><td>0.4</td></tr>\n",
       "<tr><td>333</td><td>sn1997ei.u11.Ic.z0.02.dat</td><td>binnings/20A/gal/Sc</td><td>binnings/20A/sne/Ic/sn2002ap.p08.dat</td><td>0.15770745</td><td>0.49158734</td><td>0.043333333</td><td>1487.2347</td><td>0.8</td></tr>\n",
       "<tr><td>334</td><td>sn1997ei.u11.Ic.z0.02.dat</td><td>binnings/20A/gal/Sc</td><td>binnings/20A/sne/Ic/sn1997ef.p40.dat</td><td>0.016559916</td><td>0.75149155</td><td>0.046666667</td><td>1509.7968</td><td>1.6</td></tr>\n",
       "<tr><td>335</td><td>sn1997ei.u11.Ic.z0.02.dat</td><td>binnings/20A/gal/Sc</td><td>binnings/20A/sne/Ic/sn1997ef.p40.dat</td><td>0.033196755</td><td>0.73352635</td><td>0.046666667</td><td>1511.5178</td><td>1.2</td></tr>\n",
       "<tr><td>336</td><td>sn1997ei.u11.Ic.z0.02.dat</td><td>binnings/20A/gal/Sc</td><td>binnings/20A/sne/Ic/sn2002ap.p08.dat</td><td>0.083393134</td><td>0.5518495</td><td>0.043333333</td><td>1551.8745</td><td>1.2</td></tr>\n",
       "<tr><td>337</td><td>sn1997ei.u11.Ic.z0.02.dat</td><td>binnings/20A/gal/Sc</td><td>binnings/20A/sne/Ic/sn2002ap.p08.dat</td><td>0.1446789</td><td>0.517243</td><td>0.046666667</td><td>1572.789</td><td>0.8</td></tr>\n",
       "<tr><td>338</td><td>sn1997ei.u11.Ic.z0.02.dat</td><td>binnings/20A/gal/Sc</td><td>binnings/20A/sne/Ic/sn1997ef.p40.dat</td><td>0.020243615</td><td>0.73702544</td><td>0.043333333</td><td>1586.8853</td><td>1.6</td></tr>\n",
       "<tr><td>339</td><td>sn1997ei.u11.Ic.z0.02.dat</td><td>binnings/20A/gal/S0</td><td>binnings/20A/sne/Ic/sn1997dq.u00.dat</td><td>-0.02367731</td><td>1.3705142</td><td>0.046666667</td><td>1631.8119</td><td>2.0</td></tr>\n",
       "<tr><td>340</td><td>sn1997ei.u11.Ic.z0.02.dat</td><td>binnings/20A/gal/Sb</td><td>binnings/20A/sne/Ic/sn1997dq.u00.dat</td><td>-0.019273518</td><td>1.3103268</td><td>0.043333333</td><td>1672.025</td><td>2.0</td></tr>\n",
       "</table><style>table.dataTable {clear: both; width: auto !important; margin: 0 !important;}\n",
       ".dataTables_info, .dataTables_length, .dataTables_filter, .dataTables_paginate{\n",
       "display: inline-block; margin-right: 1em; }\n",
       ".paginate_button { margin-right: 5px; }\n",
       "</style>\n",
       "<script>\n",
       "\n",
       "var astropy_sort_num = function(a, b) {\n",
       "    var a_num = parseFloat(a);\n",
       "    var b_num = parseFloat(b);\n",
       "\n",
       "    if (isNaN(a_num) && isNaN(b_num))\n",
       "        return ((a < b) ? -1 : ((a > b) ? 1 : 0));\n",
       "    else if (!isNaN(a_num) && !isNaN(b_num))\n",
       "        return ((a_num < b_num) ? -1 : ((a_num > b_num) ? 1 : 0));\n",
       "    else\n",
       "        return isNaN(a_num) ? -1 : 1;\n",
       "}\n",
       "\n",
       "require.config({paths: {\n",
       "    datatables: 'https://cdn.datatables.net/1.10.12/js/jquery.dataTables.min'\n",
       "}});\n",
       "require([\"datatables\"], function(){\n",
       "    console.log(\"$('#table140062203571560-970184').dataTable()\");\n",
       "    \n",
       "jQuery.extend( jQuery.fn.dataTableExt.oSort, {\n",
       "    \"optionalnum-asc\": astropy_sort_num,\n",
       "    \"optionalnum-desc\": function (a,b) { return -astropy_sort_num(a, b); }\n",
       "});\n",
       "\n",
       "    $('#table140062203571560-970184').dataTable({\n",
       "        order: [],\n",
       "        pageLength: 50,\n",
       "        lengthMenu: [[10, 25, 50, 100, 500, 1000, -1], [10, 25, 50, 100, 500, 1000, 'All']],\n",
       "        pagingType: \"full_numbers\",\n",
       "        columnDefs: [{targets: [0, 4, 5, 6, 7, 8], type: \"optionalnum\"}]\n",
       "    });\n",
       "});\n",
       "</script>\n"
      ],
      "text/plain": [
       "<IPython.core.display.HTML object>"
      ]
     },
     "execution_count": 16,
     "metadata": {},
     "output_type": "execute_result"
    }
   ],
   "source": [
    "table.Table.show_in_notebook(result)"
   ]
  },
  {
   "cell_type": "code",
   "execution_count": 17,
   "metadata": {},
   "outputs": [
    {
     "name": "stdout",
     "output_type": "stream",
     "text": [
      "The loop took 50.905092000961304 seconds\n"
     ]
    }
   ],
   "source": [
    "end = time.time()\n",
    "print('The loop took', end - start, 'seconds')"
   ]
  },
  {
   "cell_type": "code",
   "execution_count": null,
   "metadata": {},
   "outputs": [],
   "source": []
  },
  {
   "cell_type": "code",
   "execution_count": null,
   "metadata": {},
   "outputs": [],
   "source": []
  },
  {
   "cell_type": "markdown",
   "metadata": {},
   "source": [
    "# Minimizer Method"
   ]
  },
  {
   "cell_type": "code",
   "execution_count": null,
   "metadata": {},
   "outputs": [],
   "source": []
  },
  {
   "cell_type": "code",
   "execution_count": 18,
   "metadata": {
    "scrolled": true
   },
   "outputs": [],
   "source": [
    "start = time.time()"
   ]
  },
  {
   "cell_type": "code",
   "execution_count": 19,
   "metadata": {},
   "outputs": [],
   "source": [
    "# Example to see if the wrapper works appropriately \n",
    "\n",
    "z_extcon = np.array([0.02,0])"
   ]
  },
  {
   "cell_type": "code",
   "execution_count": null,
   "metadata": {},
   "outputs": [],
   "source": []
  },
  {
   "cell_type": "code",
   "execution_count": 20,
   "metadata": {},
   "outputs": [],
   "source": [
    "def wrap(z_extcon):\n",
    "    \n",
    "    z = z_extcon[0]\n",
    "     \n",
    "    extcon = z_extcon[1]\n",
    "    \n",
    "    ans = core(z,extcon)\n",
    "    \n",
    "    \n",
    "    return ans"
   ]
  },
  {
   "cell_type": "code",
   "execution_count": 21,
   "metadata": {
    "scrolled": true
   },
   "outputs": [],
   "source": [
    "#wrap(z_extcon)"
   ]
  },
  {
   "cell_type": "code",
   "execution_count": null,
   "metadata": {},
   "outputs": [],
   "source": []
  },
  {
   "cell_type": "code",
   "execution_count": null,
   "metadata": {},
   "outputs": [],
   "source": []
  },
  {
   "cell_type": "code",
   "execution_count": 22,
   "metadata": {
    "scrolled": true
   },
   "outputs": [],
   "source": [
    "%%capture\n",
    "\n",
    "\n",
    "init_guess = np.array([0.015, 0])\n",
    "\n",
    "answer = least_squares(wrap, init_guess)\n",
    "\n"
   ]
  },
  {
   "cell_type": "code",
   "execution_count": null,
   "metadata": {},
   "outputs": [],
   "source": []
  },
  {
   "cell_type": "markdown",
   "metadata": {},
   "source": [
    "# Output of Minimizer"
   ]
  },
  {
   "cell_type": "code",
   "execution_count": 23,
   "metadata": {},
   "outputs": [
    {
     "data": {
      "text/plain": [
       " active_mask: array([0., 0.])\n",
       "        cost: 5.517705088932636e-14\n",
       "         fun: array([3.32195879e-07])\n",
       "        grad: array([ 4.39022607e-08, -1.59561421e-08])\n",
       "         jac: array([[ 0.13215775, -0.04803233]])\n",
       "     message: '`xtol` termination condition is satisfied.'\n",
       "        nfev: 25\n",
       "        njev: 13\n",
       "  optimality: 4.390226068587387e-08\n",
       "      status: 3\n",
       "     success: True\n",
       "           x: array([ 2.00000057e-02, -1.38802690e-05])"
      ]
     },
     "execution_count": 23,
     "metadata": {},
     "output_type": "execute_result"
    }
   ],
   "source": [
    "answer"
   ]
  },
  {
   "cell_type": "code",
   "execution_count": 24,
   "metadata": {
    "scrolled": false
   },
   "outputs": [],
   "source": [
    "z_and_extcon = answer['x']"
   ]
  },
  {
   "cell_type": "code",
   "execution_count": 25,
   "metadata": {},
   "outputs": [],
   "source": [
    "zfinal = z_and_extcon[0]"
   ]
  },
  {
   "cell_type": "code",
   "execution_count": 26,
   "metadata": {},
   "outputs": [],
   "source": [
    "extcon_final = z_and_extcon[1]"
   ]
  },
  {
   "cell_type": "code",
   "execution_count": 27,
   "metadata": {},
   "outputs": [
    {
     "data": {
      "image/png": "[encoded data removed]",
      "text/plain": [
       "<Figure size 712.764x504 with 1 Axes>"
      ]
     },
     "metadata": {
      "needs_background": "light"
     },
     "output_type": "display_data"
    },
    {
     "data": {
      "text/plain": [
       "3.32195878629842e-07"
      ]
     },
     "execution_count": 27,
     "metadata": {},
     "output_type": "execute_result"
    }
   ],
   "source": [
    "core(zfinal, extcon_final)"
   ]
  },
  {
   "cell_type": "code",
   "execution_count": 28,
   "metadata": {},
   "outputs": [
    {
     "name": "stdout",
     "output_type": "stream",
     "text": [
      "The minimizer took 10.072330474853516 seconds\n"
     ]
    }
   ],
   "source": [
    "end = time.time()\n",
    "print('The minimizer took', end - start, 'seconds')"
   ]
  },
  {
   "cell_type": "code",
   "execution_count": null,
   "metadata": {},
   "outputs": [],
   "source": []
  },
  {
   "cell_type": "code",
   "execution_count": null,
   "metadata": {},
   "outputs": [],
   "source": []
  },
  {
   "cell_type": "code",
   "execution_count": null,
   "metadata": {},
   "outputs": [],
   "source": []
  },
  {
   "cell_type": "code",
   "execution_count": null,
   "metadata": {},
   "outputs": [],
   "source": []
  },
  {
   "cell_type": "code",
   "execution_count": null,
   "metadata": {
    "scrolled": false
   },
   "outputs": [],
   "source": []
  },
  {
   "cell_type": "code",
   "execution_count": null,
   "metadata": {},
   "outputs": [],
   "source": []
  },
  {
   "cell_type": "code",
   "execution_count": null,
   "metadata": {},
   "outputs": [],
   "source": []
  },
  {
   "cell_type": "code",
   "execution_count": null,
   "metadata": {},
   "outputs": [],
   "source": []
  },
  {
   "cell_type": "code",
   "execution_count": null,
   "metadata": {},
   "outputs": [],
   "source": []
  },
  {
   "cell_type": "code",
   "execution_count": null,
   "metadata": {},
   "outputs": [],
   "source": []
  },
  {
   "cell_type": "code",
   "execution_count": null,
   "metadata": {},
   "outputs": [],
   "source": []
  },
  {
   "cell_type": "code",
   "execution_count": null,
   "metadata": {},
   "outputs": [],
   "source": []
  }
 ],
 "metadata": {
  "kernelspec": {
   "display_name": "Python 3",
   "language": "python",
   "name": "python3"
  },
  "language_info": {
   "codemirror_mode": {
    "name": "ipython",
    "version": 3
   },
   "file_extension": ".py",
   "mimetype": "text/x-python",
   "name": "python",
   "nbconvert_exporter": "python",
   "pygments_lexer": "ipython3",
   "version": "3.7.3"
  }
 },
 "nbformat": 4,
 "nbformat_minor": 2
}
