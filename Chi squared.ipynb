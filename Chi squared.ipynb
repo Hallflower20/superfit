{
 "cells": [
  {
   "cell_type": "code",
   "execution_count": 1,
   "metadata": {},
   "outputs": [],
   "source": [
    "from scipy import interpolate\n",
    "import numpy as np\n",
    "import matplotlib.pyplot as plt\n",
    "import scipy.optimize\n",
    "from scipy.optimize import curve_fit\n",
    "\n",
    "\n",
    "#Alam=np.array([.2,.4])\n",
    "\n",
    "\n",
    "#Tfunc = interpolate.interp1d(lam, Tdata)\n",
    "#Gfunc = interpolate.interp1d(lam, Gdata)\n",
    "\n",
    "#def func(x,d,b,c):\n",
    "#    return d*Tfunc(x*(10**(c))-b*Gfunc(x))\n",
    "\n",
    "#coef = np.zeros([len(Alam),3])\n",
    "#for i in range(len(Alam)): \n",
    "#    coef[i,:]=scipy.optimize.curve_fit(func,lam,Odata)[0]\n",
    "#    coef[i,2] = coef[i,2]/Alam[i]\n",
    "#print(coef)\n",
    "\n",
    "\n",
    "def cartesian_product(*arrays):\n",
    "    la = len(arrays)\n",
    "    dtype = np.result_type(*arrays)\n",
    "    arr = np.empty([len(a) for a in arrays] + [la], dtype=dtype)\n",
    "    for i, a in enumerate(np.ix_(*arrays)):\n",
    "        arr[...,i] = a\n",
    "    return arr.reshape(-1, la)\n",
    "\n",
    "#output1=cartesian_product(*[Gdata2, Tdata, Alam])\n"
   ]
  },
  {
   "cell_type": "markdown",
   "metadata": {},
   "source": [
    "# Extinction Function"
   ]
  },
  {
   "cell_type": "code",
   "execution_count": 2,
   "metadata": {},
   "outputs": [],
   "source": [
    "#Reddening law \n",
    "\n",
    "# Program to calculate an array of A's from an input wavelength array\n",
    "# x has units of um^-1 \n",
    "#Original name \"mkafromlam\"\n",
    "#The extinction law is 'redreturn'\n",
    "\n",
    "\n",
    "import numpy as np\n",
    "Rv=3.1\n",
    "\n",
    "#First create an array of zeros with the number of elements lambda has\n",
    "\n",
    "def Alam(lamin):\n",
    "\n",
    "    lam=np.zeros(len(lamin))\n",
    "    invlammicro=np.zeros(len(lamin))\n",
    "    redreturn=np.zeros(len(lamin))\n",
    "\n",
    "    #Convert to microns, then invert to get invlammicro (x)\n",
    "    for i in range(len(lam)):\n",
    "\n",
    "        lam[i]=lamin[i]/10000.0\n",
    "        invlammicro[i]=1/lam[i]\n",
    "\n",
    "        \n",
    "    #IR and Optical\n",
    "\n",
    "\n",
    "    #For 0.3 < x < 1.1\n",
    "        if 0.3 <= invlammicro[i]<=1.1:       \n",
    "            a=0.574 * invlammicro[i] ** 1.61\n",
    "            b=-0.527 * invlammicro[i] ** 1.61\n",
    "            redreturn[i] = a + (b/Rv)\n",
    "\n",
    "    #Optical, NIR\n",
    "\n",
    "\n",
    "    #For  1.1 < x < 3.3    \n",
    "        elif 1.1 < invlammicro[i] <= 3.3:\n",
    "            y=invlammicro[i]-1.82\n",
    "            a = 1.0 + 0.17699 * y - 0.50447 * y**2 - 0.02427 * y**3 + 0.72085 * y**4 + 0.01979 * y**5 - 0.77530 * y**6 +0.32999 * y**7\n",
    "            b=1.41338 * y + 2.28305 * y**2 + 1.07233 * y**3 - 5.38434 * y**4 - 0.62251 * y**5 + 5.30260 * y**6 - 2.09002 * y**7\n",
    "            redreturn[i] = a + (b/Rv)\n",
    "\n",
    "\n",
    "    # UV and far-UV\n",
    "\n",
    "    #For 3.3 < x < 5.9\n",
    "        elif 3.3 < invlammicro[i] < 5.9:    \n",
    "            a = 1.752 - 0.316 * invlammicro[i] - 0.104 / ((invlammicro[i]-4.67)**2 +0.341)\n",
    "            b = -3.090 + 1.825 * invlammicro[i] + 1.206 / ((invlammicro[i] - 4.62)**2 + 0.263)\n",
    "            redreturn[i] = a + (b/Rv)\n",
    "\n",
    "\n",
    "    #For 5.9 < x < 8   \n",
    "        elif 5.9 <= invlammicro[i] <= 8.0:\n",
    "            Fa = -0.04473 * (invlammicro[i] - 5.9)**2 - 0.009779 * (invlammicro[i] - 5.9)**3\n",
    "            Fb = 0.2130 * (invlammicro[i] - 5.9)**2 + 0.1207 * (invlammicro[i] - 5.9)**3\n",
    "            a = 1.752 - 0.316 * invlammicro[i] - 0.104 / ((invlammicro[i]-4.67)**2 +0.341) + Fa\n",
    "            b = -3.090 + 1.825 * invlammicro[i] + 1.206 / ((invlammicro[i] - 4.62)**2 + 0.263) + Fb\n",
    "            redreturn[i] = a + (b/Rv)\n",
    "\n",
    "\n",
    "    #For 8 < x < 10    \n",
    "        elif 8.0 < invlammicro[i] <= 10.0:    \n",
    "            a = -1.073 - 0.628*(invlammicro[i] - 8.0) + 0.137*(invlammicro[i] - 8.0)**2 - 0.070 * (invlammicro[i] - 8.0)**3\n",
    "            b = 13.670 + 4.257*(invlammicro[i] - 8.0) - 0.420 * (invlammicro[i]-8.0)**2 + 0.374 * (invlammicro[i] - 8.0)**3\n",
    "            redreturn[i] = a + (b/Rv)\n",
    "\n",
    "    return redreturn\n",
    "\n",
    "#print(len(redreturn))"
   ]
  },
  {
   "cell_type": "code",
   "execution_count": 3,
   "metadata": {},
   "outputs": [
    {
     "name": "stdout",
     "output_type": "stream",
     "text": [
      "[1.02040436]\n"
     ]
    }
   ],
   "source": [
    "print(Alam(np.array([5400])))"
   ]
  },
  {
   "cell_type": "code",
   "execution_count": 4,
   "metadata": {},
   "outputs": [
    {
     "name": "stdout",
     "output_type": "stream",
     "text": [
      "Alam.ipynb         Chi squared.ipynb  \u001b[34mgal\u001b[m\u001b[m/               \u001b[34msne\u001b[m\u001b[m/\r\n"
     ]
    }
   ],
   "source": [
    "ls"
   ]
  },
  {
   "cell_type": "code",
   "execution_count": 5,
   "metadata": {},
   "outputs": [],
   "source": [
    "import glob\n",
    "from astropy import table\n",
    "from astropy.io import ascii\n",
    "from scipy import interpolate\n",
    "import\tmultiprocessing as mp"
   ]
  },
  {
   "cell_type": "markdown",
   "metadata": {},
   "source": [
    "## Reading in libraries"
   ]
  },
  {
   "cell_type": "code",
   "execution_count": 6,
   "metadata": {},
   "outputs": [],
   "source": [
    "templates_gal = glob.glob('gal/**/*')\n",
    "templates_gal = [x for x in templates_gal if 'CVS' not in x and 'README' not in x]\n",
    "templates_gal = np.array(templates_gal)\n",
    "\n",
    "templates_sn = glob.glob('sne/**/*')\n",
    "templates_sn = [x for x in templates_sn if 'CVS' not in x and 'README' not in x]\n",
    "templates_sn = np.array(templates_sn)\n",
    "\n",
    "templates_dust = np.array([-0.2, 0.1])\n"
   ]
  },
  {
   "cell_type": "markdown",
   "metadata": {},
   "source": [
    "# Truncate sn templates\n",
    "#### User input goes here"
   ]
  },
  {
   "cell_type": "code",
   "execution_count": 7,
   "metadata": {},
   "outputs": [],
   "source": [
    "templates_sn_trunc=np.array([x for x in templates_sn if '/II/' in x])"
   ]
  },
  {
   "cell_type": "markdown",
   "metadata": {},
   "source": [
    "# compute cartesian product"
   ]
  },
  {
   "cell_type": "code",
   "execution_count": 8,
   "metadata": {},
   "outputs": [
    {
     "data": {
      "text/plain": [
       "array([['gal/pegase/spec_E.dat', 'sne/II/sn2005db.p86.dat', '-0.2'],\n",
       "       ['gal/pegase/spec_E.dat', 'sne/II/sn2005db.p86.dat', '0.1'],\n",
       "       ['gal/pegase/spec_E.dat', 'sne/II/sn1997cy.u31.dat', '-0.2'],\n",
       "       ...,\n",
       "       ['gal/poggianti/Sa_bianca', 'sne/II/sn2005cs.p31.dat', '0.1'],\n",
       "       ['gal/poggianti/Sa_bianca', 'sne/II/sn1987K.p07.dat', '-0.2'],\n",
       "       ['gal/poggianti/Sa_bianca', 'sne/II/sn1987K.p07.dat', '0.1']],\n",
       "      dtype='<U32')"
      ]
     },
     "execution_count": 8,
     "metadata": {},
     "output_type": "execute_result"
    }
   ],
   "source": [
    "cartesian_product_all=cartesian_product(*[templates_gal, templates_sn_trunc, templates_dust])\n",
    "cartesian_product_all\n"
   ]
  },
  {
   "cell_type": "markdown",
   "metadata": {},
   "source": [
    "# make input table nicer"
   ]
  },
  {
   "cell_type": "code",
   "execution_count": 9,
   "metadata": {},
   "outputs": [
    {
     "data": {
      "text/html": [
       "<i>Table length=5568</i>\n",
       "<table id=\"table4534502568\" class=\"table-striped table-bordered table-condensed\">\n",
       "<thead><tr><th>GALAXY</th><th>SN</th><th>DUST</th><th>OBJECT</th></tr></thead>\n",
       "<thead><tr><th>str32</th><th>str32</th><th>str32</th><th>str23</th></tr></thead>\n",
       "<tr><td>gal/pegase/spec_E.dat</td><td>sne/II/sn2005db.p86.dat</td><td>-0.2</td><td>sne/II/sn2005db.p86.dat</td></tr>\n",
       "<tr><td>gal/pegase/spec_E.dat</td><td>sne/II/sn2005db.p86.dat</td><td>0.1</td><td>sne/II/sn2005db.p86.dat</td></tr>\n",
       "<tr><td>gal/pegase/spec_E.dat</td><td>sne/II/sn1997cy.u31.dat</td><td>-0.2</td><td>sne/II/sn2005db.p86.dat</td></tr>\n",
       "<tr><td>gal/pegase/spec_E.dat</td><td>sne/II/sn1997cy.u31.dat</td><td>0.1</td><td>sne/II/sn2005db.p86.dat</td></tr>\n",
       "<tr><td>gal/pegase/spec_E.dat</td><td>sne/II/sn2005cs.p14.dat</td><td>-0.2</td><td>sne/II/sn2005db.p86.dat</td></tr>\n",
       "<tr><td>gal/pegase/spec_E.dat</td><td>sne/II/sn2005cs.p14.dat</td><td>0.1</td><td>sne/II/sn2005db.p86.dat</td></tr>\n",
       "<tr><td>gal/pegase/spec_E.dat</td><td>sne/II/sn1987a.m84.dat</td><td>-0.2</td><td>sne/II/sn2005db.p86.dat</td></tr>\n",
       "<tr><td>gal/pegase/spec_E.dat</td><td>sne/II/sn1987a.m84.dat</td><td>0.1</td><td>sne/II/sn2005db.p86.dat</td></tr>\n",
       "<tr><td>gal/pegase/spec_E.dat</td><td>sne/II/sn2004et.p47.dat</td><td>-0.2</td><td>sne/II/sn2005db.p86.dat</td></tr>\n",
       "<tr><td>gal/pegase/spec_E.dat</td><td>sne/II/sn2004et.p47.dat</td><td>0.1</td><td>sne/II/sn2005db.p86.dat</td></tr>\n",
       "<tr><td>...</td><td>...</td><td>...</td><td>...</td></tr>\n",
       "<tr><td>gal/poggianti/Sa_bianca</td><td>sne/II/theory99em.p25.dat</td><td>-0.2</td><td>sne/II/sn2005db.p86.dat</td></tr>\n",
       "<tr><td>gal/poggianti/Sa_bianca</td><td>sne/II/theory99em.p25.dat</td><td>0.1</td><td>sne/II/sn2005db.p86.dat</td></tr>\n",
       "<tr><td>gal/poggianti/Sa_bianca</td><td>sne/II/sn1999em.p137.dat</td><td>-0.2</td><td>sne/II/sn2005db.p86.dat</td></tr>\n",
       "<tr><td>gal/poggianti/Sa_bianca</td><td>sne/II/sn1999em.p137.dat</td><td>0.1</td><td>sne/II/sn2005db.p86.dat</td></tr>\n",
       "<tr><td>gal/poggianti/Sa_bianca</td><td>sne/II/sn2004et.p76.dat</td><td>-0.2</td><td>sne/II/sn2005db.p86.dat</td></tr>\n",
       "<tr><td>gal/poggianti/Sa_bianca</td><td>sne/II/sn2004et.p76.dat</td><td>0.1</td><td>sne/II/sn2005db.p86.dat</td></tr>\n",
       "<tr><td>gal/poggianti/Sa_bianca</td><td>sne/II/sn2005cs.p31.dat</td><td>-0.2</td><td>sne/II/sn2005db.p86.dat</td></tr>\n",
       "<tr><td>gal/poggianti/Sa_bianca</td><td>sne/II/sn2005cs.p31.dat</td><td>0.1</td><td>sne/II/sn2005db.p86.dat</td></tr>\n",
       "<tr><td>gal/poggianti/Sa_bianca</td><td>sne/II/sn1987K.p07.dat</td><td>-0.2</td><td>sne/II/sn2005db.p86.dat</td></tr>\n",
       "<tr><td>gal/poggianti/Sa_bianca</td><td>sne/II/sn1987K.p07.dat</td><td>0.1</td><td>sne/II/sn2005db.p86.dat</td></tr>\n",
       "</table>"
      ],
      "text/plain": [
       "<Table length=5568>\n",
       "         GALAXY                     SN             DUST          OBJECT        \n",
       "         str32                    str32           str32          str23         \n",
       "----------------------- ------------------------- ----- -----------------------\n",
       "  gal/pegase/spec_E.dat   sne/II/sn2005db.p86.dat  -0.2 sne/II/sn2005db.p86.dat\n",
       "  gal/pegase/spec_E.dat   sne/II/sn2005db.p86.dat   0.1 sne/II/sn2005db.p86.dat\n",
       "  gal/pegase/spec_E.dat   sne/II/sn1997cy.u31.dat  -0.2 sne/II/sn2005db.p86.dat\n",
       "  gal/pegase/spec_E.dat   sne/II/sn1997cy.u31.dat   0.1 sne/II/sn2005db.p86.dat\n",
       "  gal/pegase/spec_E.dat   sne/II/sn2005cs.p14.dat  -0.2 sne/II/sn2005db.p86.dat\n",
       "  gal/pegase/spec_E.dat   sne/II/sn2005cs.p14.dat   0.1 sne/II/sn2005db.p86.dat\n",
       "  gal/pegase/spec_E.dat    sne/II/sn1987a.m84.dat  -0.2 sne/II/sn2005db.p86.dat\n",
       "  gal/pegase/spec_E.dat    sne/II/sn1987a.m84.dat   0.1 sne/II/sn2005db.p86.dat\n",
       "  gal/pegase/spec_E.dat   sne/II/sn2004et.p47.dat  -0.2 sne/II/sn2005db.p86.dat\n",
       "  gal/pegase/spec_E.dat   sne/II/sn2004et.p47.dat   0.1 sne/II/sn2005db.p86.dat\n",
       "                    ...                       ...   ...                     ...\n",
       "gal/poggianti/Sa_bianca sne/II/theory99em.p25.dat  -0.2 sne/II/sn2005db.p86.dat\n",
       "gal/poggianti/Sa_bianca sne/II/theory99em.p25.dat   0.1 sne/II/sn2005db.p86.dat\n",
       "gal/poggianti/Sa_bianca  sne/II/sn1999em.p137.dat  -0.2 sne/II/sn2005db.p86.dat\n",
       "gal/poggianti/Sa_bianca  sne/II/sn1999em.p137.dat   0.1 sne/II/sn2005db.p86.dat\n",
       "gal/poggianti/Sa_bianca   sne/II/sn2004et.p76.dat  -0.2 sne/II/sn2005db.p86.dat\n",
       "gal/poggianti/Sa_bianca   sne/II/sn2004et.p76.dat   0.1 sne/II/sn2005db.p86.dat\n",
       "gal/poggianti/Sa_bianca   sne/II/sn2005cs.p31.dat  -0.2 sne/II/sn2005db.p86.dat\n",
       "gal/poggianti/Sa_bianca   sne/II/sn2005cs.p31.dat   0.1 sne/II/sn2005db.p86.dat\n",
       "gal/poggianti/Sa_bianca    sne/II/sn1987K.p07.dat  -0.2 sne/II/sn2005db.p86.dat\n",
       "gal/poggianti/Sa_bianca    sne/II/sn1987K.p07.dat   0.1 sne/II/sn2005db.p86.dat"
      ]
     },
     "execution_count": 9,
     "metadata": {},
     "output_type": "execute_result"
    }
   ],
   "source": [
    "cartesian_product_all=table.Table(cartesian_product_all, names=('GALAXY', 'SN', 'DUST'))\n",
    "cartesian_product_all['OBJECT']=cartesian_product_all['SN'][0]\n",
    "cartesian_product_all"
   ]
  },
  {
   "cell_type": "code",
   "execution_count": 10,
   "metadata": {},
   "outputs": [],
   "source": [
    "index_array=range(len(cartesian_product_all))"
   ]
  },
  {
   "cell_type": "code",
   "execution_count": 25,
   "metadata": {
    "pixiedust": {
     "displayParams": {}
    }
   },
   "outputs": [],
   "source": [
    "\n",
    "import time\n",
    "\n",
    "def wrapper_fit(DATABASE):\n",
    " \n",
    "    tstart=time.time()\n",
    "    # read in templates\n",
    "    temp_gal = np.loadtxt(DATABASE['GALAXY'])\n",
    "    temp_SN = np.loadtxt(DATABASE['SN'])\n",
    " \n",
    "    # object\n",
    "    temp_object = np.loadtxt(DATABASE['OBJECT'])\n",
    "   \n",
    "    #print(time.time()-tstart)\n",
    "    \n",
    "    \n",
    "    # read in templates\n",
    "#    temp_gal = ascii.read(DATABASE['GALAXY'])\n",
    "#    print(temp_gal)\n",
    "    \n",
    "#    temp_SN = ascii.read(DATABASE['SN'])\n",
    "    #print(temp_gal,temp_SN)\n",
    "    # object\n",
    "#    temp_object = ascii.read(DATABASE['OBJECT'])\n",
    "    #print(temp_object)    \n",
    "    # interpolation\n",
    "#    print(temp_gal)\n",
    "    \n",
    "#    temp_gal[:,1] = temp_gal[:,1]/np.median(temp_gal[:,1][(temp_gal[:,0] > 5000) & (temp_gal[:,0] < 6000)])\n",
    "#    temp_SN[:,1] = temp_SN[:,1]/np.median(temp_SN[:,1][(temp_SN[:,0] > 5000) & (temp_SN[:,0] < 6000)])\n",
    "#    temp_object[:,1] = temp_object[:,1]/np.median(temp_object[:,1][(temp_object[:,0] > 5000) & (temp_object[:,0] < 6000)])\n",
    "    \n",
    "    temp_gal_interp = interpolate.interp1d(temp_gal[:,0], temp_gal[:,1], bounds_error=False, fill_value=np.nan)\n",
    "    temp_sn_interp = interpolate.interp1d(temp_SN[:,0], temp_SN[:,1], bounds_error=False, fill_value=np.nan)\n",
    "    temp_object_interp = interpolate.interp1d(temp_object[:,0], temp_object[:,1], bounds_error=False, fill_value=np.nan)\n",
    "    \n",
    "    \n",
    "    # common wavelength range\n",
    "    \n",
    "    lambda_min = max([temp_gal[:,0][0], temp_SN[:,0][0], temp_object[:,0][0]])\n",
    "    lambda_max = min([temp_gal[:,0][-1], temp_SN[:,0][-1], temp_object[:,0][-1]])\n",
    "    \n",
    "    # Truncate wavelength interval\n",
    "    \n",
    "    lambda_new= temp_object[:,0][ (temp_object[:,0] >= lambda_min) & (temp_object[:,0] <= lambda_max) ]\n",
    "#    print(lambda_new)\n",
    "#    print(temp_object_interp(lambda_new))\n",
    "#    print(temp_sn_interp(lambda_new))\n",
    "#    print(temp_gal_interp(lambda_new))\n",
    "\n",
    "    \n",
    "    #print(lambda_min, lambda_max, lambda_new)\n",
    "    \n",
    "    # fit function\n",
    "    \n",
    "#    def func(x, b, d, c, z):\n",
    "    def func(x, b, d, z):        \n",
    "#        return d*temp_sn_interp(x/(z+1))*pow(10, Alam(x/(z+1))*c)+b*temp_gal_interp(x/(z+1))\n",
    "        return d*temp_sn_interp(x/(z+1))+b*temp_gal_interp(x/(z+1))\n",
    "\n",
    "    # fitting\n",
    "     \n",
    "    result =scipy.optimize.curve_fit(func, lambda_new, temp_object_interp(lambda_new))\n",
    "    popt  = result[0]\n",
    "    pcov  = result[1]\n",
    "    \n",
    "    # Compute chi^2\n",
    "    sigma=1\n",
    "    chi2 = np.sum(((temp_object_interp(lambda_new)-func(lambda_new, *popt))/sigma)**2)\n",
    "    \n",
    "#    return table.Table(np.array([DATABASE['GALAXY'], DATABASE['SN'], chi2, popt[0], popt[1], popt[2], np.sqrt(pcov[0,0]), np.sqrt(pcov[1,1]), np.sqrt(pcov[2,2])]), names=('GALAXY', 'SN', 'CHI2', 'CONST_GAL', 'CONST_SN', 'CONST_EXT', 'CONST_GAL_ERR', 'CONST_SN_ERR', 'CONST_EXT_ERR'), dtype=('S100', 'S100', 'f', 'f', 'f', 'f', 'f', 'f', 'f'))\n",
    "    return table.Table(np.array([DATABASE['GALAXY'], DATABASE['SN'], chi2, popt[0], popt[1], 0, np.sqrt(pcov[0,0]), np.sqrt(pcov[1,1]), 0]), names=('GALAXY', 'SN', 'CHI2', 'CONST_GAL', 'CONST_SN', 'CONST_EXT', 'CONST_GAL_ERR', 'CONST_SN_ERR', 'CONST_EXT_ERR'), dtype=('S100', 'S100', 'f', 'f', 'f', 'f', 'f', 'f', 'f'))\n",
    "    \n",
    "#    print(result, chi2)\n",
    "    \n",
    "\n",
    "    "
   ]
  },
  {
   "cell_type": "code",
   "execution_count": 26,
   "metadata": {},
   "outputs": [
    {
     "data": {
      "text/plain": [
       "0.04594898223876953"
      ]
     },
     "execution_count": 26,
     "metadata": {},
     "output_type": "execute_result"
    }
   ],
   "source": [
    "import time\n",
    "tstart=time.time()\n",
    "output=wrapper_fit(cartesian_product_all[index_array[0]])\n",
    "time.time()-tstart"
   ]
  },
  {
   "cell_type": "code",
   "execution_count": 13,
   "metadata": {},
   "outputs": [
    {
     "data": {
      "text/html": [
       "<i>Table length=1</i>\n",
       "<table id=\"table82115524424\" class=\"table-striped table-bordered table-condensed\">\n",
       "<thead><tr><th>GALAXY</th><th>SN</th><th>CHI2</th><th>CONST_GAL</th><th>CONST_SN</th><th>CONST_EXT</th><th>CONST_GAL_ERR</th><th>CONST_SN_ERR</th><th>CONST_EXT_ERR</th></tr></thead>\n",
       "<thead><tr><th>bytes100</th><th>bytes100</th><th>float32</th><th>float32</th><th>float32</th><th>float32</th><th>float32</th><th>float32</th><th>float32</th></tr></thead>\n",
       "<tr><td>gal/pegase/spec_E.dat</td><td>sne/II/sn2005db.p86.dat</td><td>nan</td><td>1.0</td><td>1.0</td><td>0.0</td><td>inf</td><td>inf</td><td>0.0</td></tr>\n",
       "</table>"
      ],
      "text/plain": [
       "<Table length=1>\n",
       "        GALAXY                   SN           ... CONST_SN_ERR CONST_EXT_ERR\n",
       "       bytes100               bytes100        ...   float32       float32   \n",
       "--------------------- ----------------------- ... ------------ -------------\n",
       "gal/pegase/spec_E.dat sne/II/sn2005db.p86.dat ...          inf           0.0"
      ]
     },
     "execution_count": 13,
     "metadata": {},
     "output_type": "execute_result"
    }
   ],
   "source": [
    "output"
   ]
  },
  {
   "cell_type": "code",
   "execution_count": 14,
   "metadata": {},
   "outputs": [],
   "source": [
    "if mp.cpu_count() > 1:\n",
    "     number_cpu\t= mp.cpu_count()/2\t# is equal to number of threads x number of physical cpus, e.g. 2x4\n",
    "else:\n",
    "    number_cpu\t= mp.cpu_count()\n",
    "number_cpu\n",
    "pool\t= mp.Pool(processes=int(number_cpu)*2)\n",
    "\n"
   ]
  },
  {
   "cell_type": "code",
   "execution_count": 15,
   "metadata": {
    "scrolled": true
   },
   "outputs": [
    {
     "name": "stdout",
     "output_type": "stream",
     "text": [
      "1.781191110610962\n"
     ]
    }
   ],
   "source": [
    "#pool = [multiprocessing.Process(target=stretch, args= (shared_arr,slice(i, i+step)),kwargs=args) for i in range (0, y, step)]\n",
    "import time\n",
    "\n",
    "tstart=time.time()\n",
    "result\t= pool.map(wrapper_fit, cartesian_product_all[:100])\n",
    "print(time.time()-tstart)"
   ]
  },
  {
   "cell_type": "code",
   "execution_count": 16,
   "metadata": {},
   "outputs": [],
   "source": [
    "result=table.vstack(result)"
   ]
  },
  {
   "cell_type": "code",
   "execution_count": 17,
   "metadata": {},
   "outputs": [
    {
     "data": {
      "text/html": [
       "<i>Table length=100</i>\n",
       "<table id=\"table82133563152\" class=\"table-striped table-bordered table-condensed\">\n",
       "<thead><tr><th>GALAXY</th><th>SN</th><th>CHI2</th><th>CONST_GAL</th><th>CONST_SN</th><th>CONST_EXT</th><th>CONST_GAL_ERR</th><th>CONST_SN_ERR</th><th>CONST_EXT_ERR</th></tr></thead>\n",
       "<thead><tr><th>bytes100</th><th>bytes100</th><th>float32</th><th>float32</th><th>float32</th><th>float32</th><th>float32</th><th>float32</th><th>float32</th></tr></thead>\n",
       "<tr><td>gal/pegase/spec_E.dat</td><td>sne/II/sn2005db.p86.dat</td><td>nan</td><td>1.0</td><td>1.0</td><td>0.0</td><td>inf</td><td>inf</td><td>0.0</td></tr>\n",
       "<tr><td>gal/pegase/spec_E.dat</td><td>sne/II/sn2005db.p86.dat</td><td>nan</td><td>1.0</td><td>1.0</td><td>0.0</td><td>inf</td><td>inf</td><td>0.0</td></tr>\n",
       "<tr><td>gal/pegase/spec_E.dat</td><td>sne/II/sn1997cy.u31.dat</td><td>nan</td><td>1.0</td><td>1.0</td><td>0.0</td><td>inf</td><td>inf</td><td>0.0</td></tr>\n",
       "<tr><td>gal/pegase/spec_E.dat</td><td>sne/II/sn1997cy.u31.dat</td><td>nan</td><td>1.0</td><td>1.0</td><td>0.0</td><td>inf</td><td>inf</td><td>0.0</td></tr>\n",
       "<tr><td>gal/pegase/spec_E.dat</td><td>sne/II/sn2005cs.p14.dat</td><td>nan</td><td>1.0</td><td>1.0</td><td>0.0</td><td>inf</td><td>inf</td><td>0.0</td></tr>\n",
       "<tr><td>gal/pegase/spec_E.dat</td><td>sne/II/sn2005cs.p14.dat</td><td>nan</td><td>1.0</td><td>1.0</td><td>0.0</td><td>inf</td><td>inf</td><td>0.0</td></tr>\n",
       "<tr><td>gal/pegase/spec_E.dat</td><td>sne/II/sn1987a.m84.dat</td><td>2.7879984e+18</td><td>1.1682375e-21</td><td>1.0</td><td>0.0</td><td>inf</td><td>inf</td><td>0.0</td></tr>\n",
       "<tr><td>gal/pegase/spec_E.dat</td><td>sne/II/sn1987a.m84.dat</td><td>2.7879984e+18</td><td>1.1682375e-21</td><td>1.0</td><td>0.0</td><td>inf</td><td>inf</td><td>0.0</td></tr>\n",
       "<tr><td>gal/pegase/spec_E.dat</td><td>sne/II/sn2004et.p47.dat</td><td>nan</td><td>1.0</td><td>1.0</td><td>0.0</td><td>inf</td><td>inf</td><td>0.0</td></tr>\n",
       "<tr><td>gal/pegase/spec_E.dat</td><td>sne/II/sn2004et.p47.dat</td><td>nan</td><td>1.0</td><td>1.0</td><td>0.0</td><td>inf</td><td>inf</td><td>0.0</td></tr>\n",
       "<tr><td>...</td><td>...</td><td>...</td><td>...</td><td>...</td><td>...</td><td>...</td><td>...</td><td>...</td></tr>\n",
       "<tr><td>gal/pegase/spec_E.dat</td><td>sne/II/sn1993j.p116.dat</td><td>nan</td><td>1.0</td><td>1.0</td><td>0.0</td><td>inf</td><td>inf</td><td>0.0</td></tr>\n",
       "<tr><td>gal/pegase/spec_E.dat</td><td>sne/II/sn1993j.p116.dat</td><td>nan</td><td>1.0</td><td>1.0</td><td>0.0</td><td>inf</td><td>inf</td><td>0.0</td></tr>\n",
       "<tr><td>gal/pegase/spec_E.dat</td><td>sne/II/sn1998S.m13.dat</td><td>nan</td><td>1.0</td><td>1.0</td><td>0.0</td><td>inf</td><td>inf</td><td>0.0</td></tr>\n",
       "<tr><td>gal/pegase/spec_E.dat</td><td>sne/II/sn1998S.m13.dat</td><td>nan</td><td>1.0</td><td>1.0</td><td>0.0</td><td>inf</td><td>inf</td><td>0.0</td></tr>\n",
       "<tr><td>gal/pegase/spec_E.dat</td><td>sne/II/sn1979C.p07.dat</td><td>nan</td><td>1.0</td><td>1.0</td><td>0.0</td><td>inf</td><td>inf</td><td>0.0</td></tr>\n",
       "<tr><td>gal/pegase/spec_E.dat</td><td>sne/II/sn1979C.p07.dat</td><td>nan</td><td>1.0</td><td>1.0</td><td>0.0</td><td>inf</td><td>inf</td><td>0.0</td></tr>\n",
       "<tr><td>gal/pegase/spec_E.dat</td><td>sne/II/sn1984E.p59.dat</td><td>nan</td><td>1.0</td><td>1.0</td><td>0.0</td><td>inf</td><td>inf</td><td>0.0</td></tr>\n",
       "<tr><td>gal/pegase/spec_E.dat</td><td>sne/II/sn1984E.p59.dat</td><td>nan</td><td>1.0</td><td>1.0</td><td>0.0</td><td>inf</td><td>inf</td><td>0.0</td></tr>\n",
       "<tr><td>gal/pegase/spec_E.dat</td><td>sne/II/sn2005cp.u53.dat</td><td>nan</td><td>1.0</td><td>1.0</td><td>0.0</td><td>inf</td><td>inf</td><td>0.0</td></tr>\n",
       "<tr><td>gal/pegase/spec_E.dat</td><td>sne/II/sn2005cp.u53.dat</td><td>nan</td><td>1.0</td><td>1.0</td><td>0.0</td><td>inf</td><td>inf</td><td>0.0</td></tr>\n",
       "</table>"
      ],
      "text/plain": [
       "<Table length=100>\n",
       "        GALAXY                   SN           ... CONST_SN_ERR CONST_EXT_ERR\n",
       "       bytes100               bytes100        ...   float32       float32   \n",
       "--------------------- ----------------------- ... ------------ -------------\n",
       "gal/pegase/spec_E.dat sne/II/sn2005db.p86.dat ...          inf           0.0\n",
       "gal/pegase/spec_E.dat sne/II/sn2005db.p86.dat ...          inf           0.0\n",
       "gal/pegase/spec_E.dat sne/II/sn1997cy.u31.dat ...          inf           0.0\n",
       "gal/pegase/spec_E.dat sne/II/sn1997cy.u31.dat ...          inf           0.0\n",
       "gal/pegase/spec_E.dat sne/II/sn2005cs.p14.dat ...          inf           0.0\n",
       "gal/pegase/spec_E.dat sne/II/sn2005cs.p14.dat ...          inf           0.0\n",
       "gal/pegase/spec_E.dat  sne/II/sn1987a.m84.dat ...          inf           0.0\n",
       "gal/pegase/spec_E.dat  sne/II/sn1987a.m84.dat ...          inf           0.0\n",
       "gal/pegase/spec_E.dat sne/II/sn2004et.p47.dat ...          inf           0.0\n",
       "gal/pegase/spec_E.dat sne/II/sn2004et.p47.dat ...          inf           0.0\n",
       "                  ...                     ... ...          ...           ...\n",
       "gal/pegase/spec_E.dat sne/II/sn1993j.p116.dat ...          inf           0.0\n",
       "gal/pegase/spec_E.dat sne/II/sn1993j.p116.dat ...          inf           0.0\n",
       "gal/pegase/spec_E.dat  sne/II/sn1998S.m13.dat ...          inf           0.0\n",
       "gal/pegase/spec_E.dat  sne/II/sn1998S.m13.dat ...          inf           0.0\n",
       "gal/pegase/spec_E.dat  sne/II/sn1979C.p07.dat ...          inf           0.0\n",
       "gal/pegase/spec_E.dat  sne/II/sn1979C.p07.dat ...          inf           0.0\n",
       "gal/pegase/spec_E.dat  sne/II/sn1984E.p59.dat ...          inf           0.0\n",
       "gal/pegase/spec_E.dat  sne/II/sn1984E.p59.dat ...          inf           0.0\n",
       "gal/pegase/spec_E.dat sne/II/sn2005cp.u53.dat ...          inf           0.0\n",
       "gal/pegase/spec_E.dat sne/II/sn2005cp.u53.dat ...          inf           0.0"
      ]
     },
     "execution_count": 17,
     "metadata": {},
     "output_type": "execute_result"
    }
   ],
   "source": [
    "result"
   ]
  },
  {
   "cell_type": "code",
   "execution_count": 18,
   "metadata": {},
   "outputs": [
    {
     "data": {
      "text/plain": [
       "nan"
      ]
     },
     "execution_count": 18,
     "metadata": {},
     "output_type": "execute_result"
    }
   ],
   "source": [
    "min(result['CHI2'])"
   ]
  },
  {
   "cell_type": "code",
   "execution_count": 19,
   "metadata": {},
   "outputs": [
    {
     "data": {
      "text/html": [
       "<i>Table length=0</i>\n",
       "<table id=\"table82144323848\" class=\"table-striped table-bordered table-condensed\">\n",
       "<thead><tr><th>GALAXY</th><th>SN</th><th>CHI2</th><th>CONST_GAL</th><th>CONST_SN</th><th>CONST_EXT</th><th>CONST_GAL_ERR</th><th>CONST_SN_ERR</th><th>CONST_EXT_ERR</th></tr></thead>\n",
       "<thead><tr><th>bytes100</th><th>bytes100</th><th>float32</th><th>float32</th><th>float32</th><th>float32</th><th>float32</th><th>float32</th><th>float32</th></tr></thead>\n",
       "</table>"
      ],
      "text/plain": [
       "<Table length=0>\n",
       " GALAXY     SN      CHI2  CONST_GAL ... CONST_GAL_ERR CONST_SN_ERR CONST_EXT_ERR\n",
       "bytes100 bytes100 float32  float32  ...    float32      float32       float32   \n",
       "-------- -------- ------- --------- ... ------------- ------------ -------------"
      ]
     },
     "execution_count": 19,
     "metadata": {},
     "output_type": "execute_result"
    }
   ],
   "source": [
    "result[result['CHI2'] == min(result['CHI2'])]"
   ]
  },
  {
   "cell_type": "code",
   "execution_count": 20,
   "metadata": {},
   "outputs": [
    {
     "data": {
      "text/html": [
       "<i>Table length=20</i>\n",
       "<table id=\"table82144322616\" class=\"table-striped table-bordered table-condensed\">\n",
       "<thead><tr><th>GALAXY</th><th>SN</th><th>CHI2</th><th>CONST_GAL</th><th>CONST_SN</th><th>CONST_EXT</th><th>CONST_GAL_ERR</th><th>CONST_SN_ERR</th><th>CONST_EXT_ERR</th></tr></thead>\n",
       "<thead><tr><th>bytes100</th><th>bytes100</th><th>float32</th><th>float32</th><th>float32</th><th>float32</th><th>float32</th><th>float32</th><th>float32</th></tr></thead>\n",
       "<tr><td>gal/pegase/spec_E.dat</td><td>sne/II/theory99em.p10.dat</td><td>2.7879984e+18</td><td>1.1682375e-21</td><td>1.0</td><td>0.0</td><td>inf</td><td>inf</td><td>0.0</td></tr>\n",
       "<tr><td>gal/pegase/spec_E.dat</td><td>sne/II/theory99em.p10.dat</td><td>2.7879984e+18</td><td>1.1682375e-21</td><td>1.0</td><td>0.0</td><td>inf</td><td>inf</td><td>0.0</td></tr>\n",
       "<tr><td>gal/pegase/spec_E.dat</td><td>sne/II/sn1987a.p113.dat</td><td>2.7879984e+18</td><td>1.1682375e-21</td><td>1.0</td><td>0.0</td><td>inf</td><td>inf</td><td>0.0</td></tr>\n",
       "<tr><td>gal/pegase/spec_E.dat</td><td>sne/II/sn1987a.p113.dat</td><td>2.7879984e+18</td><td>1.1682375e-21</td><td>1.0</td><td>0.0</td><td>inf</td><td>inf</td><td>0.0</td></tr>\n",
       "<tr><td>gal/pegase/spec_E.dat</td><td>sne/II/theory99em.p05.dat</td><td>2.7879984e+18</td><td>1.1682375e-21</td><td>1.0</td><td>0.0</td><td>inf</td><td>inf</td><td>0.0</td></tr>\n",
       "<tr><td>gal/pegase/spec_E.dat</td><td>sne/II/theory99em.p05.dat</td><td>2.7879984e+18</td><td>1.1682375e-21</td><td>1.0</td><td>0.0</td><td>inf</td><td>inf</td><td>0.0</td></tr>\n",
       "<tr><td>gal/pegase/spec_E.dat</td><td>sne/II/theory99em.45.dat</td><td>2.7879984e+18</td><td>1.1682375e-21</td><td>1.0</td><td>0.0</td><td>inf</td><td>inf</td><td>0.0</td></tr>\n",
       "<tr><td>gal/pegase/spec_E.dat</td><td>sne/II/theory99em.45.dat</td><td>2.7879984e+18</td><td>1.1682375e-21</td><td>1.0</td><td>0.0</td><td>inf</td><td>inf</td><td>0.0</td></tr>\n",
       "<tr><td>gal/pegase/spec_E.dat</td><td>sne/II/theory99em.p15.dat</td><td>2.7879984e+18</td><td>1.1682375e-21</td><td>1.0</td><td>0.0</td><td>inf</td><td>inf</td><td>0.0</td></tr>\n",
       "<tr><td>gal/pegase/spec_E.dat</td><td>sne/II/theory99em.p15.dat</td><td>2.7879984e+18</td><td>1.1682375e-21</td><td>1.0</td><td>0.0</td><td>inf</td><td>inf</td><td>0.0</td></tr>\n",
       "<tr><td>gal/pegase/spec_E.dat</td><td>sne/II/sn1987a.m84.dat</td><td>2.7879984e+18</td><td>1.1682375e-21</td><td>1.0</td><td>0.0</td><td>inf</td><td>inf</td><td>0.0</td></tr>\n",
       "<tr><td>gal/pegase/spec_E.dat</td><td>sne/II/sn1987a.m84.dat</td><td>2.7879984e+18</td><td>1.1682375e-21</td><td>1.0</td><td>0.0</td><td>inf</td><td>inf</td><td>0.0</td></tr>\n",
       "<tr><td>gal/pegase/spec_E.dat</td><td>sne/II/sn1987a.max.dat</td><td>5.830747e+19</td><td>1.4852273e-20</td><td>1.0</td><td>0.0</td><td>inf</td><td>inf</td><td>0.0</td></tr>\n",
       "<tr><td>gal/pegase/spec_E.dat</td><td>sne/II/sn1987a.max.dat</td><td>5.830747e+19</td><td>1.4852273e-20</td><td>1.0</td><td>0.0</td><td>inf</td><td>inf</td><td>0.0</td></tr>\n",
       "<tr><td>gal/pegase/spec_E.dat</td><td>sne/II/sn1993j.p116.dat</td><td>nan</td><td>1.0</td><td>1.0</td><td>0.0</td><td>inf</td><td>inf</td><td>0.0</td></tr>\n",
       "<tr><td>gal/pegase/spec_E.dat</td><td>sne/II/sn2005cl.p15.dat</td><td>nan</td><td>1.0</td><td>1.0</td><td>0.0</td><td>inf</td><td>inf</td><td>0.0</td></tr>\n",
       "<tr><td>gal/pegase/spec_E.dat</td><td>sne/II/sn2005cl.p15.dat</td><td>nan</td><td>1.0</td><td>1.0</td><td>0.0</td><td>inf</td><td>inf</td><td>0.0</td></tr>\n",
       "<tr><td>gal/pegase/spec_E.dat</td><td>sne/II/sn1986I.p19.dat</td><td>nan</td><td>1.0</td><td>1.0</td><td>0.0</td><td>inf</td><td>inf</td><td>0.0</td></tr>\n",
       "<tr><td>gal/pegase/spec_E.dat</td><td>sne/II/sn1986I.p19.dat</td><td>nan</td><td>1.0</td><td>1.0</td><td>0.0</td><td>inf</td><td>inf</td><td>0.0</td></tr>\n",
       "<tr><td>gal/pegase/spec_E.dat</td><td>sne/II/sn1999em.p75.dat</td><td>nan</td><td>1.0</td><td>1.0</td><td>0.0</td><td>inf</td><td>inf</td><td>0.0</td></tr>\n",
       "</table>"
      ],
      "text/plain": [
       "<Table length=20>\n",
       "        GALAXY                    SN            ... CONST_SN_ERR CONST_EXT_ERR\n",
       "       bytes100                bytes100         ...   float32       float32   \n",
       "--------------------- ------------------------- ... ------------ -------------\n",
       "gal/pegase/spec_E.dat sne/II/theory99em.p10.dat ...          inf           0.0\n",
       "gal/pegase/spec_E.dat sne/II/theory99em.p10.dat ...          inf           0.0\n",
       "gal/pegase/spec_E.dat   sne/II/sn1987a.p113.dat ...          inf           0.0\n",
       "gal/pegase/spec_E.dat   sne/II/sn1987a.p113.dat ...          inf           0.0\n",
       "gal/pegase/spec_E.dat sne/II/theory99em.p05.dat ...          inf           0.0\n",
       "gal/pegase/spec_E.dat sne/II/theory99em.p05.dat ...          inf           0.0\n",
       "gal/pegase/spec_E.dat  sne/II/theory99em.45.dat ...          inf           0.0\n",
       "gal/pegase/spec_E.dat  sne/II/theory99em.45.dat ...          inf           0.0\n",
       "gal/pegase/spec_E.dat sne/II/theory99em.p15.dat ...          inf           0.0\n",
       "gal/pegase/spec_E.dat sne/II/theory99em.p15.dat ...          inf           0.0\n",
       "gal/pegase/spec_E.dat    sne/II/sn1987a.m84.dat ...          inf           0.0\n",
       "gal/pegase/spec_E.dat    sne/II/sn1987a.m84.dat ...          inf           0.0\n",
       "gal/pegase/spec_E.dat    sne/II/sn1987a.max.dat ...          inf           0.0\n",
       "gal/pegase/spec_E.dat    sne/II/sn1987a.max.dat ...          inf           0.0\n",
       "gal/pegase/spec_E.dat   sne/II/sn1993j.p116.dat ...          inf           0.0\n",
       "gal/pegase/spec_E.dat   sne/II/sn2005cl.p15.dat ...          inf           0.0\n",
       "gal/pegase/spec_E.dat   sne/II/sn2005cl.p15.dat ...          inf           0.0\n",
       "gal/pegase/spec_E.dat    sne/II/sn1986I.p19.dat ...          inf           0.0\n",
       "gal/pegase/spec_E.dat    sne/II/sn1986I.p19.dat ...          inf           0.0\n",
       "gal/pegase/spec_E.dat   sne/II/sn1999em.p75.dat ...          inf           0.0"
      ]
     },
     "execution_count": 20,
     "metadata": {},
     "output_type": "execute_result"
    }
   ],
   "source": [
    "result.sort('CHI2')\n",
    "result[:20]"
   ]
  },
  {
   "cell_type": "code",
   "execution_count": null,
   "metadata": {},
   "outputs": [],
   "source": []
  },
  {
   "cell_type": "code",
   "execution_count": null,
   "metadata": {},
   "outputs": [],
   "source": []
  }
 ],
 "metadata": {
  "kernelspec": {
   "display_name": "Python 3",
   "language": "python",
   "name": "python3"
  },
  "language_info": {
   "codemirror_mode": {
    "name": "ipython",
    "version": 3
   },
   "file_extension": ".py",
   "mimetype": "text/x-python",
   "name": "python",
   "nbconvert_exporter": "python",
   "pygments_lexer": "ipython3",
   "version": "3.7.1"
  }
 },
 "nbformat": 4,
 "nbformat_minor": 2
}
