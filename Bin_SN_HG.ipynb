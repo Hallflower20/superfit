{
 "cells": [
  {
   "cell_type": "code",
   "execution_count": 55,
   "metadata": {},
   "outputs": [
    {
     "name": "stdout",
     "output_type": "stream",
     "text": [
      "0.020351171493530273\n"
     ]
    }
   ],
   "source": [
    "import pandas as pd \n",
    "import numpy as np \n",
    "from astropy import table\n",
    "from scipy import stats\n",
    "import matplotlib.pyplot as plt\n",
    "from astropy import table\n",
    "import numpy as np\n",
    "import matplotlib.pyplot as plt\n",
    "import scipy\n",
    "from scipy import interpolate\n",
    "from scipy.optimize import curve_fit\n",
    "import time\n",
    "from scipy.interpolate import interp1d\n",
    "\n",
    "\n",
    "\n",
    "start = time.time()\n",
    "\n",
    "SN = np.loadtxt(\"sne/Ia/sn1981b.max.dat\")\n",
    "lams = SN[:,0]\n",
    "fluxs = SN[:,1]\n",
    "#In angstroms\n",
    "resolution = 20\n",
    "\n",
    "\n",
    "def bin_spectra(spectrum, resolution):\n",
    "    \n",
    "    number_of_bins = np.math.floor((lams[-1]-lams[0]) / resolution ) \n",
    "    stat, bin_edge, index = scipy.stats.binned_statistic(lams, fluxs, statistic='mean', bins = number_of_bins)\n",
    "\n",
    "#Takes the mean of the edges of the bin in order to plot the binned spectrum\n",
    "    bin_wavelength = [ (bin_edge[i]+ bin_edge[i+1])/2 for i in range(len(bin_edge)-1) ]\n",
    "\n",
    "\n",
    "#Make a table with the     \n",
    "    bin_spectra = table.Table()\n",
    "    bin_spectra['bin_wl'] = bin_wavelength\n",
    "    bin_spectra['bin_unred_flux'] = stat\n",
    "\n",
    "    print('the spectra is binned for a resolution of', resolution)\n",
    "    return bin_spectra\n",
    "\n",
    "\n",
    "end = time.time()\n",
    "print(end - start)\n",
    "\n"
   ]
  },
  {
   "cell_type": "code",
   "execution_count": 56,
   "metadata": {},
   "outputs": [],
   "source": [
    "import numpy as np \n",
    "from astropy import table\n",
    "from scipy import stats\n",
    "import scipy\n",
    "import matplotlib.pyplot as plt\n",
    "from scipy import *\n",
    "\n",
    "\n",
    "SN = np.loadtxt(\"sne/Ia/sn1981b.max.dat\")\n",
    "lams = SN[:,0]\n",
    "fluxs = SN[:,1]\n",
    "\n",
    "#In angstroms\n",
    "resolution = 20\n",
    "\n",
    "number_of_bins = np.math.floor((lams[-1]-lams[0]) / resolution ) \n",
    "flux_bin_SN, bin_edge, index = scipy.stats.binned_statistic(lams, fluxs, statistic='mean', bins = number_of_bins)\n",
    "\n",
    "#Takes the mean of the edges of the bin in order to plot the binned spectrum\n",
    "bin_wavelength = [ (bin_edge[i]+ bin_edge[i+1])/2 for i in range(len(bin_edge)-1) ]\n",
    "\n",
    "\n",
    "#Make a table with the     \n",
    "bin_spectra = table.Table()\n",
    "bin_spectra['lam_bin_SN'] = bin_wavelength\n",
    "bin_spectra['bin_flux_SN'] = flux_bin_SN\n",
    "\n",
    "bin_wavelength = np.array(bin_wavelength)\n",
    "flux_bin_SN   = np.array(flux_bin_SN)\n",
    "\n",
    "\n",
    "\n",
    "#print('the spectra is binned for a resolution of', resolution)\n",
    "   \n",
    "#print(bin_spectra)\n",
    "\n",
    "\n",
    "GT = np.loadtxt(\"gal/pegase/spec_Sc.norm.dat\")\n",
    "lamgt = GT[:,0]\n",
    "fluxgt = GT[:,1]\n",
    "\n",
    "\n",
    "#\n",
    "number_of_binsHG = np.math.floor((lamgt[-1]-lamgt[0]) / resolution ) \n",
    "flux_bin_HG, bin_edge, index = scipy.stats.binned_statistic(lamgt, fluxgt, statistic='mean', bins = number_of_bins)\n",
    "#\n",
    "bin_wavelengthHG = [ (bin_edge[i]+ bin_edge[i+1])/2 for i in range(len(bin_edge)-1) ]\n",
    "#\n",
    "bin_spectra_HG = table.Table()\n",
    "bin_spectra_HG['lam_bin_HG'] = bin_wavelengthHG\n",
    "bin_spectra_HG['flux_bin_HG'] = flux_bin_HG\n",
    "\n",
    "bin_wavelengthHG = np.array(bin_wavelengthHG)\n",
    "flux_bin_HG    = np.array(flux_bin_HG)\n",
    "\n",
    "#print(bin_spectra_HG)\n",
    "\n",
    "\n",
    "#Combining spectra\n",
    "\n",
    "lam = bin_wavelength\n",
    "flux= flux_bin_SN + flux_bin_HG\n",
    "\n",
    "\n",
    "#How do I pair up the data?\n",
    "\n",
    "#new_spectrum=zip(lam, flux)\n",
    "#Zipping it up \n",
    "#new_one=zip(lam, flux)\n",
    "\n",
    "\n",
    "\n",
    "\n",
    "\n",
    "#Make into file\n",
    "#import csv\n",
    "#\n",
    "#with open('Binned_spectra_first.dat', 'w') as f:\n",
    "#    writer = csv.writer(f, delimiter='\\t')\n",
    "#    \n",
    "#    writer.writerows(zip(lam,flux))\n",
    "#\n",
    "#print(new_spectrum)"
   ]
  },
  {
   "cell_type": "code",
   "execution_count": 53,
   "metadata": {},
   "outputs": [
    {
     "data": {
      "image/png": "[encoded data removed]",
      "text/plain": [
       "<Figure size 432x288 with 1 Axes>"
      ]
     },
     "metadata": {
      "needs_background": "light"
     },
     "output_type": "display_data"
    }
   ],
   "source": [
    "#Plot the data\n",
    "\n",
    "plt.plot(lam, flux,'r')\n",
    "\n",
    "plt.ylabel('Flux')\n",
    "plt.xlabel('Lamda')\n",
    "\n",
    "plt.show()"
   ]
  },
  {
   "cell_type": "code",
   "execution_count": null,
   "metadata": {},
   "outputs": [],
   "source": []
  }
 ],
 "metadata": {
  "kernelspec": {
   "display_name": "Python 3",
   "language": "python",
   "name": "python3"
  },
  "language_info": {
   "codemirror_mode": {
    "name": "ipython",
    "version": 3
   },
   "file_extension": ".py",
   "mimetype": "text/x-python",
   "name": "python",
   "nbconvert_exporter": "python",
   "pygments_lexer": "ipython3",
   "version": "3.7.1"
  }
 },
 "nbformat": 4,
 "nbformat_minor": 2
}
