{
 "cells": [
  {
   "cell_type": "markdown",
   "metadata": {},
   "source": [
    "# General Binning function"
   ]
  },
  {
   "cell_type": "code",
   "execution_count": 2,
   "metadata": {},
   "outputs": [
    {
     "name": "stdout",
     "output_type": "stream",
     "text": [
      "0.037677764892578125\n"
     ]
    }
   ],
   "source": [
    "import pandas as pd \n",
    "import numpy as np \n",
    "from astropy import table\n",
    "from scipy import stats\n",
    "import matplotlib.pyplot as plt\n",
    "from astropy import table\n",
    "import numpy as np\n",
    "import matplotlib.pyplot as plt\n",
    "import scipy\n",
    "from scipy import interpolate\n",
    "from scipy.optimize import curve_fit\n",
    "import time\n",
    "from scipy.interpolate import interp1d\n",
    "\n",
    "\n",
    "start = time.time()\n",
    "\n",
    "\n",
    "#This should be modified to be used with every template\n",
    "\n",
    "#User inputs\n",
    "SN = np.loadtxt(\"sne/Ia/sn1989b.m07.dat\")\n",
    "lams = SN[:,0]\n",
    "fluxs = SN[:,1]\n",
    "#In angstroms\n",
    "resolution = 20\n",
    "\n",
    "\n",
    "def bin_spectra(spectrum, resolution):\n",
    "    \n",
    "   \n",
    "    number_of_bins = np.math.floor((lams[-1]-lams[0]) / resolution ) \n",
    "    flux_bin, bin_edge, index = scipy.stats.binned_statistic(lams, fluxs, statistic='mean', bins = number_of_bins)\n",
    "    \n",
    "    #Takes the mean of the edges of the bin in order to plot the binned spectrum\n",
    "    bin_wavelength = [ (bin_edge[i]+ bin_edge[i+1])/2 for i in range(len(bin_edge)-1) ]\n",
    "    \n",
    "    \n",
    "    #Make a table with the     \n",
    "    bin_spectra = table.Table()\n",
    "    bin_spectra['lam_bin'] = bin_wavelength\n",
    "    bin_spectra['bin_flux'] = flux_bin\n",
    "    \n",
    "    bin_wavelength = np.array(bin_wavelength)\n",
    "    flux_bin   = np.array(flux_bin)\n",
    "    \n",
    "    print('the spectra is binned for a resolution of', resolution)\n",
    "    return bin_spectra\n",
    "\n",
    "\n",
    "end = time.time()\n",
    "print(end - start)\n",
    "\n"
   ]
  },
  {
   "cell_type": "markdown",
   "metadata": {},
   "source": [
    "# Bins and combines SN + HG"
   ]
  },
  {
   "cell_type": "code",
   "execution_count": 35,
   "metadata": {
    "scrolled": true
   },
   "outputs": [],
   "source": [
    "import numpy as np \n",
    "from astropy import table\n",
    "from scipy import stats\n",
    "import scipy\n",
    "import matplotlib.pyplot as plt\n",
    "from scipy import *\n",
    "\n",
    "\n",
    "SN = np.loadtxt(\"sne/Ia/sn2003du.m11.dat\")\n",
    "lams = SN[:,0]\n",
    "fluxs = SN[:,1]\n",
    "\n",
    "#In angstroms\n",
    "resolution = 20\n",
    "#print('the spectra is binned for a resolution of', resolution)\n",
    "\n",
    "number_of_bins = np.math.floor((lams[-1]-lams[0]) / resolution ) \n",
    "flux_bin_SN, bin_edge, index = scipy.stats.binned_statistic(lams, fluxs, statistic='mean', bins = number_of_bins)\n",
    "\n",
    "#Takes the mean of the edges of the bin in order to plot the binned spectrum\n",
    "bin_wavelength = [ (bin_edge[i]+ bin_edge[i+1])/2 for i in range(len(bin_edge)-1) ]\n",
    "\n",
    "\n",
    "#Make a table with the     \n",
    "bin_spectra = table.Table()\n",
    "bin_spectra['lam_bin_SN'] = bin_wavelength\n",
    "bin_spectra['bin_flux_SN'] = flux_bin_SN\n",
    "\n",
    "bin_wavelength = np.array(bin_wavelength)\n",
    "flux_bin_SN   = np.array(flux_bin_SN)\n",
    "\n",
    "   \n",
    "#print(bin_spectra)\n",
    "\n",
    "\n",
    "GT = np.loadtxt(\"/Users/user/Desktop/ssf/gal/Sb\")\n",
    "lamgt = GT[:,0]\n",
    "fluxgt = GT[:,1]\n",
    "\n",
    "\n",
    "number_of_binsHG = np.math.floor((lamgt[-1]-lamgt[0]) / resolution ) \n",
    "flux_bin_HG, bin_edge, index = scipy.stats.binned_statistic(lamgt, fluxgt, statistic='mean', bins = number_of_bins)\n",
    "#\n",
    "bin_wavelengthHG = [ (bin_edge[i]+ bin_edge[i+1])/2 for i in range(len(bin_edge)-1) ]\n",
    "#\n",
    "bin_spectra_HG = table.Table()\n",
    "bin_spectra_HG['lam_bin_HG'] = bin_wavelengthHG\n",
    "bin_spectra_HG['flux_bin_HG'] = flux_bin_HG\n",
    "\n",
    "bin_wavelengthHG = np.array(bin_wavelengthHG)\n",
    "flux_bin_HG    = np.array(flux_bin_HG)\n",
    "\n",
    "#print(bin_spectra_HG)\n",
    "\n",
    "\n",
    "#Combining spectra\n",
    "\n",
    "lam = bin_wavelength\n",
    "flux= flux_bin_SN + flux_bin_HG\n",
    "\n",
    "\n",
    "#How do I pair up the data file?\n",
    "#Zipping it up \n",
    "#new_spectrum=zip(lam, flux)"
   ]
  },
  {
   "cell_type": "markdown",
   "metadata": {},
   "source": [
    "## Plot"
   ]
  },
  {
   "cell_type": "code",
   "execution_count": 36,
   "metadata": {
    "scrolled": true
   },
   "outputs": [
    {
     "data": {
      "image/png": "[encoded data removed]",
      "text/plain": [
       "<Figure size 432x288 with 1 Axes>"
      ]
     },
     "metadata": {
      "needs_background": "light"
     },
     "output_type": "display_data"
    }
   ],
   "source": [
    "#Plot the data\n",
    "#Must fix the nan issue\n",
    "\n",
    "plt.plot(lam, flux,'r')\n",
    "\n",
    "plt.ylabel('Flux')\n",
    "plt.xlabel('Lamda')\n",
    "\n",
    "plt.show()"
   ]
  },
  {
   "cell_type": "markdown",
   "metadata": {},
   "source": [
    "# Make into a file"
   ]
  },
  {
   "cell_type": "code",
   "execution_count": null,
   "metadata": {},
   "outputs": [],
   "source": [
    "import csv\n",
    "\n",
    "with open('Binned_spectra_first.dat', 'w') as f:\n",
    "    writer = csv.writer(f, delimiter='\\t')\n",
    "    \n",
    "    writer.writerows(zip(lam,flux))"
   ]
  }
 ],
 "metadata": {
  "kernelspec": {
   "display_name": "Python 3",
   "language": "python",
   "name": "python3"
  },
  "language_info": {
   "codemirror_mode": {
    "name": "ipython",
    "version": 3
   },
   "file_extension": ".py",
   "mimetype": "text/x-python",
   "name": "python",
   "nbconvert_exporter": "python",
   "pygments_lexer": "ipython3",
   "version": "3.7.1"
  }
 },
 "nbformat": 4,
 "nbformat_minor": 2
}
