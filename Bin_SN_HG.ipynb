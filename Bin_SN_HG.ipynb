{
 "cells": [
  {
   "cell_type": "markdown",
   "metadata": {},
   "source": [
    "# Binning function"
   ]
  },
  {
   "cell_type": "code",
   "execution_count": 3,
   "metadata": {},
   "outputs": [
    {
     "name": "stdout",
     "output_type": "stream",
     "text": [
      "0.0004718303680419922\n"
     ]
    }
   ],
   "source": [
    "import pandas as pd \n",
    "import numpy as np \n",
    "from astropy import table\n",
    "from scipy import stats\n",
    "import matplotlib.pyplot as plt\n",
    "import scipy\n",
    "from scipy import interpolate\n",
    "from scipy.optimize import curve_fit\n",
    "import time\n",
    "from scipy.interpolate import interp1d\n",
    "from astropy.io import ascii\n",
    "\n",
    "start = time.time()\n",
    "\n",
    "\n",
    "##In angstroms\n",
    "resolution = 20\n",
    "\n",
    "\n",
    "def bin_spectra(spectrum, resolution):\n",
    "    \n",
    "    \n",
    "    lam = spectrum[:,0]\n",
    "    flux = spectrum[:,1]\n",
    "   \n",
    "    if lam[1]-lam[0] >= 20:\n",
    "        bin_spectra = spectrum\n",
    "        \n",
    "    else:     \n",
    "        \n",
    "        number_of_bins = np.math.floor((lam[-1]-lam[0]) / resolution )\n",
    "            \n",
    "        #Binning\n",
    "        flux_bin, bin_edge, index = scipy.stats.binned_statistic(lam, flux, statistic='mean', bins = number_of_bins)\n",
    "           \n",
    "        #Takes the mean of the edges of the bin in order to plot the binned spectrum\n",
    "        bin_wavelength = [ (bin_edge[i]+ bin_edge[i+1])/2 for i in range(len(bin_edge)-1) ]\n",
    "         \n",
    "        #Make a table with the     \n",
    "        bin_spectra = table.Table()\n",
    "        flux_bin   = np.array(flux_bin)\n",
    "        flux_bin = flux_bin/(np.median(flux_bin))\n",
    "        bin_spectra['lam_bin'] = bin_wavelength\n",
    "        bin_spectra['bin_flux'] = flux_bin\n",
    "            \n",
    "        \n",
    "           \n",
    "        bin_wavelength = np.array(bin_wavelength)\n",
    "        \n",
    "        #temp_interp  = interpolate.interp1d(bin_wavelength, flux_bin,  bounds_error=False, fill_value=np.nan)\n",
    "        \n",
    "    return bin_spectra\n",
    "\n",
    "end = time.time()\n",
    "print(end - start)\n",
    "\n",
    "\n"
   ]
  },
  {
   "cell_type": "code",
   "execution_count": 4,
   "metadata": {},
   "outputs": [],
   "source": [
    "#spectrum = np.loadtxt(\"/Users/user/Desktop/ssf/superfit/gal/poggianti/Sb_bianca\")\n",
    "#result= bin_spectra(spectrum,20)\n",
    "#print(result)\n"
   ]
  },
  {
   "cell_type": "code",
   "execution_count": 5,
   "metadata": {},
   "outputs": [
    {
     "name": "stdout",
     "output_type": "stream",
     "text": [
      "['gal/Sc' 'gal/SB3' 'gal/SB4' 'gal/SB5' 'gal/SB2' 'gal/Sb.dat' 'gal/Sa'\n",
      " 'gal/S0' 'gal/SB1' 'gal/SB6' 'gal/E']\n"
     ]
    }
   ],
   "source": [
    "#Reading Spectra\n",
    "import glob\n",
    "\n",
    "\n",
    "templates_gal = glob.glob('gal/*')\n",
    "templates_gal = [x for x in templates_gal if 'CVS' not in x and 'README' not in x]\n",
    "templates_gal = np.array(templates_gal)\n",
    "\n",
    "templates_sn = glob.glob('sne/**/*')\n",
    "templates_sn = [x for x in templates_sn if 'CVS' not in x and 'README' not in x]\n",
    "templates_sn = np.array(templates_sn)\n",
    "\n",
    "print(templates_gal)"
   ]
  },
  {
   "cell_type": "code",
   "execution_count": 21,
   "metadata": {
    "scrolled": true
   },
   "outputs": [],
   "source": [
    "%%capture\n",
    "\n",
    "#Binning SN data\n",
    "\n",
    "from astropy import table\n",
    "import numpy as np \n",
    "import astropy\n",
    "from scipy import stats\n",
    "import scipy\n",
    "\n",
    "resolution = 20\n",
    "for i in templates_sn:\n",
    "    \n",
    "    print(i)\n",
    "    spectrum=np.loadtxt(i)\n",
    "    result = bin_spectra(spectrum,resolution)\n",
    "    np.savetxt(\"/Users/user/Desktop/ssf/superfit/rebinned/{0}\".format(i) ,result)    \n",
    "    \n"
   ]
  },
  {
   "cell_type": "code",
   "execution_count": 23,
   "metadata": {
    "scrolled": true
   },
   "outputs": [
    {
     "name": "stdout",
     "output_type": "stream",
     "text": [
      "gal/Sc\n",
      "gal/SB3\n",
      "gal/SB4\n",
      "gal/SB5\n",
      "gal/SB2\n",
      "gal/Sb.dat\n",
      "gal/Sa\n",
      "gal/S0\n",
      "gal/SB1\n",
      "gal/SB6\n",
      "gal/E\n"
     ]
    }
   ],
   "source": [
    "#Binning Host Galaxy data\n",
    "\n",
    "\n",
    "resolution = 20\n",
    "for i in templates_gal:\n",
    "    \n",
    "    print(i)\n",
    "    spectrum=np.loadtxt(i)\n",
    "    result = bin_spectra(spectrum,resolution)\n",
    "    np.savetxt(\"/Users/user/Desktop/ssf/superfit/rebinned/{0}\".format(i) ,result)    \n",
    "    \n"
   ]
  },
  {
   "cell_type": "markdown",
   "metadata": {},
   "source": [
    "# Combine SN and HG templates and save as file"
   ]
  },
  {
   "cell_type": "code",
   "execution_count": 19,
   "metadata": {
    "scrolled": true
   },
   "outputs": [],
   "source": [
    "#Combined from the rebinned library \n",
    "\n",
    "sn = np.loadtxt(\"/Users/user/Desktop/ssf/superfit/rebinned/sne/Ia/sn1991t.p10.dat\")\n",
    "hg = np.loadtxt(\"/Users/user/Desktop/ssf/superfit/rebinned/gal/SB3\")\n",
    "\n",
    "lambda_min = max([hg[:,0][0],  sn[:,0][0]])\n",
    "lambda_max = min([hg[:,0][-1], sn[:,0][-1]])\n",
    "    \n",
    "    # Truncate wavelength interval\n",
    "    \n",
    "lam = sn[:,0][ (sn[:,0] >= lambda_min) & (sn[:,0] <= lambda_max) ]\n",
    "\n",
    "\n",
    "sn_interp = interpolate.interp1d(sn[:,0],sn[:,1], bounds_error=False, fill_value=np.nan)\n",
    "hg_interp = interpolate.interp1d(hg[:,0],hg[:,1], bounds_error=False, fill_value=np.nan)\n",
    "\n",
    "\n",
    "combined_spectra = sn_interp(lam) + hg_interp(lam)\n",
    "\n",
    "\n",
    "#Take the transpose and make into a file \n",
    "temp=np.array([lam,combined_spectra]).T\n",
    "idx=np.where(temp[:,1] > -10)[0]\n",
    "#print(lam)\n",
    "temp=temp[idx,:]\n",
    "\n",
    "\n",
    "np.savetxt(\"/Users/user/Desktop/ssf/superfit/rebinned/combined/sn1991t.p10.Ia.SB3\",temp)"
   ]
  },
  {
   "cell_type": "markdown",
   "metadata": {},
   "source": [
    "## Plot "
   ]
  },
  {
   "cell_type": "code",
   "execution_count": 20,
   "metadata": {},
   "outputs": [
    {
     "data": {
      "image/png": "[encoded data removed]",
      "text/plain": [
       "<Figure size 432x288 with 1 Axes>"
      ]
     },
     "metadata": {
      "needs_background": "light"
     },
     "output_type": "display_data"
    }
   ],
   "source": [
    "plt.plot(lam, sn_interp(lam),'b')\n",
    "plt.plot(lam, hg_interp(lam),'r')\n",
    "plt.plot(lam, combined_spectra,'g')\n",
    "plt.ylabel('Flux arbitrary')\n",
    "plt.xlabel('Lamda')\n",
    "plt.title('Templates')\n",
    "plt.show()"
   ]
  },
  {
   "cell_type": "code",
   "execution_count": 18,
   "metadata": {},
   "outputs": [
    {
     "data": {
      "image/png": "[encoded data removed]",
      "text/plain": [
       "<Figure size 432x288 with 1 Axes>"
      ]
     },
     "metadata": {
      "needs_background": "light"
     },
     "output_type": "display_data"
    },
    {
     "name": "stdout",
     "output_type": "stream",
     "text": [
      "235\n"
     ]
    }
   ],
   "source": [
    "#Combined template\n",
    "\n",
    "plt.plot(lam, combined_spectra,'g')\n",
    "plt.ylabel('Flux arbitrary')\n",
    "plt.xlabel('Lamda')\n",
    "plt.title('Combined Template')\n",
    "plt.show()\n",
    "\n",
    "print(len(combined_spectra))\n"
   ]
  },
  {
   "cell_type": "markdown",
   "metadata": {},
   "source": [
    "# Open to test"
   ]
  },
  {
   "cell_type": "code",
   "execution_count": 11,
   "metadata": {},
   "outputs": [
    {
     "name": "stdout",
     "output_type": "stream",
     "text": [
      "lam_bin        bin_flux      \n",
      "------- ---------------------\n",
      " 1110.0                   0.0\n",
      " 1130.0                   0.0\n",
      " 1150.0                   0.0\n",
      " 1170.0                   0.0\n",
      " 1190.0 0.0028998787263528687\n",
      " 1210.0  0.020283244333986407\n",
      " 1230.0   0.03896901689204839\n",
      " 1250.0   0.05704230687599335\n",
      " 1270.0   0.06873516703042398\n",
      " 1290.0   0.06547764924260685\n",
      "    ...                   ...\n",
      "11790.0     1.027572520635204\n",
      "11810.0    1.0275453205103404\n",
      "11830.0     1.027707163088645\n",
      "11850.0    1.0280580116627969\n",
      "11870.0    1.0285813479383443\n",
      "11890.0    1.0291554871461608\n",
      "11910.0    1.0297297364759401\n",
      "11930.0     1.030236517749715\n",
      "11950.0     1.030517512291997\n",
      "11970.0     1.030774683782948\n",
      "11990.0    1.0303358049351428\n",
      "Length = 545 rows\n"
     ]
    }
   ],
   "source": [
    "spectrum = np.loadtxt(\"/Users/user/Desktop/ssf/superfit/rebinned/combined/sn1990aa.u00.SB6\")\n",
    "print(result)\n",
    "\n"
   ]
  },
  {
   "cell_type": "code",
   "execution_count": null,
   "metadata": {},
   "outputs": [],
   "source": []
  }
 ],
 "metadata": {
  "kernelspec": {
   "display_name": "Python 3",
   "language": "python",
   "name": "python3"
  },
  "language_info": {
   "codemirror_mode": {
    "name": "ipython",
    "version": 3
   },
   "file_extension": ".py",
   "mimetype": "text/x-python",
   "name": "python",
   "nbconvert_exporter": "python",
   "pygments_lexer": "ipython3",
   "version": "3.7.1"
  }
 },
 "nbformat": 4,
 "nbformat_minor": 2
}
